{
 "cells": [
  {
   "cell_type": "code",
   "execution_count": 1,
   "id": "277b58d1",
   "metadata": {},
   "outputs": [],
   "source": [
    "import os\n",
    "from dotenv import load_dotenv\n",
    "\n",
    "load_dotenv()\n",
    "\n",
    "os.environ[\"OPENAI_API_KEY\"] = os.getenv(\"OPENAI_API_KEY\")\n",
    "os.environ[\"TAVILY_API_KEY\"] = os.getenv(\"TAVILY_API_KEY\")\n",
    "os.environ[\"GROQ_API_KEY\"] = os.getenv(\"GROQ_API_KEY\")\n",
    "\n",
    "os.environ[\"LANGCHAIN_API_KEY\"] = os.getenv(\"LANGCHAIN_API_KEY\")\n",
    "os.environ[\"LANGCHAIN_PROJECT\"] = os.getenv(\"LANGCHAIN_PROJECT\")\n",
    "os.environ[\"LANGCHAIN_TRACING_V2\"] = \"true\""
   ]
  },
  {
   "cell_type": "code",
   "execution_count": 2,
   "id": "f7572a5a",
   "metadata": {},
   "outputs": [
    {
     "data": {
      "text/plain": [
       "ChatGroq(client=<groq.resources.chat.completions.Completions object at 0x000001FC34962720>, async_client=<groq.resources.chat.completions.AsyncCompletions object at 0x000001FC34554B00>, model_name='deepseek-r1-distill-llama-70b', temperature=0.3, model_kwargs={}, groq_api_key=SecretStr('**********'))"
      ]
     },
     "execution_count": 2,
     "metadata": {},
     "output_type": "execute_result"
    }
   ],
   "source": [
    "from langchain_groq import ChatGroq\n",
    "\n",
    "llm = ChatGroq(\n",
    "    model = 'deepseek-r1-distill-llama-70b',\n",
    "    temperature=0.3\n",
    ")\n",
    "\n",
    "llm"
   ]
  },
  {
   "cell_type": "code",
   "execution_count": 3,
   "id": "f4dfb91e",
   "metadata": {},
   "outputs": [
    {
     "data": {
      "text/plain": [
       "AIMessage(content=\"<think>\\n\\n</think>\\n\\nHello! I'm just a virtual assistant, so I don't have feelings, but I'm here and ready to help you with whatever you need. How are you doing? 😊\", additional_kwargs={}, response_metadata={'token_usage': {'completion_tokens': 42, 'prompt_tokens': 9, 'total_tokens': 51, 'completion_time': 0.176880671, 'prompt_time': 0.000191567, 'queue_time': 0.052937713000000004, 'total_time': 0.177072238}, 'model_name': 'deepseek-r1-distill-llama-70b', 'system_fingerprint': 'fp_1bbe7845ec', 'finish_reason': 'stop', 'logprobs': None}, id='run--3c21f66b-4e4d-4db5-9dcb-d45b3f99d352-0', usage_metadata={'input_tokens': 9, 'output_tokens': 42, 'total_tokens': 51})"
      ]
     },
     "execution_count": 3,
     "metadata": {},
     "output_type": "execute_result"
    }
   ],
   "source": [
    "llm.invoke(\"hello, how are you?\")"
   ]
  },
  {
   "cell_type": "code",
   "execution_count": 4,
   "id": "74cb1f3e",
   "metadata": {},
   "outputs": [],
   "source": [
    "from langgraph.types import Command\n",
    "from langgraph.prebuilt import create_react_agent"
   ]
  },
  {
   "cell_type": "code",
   "execution_count": 5,
   "id": "105fa39d",
   "metadata": {},
   "outputs": [],
   "source": [
    "def add_number(state):\n",
    "    result = state[\"num1\"] + state[\"num2\"]\n",
    "    print(f\"addition is {result}\")\n",
    "    \n",
    "    return Command(goto=\"multiply\", update={\"sum\":result})"
   ]
  },
  {
   "cell_type": "code",
   "execution_count": 6,
   "id": "a9cf1107",
   "metadata": {},
   "outputs": [
    {
     "name": "stdout",
     "output_type": "stream",
     "text": [
      "addition is 30\n"
     ]
    },
    {
     "data": {
      "text/plain": [
       "Command(update={'sum': 30}, goto='multiply')"
      ]
     },
     "execution_count": 6,
     "metadata": {},
     "output_type": "execute_result"
    }
   ],
   "source": [
    "state = {\"num1\":10,\"num2\":20}\n",
    "\n",
    "add_number(state)"
   ]
  },
  {
   "cell_type": "code",
   "execution_count": null,
   "id": "8eccc8fb",
   "metadata": {},
   "outputs": [],
   "source": []
  },
  {
   "cell_type": "markdown",
   "id": "1771bf1a",
   "metadata": {},
   "source": [
    "#### **Dummy Multi-Agent:**"
   ]
  },
  {
   "cell_type": "code",
   "execution_count": 7,
   "id": "2168decf",
   "metadata": {},
   "outputs": [],
   "source": [
    "from langchain_core.tools import tool"
   ]
  },
  {
   "cell_type": "code",
   "execution_count": 8,
   "id": "6c95a992",
   "metadata": {},
   "outputs": [],
   "source": [
    "# Define tools for agent communication\n",
    "@tool\n",
    "def transfer_to_multiplication_expert() -> str:\n",
    "    \"\"\"Transfer the query to the multiplication expert for precise calculations.\"\"\"\n",
    "    return \"This question involves multiplication. Please handle it using the multiplication expert agent.\"\n",
    "\n",
    "@tool\n",
    "def transfer_to_addition_expert() -> str:\n",
    "    \"\"\"Transfer the query to the addition expert for summation-related help.\"\"\"\n",
    "    return \"This question involves addition. Please route it to the addition expert agent.\""
   ]
  },
  {
   "cell_type": "code",
   "execution_count": 9,
   "id": "816b42ca",
   "metadata": {},
   "outputs": [],
   "source": [
    "llm_with_tool = llm.bind_tools([transfer_to_addition_expert])"
   ]
  },
  {
   "cell_type": "code",
   "execution_count": 10,
   "id": "acea8a8d",
   "metadata": {},
   "outputs": [],
   "source": [
    "response = llm_with_tool.invoke(\"hi\")"
   ]
  },
  {
   "cell_type": "code",
   "execution_count": 11,
   "id": "ed9e6049",
   "metadata": {},
   "outputs": [
    {
     "data": {
      "text/plain": [
       "'Hello! How can I assist you today?'"
      ]
     },
     "execution_count": 11,
     "metadata": {},
     "output_type": "execute_result"
    }
   ],
   "source": [
    "response.content"
   ]
  },
  {
   "cell_type": "code",
   "execution_count": 12,
   "id": "3bfa87ea",
   "metadata": {},
   "outputs": [],
   "source": [
    "response = llm_with_tool.invoke(\"what is 2+2?\")"
   ]
  },
  {
   "cell_type": "code",
   "execution_count": 13,
   "id": "5a945de3",
   "metadata": {},
   "outputs": [
    {
     "data": {
      "text/plain": [
       "''"
      ]
     },
     "execution_count": 13,
     "metadata": {},
     "output_type": "execute_result"
    }
   ],
   "source": [
    "response.content"
   ]
  },
  {
   "cell_type": "code",
   "execution_count": 14,
   "id": "28e6b021",
   "metadata": {},
   "outputs": [
    {
     "data": {
      "text/plain": [
       "[{'name': 'transfer_to_addition_expert',\n",
       "  'args': {},\n",
       "  'id': '73vsvmjfv',\n",
       "  'type': 'tool_call'}]"
      ]
     },
     "execution_count": 14,
     "metadata": {},
     "output_type": "execute_result"
    }
   ],
   "source": [
    "response.tool_calls"
   ]
  },
  {
   "cell_type": "code",
   "execution_count": 15,
   "id": "5efdc7b1",
   "metadata": {},
   "outputs": [
    {
     "data": {
      "text/plain": [
       "AIMessage(content='', additional_kwargs={'tool_calls': [{'id': '73vsvmjfv', 'function': {'arguments': '{}', 'name': 'transfer_to_addition_expert'}, 'type': 'function'}]}, response_metadata={'token_usage': {'completion_tokens': 159, 'prompt_tokens': 131, 'total_tokens': 290, 'completion_time': 0.666555547, 'prompt_time': 0.008438202, 'queue_time': 0.052653676, 'total_time': 0.674993749}, 'model_name': 'deepseek-r1-distill-llama-70b', 'system_fingerprint': 'fp_1bbe7845ec', 'finish_reason': 'tool_calls', 'logprobs': None}, id='run--b8ea5c5b-fea3-4a8d-9bf0-0b3f11a24aed-0', tool_calls=[{'name': 'transfer_to_addition_expert', 'args': {}, 'id': '73vsvmjfv', 'type': 'tool_call'}], usage_metadata={'input_tokens': 131, 'output_tokens': 159, 'total_tokens': 290})"
      ]
     },
     "execution_count": 15,
     "metadata": {},
     "output_type": "execute_result"
    }
   ],
   "source": [
    "response"
   ]
  },
  {
   "cell_type": "markdown",
   "id": "b9560c2e",
   "metadata": {},
   "source": [
    "AIMessage(content='', additional_kwargs={'tool_calls': [{'id': 'call_hL5vUB9UrYGIIAD5EoQCaM2f', 'function': {'arguments': '{}', 'name': 'transfer_to_addition_expert'}, 'type': 'function'}], 'refusal': None}, response_metadata={'token_usage': {'completion_tokens': 14, 'prompt_tokens': 48, 'total_tokens': 62, 'completion_tokens_details': {'accepted_prediction_tokens': 0, 'audio_tokens': 0, 'reasoning_tokens': 0, 'rejected_prediction_tokens': 0}, 'prompt_tokens_details': {'audio_tokens': 0, 'cached_tokens': 0}}, 'model_name': 'gpt-4o-mini-2024-07-18', 'system_fingerprint': 'fp_62a23a81ef', 'id': 'chatcmpl-BpIYSqeYDDkPLrS81hasn83V7VCKR', 'service_tier': 'default', 'finish_reason': 'tool_calls', 'logprobs': None}, id='run--0a38df7e-f590-4481-bbdb-e9bfa9de9684-0', tool_calls=[{'name': 'transfer_to_addition_expert', 'args': {}, 'id': 'call_hL5vUB9UrYGIIAD5EoQCaM2f', 'type': 'tool_call'}], usage_metadata={'input_tokens': 48, 'output_tokens': 14, 'total_tokens': 62, 'input_token_details': {'audio': 0, 'cache_read': 0}, 'output_token_details': {'audio': 0, 'reasoning': 0}})"
   ]
  },
  {
   "cell_type": "code",
   "execution_count": 16,
   "id": "5b716138",
   "metadata": {},
   "outputs": [
    {
     "data": {
      "text/plain": [
       "[{'role': 'system',\n",
       "  'content': 'You are an addition expert, you can ask the multiplication expert for help with multiplication.Always do your portion of calculation before the handoff.'},\n",
       " 'can you tell me the addition of 2 and 2?']"
      ]
     },
     "execution_count": 16,
     "metadata": {},
     "output_type": "execute_result"
    }
   ],
   "source": [
    "system_prompt = (\n",
    "        \"You are an addition expert, you can ask the multiplication expert for help with multiplication.\"\n",
    "        \"Always do your portion of calculation before the handoff.\"\n",
    "    )\n",
    "\n",
    "messages = [{\"role\": \"system\", \"content\": system_prompt}] + [\"can you tell me the addition of 2 and 2?\"]\n",
    "messages"
   ]
  },
  {
   "cell_type": "code",
   "execution_count": 17,
   "id": "ffb312eb",
   "metadata": {},
   "outputs": [],
   "source": [
    "from typing_extensions import Literal\n",
    "from langgraph.graph import MessagesState, StateGraph, START, END"
   ]
  },
  {
   "cell_type": "code",
   "execution_count": 18,
   "id": "abf3dd78",
   "metadata": {},
   "outputs": [],
   "source": [
    "# Agent 1: Addition Expert\n",
    "def addition_agent(state: MessagesState) -> Command[Literal[\"multiplication_agent\", \"__end__\"]]:\n",
    "    system_prompt = (\n",
    "        \"You are an addition expert. You can ask the multiplication expert for help with multiplication. \"\n",
    "        \"Always do your portion of calculation before the handoff. \"\n",
    "        \"If the question involves both addition and multiplication, do the addition first, then transfer to multiplication expert.\"\n",
    "    )\n",
    "    \n",
    "    messages = [{\"role\": \"system\", \"content\": system_prompt}] + state[\"messages\"]\n",
    "    \n",
    "    ai_msg = llm.bind_tools([transfer_to_multiplication_expert]).invoke(messages)\n",
    "    \n",
    "    if len(ai_msg.tool_calls) > 0:\n",
    "        tool_call_id = ai_msg.tool_calls[-1][\"id\"]\n",
    "        tool_msg = {\n",
    "            \"role\": \"tool\",\n",
    "            \"content\": \"Successfully transferred to multiplication expert\",\n",
    "            \"tool_call_id\": tool_call_id,\n",
    "        }\n",
    "        \n",
    "        return Command(\n",
    "            goto=\"multiplication_agent\", \n",
    "            update={\"messages\": state[\"messages\"] + [ai_msg, tool_msg]}\n",
    "        )\n",
    "    \n",
    "    return {\"messages\": state[\"messages\"] + [ai_msg]}"
   ]
  },
  {
   "cell_type": "code",
   "execution_count": 19,
   "id": "e4c8128f",
   "metadata": {},
   "outputs": [],
   "source": [
    "# Agent 2: Multiplication Expert\n",
    "def multiplication_agent(state: MessagesState) -> Command[Literal[\"addition_agent\", \"__end__\"]]:\n",
    "    system_prompt = (\n",
    "        \"You are a multiplication expert. You can ask an addition expert for help with addition. \"\n",
    "        \"Always do your portion of calculation before the handoff. \"\n",
    "        \"If the question involves both multiplication and addition, do the multiplication, then transfer to addition expert if needed.\"\n",
    "    )\n",
    "    \n",
    "    messages = [{\"role\": \"system\", \"content\": system_prompt}] + state[\"messages\"]\n",
    "    \n",
    "    ai_msg = llm.bind_tools([transfer_to_addition_expert]).invoke(messages)\n",
    "    \n",
    "    if len(ai_msg.tool_calls) > 0:\n",
    "        tool_call_id = ai_msg.tool_calls[-1][\"id\"]\n",
    "        tool_msg = {\n",
    "            \"role\": \"tool\",\n",
    "            \"content\": \"Successfully transferred to addition expert\",\n",
    "            \"tool_call_id\": tool_call_id,\n",
    "        }\n",
    "        return Command(\n",
    "            goto=\"addition_agent\", \n",
    "            update={\"messages\": state[\"messages\"] + [ai_msg, tool_msg]}\n",
    "        )\n",
    "    \n",
    "    return {\"messages\": state[\"messages\"] + [ai_msg]}"
   ]
  },
  {
   "cell_type": "code",
   "execution_count": 20,
   "id": "dc3273b0",
   "metadata": {},
   "outputs": [
    {
     "data": {
      "image/png": "[encoded data removed]",
      "text/plain": [
       "<langgraph.graph.state.CompiledStateGraph object at 0x000001FC3DF9DB80>"
      ]
     },
     "execution_count": 20,
     "metadata": {},
     "output_type": "execute_result"
    }
   ],
   "source": [
    "# Create the graph\n",
    "graph = StateGraph(MessagesState)\n",
    "\n",
    "# Add nodes\n",
    "graph.add_node(\"addition_agent\", addition_agent)\n",
    "graph.add_node(\"multiplication_agent\", multiplication_agent)\n",
    "\n",
    "# Add edges\n",
    "graph.add_edge(START, \"addition_agent\")\n",
    "\n",
    "# Compile the app\n",
    "app = graph.compile()\n",
    "app"
   ]
  },
  {
   "cell_type": "code",
   "execution_count": 21,
   "id": "0f7f1819",
   "metadata": {},
   "outputs": [
    {
     "name": "stdout",
     "output_type": "stream",
     "text": [
      "Testing the multi-agent system...\n",
      "==================================================\n",
      "================================\u001b[1m Human Message \u001b[0m=================================\n",
      "\n",
      "What is the result of (3 + 5) * 12? Then, multiply that result by 13 and provide the final answer.\n",
      "=================================\u001b[1m Tool Message \u001b[0m=================================\n",
      "\n",
      "Successfully transferred to multiplication expert\n",
      "==================================\u001b[1m Ai Message \u001b[0m==================================\n",
      "\n",
      "The result of (3 + 5) * 12 is 96. Multiplying that result by 13 gives a final answer of 1248.\n",
      "\n",
      "Step-by-step explanation:\n",
      "\n",
      "1. Calculate the sum inside the parentheses:\n",
      "   \\[\n",
      "   3 + 5 = 8\n",
      "   \\]\n",
      "\n",
      "2. Multiply the sum by 12:\n",
      "   \\[\n",
      "   8 \\times 12 = 96\n",
      "   \\]\n",
      "\n",
      "3. Multiply the result by 13:\n",
      "   \\[\n",
      "   96 \\times 13 = 1248\n",
      "   \\]\n",
      "\n",
      "Final answer: 1248\n"
     ]
    }
   ],
   "source": [
    "# Test the system\n",
    "print(\"Testing the multi-agent system...\")\n",
    "print(\"=\" * 50)\n",
    "\n",
    "events = app.stream(\n",
    "    {\n",
    "        \"messages\": [(\"user\", \"What is the result of (3 + 5) * 12? Then, multiply that result by 13 and provide the final answer.\")]\n",
    "    },\n",
    "    stream_mode=\"values\"\n",
    ")\n",
    "\n",
    "for event in events:\n",
    "    event[\"messages\"][-1].pretty_print()"
   ]
  },
  {
   "cell_type": "code",
   "execution_count": null,
   "id": "7c3b77c4",
   "metadata": {},
   "outputs": [],
   "source": []
  }
 ],
 "metadata": {
  "kernelspec": {
   "display_name": "agentic_ai",
   "language": "python",
   "name": "python3"
  },
  "language_info": {
   "codemirror_mode": {
    "name": "ipython",
    "version": 3
   },
   "file_extension": ".py",
   "mimetype": "text/x-python",
   "name": "python",
   "nbconvert_exporter": "python",
   "pygments_lexer": "ipython3",
   "version": "3.12.0"
  }
 },
 "nbformat": 4,
 "nbformat_minor": 5
}
