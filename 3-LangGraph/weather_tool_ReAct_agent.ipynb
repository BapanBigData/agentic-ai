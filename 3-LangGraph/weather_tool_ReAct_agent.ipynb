{
 "cells": [
  {
   "cell_type": "code",
   "execution_count": 1,
   "id": "24cbb36c",
   "metadata": {},
   "outputs": [],
   "source": [
    "import os\n",
    "from dotenv import load_dotenv\n",
    "\n",
    "load_dotenv()\n",
    "\n",
    "os.environ[\"GOOGLE_API_KEY\"] = os.getenv(\"GOOGLE_API_KEY\")\n",
    "os.environ[\"OPENAI_API_KEY\"] = os.getenv(\"OPENAI_API_KEY\")\n",
    "\n",
    "os.environ[\"LANGCHAIN_API_KEY\"] = os.getenv(\"LANGCHAIN_API_KEY\")\n",
    "os.environ[\"LANGCHAIN_PROJECT\"] = os.getenv(\"LANGCHAIN_PROJECT\")\n",
    "os.environ[\"LANGCHAIN_TRACING_V2\"] = \"true\""
   ]
  },
  {
   "cell_type": "code",
   "execution_count": 2,
   "id": "47679948",
   "metadata": {},
   "outputs": [
    {
     "data": {
      "text/plain": [
       "ChatGroq(client=<groq.resources.chat.completions.Completions object at 0x00000198918CD820>, async_client=<groq.resources.chat.completions.AsyncCompletions object at 0x0000019891B71E50>, model_name='deepseek-r1-distill-llama-70b', model_kwargs={}, groq_api_key=SecretStr('**********'))"
      ]
     },
     "execution_count": 2,
     "metadata": {},
     "output_type": "execute_result"
    }
   ],
   "source": [
    "from langchain_groq import ChatGroq\n",
    "\n",
    "llm = ChatGroq(\n",
    "    model = 'deepseek-r1-distill-llama-70b'\n",
    ")\n",
    "\n",
    "llm"
   ]
  },
  {
   "cell_type": "code",
   "execution_count": 73,
   "id": "f95b8ba9",
   "metadata": {},
   "outputs": [
    {
     "data": {
      "text/plain": [
       "ChatAnthropic(model='claude-3-5-sonnet-latest', anthropic_api_url='https://api.anthropic.com', anthropic_api_key=SecretStr('**********'), model_kwargs={})"
      ]
     },
     "execution_count": 73,
     "metadata": {},
     "output_type": "execute_result"
    }
   ],
   "source": [
    "## Great LLM\n",
    "from langchain_anthropic.chat_models import ChatAnthropic\n",
    "\n",
    "llm = ChatAnthropic(model=\"claude-3-5-sonnet-latest\")\n",
    "llm"
   ]
  },
  {
   "cell_type": "code",
   "execution_count": 74,
   "id": "2a43979a",
   "metadata": {},
   "outputs": [
    {
     "name": "stdout",
     "output_type": "stream",
     "text": [
      "Hi! I'm doing well, thanks for asking. I'm ready to help you with any questions or tasks you might have. How are you?\n"
     ]
    }
   ],
   "source": [
    "print(llm.invoke(\"hi, how are you?\").content)"
   ]
  },
  {
   "cell_type": "code",
   "execution_count": 75,
   "id": "e200586f",
   "metadata": {},
   "outputs": [
    {
     "name": "stdout",
     "output_type": "stream",
     "text": [
      "I am not able to provide real-time weather information for Kolkata or any other location. I don't have access to current weather data. To get accurate, up-to-date weather information for Kolkata, I recommend:\n",
      "\n",
      "1. Checking a weather website or app\n",
      "2. Looking up the Indian Meteorological Department's website\n",
      "3. Using a local weather service\n",
      "4. Checking local news websites\n"
     ]
    }
   ],
   "source": [
    "print(llm.invoke(\"How is the today's weather in Kolkata, India?\").content)"
   ]
  },
  {
   "cell_type": "code",
   "execution_count": 76,
   "id": "b71a0cfd",
   "metadata": {},
   "outputs": [],
   "source": [
    "import operator\n",
    "from typing import List\n",
    "from langgraph.graph.message import add_messages\n",
    "from pydantic import BaseModel , Field\n",
    "from typing import TypedDict, Annotated, Sequence\n",
    "from langchain_core.messages import BaseMessage\n",
    "from langchain_core.output_parsers import StrOutputParser\n",
    "from langchain_core.prompts import ChatPromptTemplate, PromptTemplate\n",
    "\n",
    "from langchain_core.tools import tool\n",
    "from langchain_core.messages import HumanMessage, AIMessage\n",
    "from langgraph.graph import StateGraph, MessagesState, START, END\n",
    "from langgraph.prebuilt import ToolNode"
   ]
  },
  {
   "cell_type": "code",
   "execution_count": 77,
   "id": "80a19edc",
   "metadata": {},
   "outputs": [
    {
     "name": "stdout",
     "output_type": "stream",
     "text": [
      "<class 'dict'>\n"
     ]
    }
   ],
   "source": [
    "msg = MessagesState()\n",
    "print(type(msg))"
   ]
  },
  {
   "cell_type": "code",
   "execution_count": 7,
   "id": "45adc640",
   "metadata": {},
   "outputs": [],
   "source": [
    "def call_llm(state: MessagesState) -> dict:\n",
    "    messages = state['messages']\n",
    "    response = llm.invoke(messages)\n",
    "    return {\"messages\": [response]}"
   ]
  },
  {
   "cell_type": "code",
   "execution_count": 8,
   "id": "c5b336a4",
   "metadata": {},
   "outputs": [
    {
     "name": "stdout",
     "output_type": "stream",
     "text": [
      "<class 'dict'>\n"
     ]
    }
   ],
   "source": [
    "messages = [HumanMessage(content=\"\"\"\n",
    "                        What is NATO, and when was it formed? Does NATO still hold strategic significance even after the collapse of the USSR and \n",
    "                        considering Russia's relatively weaker economy compared to the U.S. and Europe? Some argue that NATO now serves more as a \n",
    "                        display of Western power and may even pose a threat to global peace. What are your thoughts on this perspective — especially given \n",
    "                        the unpredictability of nations that feel cornered or powerless? You probably know who I'm referring to.\n",
    "                        \"\"\")]\n",
    "\n",
    "state: MessagesState = {\"messages\": messages}\n",
    "print(type(state))\n",
    "\n",
    "response = call_llm(state)"
   ]
  },
  {
   "cell_type": "code",
   "execution_count": 9,
   "id": "20f573f9",
   "metadata": {},
   "outputs": [
    {
     "name": "stdout",
     "output_type": "stream",
     "text": [
      "<think>\n",
      "Okay, so I'm trying to understand what NATO is and why it's still around after the USSR collapsed. I know NATO stands for North Atlantic Treaty Organization, but I'm not exactly sure when it was formed. I think it was after World War II, maybe in the late 1940s? It was probably created to counter the Soviet Union during the Cold War. \n",
      "\n",
      "Now, the user is asking if NATO is still strategically significant even after the USSR fell apart. That makes sense because the main enemy they were against, the Soviet Union, doesn't exist anymore. But then, why is NATO still active? Maybe because even though the USSR is gone, Russia is still a big player and might be seen as a threat. Plus, there are other global issues like terrorism or instability in certain regions that NATO might address.\n",
      "\n",
      "I've heard some people say that NATO now just shows Western power and could actually make things worse by threatening global peace. They might feel that by expanding and having a strong military presence, NATO is making Russia feel cornered, which could lead to unpredictable behavior. It's like if someone feels threatened, they might act out in unexpected ways to defend themselves, which isn't good for anyone.\n",
      "\n",
      "So, I need to think about both sides. On one hand, NATO provides a collective defense, which can make its member countries feel safer. It also promotes cooperation and democracy. On the other hand, if countries like Russia feel like they're being surrounded or threatened, they might react in ways that aren't peaceful. It's a balance between security and not provoking others.\n",
      "\n",
      "I should also consider how NATO has evolved. After the Cold War, they took in more members, especially from Eastern Europe. This expansion might have made some countries feel safer, but Russia probably isn't happy about it. The idea that NATO is just a show of power could be because of how it's presented in media or political rhetoric, emphasizing military strength over diplomacy.\n",
      "\n",
      "Thinking about the unpredictability part, when nations feel cornered, they might take risks they normally wouldn't. For example, if a country feels its security is at risk, it might build up its military, form alliances with other nations, or even take aggressive actions. This can escalate tensions and make conflicts more likely.\n",
      "\n",
      "I should also think about specific events, like the Ukraine conflict. NATO's support for Ukraine could be seen as a provocation by Russia, leading to the situation we're seeing now. So, while NATO's intentions might be to support democracy and stability, the perception from Russia's side is that it's a threat.\n",
      "\n",
      "In conclusion, NATO's role is complex. It provides security for its members and promotes cooperation, which are positive things. But its expansion and military presence can make other nations feel threatened, leading to instability. It's a tricky balance between maintaining defense and avoiding provocation. The perspective that NATO is a display of Western power and a potential threat to peace has some merit, especially considering how other nations might react when feeling cornered.\n",
      "</think>\n",
      "\n",
      "NATO, the North Atlantic Treaty Organization, was established in 1949 as a collective defense alliance during the Cold War, primarily to counter the Soviet Union. Even after the USSR's dissolution, NATO remains strategically significant, adapting its role to address contemporary security challenges such as terrorism and regional instability. It continues to expand, incorporating former Eastern Bloc countries, which has enhanced the security of its members but has also led to tensions with Russia.\n",
      "\n",
      "The perspective that NATO now serves as a display of Western power and a potential threat to global peace is valid to the extent that its expansion and military presence may provoke nations like Russia, which might perceive these actions as a threat. This can lead to unpredictable behavior, as nations feeling cornered may resort to aggressive measures to ensure their security. \n",
      "\n",
      "In conclusion, while NATO provides security and promotes cooperation, its actions can also provoke other nations, highlighting a complex balance between defense and diplomacy. The situation in Ukraine exemplifies this dynamic, where NATO's support is seen as both a defense of democracy and a provocation by Russia. Thus, NATO's role is multifaceted, involving both maintaining security and navigating geopolitical sensitivities.\n"
     ]
    }
   ],
   "source": [
    "print(response['messages'][0].content)"
   ]
  },
  {
   "cell_type": "code",
   "execution_count": 10,
   "id": "bc8258c7",
   "metadata": {},
   "outputs": [],
   "source": [
    "state = {\"messages\":[\"hi hello how are you?\"]}\n",
    "response = call_llm(state)"
   ]
  },
  {
   "cell_type": "code",
   "execution_count": 11,
   "id": "91ee6f11",
   "metadata": {},
   "outputs": [
    {
     "name": "stdout",
     "output_type": "stream",
     "text": [
      "<think>\n",
      "\n",
      "</think>\n",
      "\n",
      "Hello! I'm just a virtual assistant, so I don't have feelings, but I'm here and ready to help you with whatever you need. How are you doing? 😊\n"
     ]
    }
   ],
   "source": [
    "print(response['messages'][0].content)"
   ]
  },
  {
   "cell_type": "code",
   "execution_count": 78,
   "id": "7491fe30",
   "metadata": {},
   "outputs": [],
   "source": [
    "from langchain_core.tools import tool\n",
    "import requests\n",
    "\n",
    "@tool\n",
    "def get_weather(city: str) -> str:\n",
    "    \"\"\"Get current weather for a city.\"\"\"\n",
    "    \n",
    "    api_key = os.getenv(\"OPENWEATHER_API_KEY\")\n",
    "    url = f\"https://api.openweathermap.org/data/2.5/weather?q={city}&appid={api_key}&units=metric\"\n",
    "    response = requests.get(url)\n",
    "    \n",
    "    if response.status_code != 200:\n",
    "        return f\"Failed to get weather: {response.text}\"\n",
    "    \n",
    "    data = response.json()\n",
    "    print(data)\n",
    "    \n",
    "    temp = data[\"main\"][\"temp\"]\n",
    "    desc = data[\"weather\"][0][\"description\"]\n",
    "    \n",
    "    return f\"The weather in {city} is {desc} with a temperature of {temp}°C.\"\n"
   ]
  },
  {
   "cell_type": "code",
   "execution_count": 13,
   "id": "b998e9e3",
   "metadata": {},
   "outputs": [
    {
     "data": {
      "text/plain": [
       "'Get current weather for a city.'"
      ]
     },
     "execution_count": 13,
     "metadata": {},
     "output_type": "execute_result"
    }
   ],
   "source": [
    "get_weather.description"
   ]
  },
  {
   "cell_type": "code",
   "execution_count": 14,
   "id": "a3634484",
   "metadata": {},
   "outputs": [
    {
     "data": {
      "text/plain": [
       "{'city': {'title': 'City', 'type': 'string'}}"
      ]
     },
     "execution_count": 14,
     "metadata": {},
     "output_type": "execute_result"
    }
   ],
   "source": [
    "get_weather.args"
   ]
  },
  {
   "cell_type": "code",
   "execution_count": 15,
   "id": "5ddb996c",
   "metadata": {},
   "outputs": [
    {
     "name": "stdout",
     "output_type": "stream",
     "text": [
      "{'coord': {'lon': 77.6033, 'lat': 12.9762}, 'weather': [{'id': 804, 'main': 'Clouds', 'description': 'overcast clouds', 'icon': '04d'}], 'base': 'stations', 'main': {'temp': 28.36, 'feels_like': 30.66, 'temp_min': 28.36, 'temp_max': 28.36, 'pressure': 1008, 'humidity': 65, 'sea_level': 1008, 'grnd_level': 910}, 'visibility': 10000, 'wind': {'speed': 8.87, 'deg': 259, 'gust': 13.07}, 'clouds': {'all': 100}, 'dt': 1750940713, 'sys': {'country': 'IN', 'sunrise': 1750897544, 'sunset': 1750943934}, 'timezone': 19800, 'id': 1277333, 'name': 'Bengaluru', 'cod': 200}\n"
     ]
    },
    {
     "data": {
      "text/plain": [
       "'The weather in bangalore is overcast clouds with a temperature of 28.36°C.'"
      ]
     },
     "execution_count": 15,
     "metadata": {},
     "output_type": "execute_result"
    }
   ],
   "source": [
    "get_weather.invoke(\"bangalore\")"
   ]
  },
  {
   "cell_type": "markdown",
   "id": "98617f70",
   "metadata": {},
   "source": [
    "{'coord': {'lon': 77.6033, 'lat': 12.9762}, 'weather': [{'id': 804, 'main': 'Clouds', 'description': 'overcast clouds', 'icon': '04d'}], 'base': 'stations', 'main': {'temp': 28.36, 'feels_like': 30.66, 'temp_min': 28.36, 'temp_max': 28.36, 'pressure': 1008, 'humidity': 65, 'sea_level': 1008, 'grnd_level': 910}, 'visibility': 10000, 'wind': {'speed': 8.87, 'deg': 259, 'gust': 13.07}, 'clouds': {'all': 100}, 'dt': 1750940713, 'sys': {'country': 'IN', 'sunrise': 1750897544, 'sunset': 1750943934}, 'timezone': 19800, 'id': 1277333, 'name': 'Bengaluru', 'cod': 200}\n"
   ]
  },
  {
   "cell_type": "code",
   "execution_count": 16,
   "id": "7f213a7f",
   "metadata": {},
   "outputs": [
    {
     "name": "stdout",
     "output_type": "stream",
     "text": [
      "{'coord': {'lon': 88.3697, 'lat': 22.5697}, 'weather': [{'id': 804, 'main': 'Clouds', 'description': 'overcast clouds', 'icon': '04d'}], 'base': 'stations', 'main': {'temp': 30.28, 'feels_like': 36.52, 'temp_min': 30.28, 'temp_max': 30.28, 'pressure': 999, 'humidity': 73, 'sea_level': 999, 'grnd_level': 999}, 'visibility': 10000, 'wind': {'speed': 4.72, 'deg': 166, 'gust': 6.22}, 'clouds': {'all': 96}, 'dt': 1750940502, 'sys': {'country': 'IN', 'sunrise': 1750893833, 'sunset': 1750942476}, 'timezone': 19800, 'id': 1275004, 'name': 'Kolkata', 'cod': 200}\n"
     ]
    },
    {
     "data": {
      "text/plain": [
       "'The weather in kolkata is overcast clouds with a temperature of 30.28°C.'"
      ]
     },
     "execution_count": 16,
     "metadata": {},
     "output_type": "execute_result"
    }
   ],
   "source": [
    "get_weather.invoke(\"kolkata\")"
   ]
  },
  {
   "cell_type": "markdown",
   "id": "d61767ec",
   "metadata": {},
   "source": [
    "{'coord': {'lon': 88.3697, 'lat': 22.5697}, 'weather': [{'id': 804, 'main': 'Clouds', 'description': 'overcast clouds', 'icon': '04d'}], 'base': 'stations', 'main': {'temp': 30.28, 'feels_like': 36.52, 'temp_min': 30.28, 'temp_max': 30.28, 'pressure': 999, 'humidity': 73, 'sea_level': 999, 'grnd_level': 999}, 'visibility': 10000, 'wind': {'speed': 4.72, 'deg': 166, 'gust': 6.22}, 'clouds': {'all': 96}, 'dt': 1750940502, 'sys': {'country': 'IN', 'sunrise': 1750893833, 'sunset': 1750942476}, 'timezone': 19800, 'id': 1275004, 'name': 'Kolkata', 'cod': 200}\n"
   ]
  },
  {
   "cell_type": "code",
   "execution_count": 17,
   "id": "4df68102",
   "metadata": {},
   "outputs": [
    {
     "name": "stdout",
     "output_type": "stream",
     "text": [
      "{'coord': {'lon': 37.6156, 'lat': 55.7522}, 'weather': [{'id': 804, 'main': 'Clouds', 'description': 'overcast clouds', 'icon': '04d'}], 'base': 'stations', 'main': {'temp': 18.89, 'feels_like': 18.19, 'temp_min': 18.89, 'temp_max': 18.89, 'pressure': 998, 'humidity': 52, 'sea_level': 998, 'grnd_level': 980}, 'visibility': 10000, 'wind': {'speed': 5.98, 'deg': 315, 'gust': 7.36}, 'clouds': {'all': 94}, 'dt': 1750940147, 'sys': {'country': 'RU', 'sunrise': 1750898782, 'sunset': 1750961892}, 'timezone': 10800, 'id': 524901, 'name': 'Moscow', 'cod': 200}\n"
     ]
    },
    {
     "data": {
      "text/plain": [
       "'The weather in moscow is overcast clouds with a temperature of 18.89°C.'"
      ]
     },
     "execution_count": 17,
     "metadata": {},
     "output_type": "execute_result"
    }
   ],
   "source": [
    "get_weather.invoke(\"moscow\")"
   ]
  },
  {
   "cell_type": "markdown",
   "id": "c802e4b3",
   "metadata": {},
   "source": [
    "{'coord': {'lon': 37.6156, 'lat': 55.7522}, 'weather': [{'id': 804, 'main': 'Clouds', 'description': 'overcast clouds', 'icon': '04d'}], 'base': 'stations', 'main': {'temp': 18.89, 'feels_like': 18.19, 'temp_min': 18.89, 'temp_max': 18.89, 'pressure': 998, 'humidity': 52, 'sea_level': 998, 'grnd_level': 980}, 'visibility': 10000, 'wind': {'speed': 5.98, 'deg': 315, 'gust': 7.36}, 'clouds': {'all': 94}, 'dt': 1750940147, 'sys': {'country': 'RU', 'sunrise': 1750898782, 'sunset': 1750961892}, 'timezone': 10800, 'id': 524901, 'name': 'Moscow', 'cod': 200}\n"
   ]
  },
  {
   "cell_type": "code",
   "execution_count": null,
   "id": "29c273a1",
   "metadata": {},
   "outputs": [],
   "source": []
  },
  {
   "cell_type": "markdown",
   "id": "f52841fb",
   "metadata": {},
   "source": [
    "#### **LLM with Tool Bind**"
   ]
  },
  {
   "cell_type": "code",
   "execution_count": 79,
   "id": "4723a493",
   "metadata": {},
   "outputs": [],
   "source": [
    "## tools\n",
    "tools = [get_weather]"
   ]
  },
  {
   "cell_type": "code",
   "execution_count": 80,
   "id": "c31df316",
   "metadata": {},
   "outputs": [
    {
     "data": {
      "text/plain": [
       "RunnableBinding(bound=ChatAnthropic(model='claude-3-5-sonnet-latest', anthropic_api_url='https://api.anthropic.com', anthropic_api_key=SecretStr('**********'), model_kwargs={}), kwargs={'tools': [{'name': 'get_weather', 'input_schema': {'properties': {'city': {'type': 'string'}}, 'required': ['city'], 'type': 'object'}, 'description': 'Get current weather for a city.'}]}, config={}, config_factories=[])"
      ]
     },
     "execution_count": 80,
     "metadata": {},
     "output_type": "execute_result"
    }
   ],
   "source": [
    "\n",
    "llm_with_tools = llm.bind_tools(tools)\n",
    "llm_with_tools"
   ]
  },
  {
   "cell_type": "code",
   "execution_count": 20,
   "id": "a2c498f3",
   "metadata": {},
   "outputs": [
    {
     "data": {
      "text/plain": [
       "AIMessage(content='', additional_kwargs={'tool_calls': [{'id': '9qyycg85p', 'function': {'arguments': '{\"city\":\"Delhi\"}', 'name': 'get_weather'}, 'type': 'function'}]}, response_metadata={'token_usage': {'completion_tokens': 91, 'prompt_tokens': 131, 'total_tokens': 222, 'completion_time': 0.432082933, 'prompt_time': 0.014632866, 'queue_time': 0.05332, 'total_time': 0.446715799}, 'model_name': 'deepseek-r1-distill-llama-70b', 'system_fingerprint': 'fp_1bbe7845ec', 'finish_reason': 'tool_calls', 'logprobs': None}, id='run--5e1b5c4c-6d50-42b5-ad89-e65d16af23ff-0', tool_calls=[{'name': 'get_weather', 'args': {'city': 'Delhi'}, 'id': '9qyycg85p', 'type': 'tool_call'}], usage_metadata={'input_tokens': 131, 'output_tokens': 91, 'total_tokens': 222})"
      ]
     },
     "execution_count": 20,
     "metadata": {},
     "output_type": "execute_result"
    }
   ],
   "source": [
    "response = llm_with_tools.invoke(\"how is the weather in Delhi now?\")\n",
    "response"
   ]
  },
  {
   "cell_type": "markdown",
   "id": "434f8e3d",
   "metadata": {},
   "source": [
    "AIMessage(content='', additional_kwargs={'tool_calls': [{'id': '9qyycg85p', 'function': {'arguments': '{\"city\":\"Delhi\"}', 'name': 'get_weather'}, 'type': 'function'}]}, response_metadata={'token_usage': {'completion_tokens': 91, 'prompt_tokens': 131, 'total_tokens': 222, 'completion_time': 0.432082933, 'prompt_time': 0.014632866, 'queue_time': 0.05332, 'total_time': 0.446715799}, 'model_name': 'deepseek-r1-distill-llama-70b', 'system_fingerprint': 'fp_1bbe7845ec', 'finish_reason': 'tool_calls', 'logprobs': None}, id='run--5e1b5c4c-6d50-42b5-ad89-e65d16af23ff-0', tool_calls=[{'name': 'get_weather', 'args': {'city': 'Delhi'}, 'id': '9qyycg85p', 'type': 'tool_call'}], usage_metadata={'input_tokens': 131, 'output_tokens': 91, 'total_tokens': 222})"
   ]
  },
  {
   "cell_type": "code",
   "execution_count": 21,
   "id": "f0004dfd",
   "metadata": {},
   "outputs": [
    {
     "data": {
      "text/plain": [
       "[{'name': 'get_weather',\n",
       "  'args': {'city': 'Delhi'},\n",
       "  'id': '9qyycg85p',\n",
       "  'type': 'tool_call'}]"
      ]
     },
     "execution_count": 21,
     "metadata": {},
     "output_type": "execute_result"
    }
   ],
   "source": [
    "response.tool_calls"
   ]
  },
  {
   "cell_type": "code",
   "execution_count": 81,
   "id": "fe0376ee",
   "metadata": {},
   "outputs": [],
   "source": [
    "def call_llm_with_tool_bind(state:MessagesState) -> dict:\n",
    "    question = state[\"messages\"]\n",
    "    response = llm_with_tools.invoke(question)\n",
    "    return {\"messages\":[response]}"
   ]
  },
  {
   "cell_type": "code",
   "execution_count": 23,
   "id": "72d8b632",
   "metadata": {},
   "outputs": [
    {
     "name": "stdout",
     "output_type": "stream",
     "text": [
      "<class 'dict'>\n",
      "{'messages': [AIMessage(content='', additional_kwargs={'tool_calls': [{'id': 'pdebq5bxr', 'function': {'arguments': '{\"city\":\"Delhi\"}', 'name': 'get_weather'}, 'type': 'function'}]}, response_metadata={'token_usage': {'completion_tokens': 90, 'prompt_tokens': 131, 'total_tokens': 221, 'completion_time': 0.435419084, 'prompt_time': 0.008668366, 'queue_time': 0.055750461, 'total_time': 0.44408745}, 'model_name': 'deepseek-r1-distill-llama-70b', 'system_fingerprint': 'fp_1bbe7845ec', 'finish_reason': 'tool_calls', 'logprobs': None}, id='run--50a8690e-400b-4b7b-b34f-93da80835d77-0', tool_calls=[{'name': 'get_weather', 'args': {'city': 'Delhi'}, 'id': 'pdebq5bxr', 'type': 'tool_call'}], usage_metadata={'input_tokens': 131, 'output_tokens': 90, 'total_tokens': 221})]}\n"
     ]
    }
   ],
   "source": [
    "messages = [HumanMessage(content=\"how is the weather in Delhi now?\")]\n",
    "\n",
    "state: MessagesState = {\"messages\": messages}\n",
    "print(type(state))\n",
    "\n",
    "response = call_llm_with_tool_bind(state)\n",
    "print(response)"
   ]
  },
  {
   "cell_type": "code",
   "execution_count": 24,
   "id": "1f00b97f",
   "metadata": {},
   "outputs": [
    {
     "data": {
      "text/plain": [
       "''"
      ]
     },
     "execution_count": 24,
     "metadata": {},
     "output_type": "execute_result"
    }
   ],
   "source": [
    "response[\"messages\"][-1].content"
   ]
  },
  {
   "cell_type": "code",
   "execution_count": 25,
   "id": "e1487aee",
   "metadata": {},
   "outputs": [
    {
     "data": {
      "text/plain": [
       "[{'name': 'get_weather',\n",
       "  'args': {'city': 'Delhi'},\n",
       "  'id': 'pdebq5bxr',\n",
       "  'type': 'tool_call'}]"
      ]
     },
     "execution_count": 25,
     "metadata": {},
     "output_type": "execute_result"
    }
   ],
   "source": [
    "response[\"messages\"][-1].tool_calls"
   ]
  },
  {
   "cell_type": "code",
   "execution_count": 82,
   "id": "3c25a057",
   "metadata": {},
   "outputs": [],
   "source": [
    "## router function\n",
    "\n",
    "def router_function(state:MessagesState):\n",
    "    message = state[\"messages\"]\n",
    "    last_message = message[-1]\n",
    "    \n",
    "    if last_message.tool_calls:\n",
    "        return \"tools\"\n",
    "    \n",
    "    return END"
   ]
  },
  {
   "cell_type": "code",
   "execution_count": 27,
   "id": "1480951a",
   "metadata": {},
   "outputs": [
    {
     "data": {
      "text/plain": [
       "[StructuredTool(name='get_weather', description='Get current weather for a city.', args_schema=<class 'langchain_core.utils.pydantic.get_weather'>, func=<function get_weather at 0x000001989A7BD9E0>)]"
      ]
     },
     "execution_count": 27,
     "metadata": {},
     "output_type": "execute_result"
    }
   ],
   "source": [
    "tools"
   ]
  },
  {
   "cell_type": "code",
   "execution_count": 83,
   "id": "40432573",
   "metadata": {},
   "outputs": [
    {
     "data": {
      "text/plain": [
       "tools(tags=None, recurse=True, explode_args=False, func_accepts_config=True, func_accepts={'store': ('__pregel_store', None)}, tools_by_name={'get_weather': StructuredTool(name='get_weather', description='Get current weather for a city.', args_schema=<class 'langchain_core.utils.pydantic.get_weather'>, func=<function get_weather at 0x00000198B1334180>)}, tool_to_state_args={'get_weather': {}}, tool_to_store_arg={'get_weather': None}, handle_tool_errors=True, messages_key='messages')"
      ]
     },
     "execution_count": 83,
     "metadata": {},
     "output_type": "execute_result"
    }
   ],
   "source": [
    "tool_node = ToolNode(tools)\n",
    "tool_node"
   ]
  },
  {
   "cell_type": "code",
   "execution_count": 84,
   "id": "1cf1959f",
   "metadata": {},
   "outputs": [
    {
     "data": {
      "text/plain": [
       "<langgraph.graph.state.StateGraph at 0x198b175f6b0>"
      ]
     },
     "execution_count": 84,
     "metadata": {},
     "output_type": "execute_result"
    }
   ],
   "source": [
    "workflow = StateGraph(MessagesState)\n",
    "workflow"
   ]
  },
  {
   "cell_type": "code",
   "execution_count": 85,
   "id": "1a9be278",
   "metadata": {},
   "outputs": [
    {
     "data": {
      "text/plain": [
       "<langgraph.graph.state.StateGraph at 0x198b175f6b0>"
      ]
     },
     "execution_count": 85,
     "metadata": {},
     "output_type": "execute_result"
    }
   ],
   "source": [
    "workflow.add_node(\"llm_with_tools\", call_llm_with_tool_bind)\n",
    "\n",
    "workflow.add_node(\"my_tools\", tool_node)\n",
    "\n",
    "workflow.add_edge(START,\"llm_with_tools\")\n",
    "\n",
    "workflow.add_conditional_edges(\n",
    "    \"llm_with_tools\",\n",
    "    router_function,\n",
    "    {\n",
    "        \"tools\":\"my_tools\",\n",
    "        END:END\n",
    "    }\n",
    ")\n",
    "\n",
    "workflow.add_edge(\"my_tools\",\"llm_with_tools\")"
   ]
  },
  {
   "cell_type": "code",
   "execution_count": 86,
   "id": "e9ff4e3c",
   "metadata": {},
   "outputs": [],
   "source": [
    "from langgraph.checkpoint.memory import MemorySaver\n",
    "\n",
    "memory = MemorySaver()"
   ]
  },
  {
   "cell_type": "code",
   "execution_count": 87,
   "id": "8e13765a",
   "metadata": {},
   "outputs": [
    {
     "data": {
      "image/png": "[encoded data removed]",
      "text/plain": [
       "<langgraph.graph.state.CompiledStateGraph object at 0x00000198B167F3B0>"
      ]
     },
     "execution_count": 87,
     "metadata": {},
     "output_type": "execute_result"
    }
   ],
   "source": [
    "app = workflow.compile(checkpointer=memory)\n",
    "app"
   ]
  },
  {
   "cell_type": "code",
   "execution_count": 88,
   "id": "b888fe81",
   "metadata": {},
   "outputs": [],
   "source": [
    "config = {\n",
    "    \"configurable\": {\n",
    "        \"thread_id\": \"1\"\n",
    "    }\n",
    "}"
   ]
  },
  {
   "cell_type": "code",
   "execution_count": 57,
   "id": "eac402d0",
   "metadata": {},
   "outputs": [
    {
     "name": "stdout",
     "output_type": "stream",
     "text": [
      "<class 'dict'>\n",
      "{'coord': {'lon': 77.2167, 'lat': 28.6667}, 'weather': [{'id': 804, 'main': 'Clouds', 'description': 'overcast clouds', 'icon': '04d'}], 'base': 'stations', 'main': {'temp': 36.37, 'feels_like': 41.86, 'temp_min': 36.37, 'temp_max': 36.37, 'pressure': 998, 'humidity': 45, 'sea_level': 998, 'grnd_level': 973}, 'visibility': 10000, 'wind': {'speed': 4.75, 'deg': 90, 'gust': 4.83}, 'clouds': {'all': 100}, 'dt': 1750943113, 'sys': {'country': 'IN', 'sunrise': 1750895698, 'sunset': 1750945965}, 'timezone': 19800, 'id': 1273294, 'name': 'Delhi', 'cod': 200}\n",
      "{'messages': [HumanMessage(content=\"I'm planning a trip to Delhi. Can you suggest some must-visit historical places there, and also let me know the current weather in Delhi?\", additional_kwargs={}, response_metadata={}, id='cffc17c4-3d58-41fc-a54c-a0791a9b785b'), AIMessage(content='', additional_kwargs={'tool_calls': [{'id': 's5zrwkyfb', 'function': {'arguments': '{\"city\":\"Delhi\"}', 'name': 'get_weather'}, 'type': 'function'}]}, response_metadata={'token_usage': {'completion_tokens': 472, 'prompt_tokens': 153, 'total_tokens': 625, 'completion_time': 2.012133367, 'prompt_time': 0.010711236, 'queue_time': 0.067038063, 'total_time': 2.022844603}, 'model_name': 'deepseek-r1-distill-llama-70b', 'system_fingerprint': 'fp_1bbe7845ec', 'finish_reason': 'tool_calls', 'logprobs': None}, id='run--216e801a-0ade-4cb5-9477-4ce5200dfc5c-0', tool_calls=[{'name': 'get_weather', 'args': {'city': 'Delhi'}, 'id': 's5zrwkyfb', 'type': 'tool_call'}], usage_metadata={'input_tokens': 153, 'output_tokens': 472, 'total_tokens': 625}), ToolMessage(content='The weather in Delhi is overcast clouds with a temperature of 36.37°C.', name='get_weather', id='b2703d0b-748e-459d-8626-a7afcf47588b', tool_call_id='s5zrwkyfb'), AIMessage(content=\"Here are some must-visit historical places in Delhi:\\n\\n1. **Red Fort (Lal Qila)**: A magnificent red sandstone fort that served as the main residence of the Mughal emperors for nearly 200 years.\\n\\n2. **Qutub Minar**: The tallest minaret in India and a UNESCO World Heritage Site, built in 1192 by Qutb-ud-din Aibak.\\n\\n3. **Humayun's Tomb**: The tomb of Mughal Emperor Humayun, known for its stunning architecture and beautiful gardens.\\n\\n4. **India Gate**: A war memorial dedicated to the soldiers who died in World War I and the Third Anglo-Afghan War.\\n\\n5. **Jama Masjid**: One of the largest mosques in India, built by Shah Jahan in 1656.\\n\\n6. **Purana Qila**: A historic fort that dates back to the 16th century, believed to be the site of the ancient city of Indraprastha.\\n\\n7. **Tughlaqabad Fort**: A massive fortress built by Ghiyas-ud-din Tughlaq in the 14th century, known for its impressive architecture and history.\\n\\nThese are some of the must-visit historical places in Delhi that showcase the rich history and cultural heritage of the city.\", additional_kwargs={}, response_metadata={'token_usage': {'completion_tokens': 534, 'prompt_tokens': 220, 'total_tokens': 754, 'completion_time': 1.941818182, 'prompt_time': 0.021215366, 'queue_time': 0.056001994, 'total_time': 1.9630335479999999}, 'model_name': 'deepseek-r1-distill-llama-70b', 'system_fingerprint': 'fp_1bbe7845ec', 'finish_reason': 'stop', 'logprobs': None}, id='run--4cf07906-3594-4756-ac6d-88a19964e0f8-0', usage_metadata={'input_tokens': 220, 'output_tokens': 534, 'total_tokens': 754}), HumanMessage(content=\"I'm planning a trip to Delhi. Can you suggest some must-visit historical places there, and also let me know the current weather in Delhi?\", additional_kwargs={}, response_metadata={}, id='5431e007-c3de-4f27-ae7a-eb2b9ff2eeae'), AIMessage(content='', additional_kwargs={'tool_calls': [{'id': 'z65edfyy4', 'function': {'arguments': '{\"city\":\"Delhi\"}', 'name': 'get_weather'}, 'type': 'function'}]}, response_metadata={'token_usage': {'completion_tokens': 259, 'prompt_tokens': 527, 'total_tokens': 786, 'completion_time': 1.534559521, 'prompt_time': 0.04280452, 'queue_time': 0.055461720000000006, 'total_time': 1.577364041}, 'model_name': 'deepseek-r1-distill-llama-70b', 'system_fingerprint': 'fp_1bbe7845ec', 'finish_reason': 'tool_calls', 'logprobs': None}, id='run--eaacd761-ac74-4eb6-a43f-ca7bd3674bf5-0', tool_calls=[{'name': 'get_weather', 'args': {'city': 'Delhi'}, 'id': 'z65edfyy4', 'type': 'tool_call'}], usage_metadata={'input_tokens': 527, 'output_tokens': 259, 'total_tokens': 786}), ToolMessage(content='The weather in Delhi is overcast clouds with a temperature of 36.37°C.', name='get_weather', id='119db054-7975-4dea-a1ff-d52e3e830848', tool_call_id='z65edfyy4'), AIMessage(content=\"Here are some must-visit historical places in Delhi:\\n\\n1. **Red Fort (Lal Qila)**: A magnificent red sandstone fort that served as the main residence of the Mughal emperors for nearly 200 years.\\n\\n2. **Qutub Minar**: The tallest minaret in India and a UNESCO World Heritage Site, built in 1192 by Qutb-ud-din Aibak.\\n\\n3. **Humayun's Tomb**: The tomb of Mughal Emperor Humayun, known for its stunning architecture and beautiful gardens.\\n\\n4. **India Gate**: A war memorial dedicated to the soldiers who died in World War I and the Third Anglo-Afghan War.\\n\\n5. **Jama Masjid**: One of the largest mosques in India, built by Shah Jahan in 1656.\\n\\n6. **Purana Qila**: A historic fort that dates back to the 16th century, believed to be the site of the ancient city of Indraprastha.\\n\\n7. **Tughlaqabad Fort**: A massive fortress built by Ghiyas-ud-din Tughlaq in the 14th century, known for its impressive architecture and history.\\n\\nThe weather in Delhi is overcast clouds with a temperature of 36.37°C.\", additional_kwargs={}, response_metadata={'token_usage': {'completion_tokens': 378, 'prompt_tokens': 594, 'total_tokens': 972, 'completion_time': 1.374545455, 'prompt_time': 0.04672963, 'queue_time': 0.053413140000000005, 'total_time': 1.421275085}, 'model_name': 'deepseek-r1-distill-llama-70b', 'system_fingerprint': 'fp_1bbe7845ec', 'finish_reason': 'stop', 'logprobs': None}, id='run--d1fbaa90-8376-47fa-ac36-4b147d2fa517-0', usage_metadata={'input_tokens': 594, 'output_tokens': 378, 'total_tokens': 972})]}\n"
     ]
    }
   ],
   "source": [
    "messages = [HumanMessage(content=\"I'm planning a trip to Delhi. Can you suggest some must-visit historical places there, and also let me know the current weather in Delhi?\")]\n",
    "\n",
    "state: MessagesState = {\"messages\": messages}\n",
    "print(type(state))\n",
    "\n",
    "response = app.invoke(state, config=config)\n",
    "print(response)"
   ]
  },
  {
   "cell_type": "markdown",
   "id": "7498f44f",
   "metadata": {},
   "source": [
    "{'messages': [HumanMessage(content=\"I'm planning a trip to Delhi. Can you suggest some must-visit historical places there, and also let me know the current weather in Delhi?\", additional_kwargs={}, response_metadata={}, id='cffc17c4-3d58-41fc-a54c-a0791a9b785b'), AIMessage(content='', additional_kwargs={'tool_calls': [{'id': 's5zrwkyfb', 'function': {'arguments': '{\"city\":\"Delhi\"}', 'name': 'get_weather'}, 'type': 'function'}]}, response_metadata={'token_usage': {'completion_tokens': 472, 'prompt_tokens': 153, 'total_tokens': 625, 'completion_time': 2.012133367, 'prompt_time': 0.010711236, 'queue_time': 0.067038063, 'total_time': 2.022844603}, 'model_name': 'deepseek-r1-distill-llama-70b', 'system_fingerprint': 'fp_1bbe7845ec', 'finish_reason': 'tool_calls', 'logprobs': None}, id='run--216e801a-0ade-4cb5-9477-4ce5200dfc5c-0', tool_calls=[{'name': 'get_weather', 'args': {'city': 'Delhi'}, 'id': 's5zrwkyfb', 'type': 'tool_call'}], usage_metadata={'input_tokens': 153, 'output_tokens': 472, 'total_tokens': 625}), ToolMessage(content='The weather in Delhi is overcast clouds with a temperature of 36.37°C.', name='get_weather', id='b2703d0b-748e-459d-8626-a7afcf47588b', tool_call_id='s5zrwkyfb'), AIMessage(content=\"Here are some must-visit historical places in Delhi:\\n\\n1. **Red Fort (Lal Qila)**: A magnificent red sandstone fort that served as the main residence of the Mughal emperors for nearly 200 years.\\n\\n2. **Qutub Minar**: The tallest minaret in India and a UNESCO World Heritage Site, built in 1192 by Qutb-ud-din Aibak.\\n\\n3. **Humayun's Tomb**: The tomb of Mughal Emperor Humayun, known for its stunning architecture and beautiful gardens.\\n\\n4. **India Gate**: A war memorial dedicated to the soldiers who died in World War I and the Third Anglo-Afghan War.\\n\\n5. **Jama Masjid**: One of the largest mosques in India, built by Shah Jahan in 1656.\\n\\n6. **Purana Qila**: A historic fort that dates back to the 16th century, believed to be the site of the ancient city of Indraprastha.\\n\\n7. **Tughlaqabad Fort**: A massive fortress built by Ghiyas-ud-din Tughlaq in the 14th century, known for its impressive architecture and history.\\n\\nThese are some of the must-visit historical places in Delhi that showcase the rich history and cultural heritage of the city.\", additional_kwargs={}, response_metadata={'token_usage': {'completion_tokens': 534, 'prompt_tokens': 220, 'total_tokens': 754, 'completion_time': 1.941818182, 'prompt_time': 0.021215366, 'queue_time': 0.056001994, 'total_time': 1.9630335479999999}, 'model_name': 'deepseek-r1-distill-llama-70b', 'system_fingerprint': 'fp_1bbe7845ec', 'finish_reason': 'stop', 'logprobs': None}, id='run--4cf07906-3594-4756-ac6d-88a19964e0f8-0', usage_metadata={'input_tokens': 220, 'output_tokens': 534, 'total_tokens': 754}), HumanMessage(content=\"I'm planning a trip to Delhi. Can you suggest some must-visit historical places there, and also let me know the current weather in Delhi?\", additional_kwargs={}, response_metadata={}, id='5431e007-c3de-4f27-ae7a-eb2b9ff2eeae'), AIMessage(content='', additional_kwargs={'tool_calls': [{'id': 'z65edfyy4', 'function': {'arguments': '{\"city\":\"Delhi\"}', 'name': 'get_weather'}, 'type': 'function'}]}, response_metadata={'token_usage': {'completion_tokens': 259, 'prompt_tokens': 527, 'total_tokens': 786, 'completion_time': 1.534559521, 'prompt_time': 0.04280452, 'queue_time': 0.055461720000000006, 'total_time': 1.577364041}, 'model_name': 'deepseek-r1-distill-llama-70b', 'system_fingerprint': 'fp_1bbe7845ec', 'finish_reason': 'tool_calls', 'logprobs': None}, id='run--eaacd761-ac74-4eb6-a43f-ca7bd3674bf5-0', tool_calls=[{'name': 'get_weather', 'args': {'city': 'Delhi'}, 'id': 'z65edfyy4', 'type': 'tool_call'}], usage_metadata={'input_tokens': 527, 'output_tokens': 259, 'total_tokens': 786}), ToolMessage(content='The weather in Delhi is overcast clouds with a temperature of 36.37°C.', name='get_weather', id='119db054-7975-4dea-a1ff-d52e3e830848', tool_call_id='z65edfyy4'), AIMessage(content=\"Here are some must-visit historical places in Delhi:\\n\\n1. **Red Fort (Lal Qila)**: A magnificent red sandstone fort that served as the main residence of the Mughal emperors for nearly 200 years.\\n\\n2. **Qutub Minar**: The tallest minaret in India and a UNESCO World Heritage Site, built in 1192 by Qutb-ud-din Aibak.\\n\\n3. **Humayun's Tomb**: The tomb of Mughal Emperor Humayun, known for its stunning architecture and beautiful gardens.\\n\\n4. **India Gate**: A war memorial dedicated to the soldiers who died in World War I and the Third Anglo-Afghan War.\\n\\n5. **Jama Masjid**: One of the largest mosques in India, built by Shah Jahan in 1656.\\n\\n6. **Purana Qila**: A historic fort that dates back to the 16th century, believed to be the site of the ancient city of Indraprastha.\\n\\n7. **Tughlaqabad Fort**: A massive fortress built by Ghiyas-ud-din Tughlaq in the 14th century, known for its impressive architecture and history.\\n\\nThe weather in Delhi is overcast clouds with a temperature of 36.37°C.\", additional_kwargs={}, response_metadata={'token_usage': {'completion_tokens': 378, 'prompt_tokens': 594, 'total_tokens': 972, 'completion_time': 1.374545455, 'prompt_time': 0.04672963, 'queue_time': 0.053413140000000005, 'total_time': 1.421275085}, 'model_name': 'deepseek-r1-distill-llama-70b', 'system_fingerprint': 'fp_1bbe7845ec', 'finish_reason': 'stop', 'logprobs': None}, id='run--d1fbaa90-8376-47fa-ac36-4b147d2fa517-0', usage_metadata={'input_tokens': 594, 'output_tokens': 378, 'total_tokens': 972})]}\n"
   ]
  },
  {
   "cell_type": "code",
   "execution_count": 58,
   "id": "54cb68ab",
   "metadata": {},
   "outputs": [
    {
     "name": "stdout",
     "output_type": "stream",
     "text": [
      "Here are some must-visit historical places in Delhi:\n",
      "\n",
      "1. **Red Fort (Lal Qila)**: A magnificent red sandstone fort that served as the main residence of the Mughal emperors for nearly 200 years.\n",
      "\n",
      "2. **Qutub Minar**: The tallest minaret in India and a UNESCO World Heritage Site, built in 1192 by Qutb-ud-din Aibak.\n",
      "\n",
      "3. **Humayun's Tomb**: The tomb of Mughal Emperor Humayun, known for its stunning architecture and beautiful gardens.\n",
      "\n",
      "4. **India Gate**: A war memorial dedicated to the soldiers who died in World War I and the Third Anglo-Afghan War.\n",
      "\n",
      "5. **Jama Masjid**: One of the largest mosques in India, built by Shah Jahan in 1656.\n",
      "\n",
      "6. **Purana Qila**: A historic fort that dates back to the 16th century, believed to be the site of the ancient city of Indraprastha.\n",
      "\n",
      "7. **Tughlaqabad Fort**: A massive fortress built by Ghiyas-ud-din Tughlaq in the 14th century, known for its impressive architecture and history.\n",
      "\n",
      "The weather in Delhi is overcast clouds with a temperature of 36.37°C.\n"
     ]
    }
   ],
   "source": [
    "\n",
    "print(response[\"messages\"][-1].content)"
   ]
  },
  {
   "cell_type": "code",
   "execution_count": 59,
   "id": "83a4de70",
   "metadata": {},
   "outputs": [
    {
     "name": "stdout",
     "output_type": "stream",
     "text": [
      "<class 'dict'>\n",
      "{'messages': [HumanMessage(content=\"I'm planning a trip to Delhi. Can you suggest some must-visit historical places there, and also let me know the current weather in Delhi?\", additional_kwargs={}, response_metadata={}, id='cffc17c4-3d58-41fc-a54c-a0791a9b785b'), AIMessage(content='', additional_kwargs={'tool_calls': [{'id': 's5zrwkyfb', 'function': {'arguments': '{\"city\":\"Delhi\"}', 'name': 'get_weather'}, 'type': 'function'}]}, response_metadata={'token_usage': {'completion_tokens': 472, 'prompt_tokens': 153, 'total_tokens': 625, 'completion_time': 2.012133367, 'prompt_time': 0.010711236, 'queue_time': 0.067038063, 'total_time': 2.022844603}, 'model_name': 'deepseek-r1-distill-llama-70b', 'system_fingerprint': 'fp_1bbe7845ec', 'finish_reason': 'tool_calls', 'logprobs': None}, id='run--216e801a-0ade-4cb5-9477-4ce5200dfc5c-0', tool_calls=[{'name': 'get_weather', 'args': {'city': 'Delhi'}, 'id': 's5zrwkyfb', 'type': 'tool_call'}], usage_metadata={'input_tokens': 153, 'output_tokens': 472, 'total_tokens': 625}), ToolMessage(content='The weather in Delhi is overcast clouds with a temperature of 36.37°C.', name='get_weather', id='b2703d0b-748e-459d-8626-a7afcf47588b', tool_call_id='s5zrwkyfb'), AIMessage(content=\"Here are some must-visit historical places in Delhi:\\n\\n1. **Red Fort (Lal Qila)**: A magnificent red sandstone fort that served as the main residence of the Mughal emperors for nearly 200 years.\\n\\n2. **Qutub Minar**: The tallest minaret in India and a UNESCO World Heritage Site, built in 1192 by Qutb-ud-din Aibak.\\n\\n3. **Humayun's Tomb**: The tomb of Mughal Emperor Humayun, known for its stunning architecture and beautiful gardens.\\n\\n4. **India Gate**: A war memorial dedicated to the soldiers who died in World War I and the Third Anglo-Afghan War.\\n\\n5. **Jama Masjid**: One of the largest mosques in India, built by Shah Jahan in 1656.\\n\\n6. **Purana Qila**: A historic fort that dates back to the 16th century, believed to be the site of the ancient city of Indraprastha.\\n\\n7. **Tughlaqabad Fort**: A massive fortress built by Ghiyas-ud-din Tughlaq in the 14th century, known for its impressive architecture and history.\\n\\nThese are some of the must-visit historical places in Delhi that showcase the rich history and cultural heritage of the city.\", additional_kwargs={}, response_metadata={'token_usage': {'completion_tokens': 534, 'prompt_tokens': 220, 'total_tokens': 754, 'completion_time': 1.941818182, 'prompt_time': 0.021215366, 'queue_time': 0.056001994, 'total_time': 1.9630335479999999}, 'model_name': 'deepseek-r1-distill-llama-70b', 'system_fingerprint': 'fp_1bbe7845ec', 'finish_reason': 'stop', 'logprobs': None}, id='run--4cf07906-3594-4756-ac6d-88a19964e0f8-0', usage_metadata={'input_tokens': 220, 'output_tokens': 534, 'total_tokens': 754}), HumanMessage(content=\"I'm planning a trip to Delhi. Can you suggest some must-visit historical places there, and also let me know the current weather in Delhi?\", additional_kwargs={}, response_metadata={}, id='5431e007-c3de-4f27-ae7a-eb2b9ff2eeae'), AIMessage(content='', additional_kwargs={'tool_calls': [{'id': 'z65edfyy4', 'function': {'arguments': '{\"city\":\"Delhi\"}', 'name': 'get_weather'}, 'type': 'function'}]}, response_metadata={'token_usage': {'completion_tokens': 259, 'prompt_tokens': 527, 'total_tokens': 786, 'completion_time': 1.534559521, 'prompt_time': 0.04280452, 'queue_time': 0.055461720000000006, 'total_time': 1.577364041}, 'model_name': 'deepseek-r1-distill-llama-70b', 'system_fingerprint': 'fp_1bbe7845ec', 'finish_reason': 'tool_calls', 'logprobs': None}, id='run--eaacd761-ac74-4eb6-a43f-ca7bd3674bf5-0', tool_calls=[{'name': 'get_weather', 'args': {'city': 'Delhi'}, 'id': 'z65edfyy4', 'type': 'tool_call'}], usage_metadata={'input_tokens': 527, 'output_tokens': 259, 'total_tokens': 786}), ToolMessage(content='The weather in Delhi is overcast clouds with a temperature of 36.37°C.', name='get_weather', id='119db054-7975-4dea-a1ff-d52e3e830848', tool_call_id='z65edfyy4'), AIMessage(content=\"Here are some must-visit historical places in Delhi:\\n\\n1. **Red Fort (Lal Qila)**: A magnificent red sandstone fort that served as the main residence of the Mughal emperors for nearly 200 years.\\n\\n2. **Qutub Minar**: The tallest minaret in India and a UNESCO World Heritage Site, built in 1192 by Qutb-ud-din Aibak.\\n\\n3. **Humayun's Tomb**: The tomb of Mughal Emperor Humayun, known for its stunning architecture and beautiful gardens.\\n\\n4. **India Gate**: A war memorial dedicated to the soldiers who died in World War I and the Third Anglo-Afghan War.\\n\\n5. **Jama Masjid**: One of the largest mosques in India, built by Shah Jahan in 1656.\\n\\n6. **Purana Qila**: A historic fort that dates back to the 16th century, believed to be the site of the ancient city of Indraprastha.\\n\\n7. **Tughlaqabad Fort**: A massive fortress built by Ghiyas-ud-din Tughlaq in the 14th century, known for its impressive architecture and history.\\n\\nThe weather in Delhi is overcast clouds with a temperature of 36.37°C.\", additional_kwargs={}, response_metadata={'token_usage': {'completion_tokens': 378, 'prompt_tokens': 594, 'total_tokens': 972, 'completion_time': 1.374545455, 'prompt_time': 0.04672963, 'queue_time': 0.053413140000000005, 'total_time': 1.421275085}, 'model_name': 'deepseek-r1-distill-llama-70b', 'system_fingerprint': 'fp_1bbe7845ec', 'finish_reason': 'stop', 'logprobs': None}, id='run--d1fbaa90-8376-47fa-ac36-4b147d2fa517-0', usage_metadata={'input_tokens': 594, 'output_tokens': 378, 'total_tokens': 972}), HumanMessage(content='what are some differences between fine-tuning and pre-training of LLMs?', additional_kwargs={}, response_metadata={}, id='5da91aa6-6c51-4a1e-86ba-25e31a5904d7'), AIMessage(content=\"Fine-tuning and pre-training are two distinct phases in the development and adaptation of Large Language Models (LLMs). Here's a detailed comparison of the two:\\n\\n1. **Objective:**\\n   - **Pre-training:** The primary goal is to train the model on a vast and diverse dataset to learn general language patterns, grammar, and vocabulary. This phase is about establishing a broad understanding of language.\\n   - **Fine-tuning:** The objective here is to adapt the pre-trained model to perform specific tasks or excel in particular domains. It involves tailoring the model to meet the requirements of a specific application.\\n\\n2. **Data Usage:**\\n   - **Pre-training:** Utilizes massive, diverse datasets, including books, web pages, and other extensive text sources, to expose the model to a wide range of language patterns.\\n   - **Fine-tuning:** Employs specialized, often smaller datasets that are relevant to the target application, such as medical texts for a healthcare application or legal documents for legal advice.\\n\\n3. **Resource Requirements:**\\n   - **Pre-training:** Requires significant computational resources due to the large size of the model and the extensive datasets used. It is typically a one-time, high-cost process.\\n   - **Fine-tuning:** Generally less resource-intensive as it builds upon the pre-trained model, focusing on specific adjustments rather than learning from scratch.\\n\\n4. **Risk of Overfitting:**\\n   - **Pre-training:** Focuses on generalization, reducing the risk of overfitting due to the diversity and size of the training data.\\n   - **Fine-tuning:** Carries a higher risk of overfitting, especially with smaller or overly specialized datasets, as the model may become too tailored to the training data.\\n\\n5. **Outcomes:**\\n   - **Pre-training:** Results in a model with a broad understanding of language, capable of general tasks.\\n   - **Fine-tuning:** Produces a model specialized in specific tasks or domains, enhancing performance in targeted applications.\\n\\n6. **Depth of Learning:**\\n   - **Pre-training:** Focuses on lower-level language features like syntax and semantics.\\n   - **Fine-tuning:** Hones in on higher-level tasks, such as understanding domain-specific terminology and generating coherent text for particular purposes.\\n\\n7. **Application and Versatility:**\\n   - **Pre-training:** Serves as the foundational phase, providing a versatile model applicable across various tasks.\\n   - **Fine-tuning:** Allows for the adaptation of the pre-trained model to multiple specific applications, enhancing its versatility without requiring new models to be trained from scratch.\\n\\n8. **Performance Metrics:**\\n   - **Pre-training:** Success is often measured by general language understanding metrics, such as perplexity on diverse datasets.\\n   - **Fine-tuning:** Success is evaluated using task-specific metrics, such as accuracy in question-answering or coherence in text generation.\\n\\n9. **Real-World Applications:**\\n   - **Pre-trained Models:** Serve as the foundation for various applications, providing general capabilities.\\n   - **Fine-tuned Models:** Are specialized tools built upon pre-trained models, optimized for specific tasks and domains.\\n\\n10. **Transfer Learning:**\\n    - Fine-tuning is a form of transfer learning, where knowledge gained during pre-training is applied to specific tasks, enhancing efficiency and reducing the need for training from scratch.\\n\\n11. **Catastrophic Forgetting:**\\n    - During fine-tuning, there's a risk of the model forgetting its pre-trained knowledge. Techniques like regularization or smaller learning rates can mitigate this issue.\\n\\n12. **Model Interpretability:**\\n    - Pre-trained models may be more interpretable due to their general nature, while fine-tuned models, especially those adapted for specific datasets, might be less transparent in their decision-making processes.\\n\\nIn summary, pre-training lays the groundwork for general language understanding, while fine-tuning tailors the model for specific applications, highlighting the importance of both phases in developing effective and adaptable LLMs.\", additional_kwargs={}, response_metadata={'token_usage': {'completion_tokens': 1900, 'prompt_tokens': 881, 'total_tokens': 2781, 'completion_time': 7.067105173, 'prompt_time': 0.064178755, 'queue_time': 0.09372818299999999, 'total_time': 7.131283928}, 'model_name': 'deepseek-r1-distill-llama-70b', 'system_fingerprint': 'fp_1bbe7845ec', 'finish_reason': 'stop', 'logprobs': None}, id='run--5997c540-0733-4c58-a408-931b9cdb6d6b-0', usage_metadata={'input_tokens': 881, 'output_tokens': 1900, 'total_tokens': 2781})]}\n"
     ]
    }
   ],
   "source": [
    "messages = [HumanMessage(content=\"what are some differences between fine-tuning and pre-training of LLMs?\")]\n",
    "\n",
    "state: MessagesState = {\"messages\": messages}\n",
    "print(type(state))\n",
    "\n",
    "response = app.invoke(state, config=config)\n",
    "print(response)"
   ]
  },
  {
   "cell_type": "markdown",
   "id": "4e6572ea",
   "metadata": {},
   "source": [
    "{'messages': [HumanMessage(content=\"I'm planning a trip to Delhi. Can you suggest some must-visit historical places there, and also let me know the current weather in Delhi?\", additional_kwargs={}, response_metadata={}, id='cffc17c4-3d58-41fc-a54c-a0791a9b785b'), AIMessage(content='', additional_kwargs={'tool_calls': [{'id': 's5zrwkyfb', 'function': {'arguments': '{\"city\":\"Delhi\"}', 'name': 'get_weather'}, 'type': 'function'}]}, response_metadata={'token_usage': {'completion_tokens': 472, 'prompt_tokens': 153, 'total_tokens': 625, 'completion_time': 2.012133367, 'prompt_time': 0.010711236, 'queue_time': 0.067038063, 'total_time': 2.022844603}, 'model_name': 'deepseek-r1-distill-llama-70b', 'system_fingerprint': 'fp_1bbe7845ec', 'finish_reason': 'tool_calls', 'logprobs': None}, id='run--216e801a-0ade-4cb5-9477-4ce5200dfc5c-0', tool_calls=[{'name': 'get_weather', 'args': {'city': 'Delhi'}, 'id': 's5zrwkyfb', 'type': 'tool_call'}], usage_metadata={'input_tokens': 153, 'output_tokens': 472, 'total_tokens': 625}), ToolMessage(content='The weather in Delhi is overcast clouds with a temperature of 36.37°C.', name='get_weather', id='b2703d0b-748e-459d-8626-a7afcf47588b', tool_call_id='s5zrwkyfb'), AIMessage(content=\"Here are some must-visit historical places in Delhi:\\n\\n1. **Red Fort (Lal Qila)**: A magnificent red sandstone fort that served as the main residence of the Mughal emperors for nearly 200 years.\\n\\n2. **Qutub Minar**: The tallest minaret in India and a UNESCO World Heritage Site, built in 1192 by Qutb-ud-din Aibak.\\n\\n3. **Humayun's Tomb**: The tomb of Mughal Emperor Humayun, known for its stunning architecture and beautiful gardens.\\n\\n4. **India Gate**: A war memorial dedicated to the soldiers who died in World War I and the Third Anglo-Afghan War.\\n\\n5. **Jama Masjid**: One of the largest mosques in India, built by Shah Jahan in 1656.\\n\\n6. **Purana Qila**: A historic fort that dates back to the 16th century, believed to be the site of the ancient city of Indraprastha.\\n\\n7. **Tughlaqabad Fort**: A massive fortress built by Ghiyas-ud-din Tughlaq in the 14th century, known for its impressive architecture and history.\\n\\nThese are some of the must-visit historical places in Delhi that showcase the rich history and cultural heritage of the city.\", additional_kwargs={}, response_metadata={'token_usage': {'completion_tokens': 534, 'prompt_tokens': 220, 'total_tokens': 754, 'completion_time': 1.941818182, 'prompt_time': 0.021215366, 'queue_time': 0.056001994, 'total_time': 1.9630335479999999}, 'model_name': 'deepseek-r1-distill-llama-70b', 'system_fingerprint': 'fp_1bbe7845ec', 'finish_reason': 'stop', 'logprobs': None}, id='run--4cf07906-3594-4756-ac6d-88a19964e0f8-0', usage_metadata={'input_tokens': 220, 'output_tokens': 534, 'total_tokens': 754}), HumanMessage(content=\"I'm planning a trip to Delhi. Can you suggest some must-visit historical places there, and also let me know the current weather in Delhi?\", additional_kwargs={}, response_metadata={}, id='5431e007-c3de-4f27-ae7a-eb2b9ff2eeae'), AIMessage(content='', additional_kwargs={'tool_calls': [{'id': 'z65edfyy4', 'function': {'arguments': '{\"city\":\"Delhi\"}', 'name': 'get_weather'}, 'type': 'function'}]}, response_metadata={'token_usage': {'completion_tokens': 259, 'prompt_tokens': 527, 'total_tokens': 786, 'completion_time': 1.534559521, 'prompt_time': 0.04280452, 'queue_time': 0.055461720000000006, 'total_time': 1.577364041}, 'model_name': 'deepseek-r1-distill-llama-70b', 'system_fingerprint': 'fp_1bbe7845ec', 'finish_reason': 'tool_calls', 'logprobs': None}, id='run--eaacd761-ac74-4eb6-a43f-ca7bd3674bf5-0', tool_calls=[{'name': 'get_weather', 'args': {'city': 'Delhi'}, 'id': 'z65edfyy4', 'type': 'tool_call'}], usage_metadata={'input_tokens': 527, 'output_tokens': 259, 'total_tokens': 786}), ToolMessage(content='The weather in Delhi is overcast clouds with a temperature of 36.37°C.', name='get_weather', id='119db054-7975-4dea-a1ff-d52e3e830848', tool_call_id='z65edfyy4'), AIMessage(content=\"Here are some must-visit historical places in Delhi:\\n\\n1. **Red Fort (Lal Qila)**: A magnificent red sandstone fort that served as the main residence of the Mughal emperors for nearly 200 years.\\n\\n2. **Qutub Minar**: The tallest minaret in India and a UNESCO World Heritage Site, built in 1192 by Qutb-ud-din Aibak.\\n\\n3. **Humayun's Tomb**: The tomb of Mughal Emperor Humayun, known for its stunning architecture and beautiful gardens.\\n\\n4. **India Gate**: A war memorial dedicated to the soldiers who died in World War I and the Third Anglo-Afghan War.\\n\\n5. **Jama Masjid**: One of the largest mosques in India, built by Shah Jahan in 1656.\\n\\n6. **Purana Qila**: A historic fort that dates back to the 16th century, believed to be the site of the ancient city of Indraprastha.\\n\\n7. **Tughlaqabad Fort**: A massive fortress built by Ghiyas-ud-din Tughlaq in the 14th century, known for its impressive architecture and history.\\n\\nThe weather in Delhi is overcast clouds with a temperature of 36.37°C.\", additional_kwargs={}, response_metadata={'token_usage': {'completion_tokens': 378, 'prompt_tokens': 594, 'total_tokens': 972, 'completion_time': 1.374545455, 'prompt_time': 0.04672963, 'queue_time': 0.053413140000000005, 'total_time': 1.421275085}, 'model_name': 'deepseek-r1-distill-llama-70b', 'system_fingerprint': 'fp_1bbe7845ec', 'finish_reason': 'stop', 'logprobs': None}, id='run--d1fbaa90-8376-47fa-ac36-4b147d2fa517-0', usage_metadata={'input_tokens': 594, 'output_tokens': 378, 'total_tokens': 972}), HumanMessage(content='what are some differences between fine-tuning and pre-training of LLMs?', additional_kwargs={}, response_metadata={}, id='5da91aa6-6c51-4a1e-86ba-25e31a5904d7'), AIMessage(content=\"Fine-tuning and pre-training are two distinct phases in the development and adaptation of Large Language Models (LLMs). Here's a detailed comparison of the two:\\n\\n1. **Objective:**\\n   - **Pre-training:** The primary goal is to train the model on a vast and diverse dataset to learn general language patterns, grammar, and vocabulary. This phase is about establishing a broad understanding of language.\\n   - **Fine-tuning:** The objective here is to adapt the pre-trained model to perform specific tasks or excel in particular domains. It involves tailoring the model to meet the requirements of a specific application.\\n\\n2. **Data Usage:**\\n   - **Pre-training:** Utilizes massive, diverse datasets, including books, web pages, and other extensive text sources, to expose the model to a wide range of language patterns.\\n   - **Fine-tuning:** Employs specialized, often smaller datasets that are relevant to the target application, such as medical texts for a healthcare application or legal documents for legal advice.\\n\\n3. **Resource Requirements:**\\n   - **Pre-training:** Requires significant computational resources due to the large size of the model and the extensive datasets used. It is typically a one-time, high-cost process.\\n   - **Fine-tuning:** Generally less resource-intensive as it builds upon the pre-trained model, focusing on specific adjustments rather than learning from scratch.\\n\\n4. **Risk of Overfitting:**\\n   - **Pre-training:** Focuses on generalization, reducing the risk of overfitting due to the diversity and size of the training data.\\n   - **Fine-tuning:** Carries a higher risk of overfitting, especially with smaller or overly specialized datasets, as the model may become too tailored to the training data.\\n\\n5. **Outcomes:**\\n   - **Pre-training:** Results in a model with a broad understanding of language, capable of general tasks.\\n   - **Fine-tuning:** Produces a model specialized in specific tasks or domains, enhancing performance in targeted applications.\\n\\n6. **Depth of Learning:**\\n   - **Pre-training:** Focuses on lower-level language features like syntax and semantics.\\n   - **Fine-tuning:** Hones in on higher-level tasks, such as understanding domain-specific terminology and generating coherent text for particular purposes.\\n\\n7. **Application and Versatility:**\\n   - **Pre-training:** Serves as the foundational phase, providing a versatile model applicable across various tasks.\\n   - **Fine-tuning:** Allows for the adaptation of the pre-trained model to multiple specific applications, enhancing its versatility without requiring new models to be trained from scratch.\\n\\n8. **Performance Metrics:**\\n   - **Pre-training:** Success is often measured by general language understanding metrics, such as perplexity on diverse datasets.\\n   - **Fine-tuning:** Success is evaluated using task-specific metrics, such as accuracy in question-answering or coherence in text generation.\\n\\n9. **Real-World Applications:**\\n   - **Pre-trained Models:** Serve as the foundation for various applications, providing general capabilities.\\n   - **Fine-tuned Models:** Are specialized tools built upon pre-trained models, optimized for specific tasks and domains.\\n\\n10. **Transfer Learning:**\\n    - Fine-tuning is a form of transfer learning, where knowledge gained during pre-training is applied to specific tasks, enhancing efficiency and reducing the need for training from scratch.\\n\\n11. **Catastrophic Forgetting:**\\n    - During fine-tuning, there's a risk of the model forgetting its pre-trained knowledge. Techniques like regularization or smaller learning rates can mitigate this issue.\\n\\n12. **Model Interpretability:**\\n    - Pre-trained models may be more interpretable due to their general nature, while fine-tuned models, especially those adapted for specific datasets, might be less transparent in their decision-making processes.\\n\\nIn summary, pre-training lays the groundwork for general language understanding, while fine-tuning tailors the model for specific applications, highlighting the importance of both phases in developing effective and adaptable LLMs.\", additional_kwargs={}, response_metadata={'token_usage': {'completion_tokens': 1900, 'prompt_tokens': 881, 'total_tokens': 2781, 'completion_time': 7.067105173, 'prompt_time': 0.064178755, 'queue_time': 0.09372818299999999, 'total_time': 7.131283928}, 'model_name': 'deepseek-r1-distill-llama-70b', 'system_fingerprint': 'fp_1bbe7845ec', 'finish_reason': 'stop', 'logprobs': None}, id='run--5997c540-0733-4c58-a408-931b9cdb6d6b-0', usage_metadata={'input_tokens': 881, 'output_tokens': 1900, 'total_tokens': 2781})]}\n"
   ]
  },
  {
   "cell_type": "code",
   "execution_count": 60,
   "id": "ea649a22",
   "metadata": {},
   "outputs": [
    {
     "name": "stdout",
     "output_type": "stream",
     "text": [
      "Fine-tuning and pre-training are two distinct phases in the development and adaptation of Large Language Models (LLMs). Here's a detailed comparison of the two:\n",
      "\n",
      "1. **Objective:**\n",
      "   - **Pre-training:** The primary goal is to train the model on a vast and diverse dataset to learn general language patterns, grammar, and vocabulary. This phase is about establishing a broad understanding of language.\n",
      "   - **Fine-tuning:** The objective here is to adapt the pre-trained model to perform specific tasks or excel in particular domains. It involves tailoring the model to meet the requirements of a specific application.\n",
      "\n",
      "2. **Data Usage:**\n",
      "   - **Pre-training:** Utilizes massive, diverse datasets, including books, web pages, and other extensive text sources, to expose the model to a wide range of language patterns.\n",
      "   - **Fine-tuning:** Employs specialized, often smaller datasets that are relevant to the target application, such as medical texts for a healthcare application or legal documents for legal advice.\n",
      "\n",
      "3. **Resource Requirements:**\n",
      "   - **Pre-training:** Requires significant computational resources due to the large size of the model and the extensive datasets used. It is typically a one-time, high-cost process.\n",
      "   - **Fine-tuning:** Generally less resource-intensive as it builds upon the pre-trained model, focusing on specific adjustments rather than learning from scratch.\n",
      "\n",
      "4. **Risk of Overfitting:**\n",
      "   - **Pre-training:** Focuses on generalization, reducing the risk of overfitting due to the diversity and size of the training data.\n",
      "   - **Fine-tuning:** Carries a higher risk of overfitting, especially with smaller or overly specialized datasets, as the model may become too tailored to the training data.\n",
      "\n",
      "5. **Outcomes:**\n",
      "   - **Pre-training:** Results in a model with a broad understanding of language, capable of general tasks.\n",
      "   - **Fine-tuning:** Produces a model specialized in specific tasks or domains, enhancing performance in targeted applications.\n",
      "\n",
      "6. **Depth of Learning:**\n",
      "   - **Pre-training:** Focuses on lower-level language features like syntax and semantics.\n",
      "   - **Fine-tuning:** Hones in on higher-level tasks, such as understanding domain-specific terminology and generating coherent text for particular purposes.\n",
      "\n",
      "7. **Application and Versatility:**\n",
      "   - **Pre-training:** Serves as the foundational phase, providing a versatile model applicable across various tasks.\n",
      "   - **Fine-tuning:** Allows for the adaptation of the pre-trained model to multiple specific applications, enhancing its versatility without requiring new models to be trained from scratch.\n",
      "\n",
      "8. **Performance Metrics:**\n",
      "   - **Pre-training:** Success is often measured by general language understanding metrics, such as perplexity on diverse datasets.\n",
      "   - **Fine-tuning:** Success is evaluated using task-specific metrics, such as accuracy in question-answering or coherence in text generation.\n",
      "\n",
      "9. **Real-World Applications:**\n",
      "   - **Pre-trained Models:** Serve as the foundation for various applications, providing general capabilities.\n",
      "   - **Fine-tuned Models:** Are specialized tools built upon pre-trained models, optimized for specific tasks and domains.\n",
      "\n",
      "10. **Transfer Learning:**\n",
      "    - Fine-tuning is a form of transfer learning, where knowledge gained during pre-training is applied to specific tasks, enhancing efficiency and reducing the need for training from scratch.\n",
      "\n",
      "11. **Catastrophic Forgetting:**\n",
      "    - During fine-tuning, there's a risk of the model forgetting its pre-trained knowledge. Techniques like regularization or smaller learning rates can mitigate this issue.\n",
      "\n",
      "12. **Model Interpretability:**\n",
      "    - Pre-trained models may be more interpretable due to their general nature, while fine-tuned models, especially those adapted for specific datasets, might be less transparent in their decision-making processes.\n",
      "\n",
      "In summary, pre-training lays the groundwork for general language understanding, while fine-tuning tailors the model for specific applications, highlighting the importance of both phases in developing effective and adaptable LLMs.\n"
     ]
    }
   ],
   "source": [
    "print(response[\"messages\"][-1].content)"
   ]
  },
  {
   "cell_type": "code",
   "execution_count": 61,
   "id": "dcb6ffd6",
   "metadata": {},
   "outputs": [],
   "source": [
    "events = app.stream(\n",
    "    {\n",
    "        \"messages\":[\"I'm planning a trip to Kolkata. Can you suggest some must-visit historical places there, and also let me know the current weather in Kolkata?\"]\n",
    "    },\n",
    "    config=config,\n",
    "    stream_mode=\"values\"\n",
    ")"
   ]
  },
  {
   "cell_type": "code",
   "execution_count": 62,
   "id": "d1349793",
   "metadata": {},
   "outputs": [
    {
     "name": "stdout",
     "output_type": "stream",
     "text": [
      "================================\u001b[1m Human Message \u001b[0m=================================\n",
      "\n",
      "I'm planning a trip to Kolkata. Can you suggest some must-visit historical places there, and also let me know the current weather in Kolkata?\n",
      "==================================\u001b[1m Ai Message \u001b[0m==================================\n",
      "Tool Calls:\n",
      "  get_weather (8katd1fjx)\n",
      " Call ID: 8katd1fjx\n",
      "  Args:\n",
      "    city: Kolkata\n",
      "{'coord': {'lon': 88.3697, 'lat': 22.5697}, 'weather': [{'id': 804, 'main': 'Clouds', 'description': 'overcast clouds', 'icon': '04n'}], 'base': 'stations', 'main': {'temp': 29.6, 'feels_like': 35.23, 'temp_min': 29.6, 'temp_max': 29.6, 'pressure': 1000, 'humidity': 75, 'sea_level': 1000, 'grnd_level': 999}, 'visibility': 10000, 'wind': {'speed': 5.06, 'deg': 179, 'gust': 7.65}, 'clouds': {'all': 88}, 'dt': 1750943263, 'sys': {'country': 'IN', 'sunrise': 1750893833, 'sunset': 1750942476}, 'timezone': 19800, 'id': 1275004, 'name': 'Kolkata', 'cod': 200}\n",
      "=================================\u001b[1m Tool Message \u001b[0m=================================\n",
      "Name: get_weather\n",
      "\n",
      "The weather in Kolkata is overcast clouds with a temperature of 29.6°C.\n",
      "==================================\u001b[1m Ai Message \u001b[0m==================================\n",
      "\n",
      "Here are some must-visit historical places in Kolkata, along with the current weather:\n",
      "\n",
      "### Must-Visit Historical Places in Kolkata:\n",
      "1. **Victoria Memorial**: A stunning white marble structure built in memory of Queen Victoria, showcasing a blend of Mughal and European architectural styles.\n",
      "2. **Howrah Bridge**: An iconic cantilever bridge over the Hooghly River, known for its historical significance and engineering marvel.\n",
      "3. **Indian Museum**: The oldest museum in India, housing a vast collection of artifacts, including ancient sculptures, coins, and manuscripts.\n",
      "4. **Dakshineswar Kali Temple**: A famous Hindu temple dedicated to Goddess Kali, known for its beautiful architecture and spiritual significance.\n",
      "5. **Kalighat Temple**: Another prominent temple dedicated to Goddess Kali, one of the 51 Shakti Peethas in India.\n",
      "6. **Writers' Building**: A historic building that served as the administrative office during the British era and is now a symbol of Kolkata's colonial past.\n",
      "7. **St. Paul’s Cathedral**: A beautiful Anglican cathedral known for its Gothic architecture and historical importance.\n",
      "8. **Black Hole of Calcutta**: A small, infamous dungeon in the old Fort William, now a memorial to the tragic event in Kolkata's history.\n",
      "9. **Currency Building**: A historic building that once housed the Currency Department of the Government of India and is now a heritage site.\n",
      "\n",
      "### Current Weather in Kolkata:\n",
      "The weather in Kolkata is overcast clouds with a temperature of 29.6°C.\n",
      "\n",
      "Enjoy your trip to Kolkata!\n"
     ]
    }
   ],
   "source": [
    "for event in events:\n",
    "    event[\"messages\"][-1].pretty_print()"
   ]
  },
  {
   "cell_type": "code",
   "execution_count": 63,
   "id": "411ad979",
   "metadata": {},
   "outputs": [],
   "source": [
    "events = app.stream(\n",
    "    {\n",
    "        \"messages\":[\"I'm planning a trip to Kolkata. Can you suggest some must-visit historical places there, and also let me know the current weather in City of Joy?\"]\n",
    "    },\n",
    "    config=config,\n",
    "    stream_mode=\"values\"\n",
    ")"
   ]
  },
  {
   "cell_type": "code",
   "execution_count": 64,
   "id": "d82cf3c8",
   "metadata": {},
   "outputs": [
    {
     "name": "stdout",
     "output_type": "stream",
     "text": [
      "================================\u001b[1m Human Message \u001b[0m=================================\n",
      "\n",
      "I'm planning a trip to Kolkata. Can you suggest some must-visit historical places there, and also let me know the current weather in City of Joy?\n",
      "==================================\u001b[1m Ai Message \u001b[0m==================================\n",
      "Tool Calls:\n",
      "  get_weather (srjfpfqsm)\n",
      " Call ID: srjfpfqsm\n",
      "  Args:\n",
      "    city: Kolkata\n",
      "{'coord': {'lon': 88.3697, 'lat': 22.5697}, 'weather': [{'id': 804, 'main': 'Clouds', 'description': 'overcast clouds', 'icon': '04n'}], 'base': 'stations', 'main': {'temp': 29.6, 'feels_like': 35.23, 'temp_min': 29.6, 'temp_max': 29.6, 'pressure': 1000, 'humidity': 75, 'sea_level': 1000, 'grnd_level': 999}, 'visibility': 10000, 'wind': {'speed': 5.06, 'deg': 179, 'gust': 7.65}, 'clouds': {'all': 88}, 'dt': 1750943263, 'sys': {'country': 'IN', 'sunrise': 1750893833, 'sunset': 1750942476}, 'timezone': 19800, 'id': 1275004, 'name': 'Kolkata', 'cod': 200}\n",
      "=================================\u001b[1m Tool Message \u001b[0m=================================\n",
      "Name: get_weather\n",
      "\n",
      "The weather in Kolkata is overcast clouds with a temperature of 29.6°C.\n",
      "==================================\u001b[1m Ai Message \u001b[0m==================================\n",
      "\n",
      "Here are some must-visit historical places in Kolkata, along with the current weather:\n",
      "\n",
      "### Must-Visit Historical Places in Kolkata:\n",
      "1. **Victoria Memorial**: A stunning white marble structure built in memory of Queen Victoria, showcasing a blend of Mughal and European architectural styles.\n",
      "2. **Howrah Bridge**: An iconic cantilever bridge over the Hooghly River, known for its historical significance and engineering marvel.\n",
      "3. **Indian Museum**: The oldest museum in India, housing a vast collection of artifacts, including ancient sculptures, coins, and manuscripts.\n",
      "4. **Dakshineswar Kali Temple**: A famous Hindu temple dedicated to Goddess Kali, known for its beautiful architecture and spiritual significance.\n",
      "5. **Kalighat Temple**: Another prominent temple dedicated to Goddess Kali, one of the 51 Shakti Peethas in India.\n",
      "6. **Writers' Building**: A historic building that served as the administrative office during the British era and is now a symbol of Kolkata's colonial past.\n",
      "7. **St. Paul’s Cathedral**: A beautiful Anglican cathedral known for its Gothic architecture and historical importance.\n",
      "8. **Black Hole of Calcutta**: A small, infamous dungeon in the old Fort William, now a memorial to the tragic event in Kolkata's history.\n",
      "9. **Currency Building**: A historic building that once housed the Currency Department of the Government of India and is now a heritage site.\n",
      "\n",
      "### Current Weather in Kolkata:\n",
      "The weather in Kolkata is overcast clouds with a temperature of 29.6°C.\n",
      "\n",
      "Enjoy your trip to Kolkata!\n"
     ]
    }
   ],
   "source": [
    "for event in events:\n",
    "    event[\"messages\"][-1].pretty_print()"
   ]
  },
  {
   "cell_type": "code",
   "execution_count": 65,
   "id": "78e7904d",
   "metadata": {},
   "outputs": [],
   "source": [
    "events = app.stream(\n",
    "    {\"messages\":[\"in which city the current temparature is around 36 degree celcius?\"]},\n",
    "    config=config,\n",
    "    stream_mode=\"values\"\n",
    ")"
   ]
  },
  {
   "cell_type": "code",
   "execution_count": 66,
   "id": "32621ff8",
   "metadata": {},
   "outputs": [
    {
     "name": "stdout",
     "output_type": "stream",
     "text": [
      "================================\u001b[1m Human Message \u001b[0m=================================\n",
      "\n",
      "in which city the current temparature is around 36 degree celcius?\n",
      "==================================\u001b[1m Ai Message \u001b[0m==================================\n",
      "\n",
      "Based on the current weather data, the city of **Delhi** has a temperature of **36.37°C**, which is close to 36 degrees Celsius.\n"
     ]
    }
   ],
   "source": [
    "for event in events:\n",
    "    event[\"messages\"][-1].pretty_print()"
   ]
  },
  {
   "cell_type": "code",
   "execution_count": 68,
   "id": "aa1b9b07",
   "metadata": {},
   "outputs": [],
   "source": [
    "events = app.stream(\n",
    "    {\"messages\":[\"in which cities of India having current temperature below 25 degrees Celcius?\"]},\n",
    "    config=config,\n",
    "    stream_mode=\"values\"\n",
    ")"
   ]
  },
  {
   "cell_type": "code",
   "execution_count": 69,
   "id": "c6ecded3",
   "metadata": {},
   "outputs": [
    {
     "name": "stdout",
     "output_type": "stream",
     "text": [
      "================================\u001b[1m Human Message \u001b[0m=================================\n",
      "\n",
      "in which cities of India having current temperature below 25 degrees Celcius?\n",
      "==================================\u001b[1m Ai Message \u001b[0m==================================\n",
      "\n",
      "Based on typical weather patterns and without real-time data, the following cities in India are likely to have temperatures below 25 degrees Celsius:\n",
      "\n",
      "1. **Bangalore, Karnataka**: Known for its pleasant weather, Bangalore often experiences temperatures in the mid to high 20s.\n",
      "\n",
      "2. **Munnar, Kerala**: Located in the western ghats, Munnar enjoys a cooler climate and is likely to be below 25 degrees Celsius.\n",
      "\n",
      "3. **Darjeeling, West Bengal**: Famous for its tea plantations and cool climate, Darjeeling typically has temperatures below 25 degrees Celsius.\n",
      "\n",
      "4. **Shillong, Meghalaya**: Known as the \"Scotland of the East,\" Shillong has a cool climate and temperatures often remain below 25 degrees Celsius.\n",
      "\n",
      "5. **Manali, Himachal Pradesh**: A popular hill station in the northern part of India, Manali experiences cooler temperatures, especially in the evenings.\n",
      "\n",
      "6. **Srinagar, Jammu and Kashmir**: Located in the Kashmir valley, Srinagar has a cool climate with temperatures often below 25 degrees Celsius.\n",
      "\n",
      "For the most accurate and up-to-date temperature information, it is recommended to check a reliable weather forecasting service.\n"
     ]
    }
   ],
   "source": [
    "for event in events:\n",
    "    event[\"messages\"][-1].pretty_print()"
   ]
  },
  {
   "cell_type": "code",
   "execution_count": null,
   "id": "31454c1d",
   "metadata": {},
   "outputs": [],
   "source": [
    "## using `claude-3-5-sonnet-latest` LLM\n",
    "events = app.stream(\n",
    "    {\"messages\":[\"Among the cities of Bangalore, Darjeeling, Srinagar, and Shillong, which one is currently experiencing the lowest temperature?\"]},\n",
    "    config=config,\n",
    "    stream_mode=\"values\"\n",
    ")"
   ]
  },
  {
   "cell_type": "code",
   "execution_count": 90,
   "id": "533d4de9",
   "metadata": {},
   "outputs": [
    {
     "name": "stdout",
     "output_type": "stream",
     "text": [
      "================================\u001b[1m Human Message \u001b[0m=================================\n",
      "\n",
      "Among the cities of Bangalore, Darjeeling, Srinagar, and Shillong, which one is currently experiencing the lowest temperature?\n",
      "==================================\u001b[1m Ai Message \u001b[0m==================================\n",
      "\n",
      "[{'text': \"I'll help you check the current weather for all these cities and compare their temperatures. Let me get the weather data for each city.\", 'type': 'text'}, {'id': 'toolu_012BFMJRPtbjGRkgLyiEuPpj', 'input': {'city': 'Bangalore'}, 'name': 'get_weather', 'type': 'tool_use'}]\n",
      "Tool Calls:\n",
      "  get_weather (toolu_012BFMJRPtbjGRkgLyiEuPpj)\n",
      " Call ID: toolu_012BFMJRPtbjGRkgLyiEuPpj\n",
      "  Args:\n",
      "    city: Bangalore\n",
      "{'coord': {'lon': 77.6033, 'lat': 12.9762}, 'weather': [{'id': 804, 'main': 'Clouds', 'description': 'overcast clouds', 'icon': '04n'}], 'base': 'stations', 'main': {'temp': 26.9, 'feels_like': 28.77, 'temp_min': 26.9, 'temp_max': 26.9, 'pressure': 1009, 'humidity': 71, 'sea_level': 1009, 'grnd_level': 912}, 'visibility': 10000, 'wind': {'speed': 7.75, 'deg': 265, 'gust': 13.04}, 'clouds': {'all': 100}, 'dt': 1750944951, 'sys': {'country': 'IN', 'sunrise': 1750897544, 'sunset': 1750943934}, 'timezone': 19800, 'id': 1277333, 'name': 'Bengaluru', 'cod': 200}\n",
      "=================================\u001b[1m Tool Message \u001b[0m=================================\n",
      "Name: get_weather\n",
      "\n",
      "The weather in Bangalore is overcast clouds with a temperature of 26.9°C.\n",
      "==================================\u001b[1m Ai Message \u001b[0m==================================\n",
      "\n",
      "[{'id': 'toolu_01MEbifJ6VbptqdBqQ2taVCv', 'input': {'city': 'Darjeeling'}, 'name': 'get_weather', 'type': 'tool_use'}]\n",
      "Tool Calls:\n",
      "  get_weather (toolu_01MEbifJ6VbptqdBqQ2taVCv)\n",
      " Call ID: toolu_01MEbifJ6VbptqdBqQ2taVCv\n",
      "  Args:\n",
      "    city: Darjeeling\n",
      "{'coord': {'lon': 88.2667, 'lat': 27.0333}, 'weather': [{'id': 802, 'main': 'Clouds', 'description': 'scattered clouds', 'icon': '03n'}], 'base': 'stations', 'main': {'temp': 18.11, 'feels_like': 18.46, 'temp_min': 18.11, 'temp_max': 18.11, 'pressure': 1007, 'humidity': 95, 'sea_level': 1007, 'grnd_level': 862}, 'visibility': 10000, 'wind': {'speed': 0.47, 'deg': 184, 'gust': 0.24}, 'clouds': {'all': 43}, 'dt': 1750944501, 'sys': {'country': 'IN', 'sunrise': 1750893273, 'sunset': 1750943086}, 'timezone': 19800, 'id': 1273467, 'name': 'Darjeeling', 'cod': 200}\n",
      "=================================\u001b[1m Tool Message \u001b[0m=================================\n",
      "Name: get_weather\n",
      "\n",
      "The weather in Darjeeling is scattered clouds with a temperature of 18.11°C.\n",
      "==================================\u001b[1m Ai Message \u001b[0m==================================\n",
      "\n",
      "[{'id': 'toolu_018H3eYZxkNeLa1ookAdcrM1', 'input': {'city': 'Srinagar'}, 'name': 'get_weather', 'type': 'tool_use'}]\n",
      "Tool Calls:\n",
      "  get_weather (toolu_018H3eYZxkNeLa1ookAdcrM1)\n",
      " Call ID: toolu_018H3eYZxkNeLa1ookAdcrM1\n",
      "  Args:\n",
      "    city: Srinagar\n",
      "{'coord': {'lon': 74.8167, 'lat': 34.0833}, 'weather': [{'id': 804, 'main': 'Clouds', 'description': 'overcast clouds', 'icon': '04d'}], 'base': 'stations', 'main': {'temp': 25.14, 'feels_like': 25.54, 'temp_min': 25.14, 'temp_max': 25.14, 'pressure': 1003, 'humidity': 70, 'sea_level': 1003, 'grnd_level': 823}, 'visibility': 10000, 'wind': {'speed': 1.86, 'deg': 142, 'gust': 3.42}, 'clouds': {'all': 100}, 'dt': 1750944409, 'sys': {'country': 'IN', 'sunrise': 1750895455, 'sunset': 1750947361}, 'timezone': 19800, 'id': 1255634, 'name': 'Srinagar', 'cod': 200}\n",
      "=================================\u001b[1m Tool Message \u001b[0m=================================\n",
      "Name: get_weather\n",
      "\n",
      "The weather in Srinagar is overcast clouds with a temperature of 25.14°C.\n",
      "==================================\u001b[1m Ai Message \u001b[0m==================================\n",
      "\n",
      "[{'id': 'toolu_01YVjxZo1mm22oiyGqtChgjp', 'input': {'city': 'Shillong'}, 'name': 'get_weather', 'type': 'tool_use'}]\n",
      "Tool Calls:\n",
      "  get_weather (toolu_01YVjxZo1mm22oiyGqtChgjp)\n",
      " Call ID: toolu_01YVjxZo1mm22oiyGqtChgjp\n",
      "  Args:\n",
      "    city: Shillong\n",
      "{'coord': {'lon': 91.8831, 'lat': 25.5689}, 'weather': [{'id': 803, 'main': 'Clouds', 'description': 'broken clouds', 'icon': '04n'}], 'base': 'stations', 'main': {'temp': 19.66, 'feels_like': 20.19, 'temp_min': 19.66, 'temp_max': 19.66, 'pressure': 1008, 'humidity': 96, 'sea_level': 1008, 'grnd_level': 850}, 'visibility': 10000, 'wind': {'speed': 1.67, 'deg': 200, 'gust': 2.37}, 'clouds': {'all': 81}, 'dt': 1750944364, 'sys': {'country': 'IN', 'sunrise': 1750892602, 'sunset': 1750942020}, 'timezone': 19800, 'id': 1256523, 'name': 'Shillong', 'cod': 200}\n",
      "=================================\u001b[1m Tool Message \u001b[0m=================================\n",
      "Name: get_weather\n",
      "\n",
      "The weather in Shillong is broken clouds with a temperature of 19.66°C.\n",
      "==================================\u001b[1m Ai Message \u001b[0m==================================\n",
      "\n",
      "Let me compare the temperatures:\n",
      "- Bangalore: 26.9°C\n",
      "- Darjeeling: 18.11°C\n",
      "- Srinagar: 25.14°C\n",
      "- Shillong: 19.66°C\n",
      "\n",
      "Among these cities, Darjeeling is currently experiencing the lowest temperature at 18.11°C.\n"
     ]
    }
   ],
   "source": [
    "for event in events:\n",
    "    event[\"messages\"][-1].pretty_print()"
   ]
  },
  {
   "cell_type": "code",
   "execution_count": 91,
   "id": "db2935dd",
   "metadata": {},
   "outputs": [
    {
     "data": {
      "text/plain": [
       "{'v': 3,\n",
       " 'ts': '2025-06-26T13:37:48.674526+00:00',\n",
       " 'id': '1f05292b-fe68-6ab3-8009-9f84093d8f3f',\n",
       " 'channel_versions': {'__start__': '00000000000000000000000000000002.0.4591660711767134',\n",
       "  'messages': '00000000000000000000000000000011.0.10151900808799807',\n",
       "  'branch:to:llm_with_tools': '00000000000000000000000000000011.0.5097813725398601',\n",
       "  'branch:to:my_tools': '00000000000000000000000000000010.0.43140886818833635'},\n",
       " 'versions_seen': {'__input__': {},\n",
       "  '__start__': {'__start__': '00000000000000000000000000000001.0.39562527977362205'},\n",
       "  'llm_with_tools': {'branch:to:llm_with_tools': '00000000000000000000000000000010.0.5498903769509524'},\n",
       "  'my_tools': {'branch:to:my_tools': '00000000000000000000000000000009.0.5210058744962212'}},\n",
       " 'pending_sends': [],\n",
       " 'channel_values': {'messages': [HumanMessage(content='Among the cities of Bangalore, Darjeeling, Srinagar, and Shillong, which one is currently experiencing the lowest temperature?', additional_kwargs={}, response_metadata={}, id='c28d1b0f-f496-424f-ac64-b7684b2e9eb6'),\n",
       "   AIMessage(content=[{'text': \"I'll help you check the current weather for all these cities and compare their temperatures. Let me get the weather data for each city.\", 'type': 'text'}, {'id': 'toolu_012BFMJRPtbjGRkgLyiEuPpj', 'input': {'city': 'Bangalore'}, 'name': 'get_weather', 'type': 'tool_use'}], additional_kwargs={}, response_metadata={'id': 'msg_01BJfz9bf65bGzoFNyRsUx3Q', 'model': 'claude-3-5-sonnet-20241022', 'stop_reason': 'tool_use', 'stop_sequence': None, 'usage': {'cache_creation_input_tokens': 0, 'cache_read_input_tokens': 0, 'input_tokens': 406, 'output_tokens': 82, 'server_tool_use': None, 'service_tier': 'standard'}, 'model_name': 'claude-3-5-sonnet-20241022'}, id='run--f40a72a4-6e8b-410d-9daa-c94c0a37815a-0', tool_calls=[{'name': 'get_weather', 'args': {'city': 'Bangalore'}, 'id': 'toolu_012BFMJRPtbjGRkgLyiEuPpj', 'type': 'tool_call'}], usage_metadata={'input_tokens': 406, 'output_tokens': 82, 'total_tokens': 488, 'input_token_details': {'cache_creation': 0, 'cache_read': 0}}),\n",
       "   ToolMessage(content='The weather in Bangalore is overcast clouds with a temperature of 26.9°C.', name='get_weather', id='f4134722-b86a-4065-bff6-24f6603677ba', tool_call_id='toolu_012BFMJRPtbjGRkgLyiEuPpj'),\n",
       "   AIMessage(content=[{'id': 'toolu_01MEbifJ6VbptqdBqQ2taVCv', 'input': {'city': 'Darjeeling'}, 'name': 'get_weather', 'type': 'tool_use'}], additional_kwargs={}, response_metadata={'id': 'msg_012SRdEcF7CRjbf1KxL4wVva', 'model': 'claude-3-5-sonnet-20241022', 'stop_reason': 'tool_use', 'stop_sequence': None, 'usage': {'cache_creation_input_tokens': 0, 'cache_read_input_tokens': 0, 'input_tokens': 518, 'output_tokens': 57, 'server_tool_use': None, 'service_tier': 'standard'}, 'model_name': 'claude-3-5-sonnet-20241022'}, id='run--3a71acef-b318-4b34-a3f8-4ab10ceff443-0', tool_calls=[{'name': 'get_weather', 'args': {'city': 'Darjeeling'}, 'id': 'toolu_01MEbifJ6VbptqdBqQ2taVCv', 'type': 'tool_call'}], usage_metadata={'input_tokens': 518, 'output_tokens': 57, 'total_tokens': 575, 'input_token_details': {'cache_creation': 0, 'cache_read': 0}}),\n",
       "   ToolMessage(content='The weather in Darjeeling is scattered clouds with a temperature of 18.11°C.', name='get_weather', id='3128296f-5f61-42cf-944e-2de9b5d80eb8', tool_call_id='toolu_01MEbifJ6VbptqdBqQ2taVCv'),\n",
       "   AIMessage(content=[{'id': 'toolu_018H3eYZxkNeLa1ookAdcrM1', 'input': {'city': 'Srinagar'}, 'name': 'get_weather', 'type': 'tool_use'}], additional_kwargs={}, response_metadata={'id': 'msg_013gNbrCVviaXW3WCmyHRXsL', 'model': 'claude-3-5-sonnet-20241022', 'stop_reason': 'tool_use', 'stop_sequence': None, 'usage': {'cache_creation_input_tokens': 0, 'cache_read_input_tokens': 0, 'input_tokens': 606, 'output_tokens': 57, 'server_tool_use': None, 'service_tier': 'standard'}, 'model_name': 'claude-3-5-sonnet-20241022'}, id='run--d442ef49-94c5-49ff-98e5-870ec6075a89-0', tool_calls=[{'name': 'get_weather', 'args': {'city': 'Srinagar'}, 'id': 'toolu_018H3eYZxkNeLa1ookAdcrM1', 'type': 'tool_call'}], usage_metadata={'input_tokens': 606, 'output_tokens': 57, 'total_tokens': 663, 'input_token_details': {'cache_creation': 0, 'cache_read': 0}}),\n",
       "   ToolMessage(content='The weather in Srinagar is overcast clouds with a temperature of 25.14°C.', name='get_weather', id='0610e69b-9f44-41fc-9a4d-12a93699ba84', tool_call_id='toolu_018H3eYZxkNeLa1ookAdcrM1'),\n",
       "   AIMessage(content=[{'id': 'toolu_01YVjxZo1mm22oiyGqtChgjp', 'input': {'city': 'Shillong'}, 'name': 'get_weather', 'type': 'tool_use'}], additional_kwargs={}, response_metadata={'id': 'msg_012YzmcK9JHgTyBCh1J2eh1z', 'model': 'claude-3-5-sonnet-20241022', 'stop_reason': 'tool_use', 'stop_sequence': None, 'usage': {'cache_creation_input_tokens': 0, 'cache_read_input_tokens': 0, 'input_tokens': 695, 'output_tokens': 57, 'server_tool_use': None, 'service_tier': 'standard'}, 'model_name': 'claude-3-5-sonnet-20241022'}, id='run--c568398c-4337-4864-8207-6a48a1916701-0', tool_calls=[{'name': 'get_weather', 'args': {'city': 'Shillong'}, 'id': 'toolu_01YVjxZo1mm22oiyGqtChgjp', 'type': 'tool_call'}], usage_metadata={'input_tokens': 695, 'output_tokens': 57, 'total_tokens': 752, 'input_token_details': {'cache_creation': 0, 'cache_read': 0}}),\n",
       "   ToolMessage(content='The weather in Shillong is broken clouds with a temperature of 19.66°C.', name='get_weather', id='1428623d-9982-4fb7-8485-6771126f9193', tool_call_id='toolu_01YVjxZo1mm22oiyGqtChgjp'),\n",
       "   AIMessage(content='Let me compare the temperatures:\\n- Bangalore: 26.9°C\\n- Darjeeling: 18.11°C\\n- Srinagar: 25.14°C\\n- Shillong: 19.66°C\\n\\nAmong these cities, Darjeeling is currently experiencing the lowest temperature at 18.11°C.', additional_kwargs={}, response_metadata={'id': 'msg_014tms3i5p3DCkM11m8EjUiR', 'model': 'claude-3-5-sonnet-20241022', 'stop_reason': 'end_turn', 'stop_sequence': None, 'usage': {'cache_creation_input_tokens': 0, 'cache_read_input_tokens': 0, 'input_tokens': 783, 'output_tokens': 83, 'server_tool_use': None, 'service_tier': 'standard'}, 'model_name': 'claude-3-5-sonnet-20241022'}, id='run--3a52345a-51c0-45b0-ab05-55ac7aedc70f-0', usage_metadata={'input_tokens': 783, 'output_tokens': 83, 'total_tokens': 866, 'input_token_details': {'cache_creation': 0, 'cache_read': 0}})]}}"
      ]
     },
     "execution_count": 91,
     "metadata": {},
     "output_type": "execute_result"
    }
   ],
   "source": [
    "memory.get(config)"
   ]
  },
  {
   "cell_type": "code",
   "execution_count": null,
   "id": "e7369654",
   "metadata": {},
   "outputs": [],
   "source": []
  }
 ],
 "metadata": {
  "kernelspec": {
   "display_name": "agentic_ai",
   "language": "python",
   "name": "python3"
  },
  "language_info": {
   "codemirror_mode": {
    "name": "ipython",
    "version": 3
   },
   "file_extension": ".py",
   "mimetype": "text/x-python",
   "name": "python",
   "nbconvert_exporter": "python",
   "pygments_lexer": "ipython3",
   "version": "3.12.0"
  }
 },
 "nbformat": 4,
 "nbformat_minor": 5
}
