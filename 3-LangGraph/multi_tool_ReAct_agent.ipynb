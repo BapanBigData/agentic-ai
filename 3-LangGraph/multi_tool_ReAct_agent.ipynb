{
 "cells": [
  {
   "cell_type": "code",
   "execution_count": 1,
   "id": "5ccadc40",
   "metadata": {},
   "outputs": [],
   "source": [
    "import os\n",
    "from dotenv import load_dotenv\n",
    "\n",
    "load_dotenv()\n",
    "\n",
    "os.environ[\"GOOGLE_API_KEY\"] = os.getenv(\"GOOGLE_API_KEY\")\n",
    "os.environ[\"GROQ_API_KEY\"] = os.getenv(\"GROQ_API_KEY\")\n",
    "os.environ[\"OPENAI_API_KEY\"] = os.getenv(\"OPENAI_API_KEY\")\n",
    "os.environ[\"ANTHROPIC_API_KEY\"] = os.getenv(\"ANTHROPIC_API_KEY\")\n",
    "\n",
    "os.environ[\"LANGCHAIN_API_KEY\"] = os.getenv(\"LANGCHAIN_API_KEY\")\n",
    "os.environ[\"LANGCHAIN_PROJECT\"] = os.getenv(\"LANGCHAIN_PROJECT\")\n",
    "os.environ[\"LANGCHAIN_TRACING_V2\"] = \"true\""
   ]
  },
  {
   "cell_type": "code",
   "execution_count": 2,
   "id": "612f692f",
   "metadata": {},
   "outputs": [],
   "source": [
    "from langchain_core.tools import tool\n",
    "import requests"
   ]
  },
  {
   "cell_type": "code",
   "execution_count": 3,
   "id": "0413e0cd",
   "metadata": {},
   "outputs": [],
   "source": [
    "\n",
    "@tool\n",
    "def get_stock_price(symbol: str) -> str:\n",
    "    \"\"\"\n",
    "    Retrieve the latest real-time stock price for a given stock symbol.\n",
    "\n",
    "    Parameters:\n",
    "        symbol (str): The stock ticker symbol (e.g., 'AAPL' for Apple, 'GOOGL' for Alphabet, 'TSLA' for Tesla).\n",
    "\n",
    "    Returns:\n",
    "        str: A human-readable summary of the stock's current trading price and percentage change.\n",
    "            If the symbol is invalid or data is unavailable, an error message will be returned.\n",
    "\n",
    "    Example:\n",
    "        >>> get_stock_price(\"AAPL\")\n",
    "        \"The current stock price of AAPL is $189.56 (+0.72% change).\"\n",
    "\n",
    "    Notes:\n",
    "        - Requires a valid Alpha Vantage API key stored in the environment variable 'ALPHA_VANTAGE_API_KEY'.\n",
    "        - The free tier of Alpha Vantage has request limits. Be cautious with frequent use in loops or agents.\n",
    "    \"\"\"\n",
    "    \n",
    "    api_key = os.getenv(\"ALPHA_VANTAGE_API_KEY\")\n",
    "    url = f\"https://www.alphavantage.co/query?function=GLOBAL_QUOTE&symbol={symbol}&apikey={api_key}\"\n",
    "    response = requests.get(url)\n",
    "    \n",
    "    if response.status_code != 200:\n",
    "        return f\"Failed to fetch stock data: {response.text}\"\n",
    "    \n",
    "    data = response.json()\n",
    "    print(data)\n",
    "    \n",
    "    try:\n",
    "        quote = data[\"Global Quote\"]\n",
    "        price = quote[\"05. price\"]\n",
    "        change = quote[\"10. change percent\"]\n",
    "        return f\"The current stock price of {symbol} is ${price} ({change} change).\"\n",
    "    except KeyError:\n",
    "        return \"Could not find price data. Check the symbol.\"\n"
   ]
  },
  {
   "cell_type": "code",
   "execution_count": 4,
   "id": "148fda68",
   "metadata": {},
   "outputs": [
    {
     "data": {
      "text/plain": [
       "{'symbol': {'title': 'Symbol', 'type': 'string'}}"
      ]
     },
     "execution_count": 4,
     "metadata": {},
     "output_type": "execute_result"
    }
   ],
   "source": [
    "get_stock_price.args"
   ]
  },
  {
   "cell_type": "code",
   "execution_count": 5,
   "id": "16831653",
   "metadata": {},
   "outputs": [
    {
     "data": {
      "text/plain": [
       "'Retrieve the latest real-time stock price for a given stock symbol.\\n\\nParameters:\\n    symbol (str): The stock ticker symbol (e.g., \\'AAPL\\' for Apple, \\'GOOGL\\' for Alphabet, \\'TSLA\\' for Tesla).\\n\\nReturns:\\n    str: A human-readable summary of the stock\\'s current trading price and percentage change.\\n        If the symbol is invalid or data is unavailable, an error message will be returned.\\n\\nExample:\\n    >>> get_stock_price(\"AAPL\")\\n    \"The current stock price of AAPL is $189.56 (+0.72% change).\"\\n\\nNotes:\\n    - Requires a valid Alpha Vantage API key stored in the environment variable \\'ALPHA_VANTAGE_API_KEY\\'.\\n    - The free tier of Alpha Vantage has request limits. Be cautious with frequent use in loops or agents.'"
      ]
     },
     "execution_count": 5,
     "metadata": {},
     "output_type": "execute_result"
    }
   ],
   "source": [
    "get_stock_price.description"
   ]
  },
  {
   "cell_type": "code",
   "execution_count": 6,
   "id": "4e17e08c",
   "metadata": {},
   "outputs": [
    {
     "name": "stdout",
     "output_type": "stream",
     "text": [
      "{'Global Quote': {'01. symbol': 'AAPL', '02. open': '201.4300', '03. high': '202.6400', '04. low': '199.4600', '05. price': '201.0000', '06. volume': '50799121', '07. latest trading day': '2025-06-26', '08. previous close': '201.5600', '09. change': '-0.5600', '10. change percent': '-0.2778%'}}\n"
     ]
    },
    {
     "data": {
      "text/plain": [
       "'The current stock price of AAPL is $201.0000 (-0.2778% change).'"
      ]
     },
     "execution_count": 6,
     "metadata": {},
     "output_type": "execute_result"
    }
   ],
   "source": [
    "get_stock_price.invoke(\"AAPL\")"
   ]
  },
  {
   "cell_type": "code",
   "execution_count": 7,
   "id": "b955347b",
   "metadata": {},
   "outputs": [
    {
     "name": "stdout",
     "output_type": "stream",
     "text": [
      "{'Global Quote': {'01. symbol': 'TSLA', '02. open': '324.6100', '03. high': '331.0500', '04. low': '323.6100', '05. price': '325.7800', '06. volume': '80440907', '07. latest trading day': '2025-06-26', '08. previous close': '327.5500', '09. change': '-1.7700', '10. change percent': '-0.5404%'}}\n"
     ]
    },
    {
     "data": {
      "text/plain": [
       "'The current stock price of TSLA is $325.7800 (-0.5404% change).'"
      ]
     },
     "execution_count": 7,
     "metadata": {},
     "output_type": "execute_result"
    }
   ],
   "source": [
    "get_stock_price.invoke(\"TSLA\")"
   ]
  },
  {
   "cell_type": "code",
   "execution_count": 8,
   "id": "4ce6adef",
   "metadata": {},
   "outputs": [],
   "source": [
    "\n",
    "@tool\n",
    "def get_weather(city: str) -> str:\n",
    "    \"\"\"\n",
    "    Fetch the current weather conditions for a specified city.\n",
    "\n",
    "    Parameters:\n",
    "        city (str): The name of the city to retrieve weather data for (e.g., 'London', 'New York').\n",
    "\n",
    "    Returns:\n",
    "        str: A concise description of the weather including temperature and conditions.\n",
    "            Returns an error message if the city is not found or the request fails.\n",
    "\n",
    "    Example:\n",
    "        >>> get_weather(\"Delhi\")\n",
    "        \"The weather in Delhi is haze with a temperature of 32.5°C.\"\n",
    "\n",
    "    Notes:\n",
    "        - Requires a valid OpenWeatherMap API key set in the environment variable 'OPENWEATHER_API_KEY'.\n",
    "        - Units are returned in metric (Celsius) by default.\n",
    "    \"\"\"\n",
    "    \n",
    "    api_key = os.getenv(\"OPENWEATHER_API_KEY\")\n",
    "    url = f\"https://api.openweathermap.org/data/2.5/weather?q={city}&appid={api_key}&units=metric\"\n",
    "    response = requests.get(url)\n",
    "    \n",
    "    if response.status_code != 200:\n",
    "        return f\"Failed to get weather: {response.text}\"\n",
    "    \n",
    "    data = response.json()\n",
    "    print(data)\n",
    "    \n",
    "    temp = data[\"main\"][\"temp\"]\n",
    "    desc = data[\"weather\"][0][\"description\"]\n",
    "    \n",
    "    return f\"The weather in {city} is {desc} with a temperature of {temp}°C.\"\n"
   ]
  },
  {
   "cell_type": "code",
   "execution_count": 9,
   "id": "6b13a08b",
   "metadata": {},
   "outputs": [
    {
     "name": "stdout",
     "output_type": "stream",
     "text": [
      "{'coord': {'lon': -0.1257, 'lat': 51.5085}, 'weather': [{'id': 803, 'main': 'Clouds', 'description': 'broken clouds', 'icon': '04d'}], 'base': 'stations', 'main': {'temp': 24.01, 'feels_like': 23.82, 'temp_min': 24.01, 'temp_max': 24.01, 'pressure': 1020, 'humidity': 52, 'sea_level': 1020, 'grnd_level': 1015}, 'visibility': 10000, 'wind': {'speed': 5.52, 'deg': 234, 'gust': 7.57}, 'clouds': {'all': 60}, 'dt': 1751023998, 'sys': {'country': 'GB', 'sunrise': 1750995913, 'sunset': 1751055704}, 'timezone': 3600, 'id': 2643743, 'name': 'London', 'cod': 200}\n"
     ]
    },
    {
     "data": {
      "text/plain": [
       "'The weather in London is broken clouds with a temperature of 24.01°C.'"
      ]
     },
     "execution_count": 9,
     "metadata": {},
     "output_type": "execute_result"
    }
   ],
   "source": [
    "get_weather.invoke('London')"
   ]
  },
  {
   "cell_type": "code",
   "execution_count": 10,
   "id": "0247b309",
   "metadata": {},
   "outputs": [],
   "source": [
    "# %pip install -U duckduckgo-search"
   ]
  },
  {
   "cell_type": "code",
   "execution_count": 11,
   "id": "8982ee2b",
   "metadata": {},
   "outputs": [
    {
     "data": {
      "text/plain": [
       "DuckDuckGoSearchRun(api_wrapper=DuckDuckGoSearchAPIWrapper(region='wt-wt', safesearch='moderate', time='y', max_results=5, backend='auto', source='text'))"
      ]
     },
     "execution_count": 11,
     "metadata": {},
     "output_type": "execute_result"
    }
   ],
   "source": [
    "from langchain_community.tools import DuckDuckGoSearchRun\n",
    "\n",
    "duck_duck_go_search = DuckDuckGoSearchRun()\n",
    "duck_duck_go_search"
   ]
  },
  {
   "cell_type": "code",
   "execution_count": 12,
   "id": "9578b6ab",
   "metadata": {},
   "outputs": [
    {
     "data": {
      "text/plain": [
       "'A wrapper around DuckDuckGo Search. Useful for when you need to answer questions about current events. Input should be a search query.'"
      ]
     },
     "execution_count": 12,
     "metadata": {},
     "output_type": "execute_result"
    }
   ],
   "source": [
    "duck_duck_go_search.description"
   ]
  },
  {
   "cell_type": "code",
   "execution_count": 13,
   "id": "f066e662",
   "metadata": {},
   "outputs": [
    {
     "data": {
      "text/plain": [
       "{'query': {'description': 'search query to look up',\n",
       "  'title': 'Query',\n",
       "  'type': 'string'}}"
      ]
     },
     "execution_count": 13,
     "metadata": {},
     "output_type": "execute_result"
    }
   ],
   "source": [
    "duck_duck_go_search.args"
   ]
  },
  {
   "cell_type": "code",
   "execution_count": 14,
   "id": "779ba29a",
   "metadata": {},
   "outputs": [],
   "source": [
    "response = duck_duck_go_search.invoke(\"Tesla stock drop\")"
   ]
  },
  {
   "cell_type": "code",
   "execution_count": 15,
   "id": "9533ae8e",
   "metadata": {},
   "outputs": [
    {
     "data": {
      "text/plain": [
       "\"Topline Shares of Tesla dropped by more than 14% on Thursday as the relationship between Elon Musk and President Donald Trump's appeared to unravel, with Musk launching attacks at the president ... Tesla stock is barreling toward a ninth-straight weekly drop, falling another 5% on Tuesday. Shares have now plummeted 53% from record highs reached in mid-December. There are two new factors ... Tesla shares fall to $241, lowest since November 2024, after a 91% rally following Trump's election. Sales decline in China and Europe, Musk's controversial views, and UBS downgrade weigh on the EV leader. Tesla's stock price tumbles 14%, erasing more than $150 billion in the automaker's value, as Elon Musk and President Trump trade barbs. Investors are losing confidence as Tesla battles falling sales, political controversies, and Musk's latest billion-dollar distraction.\""
      ]
     },
     "execution_count": 15,
     "metadata": {},
     "output_type": "execute_result"
    }
   ],
   "source": [
    "response"
   ]
  },
  {
   "cell_type": "code",
   "execution_count": 16,
   "id": "f399337c",
   "metadata": {},
   "outputs": [],
   "source": [
    "# from langchain_groq import ChatGroq\n",
    "\n",
    "# llm = ChatGroq(\n",
    "#     model = 'deepseek-r1-distill-llama-70b',\n",
    "#     temperature=0.3\n",
    "# )\n",
    "\n",
    "# llm"
   ]
  },
  {
   "cell_type": "code",
   "execution_count": 17,
   "id": "7821d4e6",
   "metadata": {},
   "outputs": [
    {
     "data": {
      "text/plain": [
       "ChatOpenAI(client=<openai.resources.chat.completions.completions.Completions object at 0x0000025FBF23FF50>, async_client=<openai.resources.chat.completions.completions.AsyncCompletions object at 0x0000025FBF73F620>, root_client=<openai.OpenAI object at 0x0000025FBEBA34A0>, root_async_client=<openai.AsyncOpenAI object at 0x0000025FBF23F9E0>, model_name='gpt-4o-mini', temperature=0.3, model_kwargs={}, openai_api_key=SecretStr('**********'))"
      ]
     },
     "execution_count": 17,
     "metadata": {},
     "output_type": "execute_result"
    }
   ],
   "source": [
    "from langchain_openai import ChatOpenAI\n",
    "\n",
    "llm = ChatOpenAI(\n",
    "    model = 'gpt-4o-mini',\n",
    "    temperature=0.3\n",
    ")\n",
    "llm"
   ]
  },
  {
   "cell_type": "markdown",
   "id": "44ef7dc3",
   "metadata": {},
   "source": [
    "#### **LLM with Tool Bind**"
   ]
  },
  {
   "cell_type": "code",
   "execution_count": 18,
   "id": "9dcbe04c",
   "metadata": {},
   "outputs": [],
   "source": [
    "import operator\n",
    "from typing import List\n",
    "from langgraph.graph.message import add_messages\n",
    "from pydantic import BaseModel , Field\n",
    "from typing import TypedDict, Annotated, Sequence\n",
    "from langchain_core.messages import BaseMessage\n",
    "from langchain_core.output_parsers import StrOutputParser\n",
    "from langchain_core.prompts import ChatPromptTemplate, PromptTemplate\n",
    "\n",
    "from langchain_core.tools import tool\n",
    "from langchain_core.messages import HumanMessage, AIMessage\n",
    "from langgraph.graph import StateGraph, MessagesState, START, END\n",
    "from langgraph.prebuilt import ToolNode"
   ]
  },
  {
   "cell_type": "code",
   "execution_count": 19,
   "id": "e0faa8b1",
   "metadata": {},
   "outputs": [
    {
     "data": {
      "text/plain": [
       "[StructuredTool(name='get_stock_price', description='Retrieve the latest real-time stock price for a given stock symbol.\\n\\nParameters:\\n    symbol (str): The stock ticker symbol (e.g., \\'AAPL\\' for Apple, \\'GOOGL\\' for Alphabet, \\'TSLA\\' for Tesla).\\n\\nReturns:\\n    str: A human-readable summary of the stock\\'s current trading price and percentage change.\\n        If the symbol is invalid or data is unavailable, an error message will be returned.\\n\\nExample:\\n    >>> get_stock_price(\"AAPL\")\\n    \"The current stock price of AAPL is $189.56 (+0.72% change).\"\\n\\nNotes:\\n    - Requires a valid Alpha Vantage API key stored in the environment variable \\'ALPHA_VANTAGE_API_KEY\\'.\\n    - The free tier of Alpha Vantage has request limits. Be cautious with frequent use in loops or agents.', args_schema=<class 'langchain_core.utils.pydantic.get_stock_price'>, func=<function get_stock_price at 0x0000025FBEBC47C0>),\n",
       " StructuredTool(name='get_weather', description='Fetch the current weather conditions for a specified city.\\n\\nParameters:\\n    city (str): The name of the city to retrieve weather data for (e.g., \\'London\\', \\'New York\\').\\n\\nReturns:\\n    str: A concise description of the weather including temperature and conditions.\\n        Returns an error message if the city is not found or the request fails.\\n\\nExample:\\n    >>> get_weather(\"Delhi\")\\n    \"The weather in Delhi is haze with a temperature of 32.5°C.\"\\n\\nNotes:\\n    - Requires a valid OpenWeatherMap API key set in the environment variable \\'OPENWEATHER_API_KEY\\'.\\n    - Units are returned in metric (Celsius) by default.', args_schema=<class 'langchain_core.utils.pydantic.get_weather'>, func=<function get_weather at 0x0000025FBEBC49A0>),\n",
       " DuckDuckGoSearchRun(api_wrapper=DuckDuckGoSearchAPIWrapper(region='wt-wt', safesearch='moderate', time='y', max_results=5, backend='auto', source='text'))]"
      ]
     },
     "execution_count": 19,
     "metadata": {},
     "output_type": "execute_result"
    }
   ],
   "source": [
    "## tools\n",
    "tools = [get_stock_price, get_weather, duck_duck_go_search]\n",
    "tools"
   ]
  },
  {
   "cell_type": "code",
   "execution_count": 20,
   "id": "ccff5b48",
   "metadata": {},
   "outputs": [
    {
     "data": {
      "text/plain": [
       "RunnableBinding(bound=ChatOpenAI(client=<openai.resources.chat.completions.completions.Completions object at 0x0000025FBF23FF50>, async_client=<openai.resources.chat.completions.completions.AsyncCompletions object at 0x0000025FBF73F620>, root_client=<openai.OpenAI object at 0x0000025FBEBA34A0>, root_async_client=<openai.AsyncOpenAI object at 0x0000025FBF23F9E0>, model_name='gpt-4o-mini', temperature=0.3, model_kwargs={}, openai_api_key=SecretStr('**********')), kwargs={'tools': [{'type': 'function', 'function': {'name': 'get_stock_price', 'description': 'Retrieve the latest real-time stock price for a given stock symbol.\\n\\nParameters:\\n    symbol (str): The stock ticker symbol (e.g., \\'AAPL\\' for Apple, \\'GOOGL\\' for Alphabet, \\'TSLA\\' for Tesla).\\n\\nReturns:\\n    str: A human-readable summary of the stock\\'s current trading price and percentage change.\\n        If the symbol is invalid or data is unavailable, an error message will be returned.\\n\\nExample:\\n    >>> get_stock_price(\"AAPL\")\\n    \"The current stock price of AAPL is $189.56 (+0.72% change).\"\\n\\nNotes:\\n    - Requires a valid Alpha Vantage API key stored in the environment variable \\'ALPHA_VANTAGE_API_KEY\\'.\\n    - The free tier of Alpha Vantage has request limits. Be cautious with frequent use in loops or agents.', 'parameters': {'properties': {'symbol': {'type': 'string'}}, 'required': ['symbol'], 'type': 'object'}}}, {'type': 'function', 'function': {'name': 'get_weather', 'description': 'Fetch the current weather conditions for a specified city.\\n\\nParameters:\\n    city (str): The name of the city to retrieve weather data for (e.g., \\'London\\', \\'New York\\').\\n\\nReturns:\\n    str: A concise description of the weather including temperature and conditions.\\n        Returns an error message if the city is not found or the request fails.\\n\\nExample:\\n    >>> get_weather(\"Delhi\")\\n    \"The weather in Delhi is haze with a temperature of 32.5°C.\"\\n\\nNotes:\\n    - Requires a valid OpenWeatherMap API key set in the environment variable \\'OPENWEATHER_API_KEY\\'.\\n    - Units are returned in metric (Celsius) by default.', 'parameters': {'properties': {'city': {'type': 'string'}}, 'required': ['city'], 'type': 'object'}}}, {'type': 'function', 'function': {'name': 'duckduckgo_search', 'description': 'A wrapper around DuckDuckGo Search. Useful for when you need to answer questions about current events. Input should be a search query.', 'parameters': {'properties': {'query': {'description': 'search query to look up', 'type': 'string'}}, 'required': ['query'], 'type': 'object'}}}]}, config={}, config_factories=[])"
      ]
     },
     "execution_count": 20,
     "metadata": {},
     "output_type": "execute_result"
    }
   ],
   "source": [
    "\n",
    "llm_with_tools = llm.bind_tools(tools)\n",
    "llm_with_tools"
   ]
  },
  {
   "cell_type": "code",
   "execution_count": 21,
   "id": "5c310182",
   "metadata": {},
   "outputs": [
    {
     "data": {
      "text/plain": [
       "AIMessage(content='', additional_kwargs={'tool_calls': [{'id': 'call_w8dunk5m6x7zQiubt6qlJ56h', 'function': {'arguments': '{\"symbol\":\"TSLA\"}', 'name': 'get_stock_price'}, 'type': 'function'}], 'refusal': None}, response_metadata={'token_usage': {'completion_tokens': 16, 'prompt_tokens': 408, 'total_tokens': 424, 'completion_tokens_details': {'accepted_prediction_tokens': 0, 'audio_tokens': 0, 'reasoning_tokens': 0, 'rejected_prediction_tokens': 0}, 'prompt_tokens_details': {'audio_tokens': 0, 'cached_tokens': 0}}, 'model_name': 'gpt-4o-mini-2024-07-18', 'system_fingerprint': 'fp_34a54ae93c', 'id': 'chatcmpl-Bn1gRmaoDSFZXenXNGDvv7Wi49Q52', 'service_tier': 'default', 'finish_reason': 'tool_calls', 'logprobs': None}, id='run--5615c068-8a4d-42c1-a964-a5fb55b3bb91-0', tool_calls=[{'name': 'get_stock_price', 'args': {'symbol': 'TSLA'}, 'id': 'call_w8dunk5m6x7zQiubt6qlJ56h', 'type': 'tool_call'}], usage_metadata={'input_tokens': 408, 'output_tokens': 16, 'total_tokens': 424, 'input_token_details': {'audio': 0, 'cache_read': 0}, 'output_token_details': {'audio': 0, 'reasoning': 0}})"
      ]
     },
     "execution_count": 21,
     "metadata": {},
     "output_type": "execute_result"
    }
   ],
   "source": [
    "response = llm_with_tools.invoke(\"What is the stock price of Tesla today?\")\n",
    "response"
   ]
  },
  {
   "cell_type": "markdown",
   "id": "6cde5470",
   "metadata": {},
   "source": [
    "AIMessage(content='', additional_kwargs={'tool_calls': [{'id': 'z705dpjg8', 'function': {'arguments': '{\"symbol\":\"TSLA\"}', 'name': 'get_stock_price'}, 'type': 'function'}]}, response_metadata={'token_usage': {'completion_tokens': 186, 'prompt_tokens': 581, 'total_tokens': 767, 'completion_time': 0.990684022, 'prompt_time': 0.037159467, 'queue_time': 0.080331852, 'total_time': 1.0278434889999999}, 'model_name': 'deepseek-r1-distill-llama-70b', 'system_fingerprint': 'fp_1bbe7845ec', 'finish_reason': 'tool_calls', 'logprobs': None}, id='run--365c1329-0377-45db-b83c-c743fe0b0b39-0', tool_calls=[{'name': 'get_stock_price', 'args': {'symbol': 'TSLA'}, 'id': 'z705dpjg8', 'type': 'tool_call'}], usage_metadata={'input_tokens': 581, 'output_tokens': 186, 'total_tokens': 767})"
   ]
  },
  {
   "cell_type": "code",
   "execution_count": 22,
   "id": "99c77225",
   "metadata": {},
   "outputs": [
    {
     "data": {
      "text/plain": [
       "[{'name': 'get_stock_price',\n",
       "  'args': {'symbol': 'TSLA'},\n",
       "  'id': 'call_w8dunk5m6x7zQiubt6qlJ56h',\n",
       "  'type': 'tool_call'}]"
      ]
     },
     "execution_count": 22,
     "metadata": {},
     "output_type": "execute_result"
    }
   ],
   "source": [
    "response.tool_calls"
   ]
  },
  {
   "cell_type": "code",
   "execution_count": 23,
   "id": "cd865551",
   "metadata": {},
   "outputs": [],
   "source": [
    "def call_llm_with_tool_bind(state:MessagesState) -> dict:\n",
    "    question = state[\"messages\"]\n",
    "    response = llm_with_tools.invoke(question)\n",
    "    return {\"messages\":[response]}"
   ]
  },
  {
   "cell_type": "code",
   "execution_count": 24,
   "id": "e378cae6",
   "metadata": {},
   "outputs": [
    {
     "name": "stdout",
     "output_type": "stream",
     "text": [
      "<class 'dict'>\n",
      "{'messages': [AIMessage(content='', additional_kwargs={'tool_calls': [{'id': 'call_shA51b7enwTBUezHGFMAQG4n', 'function': {'arguments': '{\"symbol\":\"AAPL\"}', 'name': 'get_stock_price'}, 'type': 'function'}], 'refusal': None}, response_metadata={'token_usage': {'completion_tokens': 16, 'prompt_tokens': 408, 'total_tokens': 424, 'completion_tokens_details': {'accepted_prediction_tokens': 0, 'audio_tokens': 0, 'reasoning_tokens': 0, 'rejected_prediction_tokens': 0}, 'prompt_tokens_details': {'audio_tokens': 0, 'cached_tokens': 0}}, 'model_name': 'gpt-4o-mini-2024-07-18', 'system_fingerprint': 'fp_34a54ae93c', 'id': 'chatcmpl-Bn1gTbG5c0Ad747jmXT6sEntCYdds', 'service_tier': 'default', 'finish_reason': 'tool_calls', 'logprobs': None}, id='run--81b6a94a-66f6-4060-93f4-4b73799d76e6-0', tool_calls=[{'name': 'get_stock_price', 'args': {'symbol': 'AAPL'}, 'id': 'call_shA51b7enwTBUezHGFMAQG4n', 'type': 'tool_call'}], usage_metadata={'input_tokens': 408, 'output_tokens': 16, 'total_tokens': 424, 'input_token_details': {'audio': 0, 'cache_read': 0}, 'output_token_details': {'audio': 0, 'reasoning': 0}})]}\n"
     ]
    }
   ],
   "source": [
    "messages = [HumanMessage(content=\"what is the stock price of Apple today?\")]\n",
    "\n",
    "state: MessagesState = {\"messages\": messages}\n",
    "print(type(state))\n",
    "\n",
    "response = call_llm_with_tool_bind(state)\n",
    "print(response)"
   ]
  },
  {
   "cell_type": "code",
   "execution_count": 25,
   "id": "cdb501c3",
   "metadata": {},
   "outputs": [
    {
     "data": {
      "text/plain": [
       "''"
      ]
     },
     "execution_count": 25,
     "metadata": {},
     "output_type": "execute_result"
    }
   ],
   "source": [
    "response[\"messages\"][-1].content"
   ]
  },
  {
   "cell_type": "code",
   "execution_count": 26,
   "id": "9e82db0b",
   "metadata": {},
   "outputs": [
    {
     "data": {
      "text/plain": [
       "[{'name': 'get_stock_price',\n",
       "  'args': {'symbol': 'AAPL'},\n",
       "  'id': 'call_shA51b7enwTBUezHGFMAQG4n',\n",
       "  'type': 'tool_call'}]"
      ]
     },
     "execution_count": 26,
     "metadata": {},
     "output_type": "execute_result"
    }
   ],
   "source": [
    "response[\"messages\"][-1].tool_calls"
   ]
  },
  {
   "cell_type": "code",
   "execution_count": 27,
   "id": "682b1eae",
   "metadata": {},
   "outputs": [
    {
     "name": "stdout",
     "output_type": "stream",
     "text": [
      "<class 'dict'>\n",
      "{'messages': [AIMessage(content='', additional_kwargs={'tool_calls': [{'id': 'call_8gOqjWgjC6irHkCdwPfJtwOI', 'function': {'arguments': '{\"query\":\"Iran Israel ongoing conflicts update October 2023\"}', 'name': 'duckduckgo_search'}, 'type': 'function'}], 'refusal': None}, response_metadata={'token_usage': {'completion_tokens': 25, 'prompt_tokens': 409, 'total_tokens': 434, 'completion_tokens_details': {'accepted_prediction_tokens': 0, 'audio_tokens': 0, 'reasoning_tokens': 0, 'rejected_prediction_tokens': 0}, 'prompt_tokens_details': {'audio_tokens': 0, 'cached_tokens': 0}}, 'model_name': 'gpt-4o-mini-2024-07-18', 'system_fingerprint': 'fp_34a54ae93c', 'id': 'chatcmpl-Bn1gUkSJFOFdaYuYmZ5KeKcUpnqSo', 'service_tier': 'default', 'finish_reason': 'tool_calls', 'logprobs': None}, id='run--d3ea5b59-94d6-42fc-bf3b-2d9331281437-0', tool_calls=[{'name': 'duckduckgo_search', 'args': {'query': 'Iran Israel ongoing conflicts update October 2023'}, 'id': 'call_8gOqjWgjC6irHkCdwPfJtwOI', 'type': 'tool_call'}], usage_metadata={'input_tokens': 409, 'output_tokens': 25, 'total_tokens': 434, 'input_token_details': {'audio': 0, 'cache_read': 0}, 'output_token_details': {'audio': 0, 'reasoning': 0}})]}\n"
     ]
    }
   ],
   "source": [
    "messages = [HumanMessage(content=\"what is update of Iran Israel on going conflicts?\")]\n",
    "\n",
    "state: MessagesState = {\"messages\": messages}\n",
    "print(type(state))\n",
    "\n",
    "response = call_llm_with_tool_bind(state)\n",
    "print(response)"
   ]
  },
  {
   "cell_type": "code",
   "execution_count": 28,
   "id": "a62d4a63",
   "metadata": {},
   "outputs": [
    {
     "data": {
      "text/plain": [
       "''"
      ]
     },
     "execution_count": 28,
     "metadata": {},
     "output_type": "execute_result"
    }
   ],
   "source": [
    "response[\"messages\"][-1].content"
   ]
  },
  {
   "cell_type": "code",
   "execution_count": 29,
   "id": "8a666f2e",
   "metadata": {},
   "outputs": [
    {
     "data": {
      "text/plain": [
       "[{'name': 'duckduckgo_search',\n",
       "  'args': {'query': 'Iran Israel ongoing conflicts update October 2023'},\n",
       "  'id': 'call_8gOqjWgjC6irHkCdwPfJtwOI',\n",
       "  'type': 'tool_call'}]"
      ]
     },
     "execution_count": 29,
     "metadata": {},
     "output_type": "execute_result"
    }
   ],
   "source": [
    "response[\"messages\"][-1].tool_calls"
   ]
  },
  {
   "cell_type": "code",
   "execution_count": null,
   "id": "ae938501",
   "metadata": {},
   "outputs": [],
   "source": []
  },
  {
   "cell_type": "code",
   "execution_count": 30,
   "id": "a1795312",
   "metadata": {},
   "outputs": [
    {
     "data": {
      "text/plain": [
       "tools(tags=None, recurse=True, explode_args=False, func_accepts_config=True, func_accepts={'store': ('__pregel_store', None)}, tools_by_name={'get_stock_price': StructuredTool(name='get_stock_price', description='Retrieve the latest real-time stock price for a given stock symbol.\\n\\nParameters:\\n    symbol (str): The stock ticker symbol (e.g., \\'AAPL\\' for Apple, \\'GOOGL\\' for Alphabet, \\'TSLA\\' for Tesla).\\n\\nReturns:\\n    str: A human-readable summary of the stock\\'s current trading price and percentage change.\\n        If the symbol is invalid or data is unavailable, an error message will be returned.\\n\\nExample:\\n    >>> get_stock_price(\"AAPL\")\\n    \"The current stock price of AAPL is $189.56 (+0.72% change).\"\\n\\nNotes:\\n    - Requires a valid Alpha Vantage API key stored in the environment variable \\'ALPHA_VANTAGE_API_KEY\\'.\\n    - The free tier of Alpha Vantage has request limits. Be cautious with frequent use in loops or agents.', args_schema=<class 'langchain_core.utils.pydantic.get_stock_price'>, func=<function get_stock_price at 0x0000025FBEBC47C0>), 'get_weather': StructuredTool(name='get_weather', description='Fetch the current weather conditions for a specified city.\\n\\nParameters:\\n    city (str): The name of the city to retrieve weather data for (e.g., \\'London\\', \\'New York\\').\\n\\nReturns:\\n    str: A concise description of the weather including temperature and conditions.\\n        Returns an error message if the city is not found or the request fails.\\n\\nExample:\\n    >>> get_weather(\"Delhi\")\\n    \"The weather in Delhi is haze with a temperature of 32.5°C.\"\\n\\nNotes:\\n    - Requires a valid OpenWeatherMap API key set in the environment variable \\'OPENWEATHER_API_KEY\\'.\\n    - Units are returned in metric (Celsius) by default.', args_schema=<class 'langchain_core.utils.pydantic.get_weather'>, func=<function get_weather at 0x0000025FBEBC49A0>), 'duckduckgo_search': DuckDuckGoSearchRun(api_wrapper=DuckDuckGoSearchAPIWrapper(region='wt-wt', safesearch='moderate', time='y', max_results=5, backend='auto', source='text'))}, tool_to_state_args={'get_stock_price': {}, 'get_weather': {}, 'duckduckgo_search': {}}, tool_to_store_arg={'get_stock_price': None, 'get_weather': None, 'duckduckgo_search': None}, handle_tool_errors=True, messages_key='messages')"
      ]
     },
     "execution_count": 30,
     "metadata": {},
     "output_type": "execute_result"
    }
   ],
   "source": [
    "## build the tool nodes\n",
    "tool_node = ToolNode(tools)\n",
    "tool_node"
   ]
  },
  {
   "cell_type": "code",
   "execution_count": 31,
   "id": "eeed951a",
   "metadata": {},
   "outputs": [],
   "source": [
    "from langgraph.prebuilt import tools_condition"
   ]
  },
  {
   "cell_type": "code",
   "execution_count": 32,
   "id": "a00c7d5f",
   "metadata": {},
   "outputs": [
    {
     "data": {
      "text/plain": [
       "<langgraph.graph.state.StateGraph at 0x25fbf99ddf0>"
      ]
     },
     "execution_count": 32,
     "metadata": {},
     "output_type": "execute_result"
    }
   ],
   "source": [
    "workflow = StateGraph(MessagesState)\n",
    "\n",
    "workflow.add_node(\"llm_with_tools\", call_llm_with_tool_bind)\n",
    "\n",
    "workflow.add_node(\"tools\", tool_node)\n",
    "\n",
    "workflow.add_edge(START,\"llm_with_tools\")\n",
    "\n",
    "workflow.add_conditional_edges(\n",
    "    \"llm_with_tools\",\n",
    "    tools_condition\n",
    ")\n",
    "\n",
    "workflow.add_edge(\"tools\",\"llm_with_tools\")"
   ]
  },
  {
   "cell_type": "code",
   "execution_count": 33,
   "id": "30bbe811",
   "metadata": {},
   "outputs": [],
   "source": [
    "from langgraph.checkpoint.memory import MemorySaver\n",
    "\n",
    "memory = MemorySaver()"
   ]
  },
  {
   "cell_type": "code",
   "execution_count": 34,
   "id": "3902af86",
   "metadata": {},
   "outputs": [
    {
     "data": {
      "image/png": "[encoded data removed]",
      "text/plain": [
       "<langgraph.graph.state.CompiledStateGraph object at 0x0000025FC7010C20>"
      ]
     },
     "execution_count": 34,
     "metadata": {},
     "output_type": "execute_result"
    }
   ],
   "source": [
    "app = workflow.compile(checkpointer=memory)\n",
    "app"
   ]
  },
  {
   "cell_type": "code",
   "execution_count": 35,
   "id": "4be3fa1f",
   "metadata": {},
   "outputs": [],
   "source": [
    "config = {\n",
    "    \"configurable\": {\n",
    "        \"thread_id\": \"1\"\n",
    "    }\n",
    "}"
   ]
  },
  {
   "cell_type": "code",
   "execution_count": 36,
   "id": "fed39318",
   "metadata": {},
   "outputs": [],
   "source": [
    "events = app.stream(\n",
    "    {\n",
    "        \"messages\":[\"I'm planning a trip to Kolkata. Can you suggest some must-visit historical places there, and also let me know the current weather in Kolkata?\"]\n",
    "    },\n",
    "    config=config,\n",
    "    stream_mode=\"values\"\n",
    ")"
   ]
  },
  {
   "cell_type": "code",
   "execution_count": 37,
   "id": "b8bbe19f",
   "metadata": {},
   "outputs": [
    {
     "name": "stdout",
     "output_type": "stream",
     "text": [
      "================================\u001b[1m Human Message \u001b[0m=================================\n",
      "\n",
      "I'm planning a trip to Kolkata. Can you suggest some must-visit historical places there, and also let me know the current weather in Kolkata?\n",
      "==================================\u001b[1m Ai Message \u001b[0m==================================\n",
      "Tool Calls:\n",
      "  get_weather (call_9eSDWYLjnlpeoMiAKQPZx8nA)\n",
      " Call ID: call_9eSDWYLjnlpeoMiAKQPZx8nA\n",
      "  Args:\n",
      "    city: Kolkata\n",
      "  duckduckgo_search (call_o3uVN7Yll6pljB8uAeBf9lH8)\n",
      " Call ID: call_o3uVN7Yll6pljB8uAeBf9lH8\n",
      "  Args:\n",
      "    query: must-visit historical places in Kolkata\n",
      "{'coord': {'lon': 88.3697, 'lat': 22.5697}, 'weather': [{'id': 804, 'main': 'Clouds', 'description': 'overcast clouds', 'icon': '04d'}], 'base': 'stations', 'main': {'temp': 31.2, 'feels_like': 37.22, 'temp_min': 31.2, 'temp_max': 31.2, 'pressure': 998, 'humidity': 67, 'sea_level': 998, 'grnd_level': 997}, 'visibility': 10000, 'wind': {'speed': 4.89, 'deg': 207, 'gust': 7.15}, 'clouds': {'all': 97}, 'dt': 1751023980, 'sys': {'country': 'IN', 'sunrise': 1750980249, 'sunset': 1751028884}, 'timezone': 19800, 'id': 1275004, 'name': 'Kolkata', 'cod': 200}\n",
      "=================================\u001b[1m Tool Message \u001b[0m=================================\n",
      "Name: duckduckgo_search\n",
      "\n",
      "St. Paul's Church is another one of the historical places in Kolkata that is a must visit. It is one of the most awe-inspiring churches in Kolkata. Also known as the first Eposcopal Church of the Eastern World, this beauty is around 247 feet tall and leaves the jaws dropped to the ground. A closer look at the history reveals that Princep Ghat was one of the oldest historical sites in Kolkata built on the banks of the Hooghly River. It is a magnificent building known for its Greek and Gothic design. ... Belur Math is one of the most significant places that visitors must-see because of its fascinating history, stunning ... Kolkata is also referred to as the \"City of Joy,\" and it is a treasure trove of landmarks. From its past to its present, the city boasts of various architectural wonders that reflect its diverse heritage. This blog explores the famous landmarks of Kolkata, taking you on a journey through the historical places in Kolkata, must-see Kolkata ... Visit Kolkata's top 10 must-see destinations, where history meets modernity. Discover the city's rich heritage and vibrant atmosphere in every corner. ... World Cup final, while others give a glimpse of the passion Indian people have for cricket. Indeed, it is one of the must-visit places in Kolkata. Special Attraction: It is the oldest cricket ... 6-10: Historical and Cultural Hotspots. Marble Palace - A 19th-century mansion showcasing European art and sculptures. (Entry by special permission)Tagore House (Jorasanko Thakur Bari) - The ancestral home of Rabindranath Tagore, now a museum, making it a must-visit in any Kolkata heritage tour. Science City - A futuristic science museum with interactive exhibits for all age groups.\n",
      "==================================\u001b[1m Ai Message \u001b[0m==================================\n",
      "\n",
      "### Current Weather in Kolkata\n",
      "The weather in Kolkata is currently overcast with a temperature of 31.2°C.\n",
      "\n",
      "### Must-Visit Historical Places in Kolkata\n",
      "Here are some historical places you should consider visiting during your trip:\n",
      "\n",
      "1. **St. Paul's Cathedral**: An awe-inspiring church known as the first Episcopal Church of the Eastern World. Its towering structure stands at around 247 feet and showcases stunning architecture.\n",
      "\n",
      "2. **Princep Ghat**: One of the oldest historical sites in Kolkata, located on the banks of the Hooghly River. It features magnificent Greek and Gothic design.\n",
      "\n",
      "3. **Belur Math**: A significant place with fascinating history, known for its stunning architecture and spiritual significance.\n",
      "\n",
      "4. **Marble Palace**: A 19th-century mansion that showcases European art and sculptures. Note that entry is by special permission.\n",
      "\n",
      "5. **Tagore House (Jorasanko Thakur Bari)**: The ancestral home of Rabindranath Tagore, now a museum that is a must-visit for anyone interested in Kolkata's heritage.\n",
      "\n",
      "6. **Science City**: While not strictly historical, this futuristic science museum offers interactive exhibits that are enjoyable for visitors of all ages.\n",
      "\n",
      "These sites reflect Kolkata's rich heritage and architectural wonders, making your visit a memorable experience!\n"
     ]
    }
   ],
   "source": [
    "for event in events:\n",
    "    event[\"messages\"][-1].pretty_print()"
   ]
  },
  {
   "cell_type": "code",
   "execution_count": null,
   "id": "0803cece",
   "metadata": {},
   "outputs": [],
   "source": []
  },
  {
   "cell_type": "code",
   "execution_count": 38,
   "id": "9b25b452",
   "metadata": {},
   "outputs": [],
   "source": [
    "messages = [HumanMessage(content=\"\"\"\n",
    "                        I'm planning to travel to Tokyo this weekend and want to pack accordingly. Could you tell me the current weather there, and also check if there's any major event or festival happening in Tokyo that I should know about?\n",
    "                        Also, I’m thinking of investing in tech stocks before I leave. Can you tell me the current stock prices of NVIDIA, Apple, and TSMC? Based on the latest news or insights, which one seems to be getting the most attention right now?\n",
    "                        \"\"\")]\n",
    "\n",
    "events = app.stream(\n",
    "    {\n",
    "        \"messages\": messages\n",
    "    },\n",
    "    config=config,\n",
    "    stream_mode=\"values\"\n",
    ")"
   ]
  },
  {
   "cell_type": "code",
   "execution_count": 39,
   "id": "9fb925e2",
   "metadata": {},
   "outputs": [
    {
     "name": "stdout",
     "output_type": "stream",
     "text": [
      "================================\u001b[1m Human Message \u001b[0m=================================\n",
      "\n",
      "\n",
      "                        I'm planning to travel to Tokyo this weekend and want to pack accordingly. Could you tell me the current weather there, and also check if there's any major event or festival happening in Tokyo that I should know about?\n",
      "                        Also, I’m thinking of investing in tech stocks before I leave. Can you tell me the current stock prices of NVIDIA, Apple, and TSMC? Based on the latest news or insights, which one seems to be getting the most attention right now?\n",
      "                        \n",
      "==================================\u001b[1m Ai Message \u001b[0m==================================\n",
      "Tool Calls:\n",
      "  get_weather (call_axNuvmB5hDg31InXmj1DaSeZ)\n",
      " Call ID: call_axNuvmB5hDg31InXmj1DaSeZ\n",
      "  Args:\n",
      "    city: Tokyo\n",
      "  duckduckgo_search (call_HN5LQXPnQzCmlPoPZXixWvep)\n",
      " Call ID: call_HN5LQXPnQzCmlPoPZXixWvep\n",
      "  Args:\n",
      "    query: major events or festivals in Tokyo this weekend\n",
      "  get_stock_price (call_vaIDqfSu8BfSvKRkejicW97B)\n",
      " Call ID: call_vaIDqfSu8BfSvKRkejicW97B\n",
      "  Args:\n",
      "    symbol: NVDA\n",
      "  get_stock_price (call_Sfr0hESeMgg516sOhDtCpnFu)\n",
      " Call ID: call_Sfr0hESeMgg516sOhDtCpnFu\n",
      "  Args:\n",
      "    symbol: AAPL\n",
      "  get_stock_price (call_zJDMqForFe13Q5qOKfUnothp)\n",
      " Call ID: call_zJDMqForFe13Q5qOKfUnothp\n",
      "  Args:\n",
      "    symbol: TSM\n",
      "{'coord': {'lon': 139.6917, 'lat': 35.6895}, 'weather': [{'id': 804, 'main': 'Clouds', 'description': 'overcast clouds', 'icon': '04n'}], 'base': 'stations', 'main': {'temp': 28.75, 'feels_like': 30.48, 'temp_min': 28.75, 'temp_max': 28.75, 'pressure': 1005, 'humidity': 59, 'sea_level': 1005, 'grnd_level': 1003}, 'visibility': 10000, 'wind': {'speed': 3.2, 'deg': 119, 'gust': 3.93}, 'clouds': {'all': 100}, 'dt': 1751023616, 'sys': {'country': 'JP', 'sunrise': 1750966034, 'sunset': 1751018461}, 'timezone': 32400, 'id': 1850144, 'name': 'Tokyo', 'cod': 200}\n",
      "{'Global Quote': {'01. symbol': 'NVDA', '02. open': '155.9750', '03. high': '156.7150', '04. low': '154.0000', '05. price': '155.0200', '06. volume': '198145746', '07. latest trading day': '2025-06-26', '08. previous close': '154.3100', '09. change': '0.7100', '10. change percent': '0.4601%'}}\n",
      "{'Global Quote': {'01. symbol': 'AAPL', '02. open': '201.4300', '03. high': '202.6400', '04. low': '199.4600', '05. price': '201.0000', '06. volume': '50799121', '07. latest trading day': '2025-06-26', '08. previous close': '201.5600', '09. change': '-0.5600', '10. change percent': '-0.2778%'}}\n",
      "{'Global Quote': {'01. symbol': 'TSM', '02. open': '224.9800', '03. high': '225.2200', '04. low': '222.6956', '05. price': '224.0100', '06. volume': '7982208', '07. latest trading day': '2025-06-26', '08. previous close': '222.7400', '09. change': '1.2700', '10. change percent': '0.5702%'}}\n",
      "=================================\u001b[1m Tool Message \u001b[0m=================================\n",
      "Name: get_stock_price\n",
      "\n",
      "The current stock price of TSM is $224.0100 (0.5702% change).\n",
      "==================================\u001b[1m Ai Message \u001b[0m==================================\n",
      "\n",
      "### Current Weather in Tokyo\n",
      "The weather in Tokyo is currently overcast with a temperature of 28.75°C.\n",
      "\n",
      "### Major Events or Festivals in Tokyo This Weekend\n",
      "This weekend, you can enjoy various outdoor events and exhibitions in Tokyo, including hydrangea festivals that celebrate the early summer season. While there are no major traditional festivals specifically mentioned for this weekend, there are plenty of activities and places to explore.\n",
      "\n",
      "### Current Stock Prices\n",
      "Here are the latest stock prices for the tech companies you mentioned:\n",
      "\n",
      "- **NVIDIA (NVDA)**: $155.02 (+0.46% change)\n",
      "- **Apple (AAPL)**: $201.00 (-0.28% change)\n",
      "- **TSMC (TSM)**: $224.01 (+0.57% change)\n",
      "\n",
      "### Insights\n",
      "Based on the latest stock performance, NVIDIA and TSMC are showing positive changes, while Apple has a slight decline. If you're looking for stocks that are getting attention, NVIDIA often garners significant interest due to its advancements in AI and gaming technologies. TSMC is also crucial in the semiconductor industry, making it a strong contender for investment.\n",
      "\n",
      "Consider your investment strategy and market trends before making a decision!\n"
     ]
    }
   ],
   "source": [
    "for event in events:\n",
    "    event[\"messages\"][-1].pretty_print()"
   ]
  },
  {
   "cell_type": "code",
   "execution_count": 40,
   "id": "f1f31e3d",
   "metadata": {},
   "outputs": [
    {
     "name": "stdout",
     "output_type": "stream",
     "text": [
      "{'Global Quote': {'01. symbol': 'NVDA', '02. open': '155.9750', '03. high': '156.7150', '04. low': '154.0000', '05. price': '155.0200', '06. volume': '198145746', '07. latest trading day': '2025-06-26', '08. previous close': '154.3100', '09. change': '0.7100', '10. change percent': '0.4601%'}}\n"
     ]
    },
    {
     "data": {
      "text/plain": [
       "'The current stock price of NVDA is $155.0200 (0.4601% change).'"
      ]
     },
     "execution_count": 40,
     "metadata": {},
     "output_type": "execute_result"
    }
   ],
   "source": [
    "get_stock_price.invoke('NVDA')"
   ]
  },
  {
   "cell_type": "code",
   "execution_count": 41,
   "id": "92a622fe",
   "metadata": {},
   "outputs": [
    {
     "name": "stdout",
     "output_type": "stream",
     "text": [
      "{'Global Quote': {'01. symbol': 'TSLA', '02. open': '324.6100', '03. high': '331.0500', '04. low': '323.6100', '05. price': '325.7800', '06. volume': '80440907', '07. latest trading day': '2025-06-26', '08. previous close': '327.5500', '09. change': '-1.7700', '10. change percent': '-0.5404%'}}\n"
     ]
    },
    {
     "data": {
      "text/plain": [
       "'The current stock price of TSLA is $325.7800 (-0.5404% change).'"
      ]
     },
     "execution_count": 41,
     "metadata": {},
     "output_type": "execute_result"
    }
   ],
   "source": [
    "get_stock_price.invoke('TSLA')"
   ]
  },
  {
   "cell_type": "code",
   "execution_count": 42,
   "id": "bb50800b",
   "metadata": {},
   "outputs": [
    {
     "name": "stdout",
     "output_type": "stream",
     "text": [
      "{'Global Quote': {'01. symbol': 'TSM', '02. open': '224.9800', '03. high': '225.2200', '04. low': '222.6956', '05. price': '224.0100', '06. volume': '7982208', '07. latest trading day': '2025-06-26', '08. previous close': '222.7400', '09. change': '1.2700', '10. change percent': '0.5702%'}}\n"
     ]
    },
    {
     "data": {
      "text/plain": [
       "'The current stock price of TSM is $224.0100 (0.5702% change).'"
      ]
     },
     "execution_count": 42,
     "metadata": {},
     "output_type": "execute_result"
    }
   ],
   "source": [
    "get_stock_price.invoke('TSM')"
   ]
  },
  {
   "cell_type": "code",
   "execution_count": 43,
   "id": "d78ff56f",
   "metadata": {},
   "outputs": [
    {
     "name": "stdout",
     "output_type": "stream",
     "text": [
      "{'Global Quote': {'01. symbol': 'AAPL', '02. open': '201.4300', '03. high': '202.6400', '04. low': '199.4600', '05. price': '201.0000', '06. volume': '50799121', '07. latest trading day': '2025-06-26', '08. previous close': '201.5600', '09. change': '-0.5600', '10. change percent': '-0.2778%'}}\n"
     ]
    },
    {
     "data": {
      "text/plain": [
       "'The current stock price of AAPL is $201.0000 (-0.2778% change).'"
      ]
     },
     "execution_count": 43,
     "metadata": {},
     "output_type": "execute_result"
    }
   ],
   "source": [
    "get_stock_price.invoke('AAPL')"
   ]
  },
  {
   "cell_type": "code",
   "execution_count": 44,
   "id": "96c9d068",
   "metadata": {},
   "outputs": [],
   "source": [
    "messages = [HumanMessage(content=\"\"\"\n",
    "                        I heard it's raining in Paris — is that true right now? Also, if I google “rainy day activities in Paris,” what’s the top suggestion? Oh, and quickly check Adobe’s stock price too — I might skip the Louvre and invest instead.\n",
    "                        \"\"\")]\n",
    "\n",
    "events = app.stream(\n",
    "    {\n",
    "        \"messages\": messages\n",
    "    },\n",
    "    config=config,\n",
    "    stream_mode=\"values\"\n",
    ")"
   ]
  },
  {
   "cell_type": "code",
   "execution_count": 45,
   "id": "00abf7d5",
   "metadata": {},
   "outputs": [
    {
     "name": "stdout",
     "output_type": "stream",
     "text": [
      "================================\u001b[1m Human Message \u001b[0m=================================\n",
      "\n",
      "\n",
      "                        I heard it's raining in Paris — is that true right now? Also, if I google “rainy day activities in Paris,” what’s the top suggestion? Oh, and quickly check Adobe’s stock price too — I might skip the Louvre and invest instead.\n",
      "                        \n",
      "==================================\u001b[1m Ai Message \u001b[0m==================================\n",
      "Tool Calls:\n",
      "  get_weather (call_f7j1SrKJvVNQmL6gCeaLa2SQ)\n",
      " Call ID: call_f7j1SrKJvVNQmL6gCeaLa2SQ\n",
      "  Args:\n",
      "    city: Paris\n",
      "  duckduckgo_search (call_cMHS9FKExs6G1Oq1GLiEmHWL)\n",
      " Call ID: call_cMHS9FKExs6G1Oq1GLiEmHWL\n",
      "  Args:\n",
      "    query: rainy day activities in Paris\n",
      "  get_stock_price (call_JnrriqQh1t44FfYpltpxoOUw)\n",
      " Call ID: call_JnrriqQh1t44FfYpltpxoOUw\n",
      "  Args:\n",
      "    symbol: ADBE\n",
      "{'coord': {'lon': 2.3488, 'lat': 48.8534}, 'weather': [{'id': 803, 'main': 'Clouds', 'description': 'broken clouds', 'icon': '04d'}], 'base': 'stations', 'main': {'temp': 26.14, 'feels_like': 26.14, 'temp_min': 26.14, 'temp_max': 26.14, 'pressure': 1023, 'humidity': 55, 'sea_level': 1023, 'grnd_level': 1013}, 'visibility': 10000, 'wind': {'speed': 3.52, 'deg': 274, 'gust': 5.57}, 'clouds': {'all': 71}, 'dt': 1751023844, 'sys': {'country': 'FR', 'sunrise': 1750996139, 'sunset': 1751054289}, 'timezone': 7200, 'id': 2988507, 'name': 'Paris', 'cod': 200}\n",
      "{'Global Quote': {'01. symbol': 'ADBE', '02. open': '387.2000', '03. high': '389.9850', '04. low': '382.8700', '05. price': '384.9500', '06. volume': '3139666', '07. latest trading day': '2025-06-26', '08. previous close': '387.5500', '09. change': '-2.6000', '10. change percent': '-0.6709%'}}\n",
      "=================================\u001b[1m Tool Message \u001b[0m=================================\n",
      "Name: get_stock_price\n",
      "\n",
      "The current stock price of ADBE is $384.9500 (-0.6709% change).\n",
      "==================================\u001b[1m Ai Message \u001b[0m==================================\n",
      "\n",
      "### Current Weather in Paris\n",
      "The weather in Paris is currently characterized by broken clouds with a temperature of 26.14°C. It may not be raining at the moment, but the cloud cover suggests that rain could be possible.\n",
      "\n",
      "### Top Suggestion for Rainy Day Activities in Paris\n",
      "One of the top suggestions for a rainy day in Paris is to **explore the Aquarium de Paris**. It's a great indoor activity, especially if you're visiting with children or have an interest in aquatic life. The aquarium is well-regarded and offers a fascinating experience.\n",
      "\n",
      "### Adobe's Stock Price\n",
      "The current stock price of Adobe (ADBE) is $384.95, with a slight decrease of -0.67%.\n",
      "\n",
      "If you're considering investing instead of visiting the Louvre, make sure to evaluate Adobe's market performance and any recent news that may affect its stock!\n"
     ]
    }
   ],
   "source": [
    "for event in events:\n",
    "    event[\"messages\"][-1].pretty_print()"
   ]
  },
  {
   "cell_type": "code",
   "execution_count": 46,
   "id": "f09d9583",
   "metadata": {},
   "outputs": [
    {
     "name": "stdout",
     "output_type": "stream",
     "text": [
      "{'Global Quote': {'01. symbol': 'ADBE', '02. open': '387.2000', '03. high': '389.9850', '04. low': '382.8700', '05. price': '384.9500', '06. volume': '3139666', '07. latest trading day': '2025-06-26', '08. previous close': '387.5500', '09. change': '-2.6000', '10. change percent': '-0.6709%'}}\n"
     ]
    },
    {
     "data": {
      "text/plain": [
       "'The current stock price of ADBE is $384.9500 (-0.6709% change).'"
      ]
     },
     "execution_count": 46,
     "metadata": {},
     "output_type": "execute_result"
    }
   ],
   "source": [
    "get_stock_price.invoke('ADBE')"
   ]
  },
  {
   "cell_type": "code",
   "execution_count": null,
   "id": "02f46491",
   "metadata": {},
   "outputs": [],
   "source": []
  }
 ],
 "metadata": {
  "kernelspec": {
   "display_name": "agentic_ai",
   "language": "python",
   "name": "python3"
  },
  "language_info": {
   "codemirror_mode": {
    "name": "ipython",
    "version": 3
   },
   "file_extension": ".py",
   "mimetype": "text/x-python",
   "name": "python",
   "nbconvert_exporter": "python",
   "pygments_lexer": "ipython3",
   "version": "3.12.0"
  }
 },
 "nbformat": 4,
 "nbformat_minor": 5
}
