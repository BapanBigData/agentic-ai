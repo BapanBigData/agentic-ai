{
 "cells": [
  {
   "cell_type": "code",
   "execution_count": 1,
   "id": "203c5876",
   "metadata": {},
   "outputs": [],
   "source": [
    "\n",
    "def func1(input: str) -> str:\n",
    "    return input + \" from first function\"\n",
    "\n",
    "def func2(input: str) -> str:\n",
    "    return input + \" from second function\""
   ]
  },
  {
   "cell_type": "code",
   "execution_count": 3,
   "id": "a956557d",
   "metadata": {},
   "outputs": [
    {
     "name": "stdout",
     "output_type": "stream",
     "text": [
      "Bapan from first function\n",
      "Bairagya from second function\n"
     ]
    }
   ],
   "source": [
    "print(func1(\"Bapan\"))\n",
    "print(func2(\"Bairagya\"))"
   ]
  },
  {
   "cell_type": "code",
   "execution_count": 4,
   "id": "cce7bf7e",
   "metadata": {},
   "outputs": [],
   "source": [
    "from langgraph.graph import Graph"
   ]
  },
  {
   "cell_type": "code",
   "execution_count": 5,
   "id": "8d8390d4",
   "metadata": {},
   "outputs": [
    {
     "data": {
      "text/plain": [
       "<langgraph.graph.graph.Graph at 0x2644f3f1280>"
      ]
     },
     "execution_count": 5,
     "metadata": {},
     "output_type": "execute_result"
    }
   ],
   "source": [
    "workflow = Graph()\n",
    "workflow"
   ]
  },
  {
   "cell_type": "code",
   "execution_count": 6,
   "id": "e0c22eb0",
   "metadata": {},
   "outputs": [
    {
     "data": {
      "text/plain": [
       "<langgraph.graph.graph.Graph at 0x2644f3f1280>"
      ]
     },
     "execution_count": 6,
     "metadata": {},
     "output_type": "execute_result"
    }
   ],
   "source": [
    "workflow.add_node(\"func1\", func1)\n",
    "workflow.add_node(\"func2\", func2)"
   ]
  },
  {
   "cell_type": "code",
   "execution_count": 7,
   "id": "167d7692",
   "metadata": {},
   "outputs": [
    {
     "data": {
      "text/plain": [
       "<langgraph.graph.graph.Graph at 0x2644f3f1280>"
      ]
     },
     "execution_count": 7,
     "metadata": {},
     "output_type": "execute_result"
    }
   ],
   "source": [
    "workflow.add_edge(\"func1\", \"func2\")"
   ]
  },
  {
   "cell_type": "code",
   "execution_count": 8,
   "id": "b219d032",
   "metadata": {},
   "outputs": [
    {
     "data": {
      "text/plain": [
       "<langgraph.graph.graph.Graph at 0x2644f3f1280>"
      ]
     },
     "execution_count": 8,
     "metadata": {},
     "output_type": "execute_result"
    }
   ],
   "source": [
    "workflow.set_entry_point(\"func1\")\n",
    "workflow.set_finish_point(\"func2\")"
   ]
  },
  {
   "cell_type": "code",
   "execution_count": 9,
   "id": "4938b7fe",
   "metadata": {},
   "outputs": [
    {
     "data": {
      "image/png": "[encoded data removed]",
      "text/plain": [
       "<langgraph.graph.graph.CompiledGraph object at 0x000002644E7114C0>"
      ]
     },
     "execution_count": 9,
     "metadata": {},
     "output_type": "execute_result"
    }
   ],
   "source": [
    "app = workflow.compile()\n",
    "app"
   ]
  },
  {
   "cell_type": "code",
   "execution_count": 10,
   "id": "26e50ad4",
   "metadata": {},
   "outputs": [
    {
     "data": {
      "text/plain": [
       "Graph(nodes={'func1': Node(id='func1', name='func1', data=func1(tags=None, recurse=True, explode_args=False, func_accepts_config=False, func_accepts={}), metadata=None), 'func2': Node(id='func2', name='func2', data=func2(tags=None, recurse=True, explode_args=False, func_accepts_config=False, func_accepts={}), metadata=None), '__start__': Node(id='__start__', name='__start__', data=None, metadata=None), '__end__': Node(id='__end__', name='__end__', data=None, metadata=None)}, edges=[Edge(source='__start__', target='func1', data=None, conditional=False), Edge(source='func1', target='func2', data=None, conditional=False), Edge(source='func2', target='__end__', data=None, conditional=False)])"
      ]
     },
     "execution_count": 10,
     "metadata": {},
     "output_type": "execute_result"
    }
   ],
   "source": [
    "app.get_graph()"
   ]
  },
  {
   "cell_type": "markdown",
   "id": "df5a6d77",
   "metadata": {},
   "source": [
    "Graph(nodes={'func1': Node(id='func1', name='func1', data=func1(tags=None, recurse=True, explode_args=False, func_accepts_config=False, func_accepts={}), metadata=None), 'func2': Node(id='func2', name='func2', data=func2(tags=None, recurse=True, explode_args=False, func_accepts_config=False, func_accepts={}), metadata=None), '__start__': Node(id='__start__', name='__start__', data=None, metadata=None), '__end__': Node(id='__end__', name='__end__', data=None, metadata=None)}, edges=[Edge(source='__start__', target='func1', data=None, conditional=False), Edge(source='func1', target='func2', data=None, conditional=False), Edge(source='func2', target='__end__', data=None, conditional=False)])\n"
   ]
  },
  {
   "cell_type": "code",
   "execution_count": 11,
   "id": "a77de41e",
   "metadata": {},
   "outputs": [],
   "source": [
    "from IPython.display import Image, display"
   ]
  },
  {
   "cell_type": "code",
   "execution_count": 12,
   "id": "60dde667",
   "metadata": {},
   "outputs": [
    {
     "data": {
      "image/png": "[encoded data removed]",
      "text/plain": [
       "<IPython.core.display.Image object>"
      ]
     },
     "metadata": {},
     "output_type": "display_data"
    }
   ],
   "source": [
    "display(Image(app.get_graph().draw_mermaid_png()))"
   ]
  },
  {
   "cell_type": "code",
   "execution_count": 13,
   "id": "4787d2cc",
   "metadata": {},
   "outputs": [
    {
     "data": {
      "text/plain": [
       "'Hi, this is Bapan from first function from second function'"
      ]
     },
     "execution_count": 13,
     "metadata": {},
     "output_type": "execute_result"
    }
   ],
   "source": [
    "app.invoke(\"Hi, this is Bapan\")"
   ]
  },
  {
   "cell_type": "code",
   "execution_count": 16,
   "id": "25bc2a6e",
   "metadata": {},
   "outputs": [
    {
     "name": "stdout",
     "output_type": "stream",
     "text": [
      "here is output from func1\n",
      "_______\n",
      "hi this is rohit from first function\n",
      "\n",
      "\n",
      "here is output from func2\n",
      "_______\n",
      "hi this is rohit from first function from second function\n",
      "\n",
      "\n"
     ]
    }
   ],
   "source": [
    "for output in app.stream(\"hi this is rohit\"):\n",
    "    for key,value in output.items():\n",
    "        print(f\"here is output from {key}\")\n",
    "        print(\"_______\")\n",
    "        print(value)\n",
    "        print(\"\\n\")"
   ]
  },
  {
   "cell_type": "markdown",
   "id": "6e5f7d5d",
   "metadata": {},
   "source": [
    "##### **LLM Response Workflow:**"
   ]
  },
  {
   "cell_type": "code",
   "execution_count": 14,
   "id": "341ed7c1",
   "metadata": {},
   "outputs": [],
   "source": [
    "import os\n",
    "from dotenv import load_dotenv\n",
    "\n",
    "load_dotenv()\n",
    "\n",
    "os.environ[\"GOOGLE_API_KEY\"] = os.getenv(\"GOOGLE_API_KEY\")"
   ]
  },
  {
   "cell_type": "code",
   "execution_count": 15,
   "id": "e1fedeb8",
   "metadata": {},
   "outputs": [],
   "source": [
    "from langchain_google_genai import ChatGoogleGenerativeAI"
   ]
  },
  {
   "cell_type": "code",
   "execution_count": 18,
   "id": "f08c97b4",
   "metadata": {},
   "outputs": [],
   "source": [
    "\n",
    "def llm(input: str) -> str:\n",
    "    llm = ChatGoogleGenerativeAI(model='gemini-1.5-flash')\n",
    "    return llm.invoke(input).content\n",
    "\n",
    "\n",
    "def get_token_count(input: str) -> str:\n",
    "    tokens = len(input.split(\" \"))\n",
    "    return f\"Total number of tokens generated are {tokens}\""
   ]
  },
  {
   "cell_type": "code",
   "execution_count": 19,
   "id": "4d5a0b40",
   "metadata": {},
   "outputs": [
    {
     "data": {
      "text/plain": [
       "<langgraph.graph.graph.Graph at 0x2644fa46900>"
      ]
     },
     "execution_count": 19,
     "metadata": {},
     "output_type": "execute_result"
    }
   ],
   "source": [
    "workflow1 = Graph()\n",
    "\n",
    "workflow1.add_node('llm_response', llm)\n",
    "workflow1.add_node('token_generator', get_token_count)\n",
    "\n",
    "workflow1.add_edge('llm_response', 'token_generator')\n",
    "\n",
    "workflow1.set_entry_point('llm_response')\n",
    "workflow1.set_finish_point('token_generator')"
   ]
  },
  {
   "cell_type": "code",
   "execution_count": 20,
   "id": "c250e3c9",
   "metadata": {},
   "outputs": [
    {
     "data": {
      "image/png": "[encoded data removed]",
      "text/plain": [
       "<langgraph.graph.graph.CompiledGraph object at 0x000002644F9B9280>"
      ]
     },
     "execution_count": 20,
     "metadata": {},
     "output_type": "execute_result"
    }
   ],
   "source": [
    "app1 = workflow1.compile()\n",
    "app1"
   ]
  },
  {
   "cell_type": "code",
   "execution_count": 21,
   "id": "84af29bd",
   "metadata": {},
   "outputs": [
    {
     "data": {
      "text/plain": [
       "Graph(nodes={'llm_response': Node(id='llm_response', name='llm_response', data=llm_response(tags=None, recurse=True, explode_args=False, func_accepts_config=False, func_accepts={}), metadata=None), 'token_generator': Node(id='token_generator', name='token_generator', data=token_generator(tags=None, recurse=True, explode_args=False, func_accepts_config=False, func_accepts={}), metadata=None), '__start__': Node(id='__start__', name='__start__', data=None, metadata=None), '__end__': Node(id='__end__', name='__end__', data=None, metadata=None)}, edges=[Edge(source='__start__', target='llm_response', data=None, conditional=False), Edge(source='llm_response', target='token_generator', data=None, conditional=False), Edge(source='token_generator', target='__end__', data=None, conditional=False)])"
      ]
     },
     "execution_count": 21,
     "metadata": {},
     "output_type": "execute_result"
    }
   ],
   "source": [
    "app1.get_graph()"
   ]
  },
  {
   "cell_type": "code",
   "execution_count": 22,
   "id": "c09db219",
   "metadata": {},
   "outputs": [
    {
     "data": {
      "image/png": "[encoded data removed]",
      "text/plain": [
       "<IPython.core.display.Image object>"
      ]
     },
     "metadata": {},
     "output_type": "display_data"
    }
   ],
   "source": [
    "display(Image(app1.get_graph().draw_mermaid_png()))"
   ]
  },
  {
   "cell_type": "code",
   "execution_count": 23,
   "id": "5ea6c7aa",
   "metadata": {},
   "outputs": [
    {
     "data": {
      "text/plain": [
       "'Total number of tokens generated are 304'"
      ]
     },
     "execution_count": 23,
     "metadata": {},
     "output_type": "execute_result"
    }
   ],
   "source": [
    "app1.invoke(\"Tell me something about Agentic AI\")"
   ]
  },
  {
   "cell_type": "code",
   "execution_count": 24,
   "id": "d93657e6",
   "metadata": {},
   "outputs": [
    {
     "name": "stdout",
     "output_type": "stream",
     "text": [
      "here is output from llm_response\n",
      "_______\n",
      "Tata Enterprises, more accurately referred to as the **Tata Group**, is a massive Indian multinational conglomerate headquartered in Mumbai.  It's not a single entity but a network of over 100 operating companies, employing millions globally and spanning diverse sectors.  Understanding its complexity requires examining its structure, history, key businesses, and philosophy.\n",
      "\n",
      "**I. History and Structure:**\n",
      "\n",
      "* **Origins:** Founded in 1868 by Jamsetji Tata, a Parsi entrepreneur, the group initially focused on trading and textiles.  Jamsetji had a visionary approach, prioritizing ethical conduct and long-term sustainability over immediate profits. This ethos remains a core part of the Tata Group's identity.\n",
      "* **Growth and Diversification:** The group's growth has been organic and through acquisitions.  Over the decades, it expanded into steel (Tata Steel), automobiles (Tata Motors), hospitality (Taj Hotels), technology (Tata Consultancy Services – TCS), and many other sectors.\n",
      "* **Structure:** The Tata Group isn't a traditional holding company.  Instead, it's a complex web of independent companies, many publicly listed, held together by cross-shareholdings and a common ethos. Tata Sons is the principal investment holding company, acting as the apex body but with limited direct operational control over individual companies.  Each company operates relatively autonomously, allowing for greater agility and specialization.\n",
      "* **Trusts:** A significant portion of Tata Sons is owned by philanthropic trusts, primarily the Sir Dorabji Tata Trust and the Sir Ratan Tata Trust. These trusts play a crucial role in the group's governance and ensure that a portion of profits are channeled towards social causes, education, and healthcare. This unique structure distinguishes the Tata Group from many other multinational conglomerates.\n",
      "* **Leadership:** The group's leadership has historically been characterized by a long-term perspective and a commitment to ethical business practices.  Succession planning is a crucial aspect of its governance.  The Chairman of Tata Sons plays a key role in coordinating the activities of the various companies.\n",
      "\n",
      "**II. Key Businesses:**\n",
      "\n",
      "The sheer breadth of the Tata Group's businesses makes a complete list impossible, but some of its most prominent and influential entities include:\n",
      "\n",
      "* **Tata Steel:** One of the world's leading steel producers, with operations across multiple countries.\n",
      "* **Tata Motors:** A major global automobile manufacturer, producing cars, trucks, and buses under brands like Tata, Jaguar, and Land Rover.\n",
      "* **Tata Consultancy Services (TCS):** A leading global IT services and consulting company, a significant contributor to the group's revenue.\n",
      "* **Tata Power:** A significant player in India's power generation and distribution sector.\n",
      "* **Tata Chemicals:** A diversified chemical company with interests in various chemical products.\n",
      "* **Indian Hotels Company (IHCL):** Owns and operates the prestigious Taj Hotels, Resorts, and Palaces brand.\n",
      "* **Tata Global Beverages:** A leading beverage company, known for brands like Tetley Tea.\n",
      "* **Air India:** Recently reacquired by Tata Sons, representing a significant move back into the aviation sector.\n",
      "* **Titan Company:** A leading manufacturer of watches, jewelry, and eyewear.\n",
      "\n",
      "\n",
      "**III. Philosophy and Values:**\n",
      "\n",
      "The Tata Group's success is often attributed to its deeply ingrained values:\n",
      "\n",
      "* **Integrity and Ethics:**  A strong emphasis on ethical business practices and transparency.\n",
      "* **Sustainability:** A commitment to environmentally responsible operations and social impact.\n",
      "* **Long-Term Vision:** A focus on long-term growth and value creation rather than short-term profits.\n",
      "* **Social Responsibility:**  A significant portion of the group's profits are channeled towards philanthropic activities through the Tata Trusts.\n",
      "* **Employee Welfare:** A strong emphasis on employee development and well-being.\n",
      "\n",
      "\n",
      "**IV. Challenges and Future:**\n",
      "\n",
      "Despite its success, the Tata Group faces various challenges:\n",
      "\n",
      "* **Global Competition:**  Intense competition in its various sectors, requiring continuous innovation and adaptation.\n",
      "* **Economic Volatility:**  Sensitivity to global economic fluctuations and market changes.\n",
      "* **Governance and Coordination:**  Managing the complex web of diverse companies requires effective governance and coordination.\n",
      "* **Succession Planning:** Ensuring smooth transitions in leadership is crucial for the long-term stability of the group.\n",
      "* **Digital Transformation:** Adapting to the rapidly evolving digital landscape and incorporating new technologies.\n",
      "\n",
      "\n",
      "The Tata Group's future will depend on its ability to navigate these challenges while maintaining its core values and adapting to the changing global landscape. It remains a significant player in the Indian and global economies, and its story continues to evolve.  Further research into specific Tata companies would provide even deeper insights into their individual operations and contributions to the overall group.\n",
      "\n",
      "\n",
      "here is output from token_generator\n",
      "_______\n",
      "Total number of tokens generated are 688\n",
      "\n",
      "\n"
     ]
    }
   ],
   "source": [
    "for output in app1.stream(\"tell me about the tata enterpirse in very detail.\"):\n",
    "    for key,value in output.items():\n",
    "        print(f\"here is output from {key}\")\n",
    "        print(\"_______\")\n",
    "        print(value)\n",
    "        print(\"\\n\")"
   ]
  },
  {
   "cell_type": "code",
   "execution_count": null,
   "id": "fdf92f43",
   "metadata": {},
   "outputs": [],
   "source": []
  }
 ],
 "metadata": {
  "kernelspec": {
   "display_name": "agentic_ai",
   "language": "python",
   "name": "python3"
  },
  "language_info": {
   "codemirror_mode": {
    "name": "ipython",
    "version": 3
   },
   "file_extension": ".py",
   "mimetype": "text/x-python",
   "name": "python",
   "nbconvert_exporter": "python",
   "pygments_lexer": "ipython3",
   "version": "3.12.0"
  }
 },
 "nbformat": 4,
 "nbformat_minor": 5
}
