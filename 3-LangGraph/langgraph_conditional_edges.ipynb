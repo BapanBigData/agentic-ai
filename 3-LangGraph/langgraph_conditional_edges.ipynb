{
 "cells": [
  {
   "cell_type": "code",
   "execution_count": 1,
   "id": "b248ffb9",
   "metadata": {},
   "outputs": [],
   "source": [
    "import os\n",
    "from dotenv import load_dotenv\n",
    "\n",
    "load_dotenv()\n",
    "\n",
    "os.environ[\"GOOGLE_API_KEY\"] = os.getenv(\"GOOGLE_API_KEY\")\n",
    "os.environ[\"OPENAI_API_KEY\"] = os.getenv(\"OPENAI_API_KEY\")\n",
    "\n",
    "os.environ[\"LANGCHAIN_API_KEY\"] = os.getenv(\"LANGCHAIN_API_KEY\")\n",
    "os.environ[\"LANGCHAIN_PROJECT\"] = os.getenv(\"LANGCHAIN_PROJECT\")\n",
    "os.environ[\"LANGCHAIN_TRACING_V2\"] = \"true\""
   ]
  },
  {
   "cell_type": "code",
   "execution_count": 2,
   "id": "0fe599d2",
   "metadata": {},
   "outputs": [
    {
     "data": {
      "text/plain": [
       "768"
      ]
     },
     "execution_count": 2,
     "metadata": {},
     "output_type": "execute_result"
    }
   ],
   "source": [
    "from langchain_google_genai import GoogleGenerativeAIEmbeddings\n",
    "\n",
    "embeddings = GoogleGenerativeAIEmbeddings(\n",
    "    model='models/embedding-001'\n",
    ")\n",
    "\n",
    "vec = embeddings.embed_query(\"Hello, world!\")\n",
    "len(vec)"
   ]
  },
  {
   "cell_type": "code",
   "execution_count": 3,
   "id": "d000d563",
   "metadata": {},
   "outputs": [],
   "source": [
    "from pinecone import Pinecone\n",
    "from langchain_pinecone import PineconeVectorStore"
   ]
  },
  {
   "cell_type": "code",
   "execution_count": 4,
   "id": "a0fa4023",
   "metadata": {},
   "outputs": [
    {
     "data": {
      "text/plain": [
       "<pinecone.pinecone.Pinecone at 0x1e75c009d60>"
      ]
     },
     "execution_count": 4,
     "metadata": {},
     "output_type": "execute_result"
    }
   ],
   "source": [
    "pc = Pinecone()\n",
    "pc"
   ]
  },
  {
   "cell_type": "code",
   "execution_count": 5,
   "id": "8afb4fd9",
   "metadata": {},
   "outputs": [],
   "source": [
    "index = pc.Index(\"rag-llama\")\n",
    "\n",
    "vector_store = PineconeVectorStore(\n",
    "    index=index,\n",
    "    embedding=embeddings,\n",
    "    text_key=\"text\" \n",
    ")"
   ]
  },
  {
   "cell_type": "code",
   "execution_count": 6,
   "id": "4664e04d",
   "metadata": {},
   "outputs": [],
   "source": [
    "retriever = vector_store.as_retriever(search_kwargs={\"k\": 3})"
   ]
  },
  {
   "cell_type": "code",
   "execution_count": 7,
   "id": "3e4a1ba7",
   "metadata": {},
   "outputs": [
    {
     "data": {
      "text/plain": [
       "[Document(id='660aa298-8d44-4336-bb4d-8494d00969a2', metadata={'author': '', 'creationdate': '2023-07-20T00:30:36+00:00', 'creator': 'LaTeX with hyperref', 'keywords': '', 'moddate': '2023-07-20T00:30:36+00:00', 'page': 12.0, 'page_label': '13', 'producer': 'pdfTeX-1.40.25', 'ptex.fullbanner': 'This is pdfTeX, Version 3.141592653-2.6-1.40.25 (TeX Live 2023) kpathsea version 6.3.5', 'source': '../llama2.pdf', 'subject': '', 'title': '', 'total_pages': 77.0, 'trapped': '/False'}, page_content='Therefore, everything else being equal, an improvement of the reward model can be directly translated into\\nan improvement forLlama 2-Chat.\\n3.2.3 Iterative Fine-Tuning\\nAs we received more batches of human preference data annotation, we were able to train better reward\\nmodels and collect more prompts. We therefore trained successive versions for RLHF models, referred to\\nhere as RLHF-V1, ..., RLHF-V5.\\nWe explored RLHF fine-tuning with two main algorithms:'),\n",
       " Document(id='0ad837ac-0c87-4a33-9d94-317501402b7c', metadata={'author': '', 'creationdate': '2023-07-20T00:30:36+00:00', 'creator': 'LaTeX with hyperref', 'keywords': '', 'moddate': '2023-07-20T00:30:36+00:00', 'page': 7.0, 'page_label': '8', 'producer': 'pdfTeX-1.40.25', 'ptex.fullbanner': 'This is pdfTeX, Version 3.141592653-2.6-1.40.25 (TeX Live 2023) kpathsea version 6.3.5', 'source': '../llama2.pdf', 'subject': '', 'title': '', 'total_pages': 77.0, 'trapped': '/False'}, page_content='are from OpenAI (2023). Results for the PaLM model are from Chowdhery et al. (2022). Results for the\\nPaLM-2-L are from Anil et al. (2023).\\n3 Fine-tuning\\nLlama 2-Chatis the result of several months of research and iterative applications of alignment techniques,\\nincluding both instruction tuning and RLHF, requiring significant computational and annotation resources.\\nIn this section, we report on our experiments and findings using supervised fine-tuning (Section 3.1), as'),\n",
       " Document(id='03bf4b59-f370-44b0-a14a-59eacc860ee3', metadata={'author': '', 'creationdate': '2023-07-20T00:30:36+00:00', 'creator': 'LaTeX with hyperref', 'keywords': '', 'moddate': '2023-07-20T00:30:36+00:00', 'page': 3.0, 'page_label': '4', 'producer': 'pdfTeX-1.40.25', 'ptex.fullbanner': 'This is pdfTeX, Version 3.141592653-2.6-1.40.25 (TeX Live 2023) kpathsea version 6.3.5', 'source': '../llama2.pdf', 'subject': '', 'title': '', 'total_pages': 77.0, 'trapped': '/False'}, page_content='safety testing and tuning tailored to their specific applications of the model. We provide a responsible use\\nguide¶ and code examples‖ to facilitate the safe deployment ofLlama 2and Llama 2-Chat. More details of\\nour responsible release strategy can be found in Section 5.3.\\nThe remainder of this paper describes our pretraining methodology (Section 2), fine-tuning methodology\\n(Section 3), approach to model safety (Section 4), key observations and insights (Section 5), relevant related')]"
      ]
     },
     "execution_count": 7,
     "metadata": {},
     "output_type": "execute_result"
    }
   ],
   "source": [
    "retriever.invoke(\"How to finetune Llama?\")"
   ]
  },
  {
   "cell_type": "code",
   "execution_count": 8,
   "id": "1537e282",
   "metadata": {},
   "outputs": [],
   "source": [
    "## Great LLM\n",
    "# from langchain_anthropic.chat_models import ChatAnthropic\n",
    "\n",
    "# llm = ChatAnthropic(model=\"claude-3-5-sonnet-latest\")\n",
    "# llm"
   ]
  },
  {
   "cell_type": "code",
   "execution_count": 9,
   "id": "bb7da935",
   "metadata": {},
   "outputs": [],
   "source": [
    "# from langchain_google_genai import ChatGoogleGenerativeAI\n",
    "\n",
    "# llm = ChatGoogleGenerativeAI(model='gemini-1.5-flash')\n",
    "# llm"
   ]
  },
  {
   "cell_type": "code",
   "execution_count": 10,
   "id": "64e9db1e",
   "metadata": {},
   "outputs": [],
   "source": [
    "# from langchain_openai import ChatOpenAI\n",
    "\n",
    "# llm = ChatOpenAI(\n",
    "#     model = 'gpt-4o'\n",
    "# )\n",
    "\n",
    "# llm"
   ]
  },
  {
   "cell_type": "code",
   "execution_count": 11,
   "id": "a31a35c4",
   "metadata": {},
   "outputs": [
    {
     "data": {
      "text/plain": [
       "ChatGroq(client=<groq.resources.chat.completions.Completions object at 0x000001E773F49730>, async_client=<groq.resources.chat.completions.AsyncCompletions object at 0x000001E773EA3EF0>, model_name='gemma2-9b-it', model_kwargs={}, groq_api_key=SecretStr('**********'))"
      ]
     },
     "execution_count": 11,
     "metadata": {},
     "output_type": "execute_result"
    }
   ],
   "source": [
    "from langchain_groq import ChatGroq\n",
    "\n",
    "llm = ChatGroq(\n",
    "    model = 'gemma2-9b-it'\n",
    ")\n",
    "\n",
    "llm"
   ]
  },
  {
   "cell_type": "code",
   "execution_count": 12,
   "id": "8ced9ed5",
   "metadata": {},
   "outputs": [],
   "source": [
    "import operator\n",
    "from typing import List\n",
    "from pydantic import BaseModel , Field\n",
    "from langchain.prompts import PromptTemplate\n",
    "from typing import TypedDict, Annotated, Sequence\n",
    "from langchain_core.messages import BaseMessage\n",
    "from langchain_core.output_parsers import StrOutputParser\n",
    "from langchain_core.prompts import ChatPromptTemplate, PromptTemplate\n",
    "from langchain_core.runnables import RunnablePassthrough\n",
    "from langchain_core.messages import HumanMessage, AIMessage\n",
    "from langgraph.graph import StateGraph,END"
   ]
  },
  {
   "cell_type": "code",
   "execution_count": 13,
   "id": "205f6f7b",
   "metadata": {},
   "outputs": [],
   "source": [
    "class TopicSelectionParser(BaseModel):\n",
    "    Topic:str=Field(description=\"selected topic\")\n",
    "    Reasoning:str=Field(description='Reasoning behind topic selection')"
   ]
  },
  {
   "cell_type": "code",
   "execution_count": 14,
   "id": "d75937d2",
   "metadata": {},
   "outputs": [],
   "source": [
    "from langchain.output_parsers import PydanticOutputParser"
   ]
  },
  {
   "cell_type": "code",
   "execution_count": 15,
   "id": "f2f510e1",
   "metadata": {},
   "outputs": [
    {
     "data": {
      "text/plain": [
       "'The output should be formatted as a JSON instance that conforms to the JSON schema below.\\n\\nAs an example, for the schema {\"properties\": {\"foo\": {\"title\": \"Foo\", \"description\": \"a list of strings\", \"type\": \"array\", \"items\": {\"type\": \"string\"}}}, \"required\": [\"foo\"]}\\nthe object {\"foo\": [\"bar\", \"baz\"]} is a well-formatted instance of the schema. The object {\"properties\": {\"foo\": [\"bar\", \"baz\"]}} is not well-formatted.\\n\\nHere is the output schema:\\n```\\n{\"properties\": {\"Topic\": {\"description\": \"selected topic\", \"title\": \"Topic\", \"type\": \"string\"}, \"Reasoning\": {\"description\": \"Reasoning behind topic selection\", \"title\": \"Reasoning\", \"type\": \"string\"}}, \"required\": [\"Topic\", \"Reasoning\"]}\\n```'"
      ]
     },
     "execution_count": 15,
     "metadata": {},
     "output_type": "execute_result"
    }
   ],
   "source": [
    "parser = PydanticOutputParser(pydantic_object=TopicSelectionParser)\n",
    "parser.get_format_instructions()"
   ]
  },
  {
   "cell_type": "code",
   "execution_count": 16,
   "id": "c449e2a8",
   "metadata": {},
   "outputs": [],
   "source": [
    "class AgentState(TypedDict):\n",
    "    messages: Annotated[Sequence[BaseMessage], operator.add]"
   ]
  },
  {
   "cell_type": "code",
   "execution_count": 17,
   "id": "565507e7",
   "metadata": {},
   "outputs": [],
   "source": [
    "\n",
    "def classify_query_topic(state: AgentState) -> dict:\n",
    "    print(\"-> Classify Query Topic ->\")\n",
    "    \n",
    "    query = state[\"messages\"][-1]\n",
    "    print(\"User query:\", query)\n",
    "    \n",
    "    template = \"\"\"\n",
    "    You are an intelligent AI assistant.\n",
    "\n",
    "    Your task is to classify whether the given user query is related to the LLaMA 2 research paper by Meta.\n",
    "\n",
    "    The paper includes information about LLaMA 2's architecture, training data, pretraining, fine-tuning, safety evaluation, licensing, deployment, and limitations.\n",
    "\n",
    "    Based on the query content, decide:\n",
    "    - \"Related\": if the query asks about topics covered in the paper.\n",
    "    - \"Not Related\": if the query is unrelated or general.\n",
    "\n",
    "    Return your output in the following JSON format:\n",
    "\n",
    "    {format_instructions}\n",
    "\n",
    "    User Query:\n",
    "    {query}\n",
    "    \"\"\"\n",
    "\n",
    "    prompt = PromptTemplate(\n",
    "        template=template,\n",
    "        input_variables=[\"query\"],\n",
    "        partial_variables={\"format_instructions\": parser.get_format_instructions()}\n",
    "    )\n",
    "\n",
    "    chain = prompt | llm | parser\n",
    "\n",
    "    # Debug print raw LLM response\n",
    "    raw_output = llm.invoke(prompt.format(query=query)).content\n",
    "    print(\"🪵 Raw LLM output:\\n\", raw_output)\n",
    "\n",
    "    # Parse output safely\n",
    "    response = chain.invoke({\"query\": query})\n",
    "    print(\"✅ Parsed response:\", response)\n",
    "\n",
    "    return {\"messages\": [response.Topic]}"
   ]
  },
  {
   "cell_type": "code",
   "execution_count": 18,
   "id": "9eae24e8",
   "metadata": {},
   "outputs": [
    {
     "name": "stdout",
     "output_type": "stream",
     "text": [
      "-> Classify Query Topic ->\n",
      "User query: what is a today weather?\n",
      "🪵 Raw LLM output:\n",
      " ```json\n",
      "{\n",
      " \"Topic\": \"Not Related\",\n",
      " \"Reasoning\": \"The query asks about the weather, which is unrelated to the LLaMA 2 research paper.\"\n",
      "}\n",
      "```\n",
      "✅ Parsed response: Topic='Not Related' Reasoning='The query asks about the weather, which is unrelated to the LLaMA 2 research paper.'\n"
     ]
    },
    {
     "data": {
      "text/plain": [
       "{'messages': ['Not Related']}"
      ]
     },
     "execution_count": 18,
     "metadata": {},
     "output_type": "execute_result"
    }
   ],
   "source": [
    "state = {\"messages\":[\"what is a today weather?\"]}\n",
    "classify_query_topic(state)"
   ]
  },
  {
   "cell_type": "code",
   "execution_count": 19,
   "id": "fa9472a6",
   "metadata": {},
   "outputs": [
    {
     "name": "stdout",
     "output_type": "stream",
     "text": [
      "-> Classify Query Topic ->\n",
      "User query: \n",
      "    How do sequence truncation artifacts at the end of fixed-length contexts affect token-level loss distribution during LLM pretraining, \n",
      "    and what mitigation strategies can be employed to reduce the 'final token loss spike' bias?\n",
      "    \n",
      "🪵 Raw LLM output:\n",
      " ```json\n",
      "{\n",
      " \"Topic\": \"LLaMA 2 Pretraining\",\n",
      " \"Reasoning\": \"The query specifically discusses sequence truncation artifacts and their impact on token-level loss distribution during pretraining, which are key aspects covered in the LLaMA 2 research paper.\"\n",
      "}\n",
      "```\n",
      "✅ Parsed response: Topic='Related' Reasoning='The query delves into the technical aspects of LLM pretraining, specifically addressing sequence truncation artifacts and their impact on token-level loss distribution. This aligns with the discussion on training methodologies and potential challenges outlined in the LLaMA 2 research paper.'\n"
     ]
    },
    {
     "data": {
      "text/plain": [
       "{'messages': ['Related']}"
      ]
     },
     "execution_count": 19,
     "metadata": {},
     "output_type": "execute_result"
    }
   ],
   "source": [
    "state = {\"messages\":[\n",
    "    \"\"\"\n",
    "    How do sequence truncation artifacts at the end of fixed-length contexts affect token-level loss distribution during LLM pretraining, \n",
    "    and what mitigation strategies can be employed to reduce the 'final token loss spike' bias?\n",
    "    \"\"\"\n",
    "]}\n",
    "\n",
    "classify_query_topic(state)"
   ]
  },
  {
   "cell_type": "code",
   "execution_count": 20,
   "id": "49c5c5f3",
   "metadata": {},
   "outputs": [],
   "source": [
    "def router(state: AgentState) -> str:\n",
    "    print(\"-> ROUTER ->\")\n",
    "\n",
    "    last_message = state[\"messages\"][-1]\n",
    "    print(\"last_message:\", last_message)\n",
    "\n",
    "    if last_message == \"Related\":\n",
    "        return \"RAG Call\"\n",
    "    else:\n",
    "        return \"LLM Call\"\n"
   ]
  },
  {
   "cell_type": "code",
   "execution_count": 21,
   "id": "57308a62",
   "metadata": {},
   "outputs": [],
   "source": [
    "def format_docs(docs):\n",
    "    return \"\\n\\n\".join(doc.page_content for doc in docs)"
   ]
  },
  {
   "cell_type": "code",
   "execution_count": 22,
   "id": "ed337a0f",
   "metadata": {},
   "outputs": [],
   "source": [
    "# RAG Function\n",
    "def rag_call(state:AgentState) -> dict:\n",
    "    print(\"-> RAG Call ->\")\n",
    "    \n",
    "    question = state[\"messages\"][0]\n",
    "    \n",
    "    print(\"Question to RAG:\", question)\n",
    "    \n",
    "    prompt = PromptTemplate(\n",
    "        template=\"\"\"You are an assistant for question-answering tasks. Use the following pieces of retrieved context to answer the question. If you don't know the answer, just say that you don't know. Use three sentences maximum and keep the answer concise.\\nQuestion: {question} \\nContext: {context} \\nAnswer:\"\"\",\n",
    "        input_variables=['context', 'question']\n",
    "    )\n",
    "    \n",
    "    rag_chain = (\n",
    "        {\"context\": retriever | format_docs, \"question\": RunnablePassthrough()}\n",
    "        | prompt\n",
    "        | llm\n",
    "        | StrOutputParser()\n",
    "    )\n",
    "    result = rag_chain.invoke(question)\n",
    "    \n",
    "    return  {\"messages\": [result]}"
   ]
  },
  {
   "cell_type": "code",
   "execution_count": 23,
   "id": "d0688a86",
   "metadata": {},
   "outputs": [],
   "source": [
    "\n",
    "def llm_call(state: AgentState) -> dict:\n",
    "    print(\"-> LLM Call ->\")\n",
    "    question = state[\"messages\"][0]\n",
    "    \n",
    "    print(\"Question to LLM:\", question)\n",
    "    \n",
    "    llm_prompt_template = \"\"\"\n",
    "    You are a friendly and intelligent AI assistant.\n",
    "\n",
    "    Respond helpfully to the user's message below. You can answer any type of question — technical, general knowledge, creative, or casual — just like a helpful assistant would in a natural conversation.\n",
    "\n",
    "    User:\n",
    "    {question}\n",
    "    \"\"\"\n",
    "\n",
    "    llm_prompt = PromptTemplate(\n",
    "        input_variables=[\"question\"],\n",
    "        template=llm_prompt_template\n",
    "    )\n",
    "\n",
    "    complete_prompt = llm_prompt.format(question=question)\n",
    "\n",
    "    response = llm.invoke(complete_prompt)\n",
    "\n",
    "    return {\"messages\": [response.content]}"
   ]
  },
  {
   "cell_type": "code",
   "execution_count": 24,
   "id": "bb1fd39f",
   "metadata": {},
   "outputs": [],
   "source": [
    "workflow = StateGraph(AgentState)"
   ]
  },
  {
   "cell_type": "code",
   "execution_count": 25,
   "id": "84886e94",
   "metadata": {},
   "outputs": [
    {
     "data": {
      "text/plain": [
       "<langgraph.graph.state.StateGraph at 0x1e7740ee210>"
      ]
     },
     "execution_count": 25,
     "metadata": {},
     "output_type": "execute_result"
    }
   ],
   "source": [
    "workflow.add_node(\"Supervisor\", classify_query_topic)\n",
    "workflow.add_node(\"RAG\", rag_call)\n",
    "workflow.add_node(\"LLM\", llm_call)"
   ]
  },
  {
   "cell_type": "code",
   "execution_count": 26,
   "id": "fe2a4309",
   "metadata": {},
   "outputs": [
    {
     "data": {
      "text/plain": [
       "<langgraph.graph.state.StateGraph at 0x1e7740ee210>"
      ]
     },
     "execution_count": 26,
     "metadata": {},
     "output_type": "execute_result"
    }
   ],
   "source": [
    "workflow.set_entry_point(\"Supervisor\")"
   ]
  },
  {
   "cell_type": "code",
   "execution_count": 27,
   "id": "93086240",
   "metadata": {},
   "outputs": [
    {
     "data": {
      "text/plain": [
       "<langgraph.graph.state.StateGraph at 0x1e7740ee210>"
      ]
     },
     "execution_count": 27,
     "metadata": {},
     "output_type": "execute_result"
    }
   ],
   "source": [
    "workflow.add_conditional_edges(\n",
    "    \"Supervisor\",\n",
    "    router,\n",
    "    {\n",
    "        \"RAG Call\": \"RAG\",\n",
    "        \"LLM Call\": \"LLM\",\n",
    "    }\n",
    ")"
   ]
  },
  {
   "cell_type": "code",
   "execution_count": 28,
   "id": "076dbe19",
   "metadata": {},
   "outputs": [
    {
     "data": {
      "text/plain": [
       "<langgraph.graph.state.StateGraph at 0x1e7740ee210>"
      ]
     },
     "execution_count": 28,
     "metadata": {},
     "output_type": "execute_result"
    }
   ],
   "source": [
    "workflow.add_edge(\"RAG\",END)\n",
    "workflow.add_edge(\"LLM\",END)"
   ]
  },
  {
   "cell_type": "code",
   "execution_count": 29,
   "id": "00ca7948",
   "metadata": {},
   "outputs": [
    {
     "data": {
      "image/png": "[encoded data removed]",
      "text/plain": [
       "<langgraph.graph.state.CompiledStateGraph object at 0x000001E77C59D7F0>"
      ]
     },
     "execution_count": 29,
     "metadata": {},
     "output_type": "execute_result"
    }
   ],
   "source": [
    "app = workflow.compile()\n",
    "app"
   ]
  },
  {
   "cell_type": "code",
   "execution_count": 30,
   "id": "fe84ad03",
   "metadata": {},
   "outputs": [
    {
     "name": "stdout",
     "output_type": "stream",
     "text": [
      "-> Classify Query Topic ->\n",
      "User query: \n",
      "    How do sequence truncation artifacts at the end of fixed-length contexts affect token-level loss distribution during LLM pretraining, \n",
      "    and what mitigation strategies can be employed to reduce the 'final token loss spike' bias?\n",
      "    \n",
      "🪵 Raw LLM output:\n",
      " ```json\n",
      "{\n",
      " \"Topic\": \"Related\",\n",
      " \"Reasoning\": \"The query delves into the technical aspects of LLaMA 2's training process, specifically addressing sequence truncation artifacts and their impact on token-level loss distribution. These are topics likely discussed in the research paper.\" \n",
      "}\n",
      "```\n",
      "✅ Parsed response: Topic='Related' Reasoning=\"The query delves into the technical aspects of LLM pretraining, specifically addressing sequence truncation artifacts and their impact on loss distribution. This aligns with the LLaMA 2 paper's discussion on training methodologies and potential challenges.\"\n",
      "-> ROUTER ->\n",
      "last_message: Related\n",
      "-> RAG Call ->\n",
      "Question to RAG: \n",
      "    How do sequence truncation artifacts at the end of fixed-length contexts affect token-level loss distribution during LLM pretraining, \n",
      "    and what mitigation strategies can be employed to reduce the 'final token loss spike' bias?\n",
      "    \n"
     ]
    },
    {
     "data": {
      "text/plain": [
       "{'messages': [\"\\n    How do sequence truncation artifacts at the end of fixed-length contexts affect token-level loss distribution during LLM pretraining, \\n    and what mitigation strategies can be employed to reduce the 'final token loss spike' bias?\\n    \",\n",
       "  'Related',\n",
       "  \"The provided context does not contain information about sequence truncation artifacts or mitigation strategies for 'final token loss spike' bias. Therefore, I cannot answer your question.  The text focuses on context length expansion and context distillation techniques in Llama 2. \\n\"]}"
      ]
     },
     "execution_count": 30,
     "metadata": {},
     "output_type": "execute_result"
    }
   ],
   "source": [
    "state = {\"messages\":[\n",
    "    \"\"\"\n",
    "    How do sequence truncation artifacts at the end of fixed-length contexts affect token-level loss distribution during LLM pretraining, \n",
    "    and what mitigation strategies can be employed to reduce the 'final token loss spike' bias?\n",
    "    \"\"\"\n",
    "]}\n",
    "\n",
    "response = app.invoke(state)\n",
    "response"
   ]
  },
  {
   "cell_type": "code",
   "execution_count": 31,
   "id": "3cd6e913",
   "metadata": {},
   "outputs": [
    {
     "name": "stdout",
     "output_type": "stream",
     "text": [
      "The provided context does not contain information about sequence truncation artifacts or mitigation strategies for 'final token loss spike' bias. Therefore, I cannot answer your question.  The text focuses on context length expansion and context distillation techniques in Llama 2. \n",
      "\n"
     ]
    }
   ],
   "source": [
    "print(response['messages'][-1])"
   ]
  },
  {
   "cell_type": "code",
   "execution_count": 32,
   "id": "6f5dea27",
   "metadata": {},
   "outputs": [
    {
     "name": "stdout",
     "output_type": "stream",
     "text": [
      "-> Classify Query Topic ->\n",
      "User query: \n",
      "    What kind of alignment techniques and safety evaluations were used before releasing the open-weight language models?\n",
      "    \n",
      "🪵 Raw LLM output:\n",
      " ```json\n",
      "{\"Topic\": \"Related\", \"Reasoning\": \"The query asks about safety evaluations and alignment techniques used in the development of open-weight language models, which are topics directly addressed in the LLaMA 2 research paper.\"}\n",
      "```\n",
      "✅ Parsed response: Topic='Related' Reasoning='The query asks about safety evaluations and alignment techniques used in the development of open-weight language models, which are topics discussed in the LLaMA 2 research paper.'\n",
      "-> ROUTER ->\n",
      "last_message: Related\n",
      "-> RAG Call ->\n",
      "Question to RAG: \n",
      "    What kind of alignment techniques and safety evaluations were used before releasing the open-weight language models?\n",
      "    \n"
     ]
    },
    {
     "data": {
      "text/plain": [
       "{'messages': ['\\n    What kind of alignment techniques and safety evaluations were used before releasing the open-weight language models?\\n    ',\n",
       "  'Related',\n",
       "  \"The provided text describes safety evaluations using human reviews of adversarial prompts and  in-house Safety and Helpfulness reward models.  It mentions techniques like Supervised Fine-Tuning (SFT) and Reinforcement Learning from Human Feedback (RLHF) were used to improve the model's safety.  Specific details about the alignment techniques are not elaborated upon. \\n\\n\\n\"]}"
      ]
     },
     "execution_count": 32,
     "metadata": {},
     "output_type": "execute_result"
    }
   ],
   "source": [
    "state = {\"messages\":[\n",
    "    \"\"\"\n",
    "    What kind of alignment techniques and safety evaluations were used before releasing the open-weight language models?\n",
    "    \"\"\"\n",
    "]}\n",
    "\n",
    "response = app.invoke(state)\n",
    "response"
   ]
  },
  {
   "cell_type": "code",
   "execution_count": 33,
   "id": "fc230d57",
   "metadata": {},
   "outputs": [
    {
     "name": "stdout",
     "output_type": "stream",
     "text": [
      "The provided text describes safety evaluations using human reviews of adversarial prompts and  in-house Safety and Helpfulness reward models.  It mentions techniques like Supervised Fine-Tuning (SFT) and Reinforcement Learning from Human Feedback (RLHF) were used to improve the model's safety.  Specific details about the alignment techniques are not elaborated upon. \n",
      "\n",
      "\n",
      "\n"
     ]
    }
   ],
   "source": [
    "print(response['messages'][-1])"
   ]
  },
  {
   "cell_type": "code",
   "execution_count": 38,
   "id": "042374b3",
   "metadata": {},
   "outputs": [
    {
     "name": "stdout",
     "output_type": "stream",
     "text": [
      "-> Classify Query Topic ->\n",
      "User query: content=\"\\n                        What is NATO, and when was it formed? Does NATO still hold strategic significance even after the collapse of the USSR and \\n                        considering Russia's relatively weaker economy compared to the U.S. and Europe? Some argue that NATO now serves more as a \\n                        display of Western power and may even pose a threat to global peace. What are your thoughts on this perspective — especially given \\n                        the unpredictability of nations that feel cornered or powerless? You probably know who I'm referring to.\\n                        \" additional_kwargs={} response_metadata={}\n",
      "🪵 Raw LLM output:\n",
      " ```json\n",
      "{\"Topic\": \"Not Related\", \"Reasoning\": \"The user query is about NATO, its history, and strategic significance. This topic is unrelated to the LLaMA 2 research paper by Meta.\"}\n",
      "```\n",
      "✅ Parsed response: Topic='Not Related' Reasoning=\"The query is about NATO's history, strategic significance, and geopolitical implications. This is unrelated to the LLaMA 2 research paper, which focuses on a large language model.\"\n",
      "-> ROUTER ->\n",
      "last_message: Not Related\n",
      "-> LLM Call ->\n",
      "Question to LLM: content=\"\\n                        What is NATO, and when was it formed? Does NATO still hold strategic significance even after the collapse of the USSR and \\n                        considering Russia's relatively weaker economy compared to the U.S. and Europe? Some argue that NATO now serves more as a \\n                        display of Western power and may even pose a threat to global peace. What are your thoughts on this perspective — especially given \\n                        the unpredictability of nations that feel cornered or powerless? You probably know who I'm referring to.\\n                        \" additional_kwargs={} response_metadata={}\n"
     ]
    },
    {
     "data": {
      "text/plain": [
       "{'messages': [HumanMessage(content=\"\\n                        What is NATO, and when was it formed? Does NATO still hold strategic significance even after the collapse of the USSR and \\n                        considering Russia's relatively weaker economy compared to the U.S. and Europe? Some argue that NATO now serves more as a \\n                        display of Western power and may even pose a threat to global peace. What are your thoughts on this perspective — especially given \\n                        the unpredictability of nations that feel cornered or powerless? You probably know who I'm referring to.\\n                        \", additional_kwargs={}, response_metadata={}),\n",
       "  'Not Related',\n",
       "  \"That's a great question, and it touches on some really important and complex geopolitical issues! \\n\\nLet me break down your question about NATO:\\n\\n**What is NATO, and when was it formed?**\\n\\nNATO stands for the North Atlantic Treaty Organization. It's a political and military alliance formed in 1949 by 12 countries, primarily from North America and Western Europe. The main goal was to provide collective security against the perceived threat of the Soviet Union during the Cold War.\\n\\n**Does NATO still hold strategic significance?**\\n\\nThat's where things get interesting.  While the Soviet Union collapsed in 1991, NATO has continued to evolve and adapt. Many argue that it remains strategically significant for several reasons:\\n\\n* **Collective Defense:** The core principle of NATO – an attack on one member is an attack on all – still provides a strong deterrent against aggression.\\n* **Regional Stability:**  NATO has played a role in stabilizing regions like the Balkans and Eastern Europe after the Cold War.\\n* **Global Partnerships:** NATO has expanded its partnerships with countries around the world, fostering cooperation on security issues.\\n\\n**Is NATO just a display of Western power?**\\n\\nThis is a perspective held by some, particularly those who feel NATO expansion eastward poses a threat to Russia. Critics argue that NATO's continued existence and eastward expansion are provocative and contribute to tensions.\\n\\n**NATO and Global Peace:**\\n\\nThe question of whether NATO poses a threat to global peace is complex and heavily debated.  \\n\\n* **Proponents** argue that NATO's collective defense mechanism prevents conflicts and promotes stability. They point to the lack of major conflicts between NATO members since its inception.\\n* **Critics** argue that NATO's military buildup and assertive posture could lead to escalation and instability, especially in volatile regions. They worry about the potential for miscalculation or accidental conflict.\\n\\n**The Unpredictability Factor:**\\n\\nYou're right to bring up the unpredictability of nations that feel cornered or powerless.  History is full of examples where countries, feeling threatened or marginalized, have made rash decisions that had devastating consequences.\\n\\n**My Thoughts:**\\n\\nAs an AI, I don't have personal opinions or beliefs. However, I can provide you with information and different perspectives to help you form your own conclusions. The debate surrounding NATO is multifaceted and involves balancing security concerns, power dynamics, and the potential for conflict. \\n\\n\\nIt's important to consider all sides of the argument and stay informed about developments in international relations. \\n\\n\"]}"
      ]
     },
     "execution_count": 38,
     "metadata": {},
     "output_type": "execute_result"
    }
   ],
   "source": [
    "messages = [HumanMessage(content=\"\"\"\n",
    "                        What is NATO, and when was it formed? Does NATO still hold strategic significance even after the collapse of the USSR and \n",
    "                        considering Russia's relatively weaker economy compared to the U.S. and Europe? Some argue that NATO now serves more as a \n",
    "                        display of Western power and may even pose a threat to global peace. What are your thoughts on this perspective — especially given \n",
    "                        the unpredictability of nations that feel cornered or powerless? You probably know who I'm referring to.\n",
    "                        \"\"\")]\n",
    "\n",
    "state: AgentState = {\"messages\": messages}\n",
    "\n",
    "response = app.invoke(state)\n",
    "response"
   ]
  },
  {
   "cell_type": "code",
   "execution_count": 39,
   "id": "b408d988",
   "metadata": {},
   "outputs": [
    {
     "name": "stdout",
     "output_type": "stream",
     "text": [
      "That's a great question, and it touches on some really important and complex geopolitical issues! \n",
      "\n",
      "Let me break down your question about NATO:\n",
      "\n",
      "**What is NATO, and when was it formed?**\n",
      "\n",
      "NATO stands for the North Atlantic Treaty Organization. It's a political and military alliance formed in 1949 by 12 countries, primarily from North America and Western Europe. The main goal was to provide collective security against the perceived threat of the Soviet Union during the Cold War.\n",
      "\n",
      "**Does NATO still hold strategic significance?**\n",
      "\n",
      "That's where things get interesting.  While the Soviet Union collapsed in 1991, NATO has continued to evolve and adapt. Many argue that it remains strategically significant for several reasons:\n",
      "\n",
      "* **Collective Defense:** The core principle of NATO – an attack on one member is an attack on all – still provides a strong deterrent against aggression.\n",
      "* **Regional Stability:**  NATO has played a role in stabilizing regions like the Balkans and Eastern Europe after the Cold War.\n",
      "* **Global Partnerships:** NATO has expanded its partnerships with countries around the world, fostering cooperation on security issues.\n",
      "\n",
      "**Is NATO just a display of Western power?**\n",
      "\n",
      "This is a perspective held by some, particularly those who feel NATO expansion eastward poses a threat to Russia. Critics argue that NATO's continued existence and eastward expansion are provocative and contribute to tensions.\n",
      "\n",
      "**NATO and Global Peace:**\n",
      "\n",
      "The question of whether NATO poses a threat to global peace is complex and heavily debated.  \n",
      "\n",
      "* **Proponents** argue that NATO's collective defense mechanism prevents conflicts and promotes stability. They point to the lack of major conflicts between NATO members since its inception.\n",
      "* **Critics** argue that NATO's military buildup and assertive posture could lead to escalation and instability, especially in volatile regions. They worry about the potential for miscalculation or accidental conflict.\n",
      "\n",
      "**The Unpredictability Factor:**\n",
      "\n",
      "You're right to bring up the unpredictability of nations that feel cornered or powerless.  History is full of examples where countries, feeling threatened or marginalized, have made rash decisions that had devastating consequences.\n",
      "\n",
      "**My Thoughts:**\n",
      "\n",
      "As an AI, I don't have personal opinions or beliefs. However, I can provide you with information and different perspectives to help you form your own conclusions. The debate surrounding NATO is multifaceted and involves balancing security concerns, power dynamics, and the potential for conflict. \n",
      "\n",
      "\n",
      "It's important to consider all sides of the argument and stay informed about developments in international relations. \n",
      "\n",
      "\n"
     ]
    }
   ],
   "source": [
    "print(response['messages'][-1])"
   ]
  },
  {
   "cell_type": "code",
   "execution_count": null,
   "id": "d8c6a76a",
   "metadata": {},
   "outputs": [],
   "source": []
  }
 ],
 "metadata": {
  "kernelspec": {
   "display_name": "agentic_ai",
   "language": "python",
   "name": "python3"
  },
  "language_info": {
   "codemirror_mode": {
    "name": "ipython",
    "version": 3
   },
   "file_extension": ".py",
   "mimetype": "text/x-python",
   "name": "python",
   "nbconvert_exporter": "python",
   "pygments_lexer": "ipython3",
   "version": "3.12.0"
  }
 },
 "nbformat": 4,
 "nbformat_minor": 5
}
