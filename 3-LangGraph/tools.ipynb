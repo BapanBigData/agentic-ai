{
 "cells": [
  {
   "cell_type": "code",
   "execution_count": 6,
   "id": "a1b0957a",
   "metadata": {},
   "outputs": [],
   "source": [
    "from langchain_community.tools import WikipediaQueryRun\n",
    "from langchain_community.utilities import WikipediaAPIWrapper\n",
    "\n",
    "wikipedia_api_wrapper = WikipediaAPIWrapper(\n",
    "    top_k_results = 3,\n",
    "    doc_content_chars_max = 600\n",
    ")\n",
    "\n",
    "wikipedia_tool = WikipediaQueryRun(api_wrapper=wikipedia_api_wrapper)"
   ]
  },
  {
   "cell_type": "code",
   "execution_count": 7,
   "id": "a715230f",
   "metadata": {},
   "outputs": [
    {
     "data": {
      "text/plain": [
       "'wikipedia'"
      ]
     },
     "execution_count": 7,
     "metadata": {},
     "output_type": "execute_result"
    }
   ],
   "source": [
    "wikipedia_tool.name"
   ]
  },
  {
   "cell_type": "code",
   "execution_count": 8,
   "id": "94abed3d",
   "metadata": {},
   "outputs": [
    {
     "data": {
      "text/plain": [
       "'A wrapper around Wikipedia. Useful for when you need to answer general questions about people, places, companies, facts, historical events, or other subjects. Input should be a search query.'"
      ]
     },
     "execution_count": 8,
     "metadata": {},
     "output_type": "execute_result"
    }
   ],
   "source": [
    "wikipedia_tool.description"
   ]
  },
  {
   "cell_type": "code",
   "execution_count": 9,
   "id": "e9ca1a57",
   "metadata": {},
   "outputs": [
    {
     "data": {
      "text/plain": [
       "{'query': {'description': 'query to look up on wikipedia',\n",
       "  'title': 'Query',\n",
       "  'type': 'string'}}"
      ]
     },
     "execution_count": 9,
     "metadata": {},
     "output_type": "execute_result"
    }
   ],
   "source": [
    "wikipedia_tool.args"
   ]
  },
  {
   "cell_type": "code",
   "execution_count": 12,
   "id": "7f7172c6",
   "metadata": {},
   "outputs": [
    {
     "name": "stdout",
     "output_type": "stream",
     "text": [
      "Page: SpaceX\n",
      "Summary: Space Exploration Technologies Corp., commonly referred to as SpaceX, is an American space technology company headquartered at the Starbase development site in Starbase, Texas. Since its founding in 2002, the company has made numerous advancements in rocket propulsion, reusable launch vehicles, human spaceflight and satellite constellation technology. As of 2025, SpaceX is the world's dominant space launch provider, its launch cadence eclipsing all others, including private competitors and national programs like the Chinese space program. SpaceX, NASA, and the United Stat\n"
     ]
    }
   ],
   "source": [
    "response = wikipedia_tool.run(\n",
    "    {\n",
    "        \"query\": \"Space X\"\n",
    "    }\n",
    ")\n",
    "\n",
    "print(response)"
   ]
  },
  {
   "cell_type": "code",
   "execution_count": 13,
   "id": "85a6ee03",
   "metadata": {},
   "outputs": [
    {
     "name": "stdout",
     "output_type": "stream",
     "text": [
      "Page: Apple Watch\n",
      "Summary: The Apple Watch is a brand of smartwatch products developed and marketed by Apple. It incorporates fitness tracking, health-oriented capabilities, and wireless telecommunication, and integrates with watchOS and other Apple products and services. The Apple Watch was released in April 2015, and quickly became the world's best-selling wearable device: 4.2 million were sold in the second quarter of fiscal 2015, and more than 115 million people were estimated to use an Apple Watch as of December 2022. Apple has introduced a new generation of the Apple Watch with improved \n"
     ]
    }
   ],
   "source": [
    "response = wikipedia_tool.run(\n",
    "    {\n",
    "        \"query\": \"Apple June 19, 2025 closing stock price\"\n",
    "    }\n",
    ")\n",
    "\n",
    "print(response)"
   ]
  },
  {
   "cell_type": "code",
   "execution_count": 14,
   "id": "a19eec17",
   "metadata": {},
   "outputs": [
    {
     "name": "stdout",
     "output_type": "stream",
     "text": [
      "Page: Durga Puja in Kolkata\n",
      "Summary: Durga Puja in Kolkata (Bengali: কলকাতার দুর্গাপূজা) is an annual festival celebrated magnificently marking the worship of the Hindu mother goddess Durga.  This festival is the biggest festival in Kolkata, the capital of the Indian state of West Bengal. \n",
      "There were about 3,000 Barowari pujas in Kolkata in 2022. More than 200 pujas were organized in the city with a budget of over one crore rupees.\n",
      "Durga Puja in Kolkata has been inscribed on the list of UNESCO Intangible Cultural Heritage Lists in December 2021.\n",
      "\n",
      "Page: Durga Puja\n",
      "Summary: Durga Puja (ISO: Durg\n"
     ]
    }
   ],
   "source": [
    "response = wikipedia_tool.run(\n",
    "    {\n",
    "        \"query\": \"Durga Puja in Kolkata\"\n",
    "    }\n",
    ")\n",
    "\n",
    "print(response)"
   ]
  },
  {
   "cell_type": "code",
   "execution_count": 15,
   "id": "5c56d409",
   "metadata": {},
   "outputs": [
    {
     "name": "stdout",
     "output_type": "stream",
     "text": [
      "Page: UNESCO\n",
      "Summary: The United Nations Educational, Scientific and Cultural Organization (UNESCO ) is a specialized agency of the United Nations (UN) with the aim of promoting world peace and security through international cooperation in education, arts, sciences and culture. It has 194 member states and 12 associate members, as well as partners in the non-governmental, intergovernmental and private sector. Headquartered in Paris, France, UNESCO has 53 regional field offices and 199 national commissions.\n",
      "UNESCO was founded in 1945 as the successor to the League of Nations' International Comm\n"
     ]
    }
   ],
   "source": [
    "response = wikipedia_tool.run(\n",
    "    {\n",
    "        \"query\": \"UNESCO\"\n",
    "    }\n",
    ")\n",
    "\n",
    "print(response)"
   ]
  },
  {
   "cell_type": "code",
   "execution_count": 16,
   "id": "9c05f4cb",
   "metadata": {},
   "outputs": [
    {
     "data": {
      "text/plain": [
       "YouTubeSearchTool()"
      ]
     },
     "execution_count": 16,
     "metadata": {},
     "output_type": "execute_result"
    }
   ],
   "source": [
    "from langchain_community.tools import YouTubeSearchTool\n",
    "\n",
    "youtube_search_tool = YouTubeSearchTool()\n",
    "youtube_search_tool"
   ]
  },
  {
   "cell_type": "code",
   "execution_count": 17,
   "id": "771bf1cc",
   "metadata": {},
   "outputs": [
    {
     "data": {
      "text/plain": [
       "'youtube_search'"
      ]
     },
     "execution_count": 17,
     "metadata": {},
     "output_type": "execute_result"
    }
   ],
   "source": [
    "youtube_search_tool.name"
   ]
  },
  {
   "cell_type": "code",
   "execution_count": 18,
   "id": "16a95fba",
   "metadata": {},
   "outputs": [
    {
     "data": {
      "text/plain": [
       "'search for youtube videos associated with a person. the input to this tool should be a comma separated list, the first part contains a person name and the second a number that is the maximum number of video results to return aka num_results. the second part is optional'"
      ]
     },
     "execution_count": 18,
     "metadata": {},
     "output_type": "execute_result"
    }
   ],
   "source": [
    "youtube_search_tool.description"
   ]
  },
  {
   "cell_type": "code",
   "execution_count": 21,
   "id": "b5cb5301",
   "metadata": {},
   "outputs": [],
   "source": [
    "# %pip install youtube_search"
   ]
  },
  {
   "cell_type": "code",
   "execution_count": 22,
   "id": "87df009e",
   "metadata": {},
   "outputs": [
    {
     "data": {
      "text/plain": [
       "\"['https://www.youtube.com/watch?v=7NmocR2HKJo&pp=ygUMRGhydXYgUmF0aGVl', 'https://www.youtube.com/shorts/lfx_Mv-7v9Y']\""
      ]
     },
     "execution_count": 22,
     "metadata": {},
     "output_type": "execute_result"
    }
   ],
   "source": [
    "youtube_search_tool.run(\"Dhruv Rathee\")"
   ]
  },
  {
   "cell_type": "code",
   "execution_count": 23,
   "id": "a25a9549",
   "metadata": {},
   "outputs": [
    {
     "data": {
      "text/plain": [
       "\"['https://www.youtube.com/watch?v=JFcBuVbwrQc&pp=ygUDQkJD', 'https://www.youtube.com/watch?v=WMHMLnuNIoY&pp=ygUDQkJD']\""
      ]
     },
     "execution_count": 23,
     "metadata": {},
     "output_type": "execute_result"
    }
   ],
   "source": [
    "youtube_search_tool.run(\"BBC\")"
   ]
  },
  {
   "cell_type": "code",
   "execution_count": 24,
   "id": "dc3ed328",
   "metadata": {},
   "outputs": [],
   "source": [
    "import os\n",
    "from dotenv import load_dotenv\n",
    "\n",
    "load_dotenv()\n",
    "\n",
    "os.environ[\"TAVILY_API_KEY\"] = os.getenv(\"TAVILY_API_KEY\")"
   ]
  },
  {
   "cell_type": "code",
   "execution_count": 27,
   "id": "9095e0ac",
   "metadata": {},
   "outputs": [
    {
     "data": {
      "text/plain": [
       "TavilySearchResults(api_wrapper=TavilySearchAPIWrapper(tavily_api_key=SecretStr('**********')))"
      ]
     },
     "execution_count": 27,
     "metadata": {},
     "output_type": "execute_result"
    }
   ],
   "source": [
    "from langchain_community.tools.tavily_search import TavilySearchResults\n",
    "\n",
    "tavily_search_tool = TavilySearchResults()\n",
    "tavily_search_tool"
   ]
  },
  {
   "cell_type": "code",
   "execution_count": 28,
   "id": "f04b50da",
   "metadata": {},
   "outputs": [
    {
     "data": {
      "text/plain": [
       "[{'title': \"How Israel and Iran's conflict went from covert to all-out fighting\",\n",
       "  'url': 'https://www.washingtonpost.com/world/2025/06/19/iran-israel-conflict-history/',\n",
       "  'content': 'Israel-Iran conflict\\n\\n**The latest:**Israel and Iran have continued trading strikes while [the U.S. is expanding its presence](https://www.washingtonpost.com/national-security/2025/06/16/us-military-israel-iran/) in the Middle East. [Follow live updates](https://www.washingtonpost.com/world/2025/06/19/israel-iran-strikes-live-us-trump/). [...] 12.   [July 31, 2024: Israel kills Haniyeh in Tehran](https://www.washingtonpost.com/world/2025/06/19/iran-israel-conflict-history/#PBF7XP2O55C3HHXK4DPBHIQTGI-11)\\n13.   [Sept. 27, 2024: Israel kills Hezbollah’s leader](https://www.washingtonpost.com/world/2025/06/19/iran-israel-conflict-history/#ICKFGOB65FEZLDLXLS7BZK6CIM-12)\\n14.   [Oct. 1, 2024: Iran fires missiles at Israel](https://www.washingtonpost.com/world/2025/06/19/iran-israel-conflict-history/#5A46W2N3T5BPDHG3XAXCEVYN5A-13) [...] ### Oct. 1, 2024: Iran fires missiles at Israel\\n\\n[Return to menu](https://www.washingtonpost.com/world/2025/06/19/iran-israel-conflict-history/#secondary-nav)\\n\\nIran fires about 180 ballistic missiles at Israel, [according to the Israeli military](https://www.washingtonpost.com/world/2024/10/01/iran-attack-israel-ballistic-missiles/); Tehran says the attack was in retaliation for Nasrallah’s killing.\\n\\n### Oct. 26, 2024: Israel strikes Iranian targets',\n",
       "  'score': 0.82254606},\n",
       " {'title': 'Israel-Iran conflict: List of key events, June 19, 2025 - Al Jazeera',\n",
       "  'url': 'https://www.aljazeera.com/news/2025/6/19/israel-iran-conflict-list-of-key-events-june-19-2025',\n",
       "  'content': '*   Iran has not given regular death toll figures during the intense attacks by Israel. Its last update put the death toll at more than 240 people killed and 1,277 others wounded.\\n*   Iranian police announced on Thursday they had arrested 24 people accused of spying for Israel, according to a statement carried by the Tasnim news agency. [...] Published Time: 2025-06-19T17:17:43Z\\n\\nIsrael-Iran conflict: List of key events, June 19, 2025 | Conflict News | Al Jazeera\\n\\n===============\\n\\n Advertisement \\n\\nSkip links[Skip to Content](https://www.aljazeera.com/news/2025/6/19/israel-iran-conflict-list-of-key-events-june-19-2025#main-content-area)\\n\\n[](https://www.aljazeera.com/)\\n\\n[Live](https://www.aljazeera.com/live)\\n\\nSign up Enrich your Al Jazeera experience by signing in or creating an account. [...] *   Iran’s Foreign Ministry spokesperson has accused IAEA chief Grossi and his organisation of being complicit in the ongoing conflict, saying their “biased” reporting on Iran’s nuclear activities was used as a “pretext” for Israel to attack.',\n",
       "  'score': 0.66959417},\n",
       " {'title': 'Possibly U.S.—Enters Israel Conflict (Live Updates) - Forbes',\n",
       "  'url': 'https://www.forbes.com/sites/siladityaray/2025/06/19/iran-threatens-immediate-response-if-third-party-possibly-us-enters-israel-conflict-live-updates/',\n",
       "  'content': '\"https://www.pm.gc.ca/en/news/statements/2025/06/16/g7-leaders-statement-on-recent-developments-between-israel-and-iran\") notes: “We, the leaders of the G7, reiterate our commitment to peace and stability in the Middle East.” The statement affirms Israel’s “right to defend itself,” describes Iran as the “principal source of regional instability and terror,” and notes “Iran can never have a nuclear weapon.” It also calls for a resolution of the ongoing crisis and “a broader de-escalation of [...] June 19, 12:16 p.m. ETIran issued a warning to any “third party” involvement in its conflict with Israel, seemingly referencing the U.S. without directly mentioning it and threatening an “immediate response,” according to [CNN](https://www.cnn.com/world/live-news/israel-iran-conflict-06-19-25-intl-hnk#cmc3k794p00003b6q3tphtl2f \"https://www.cnn.com/world/live-news/israel-iran-conflict-06-19-25-intl-hnk#cmc3k794p00003b6q3tphtl2f\"). [...] Tensions between Iran and Israel first [erupted on Friday](https://www.forbes.com/sites/antoniopequenoiv/2025/06/13/iran-launches-retaliatory-strikes-into-israel-live-updates/ \"https://www.forbes.com/sites/antoniopequenoiv/2025/06/13/iran-launches-retaliatory-strikes-into-israel-live-updates/\"), when the Israel military carried out unilateral strikes against key nuclear facilities and killed several top Iranian generals and nuclear scientists. Netanyahu claimed Israel’s attack was an act of',\n",
       "  'score': 0.6625569},\n",
       " {'title': 'Israel Vows to Intensify Attacks After Iranian Missile Hits Hospital',\n",
       "  'url': 'https://www.nytimes.com/live/2025/06/19/world/iran-israel-trump-news',\n",
       "  'content': '*   [Updates](https://www.nytimes.com/live/2025/06/19/world/iran-israel-trump-news)\\n*   [What to Know](https://www.nytimes.com/2025/06/12/world/middleeast/israel-iran-strikes.html)\\n*   [Photos](https://www.nytimes.com/2025/06/13/world/middleeast/israel-attacks-iran.html)\\n*   [Maps](https://www.nytimes.com/live/2025/world/israel-iran-maps-tracking)\\n*   [Timeline](https://www.nytimes.com/2025/06/12/world/middleeast/israel-iran-conflict-history.html) [...] Published Time: 2025-06-19T07:52:53.000Z\\n\\nIsrael-Iran War Live Updates: Trump to Decide on Attack in Next 2 Weeks, White House Says - The New York Times\\n\\n===============\\n\\n[Skip to content](https://www.nytimes.com/live/2025/06/19/world/iran-israel-trump-news#site-content)[Skip to site index](https://www.nytimes.com/live/2025/06/19/world/iran-israel-trump-news#site-index)\\n\\n[](https://www.nytimes.com/)\\n\\n[Today’s Paper](https://www.nytimes.com/section/todayspaper)',\n",
       "  'score': 0.65914243},\n",
       " {'title': \"Live updates: Israel reports 'direct hit' on hospital by Iranian missile ...\",\n",
       "  'url': 'https://www.nbcnews.com/world/middle-east/live-blog/live-updates-israel-iran-reactor-hospital-rcna213904',\n",
       "  'content': '[![Image 5](https://media-cldnry.s-nbcnews.com/image/upload/t_focal-60x60,f_auto,q_auto:best/newscms/2023_08/3595832/rebecca-shabad-byline-jm-1.jpg) Rebecca Shabad](https://www.nbcnews.com/author/rebecca-shabad-ncpn854016)\\n\\nTrump will make a decision on whether the U.S. should get involved in the conflict between Israel and Iran within the next two weeks, White House press secretary Karoline Leavitt told reporters at the press briefing. [...] Senate Minority Leader Chuck Schumer, D-N.Y., confirmed that there will be a classified briefing on Iran early next week for all senators.\\n\\nTrump said yesterday that he hasn’t yet decided how to handle the intensifying conflict between Israel and Iran, which is now in its seventh day after the two heavily armed rivals launched new attacks against each other overnight.\\n\\n11h ago / 7:16 AM UTC [...] *   [](sms:?&body=Iran%20says%20its%20launched%20fresh%20round%20of%20strikes%20against%20Israel%20%20via%20%20-%20https://www.nbcnews.com/world/middle-east/live-blog/live-updates-israel-iran-reactor-hospital-rcna213904/rcrd82776?canonicalCard=true)',\n",
       "  'score': 0.59824234}]"
      ]
     },
     "execution_count": 28,
     "metadata": {},
     "output_type": "execute_result"
    }
   ],
   "source": [
    "tavily_search_tool.invoke(\n",
    "    {\"query\": \"What is the update of on going conflicts between Isreal and Iran?\"}\n",
    ")"
   ]
  },
  {
   "cell_type": "code",
   "execution_count": 29,
   "id": "8f4c6dd9",
   "metadata": {},
   "outputs": [
    {
     "data": {
      "text/plain": [
       "[{'title': 'Apple Stock Price In 2025 | StatMuse Money',\n",
       "  'url': 'https://www.statmuse.com/money/ask/apple-stock-price-in-2025',\n",
       "  'content': 'The closing price for Apple (AAPL) this year is $198.42, yesterday. It is down 20.1% for the year. The latest price is $196.99. ; June 16 2025. $197.29. $198.69.',\n",
       "  'score': 0.84918517},\n",
       " {'title': 'Apple - 45 Year Stock Price History | AAPL - Macrotrends',\n",
       "  'url': 'https://www.macrotrends.net/stocks/charts/AAPL/apple/stock-price-history',\n",
       "  'content': '| Apple Historical Annual Stock Price Data |\\n| --- |\\n| Year | Average Stock Price | Year Open | Year High | Year Low | Year Close | Annual % Change |\\n| 2025 | 217.1961 | 243.2630 | 246.7760 | 172.1940 | 196.5800 | -21.31% |\\n| 2024 | 206.2725 | 184.2900 | 258.3970 | 164.0100 | 249.8170 | 30.71% |\\n| 2023 | 170.8698 | 123.4710 | 196.6700 | 123.4210 | 191.1300 | 49.01% |\\n| 2022 | 152.4077 | 178.6460 | 178.6460 | 124.4280 | 128.2680 | -26.40% | [...] Historical daily share price chart and data for Apple since 1980 adjusted for splits and dividends. The latest closing stock price for Apple as of June 18, 2025 is **196.58**. \\n*   The all-time high Apple stock closing price was **258.40** on **December 26, 2024**.\\n*   The Apple 52-week high stock price is **260.10**, which is **32.3%** above the current share price.\\n*   The Apple 52-week low stock price is **169.21**, which is **13.9%** below the current share price. [...] Published Time: Thu, 19 Jun 2025 00:24:41 GMT\\n\\nApple - 45 Year Stock Price History | AAPL | MacroTrends\\n\\n===============\\n\\nX\\n\\n[![Image 1](https://www.macrotrends.net/assets/images/logo_bright1.png)](https://www.macrotrends.net/ \"MacroTrends Home Page\")',\n",
       "  'score': 0.8338803},\n",
       " {'title': 'Apple Stock Price History - Investing.com',\n",
       "  'url': 'https://www.investing.com/equities/apple-computer-inc-historical-data',\n",
       "  'content': '|\\n| [Aaaaaaaaaaaaaa](https://www.investing.com/pro/pricing?entry=most_undervalued_ws) | 87.61 | +30.38% | \\n\\n114.22\\n\\n |\\n| [A Aaaa](https://www.investing.com/pro/pricing?entry=most_undervalued_ws) | 103.27 | +29.25% | \\n\\n133.48\\n\\n |\\n| [A Aaaaaa](https://www.investing.com/pro/pricing?entry=most_undervalued_ws) | 25.77 | +25.98% | \\n\\n32.47\\n\\n |\\n| [Aaaa Aaaaaaaaa A A](https://www.investing.com/pro/pricing?entry=most_undervalued_ws) | 216.99 | +25.74% | \\n\\n272.84\\n\\n | [...] |\\n| [Aaaaaaaaaaaaaa](https://www.investing.com/pro/pricing?entry=most_undervalued_ws) | 87.61 | +30.38% | \\n\\n114.22\\n\\n |\\n| [A Aaaa](https://www.investing.com/pro/pricing?entry=most_undervalued_ws) | 103.27 | +29.25% | \\n\\n133.48\\n\\n |\\n| [A Aaaaaa](https://www.investing.com/pro/pricing?entry=most_undervalued_ws) | 25.77 | +25.98% | \\n\\n32.47\\n\\n |\\n| [Aaaa Aaaaaaaaa A A](https://www.investing.com/pro/pricing?entry=most_undervalued_ws) | 216.99 | +25.74% | \\n\\n272.84\\n\\n | [...] [US 500](https://www.investing.com/indices/us-spx-500-futures?cid=1175153 \"US 500 Cash - (CFD)\")\\n\\n5,613.30\\n\\n\\\\-37.3\\n\\n\\\\-0.66%\\n\\n[Dow Jones](https://www.investing.com/indices/us-30 \"Dow Jones Industrial Average\")\\n\\n41,218.83\\n\\n\\\\-98.60\\n\\n\\\\-0.24%\\n\\n[S&P 500](https://www.investing.com/indices/us-spx-500 \"S&P 500 - (CFD)\")\\n\\n5,650.38\\n\\n\\\\-36.29\\n\\n\\\\-0.64%\\n\\n[Nasdaq](https://www.investing.com/indices/nasdaq-composite \"NASDAQ Composite\")\\n\\n17,844.24\\n\\n\\\\-133.49\\n\\n\\\\-0.74%',\n",
       "  'score': 0.8058924},\n",
       " {'title': 'Stock Price - Apple Investor Relations',\n",
       "  'url': 'https://investor.apple.com/stock-price/default.aspx',\n",
       "  'content': 'XNAS:AAPL,NASDAQ:AAPL historical stock data| Stock Date | Stock Price |\\n| --- | --- |\\n| June 18, 2025 | $196.58 |\\n| June 17, 2025 | $195.64 |\\n| June 16, 2025 | $198.42 |\\n| June 13, 2025 | $196.45 |\\n| June 12, 2025 | $199.2 |\\n| June 11, 2025 | $198.78 |\\n| June 10, 2025 | $202.67 |\\n| June 09, 2025 | $201.45 |\\n| June 06, 2025 | $203.92 |\\n| June 05, 2025 | $200.63 |\\n| June 04, 2025 | $202.82 |\\n| June 03, 2025 | $203.27 |\\n| June 02, 2025 | $201.7 |\\n| May 30, 2025 | $200.85 |',\n",
       "  'score': 0.7339103},\n",
       " {'title': 'Apple Inc. (AAPL) Stock Historical Prices & Data - Yahoo Finance',\n",
       "  'url': 'https://finance.yahoo.com/quote/AAPL/history/',\n",
       "  'content': '[](https://finance.yahoo.com/quote/2498.TW/history/ \"2498.TW\")\\n\\n5371.TWO Coretronic Corporation\\n\\n**57.10**\\n\\n+0.18%\\n\\n[](https://finance.yahoo.com/quote/5371.TWO/history/ \"5371.TWO\")\\n\\n[](https://finance.yahoo.com/)\\n\\nCopyright © 2025 Yahoo. All rights reserved.\\n\\n[](https://twitter.com/YahooFinance \"Follow on Twitter\")[](https://facebook.com/yahoofinance \"Follow on Facebook\")[](https://www.linkedin.com/company/yahoo-finance \"Follow on LinkedIn\")\\n\\nWhat\\'s trending [...] | Date | Open | High | Low | Close Close price adjusted for splits. | Adj Close Adjusted close price adjusted for splits and dividend and/or capital gain distributions. | Volume |\\n| --- | --- | --- | --- | --- | --- | --- |\\n| Jun 16, 2025 | 197.29 | 198.68 | 196.56 | 198.42 | 198.42 | 42,837,838 |\\n| Jun 13, 2025 | 199.73 | 200.37 | 195.70 | 196.45 | 196.45 | 51,362,400 |\\n| Jun 12, 2025 | 199.08 | 199.68 | 197.36 | 199.20 | 199.20 | 43,904,600 | [...] *   \\n  U.S. markets closed   US Europe Asia Rates Commodities Currencies Cryptocurrencies   \\n    *   [S&P 500 6,033.11+56.14(+0.94%)](https://finance.yahoo.com/quote/%5EGSPC/)    \\n    *   [Dow 30 42,515.09+317.30(+0.75%)](https://finance.yahoo.com/quote/%5EDJI/)    \\n    *   [Nasdaq 19,701.21+294.39(+1.52%)](https://finance.yahoo.com/quote/%5EIXIC/)    \\n    *   [Russell 2000 2,124.13+23.62(+1.12%)](https://finance.yahoo.com/quote/%5ERUT/)',\n",
       "  'score': 0.72675586}]"
      ]
     },
     "execution_count": 29,
     "metadata": {},
     "output_type": "execute_result"
    }
   ],
   "source": [
    "tavily_search_tool.invoke(\n",
    "    {\"query\": \"Apple June 19, 2025 closing stock price\"}\n",
    ")"
   ]
  },
  {
   "cell_type": "code",
   "execution_count": null,
   "id": "7db21b4e",
   "metadata": {},
   "outputs": [],
   "source": []
  }
 ],
 "metadata": {
  "kernelspec": {
   "display_name": "agentic_ai",
   "language": "python",
   "name": "python3"
  },
  "language_info": {
   "codemirror_mode": {
    "name": "ipython",
    "version": 3
   },
   "file_extension": ".py",
   "mimetype": "text/x-python",
   "name": "python",
   "nbconvert_exporter": "python",
   "pygments_lexer": "ipython3",
   "version": "3.12.0"
  }
 },
 "nbformat": 4,
 "nbformat_minor": 5
}
