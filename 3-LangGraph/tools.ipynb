{
 "cells": [
  {
   "cell_type": "code",
   "execution_count": 1,
   "id": "a1b0957a",
   "metadata": {},
   "outputs": [],
   "source": [
    "from langchain_community.tools import WikipediaQueryRun\n",
    "from langchain_community.utilities import WikipediaAPIWrapper\n",
    "\n",
    "wikipedia_api_wrapper = WikipediaAPIWrapper(\n",
    "    top_k_results = 3,\n",
    "    doc_content_chars_max = 1000\n",
    ")\n",
    "\n",
    "wikipedia_tool = WikipediaQueryRun(api_wrapper=wikipedia_api_wrapper)"
   ]
  },
  {
   "cell_type": "code",
   "execution_count": 2,
   "id": "a715230f",
   "metadata": {},
   "outputs": [
    {
     "data": {
      "text/plain": [
       "'wikipedia'"
      ]
     },
     "execution_count": 2,
     "metadata": {},
     "output_type": "execute_result"
    }
   ],
   "source": [
    "wikipedia_tool.name"
   ]
  },
  {
   "cell_type": "code",
   "execution_count": 3,
   "id": "94abed3d",
   "metadata": {},
   "outputs": [
    {
     "data": {
      "text/plain": [
       "'A wrapper around Wikipedia. Useful for when you need to answer general questions about people, places, companies, facts, historical events, or other subjects. Input should be a search query.'"
      ]
     },
     "execution_count": 3,
     "metadata": {},
     "output_type": "execute_result"
    }
   ],
   "source": [
    "wikipedia_tool.description"
   ]
  },
  {
   "cell_type": "code",
   "execution_count": 4,
   "id": "e9ca1a57",
   "metadata": {},
   "outputs": [
    {
     "data": {
      "text/plain": [
       "{'query': {'description': 'query to look up on wikipedia',\n",
       "  'title': 'Query',\n",
       "  'type': 'string'}}"
      ]
     },
     "execution_count": 4,
     "metadata": {},
     "output_type": "execute_result"
    }
   ],
   "source": [
    "wikipedia_tool.args"
   ]
  },
  {
   "cell_type": "code",
   "execution_count": 5,
   "id": "7f7172c6",
   "metadata": {},
   "outputs": [
    {
     "name": "stdout",
     "output_type": "stream",
     "text": [
      "Page: SpaceX\n",
      "Summary: Space Exploration Technologies Corp., commonly referred to as SpaceX, is an American space technology company headquartered at the Starbase development site in Starbase, Texas. Since its founding in 2002, the company has made numerous advances in rocket propulsion, reusable launch vehicles, human spaceflight and satellite constellation technology. As of 2025, SpaceX is the world's dominant space launch provider, its launch cadence eclipsing all others, including private competitors and national programs like the Chinese space program. SpaceX, NASA, and the United States Armed Forces work closely together by means of governmental contracts.\n",
      "SpaceX was founded by Elon Musk in 2002 with a vision of decreasing the costs of space launches, paving the way to a sustainable colony on Mars. In 2008, Falcon 1 successfully launched into orbit after three failed launch attempts. The company then moved towards the development of the larger Falcon 9 rocket and the Dragon 1 caps\n"
     ]
    }
   ],
   "source": [
    "response = wikipedia_tool.run(\n",
    "    {\n",
    "        \"query\": \"Space X\"\n",
    "    }\n",
    ")\n",
    "\n",
    "print(response)"
   ]
  },
  {
   "cell_type": "code",
   "execution_count": 6,
   "id": "85a6ee03",
   "metadata": {},
   "outputs": [
    {
     "name": "stdout",
     "output_type": "stream",
     "text": [
      "Page: Apple Watch\n",
      "Summary: The Apple Watch is a brand of smartwatch products developed and marketed by Apple. It incorporates fitness tracking, health-oriented capabilities, and wireless telecommunication, and integrates with watchOS and other Apple products and services. The Apple Watch was released in April 2015, and quickly became the world's best-selling wearable device: 4.2 million were sold in the second quarter of fiscal 2015, and more than 115 million people were estimated to use an Apple Watch as of December 2022. Apple has introduced a new generation of the Apple Watch with improved internal components each September – each labeled by Apple as a 'Series', with certain exceptions.\n",
      "Each Series has been initially sold in multiple variants defined by the watch casing's material, color, and size (except for the budget watches Series 1 and SE, available only in aluminum, and the Ultra, available only in 49 mm titanium), and beginning with Series 3, by the option in the aluminum var\n"
     ]
    }
   ],
   "source": [
    "response = wikipedia_tool.run(\n",
    "    {\n",
    "        \"query\": \"Apple June 19, 2025 closing stock price\"\n",
    "    }\n",
    ")\n",
    "\n",
    "print(response)"
   ]
  },
  {
   "cell_type": "code",
   "execution_count": 7,
   "id": "a19eec17",
   "metadata": {},
   "outputs": [
    {
     "name": "stdout",
     "output_type": "stream",
     "text": [
      "Page: Durga Puja in Kolkata\n",
      "Summary: Durga Puja in Kolkata (Bengali: কলকাতার দুর্গাপূজা) is an annual festival celebrated magnificently marking the worship of the Hindu mother goddess Durga.  This festival is the biggest festival in Kolkata, the capital of the Indian state of West Bengal. \n",
      "There were about 3,000 Barowari pujas in Kolkata in 2022. More than 200 pujas were organized in the city with a budget of over one crore rupees.\n",
      "Durga Puja in Kolkata has been inscribed on the list of UNESCO Intangible Cultural Heritage Lists in December 2021.\n",
      "\n",
      "Page: Durga Puja\n",
      "Summary: Durga Puja (ISO: Durgā Pūjā, Bengali pronunciation: [d̪uɾɡapud͡ʒa] ), also known as Durgotsava or Shaaradotsava, is an annual festival originating in the Indian subcontinent which pays homage to the Hindu goddess Durga, and is also celebrated because of Durga's victory over Mahishasura. It is the biggest festival of Bengali Hindus and the Indian state of West Bengal. Durga Puja as celebrated in Kolkata, West Bengal's \n"
     ]
    }
   ],
   "source": [
    "response = wikipedia_tool.run(\n",
    "    {\n",
    "        \"query\": \"Durga Puja in Kolkata\"\n",
    "    }\n",
    ")\n",
    "\n",
    "print(response)"
   ]
  },
  {
   "cell_type": "code",
   "execution_count": 8,
   "id": "5c56d409",
   "metadata": {},
   "outputs": [
    {
     "name": "stdout",
     "output_type": "stream",
     "text": [
      "Page: UNESCO\n",
      "Summary: The United Nations Educational, Scientific and Cultural Organization (UNESCO ) is a specialized agency of the United Nations (UN) with the aim of promoting world peace and security through international cooperation in education, arts, sciences and culture. It has 194 member states and 12 associate members, as well as partners in the non-governmental, intergovernmental and private sector. Headquartered in Paris, France, UNESCO has 53 regional field offices and 199 national commissions.\n",
      "UNESCO was founded in 1945 as the successor to the League of Nations' International Committee on Intellectual Cooperation. UNESCO's founding mission, which was shaped by the events of World War II, is to advance peace, sustainable development and human rights by facilitating collaboration and dialogue among nations. It pursues this objective through five major programme areas: education, natural sciences, social/human sciences, culture and communication/information. UNESCO sponsors p\n"
     ]
    }
   ],
   "source": [
    "response = wikipedia_tool.run(\n",
    "    {\n",
    "        \"query\": \"UNESCO\"\n",
    "    }\n",
    ")\n",
    "\n",
    "print(response)"
   ]
  },
  {
   "cell_type": "code",
   "execution_count": 9,
   "id": "9c05f4cb",
   "metadata": {},
   "outputs": [
    {
     "data": {
      "text/plain": [
       "YouTubeSearchTool()"
      ]
     },
     "execution_count": 9,
     "metadata": {},
     "output_type": "execute_result"
    }
   ],
   "source": [
    "from langchain_community.tools import YouTubeSearchTool\n",
    "\n",
    "youtube_search_tool = YouTubeSearchTool()\n",
    "youtube_search_tool"
   ]
  },
  {
   "cell_type": "code",
   "execution_count": 10,
   "id": "771bf1cc",
   "metadata": {},
   "outputs": [
    {
     "data": {
      "text/plain": [
       "'youtube_search'"
      ]
     },
     "execution_count": 10,
     "metadata": {},
     "output_type": "execute_result"
    }
   ],
   "source": [
    "youtube_search_tool.name"
   ]
  },
  {
   "cell_type": "code",
   "execution_count": 11,
   "id": "16a95fba",
   "metadata": {},
   "outputs": [
    {
     "data": {
      "text/plain": [
       "'search for youtube videos associated with a person. the input to this tool should be a comma separated list, the first part contains a person name and the second a number that is the maximum number of video results to return aka num_results. the second part is optional'"
      ]
     },
     "execution_count": 11,
     "metadata": {},
     "output_type": "execute_result"
    }
   ],
   "source": [
    "youtube_search_tool.description"
   ]
  },
  {
   "cell_type": "code",
   "execution_count": 21,
   "id": "b5cb5301",
   "metadata": {},
   "outputs": [],
   "source": [
    "# %pip install youtube_search"
   ]
  },
  {
   "cell_type": "code",
   "execution_count": 12,
   "id": "87df009e",
   "metadata": {},
   "outputs": [
    {
     "data": {
      "text/plain": [
       "\"['https://www.youtube.com/watch?v=7NmocR2HKJo&pp=ygUMRGhydXYgUmF0aGVl', 'https://www.youtube.com/shorts/lfx_Mv-7v9Y']\""
      ]
     },
     "execution_count": 12,
     "metadata": {},
     "output_type": "execute_result"
    }
   ],
   "source": [
    "youtube_search_tool.run(\"Dhruv Rathee\")"
   ]
  },
  {
   "cell_type": "code",
   "execution_count": 13,
   "id": "a25a9549",
   "metadata": {},
   "outputs": [
    {
     "data": {
      "text/plain": [
       "\"['https://www.youtube.com/watch?v=WMHMLnuNIoY&pp=ygUDQkJD', 'https://www.youtube.com/shorts/U9tFVTTBSuk']\""
      ]
     },
     "execution_count": 13,
     "metadata": {},
     "output_type": "execute_result"
    }
   ],
   "source": [
    "youtube_search_tool.run(\"BBC\")"
   ]
  },
  {
   "cell_type": "code",
   "execution_count": 14,
   "id": "dc3ed328",
   "metadata": {},
   "outputs": [],
   "source": [
    "import os\n",
    "from dotenv import load_dotenv\n",
    "\n",
    "load_dotenv()\n",
    "\n",
    "os.environ[\"TAVILY_API_KEY\"] = os.getenv(\"TAVILY_API_KEY\")"
   ]
  },
  {
   "cell_type": "code",
   "execution_count": 16,
   "id": "9095e0ac",
   "metadata": {},
   "outputs": [
    {
     "data": {
      "text/plain": [
       "TavilySearchResults(api_wrapper=TavilySearchAPIWrapper(tavily_api_key=SecretStr('**********')))"
      ]
     },
     "execution_count": 16,
     "metadata": {},
     "output_type": "execute_result"
    }
   ],
   "source": [
    "from langchain_community.tools.tavily_search import TavilySearchResults\n",
    "\n",
    "tavily_search_tool = TavilySearchResults()\n",
    "tavily_search_tool"
   ]
  },
  {
   "cell_type": "code",
   "execution_count": 17,
   "id": "f04b50da",
   "metadata": {},
   "outputs": [
    {
     "data": {
      "text/plain": [
       "[{'title': 'Iran fires fresh barrage of missiles, explosions heard above Jerusalem',\n",
       "  'url': 'https://www.cnbctv18.com/world/israel-iran-war-live-updates-missile-drones-nuclear-supreme-leader-khamenei-middle-east-donald-trump-india-evacuation-operation-sindhu-liveblog-19624100.htm',\n",
       "  'content': '### Israel Iran war Live updates: Iran fires fresh barrage of missiles, explosions heard above Jerusalem, Tel Aviv\\n\\nIsrael Iran War Live Updates: Iran on Friday launched a fresh wave of missiles at Israel, marking the eighth day of ongoing conflict between the two long-standing rivals. A news presenter on the Iranian channel described “images in the sky over the occupied territories (Israel) of Iranian missiles arriving,” while the broadcast played military music alongside the footage. [...] ### Israel Iran war Live updates: A week into war, fresh strikes launched amid diplomatic efforts\\n\\nIsrael and Iran traded attacks on Friday, marking the first week of open conflict between the two nations, as former President Donald Trump deliberated over potential US military action and fresh diplomatic initiatives seemed to be taking shape. [...] ### Israel Iran War Live Updates: Conflict unlikely to impact exports, says Paras Defence',\n",
       "  'score': 0.8088086},\n",
       " {'title': 'Israel-Iran conflict LIVE Updates - The Hindu',\n",
       "  'url': 'https://www.thehindu.com/news/international/israel-iran-conflict-live-updates-missile-strike-khamenei-trump-june-20-2025/article69715968.ece',\n",
       "  'content': 'I srael and Iran exchanged strikes a week into their war on Friday (June 20, 2025) as [new diplomatic efforts](https://www.thehindu.com/news/international/irans-foreign-minister-will-meet-with-european-counterparts-state-media-reports/article69712850.ece) appeared to be underway. Iran’s Foreign Minister Abbas Araghchi is headed to Geneva for meetings with the European Union’s top diplomat and counterparts from the United Kingdom, France and Germany. [...] *   June 20, 2025 18:56  Key Iranian figures killed in Israeli strikes Israel’s missile strikes have delivered a significant blow to Iran’s military and nuclear command structure, killing several high-ranking figures since the conflict began on June 13, 2025. Among those killed are top generals and key nuclear scientists, according to Iranian state media and officials. Many of those targeted were closely linked to Iran’s nuclear programme and had previously been under Western sanctions. [...] Published Time: 2025-06-20T06:43:23+05:30\\n\\nIsrael-Iran conflict LIVE Updates: Iran to open airspace for return of stranded Indians - The Hindu \\n\\n===============\\n\\nJune 20, 2025[e-Paper](https://epaper.thehindu.com/reader?utm_source=Hindu&utm_medium=Menu&utm_campaign=Header&_gl=1*1u4uvwa*_gcl_au*NDk4ODM2Nzc2LjE3MjUwNzc4OTIuNTIxNjMwNzI4LjE3MjU0NDM0NDkuMTcyNTQ0MzQ0OQ..)\\n\\n[![Image 2: The Hindu Logo](https://www.thehindu.com/theme/images/th-online/thehindu-logo.svg)](https://www.thehindu.com/)',\n",
       "  'score': 0.7092009},\n",
       " {'title': 'Iran Update Special Report, June 19, 2025, Evening Edition',\n",
       "  'url': 'https://www.understandingwar.org/backgrounder/iran-update-special-report-june-19-2025-evening-edition',\n",
       "  'content': '**Information Cutoff: 5:00 PM ET**\\n\\n_The Critical Threats Project (CTP) at the American Enterprise Institute and the Institute for the Study of War (ISW) are publishing multiple updates daily to provide analysis on the war with Iran. The morning update will focus on the exchange of fire between Iran and Israel. The evening update will be more comprehensive, covering events over the past 24-hour period and refining items discussed in the morning update._\\n\\n**Key Takeaways** [...] **Iranian officials have expressed interest in negotiating an end to the Israel-Iran conflict but have not moderated their negotiating positions from before the conflict.** An unspecified US official cited by Axios on June 19 stated that US Special Envoy Steve Witkoff has been in contact with Iranian Foreign Affairs Minister Abbas Araghchi and has received some indications that Iran is interested in resuming negotiations.[1] Two Iranian government planes landed in Oman, which has been mediating [...] [15] https://x.com/IDF/status/1933369064124031170\\n\\n[16] https://x.com/IsraeliPM/status/1933329728246534596\\n\\n[17]https://www.axios.com/2025/06/17/iran-regime-change-israel-war-trump\\n\\n[18]https://x.com/Israel_katz/status/1935588198505173249\\n\\n[19]https://x.com/DAVIDHALBRIGHT1/status/1935780838157041673\\n\\n[20]https://isis-online.org/isis-reports/detail/renewed-activity-at-the-sanjarian-and-golab-dareh-amad-sites',\n",
       "  'score': 0.65940565},\n",
       " {'title': 'Israel-Iran Crisis I Latest Update with in-depth analysis - YouTube',\n",
       "  'url': 'https://www.youtube.com/watch?v=Hk6icoJs2Ws',\n",
       "  'content': 'Mass Protests in Tehran Amid Ongoing Israel-Iran Escalation Missile strikes continue between Israel and Iran for the eighth consecutive day,',\n",
       "  'score': 0.65173227}]"
      ]
     },
     "execution_count": 17,
     "metadata": {},
     "output_type": "execute_result"
    }
   ],
   "source": [
    "tavily_search_tool.invoke(\n",
    "    {\"query\": \"What is the update of on going conflicts between Isreal and Iran?\"}\n",
    ")"
   ]
  },
  {
   "cell_type": "code",
   "execution_count": 18,
   "id": "8f4c6dd9",
   "metadata": {},
   "outputs": [
    {
     "data": {
      "text/plain": [
       "[{'title': 'Apple (NASDAQ:AAPL) - Share Price - Intelligent Investor',\n",
       "  'url': 'https://www.intelligentinvestor.com.au/shares/nasdaq-aapl/apple/share-price',\n",
       "  'content': 'AAPL Share Price History ; 19 Jun 2025, 195.89, 197.56, 195.07, 196.58 ; 18 Jun 2025, 197.08, 198.385, 195.22, 195.64',\n",
       "  'score': 0.90452427},\n",
       " {'title': 'Apple Stock Price In 2025 | StatMuse Money',\n",
       "  'url': 'https://www.statmuse.com/money/ask/apple-stock-price-in-2025',\n",
       "  'content': 'The closing price for Apple (AAPL) this year is $198.42, yesterday. It is down 20.1% for the year. The latest price is $196.99. ; June 16 2025. $197.29. $198.69.',\n",
       "  'score': 0.84918517},\n",
       " {'title': 'Apple - 45 Year Stock Price History | AAPL - Macrotrends',\n",
       "  'url': 'https://www.macrotrends.net/stocks/charts/AAPL/apple/stock-price-history',\n",
       "  'content': '| Apple Historical Annual Stock Price Data |\\n| --- |\\n| Year | Average Stock Price | Year Open | Year High | Year Low | Year Close | Annual % Change |\\n| 2025 | 217.1961 | 243.2630 | 246.7760 | 172.1940 | 196.5800 | -21.31% |\\n| 2024 | 206.2725 | 184.2900 | 258.3970 | 164.0100 | 249.8170 | 30.71% |\\n| 2023 | 170.8698 | 123.4710 | 196.6700 | 123.4210 | 191.1300 | 49.01% |\\n| 2022 | 152.4077 | 178.6460 | 178.6460 | 124.4280 | 128.2680 | -26.40% | [...] Historical daily share price chart and data for Apple since 1980 adjusted for splits and dividends. The latest closing stock price for Apple as of June 18, 2025 is **196.58**. \\n*   The all-time high Apple stock closing price was **258.40** on **December 26, 2024**.\\n*   The Apple 52-week high stock price is **260.10**, which is **32.3%** above the current share price.\\n*   The Apple 52-week low stock price is **169.21**, which is **13.9%** below the current share price. [...] | Sector | Industry | Market Cap | Revenue |\\n| --- | --- | --- | --- |\\n| [Computer and Technology](https://www.macrotrends.net/stocks/sector/10/computer-and-technology) | [Computer - Microcomputers](https://www.macrotrends.net/stocks/industry/41/) | $2936.085B | $391.035B |',\n",
       "  'score': 0.8338803},\n",
       " {'title': 'Apple Inc. (AAPL) Stock Historical Prices & Data - Yahoo Finance',\n",
       "  'url': 'https://finance.yahoo.com/quote/AAPL/history/',\n",
       "  'content': '*   [OSCR Oscar Health, Inc.18.77+2.66(+16.51%)](https://finance.yahoo.com/quote/OSCR/)    \\n    *   [ACN Accenture plc 306.38-5.65(-1.81%)](https://finance.yahoo.com/quote/ACN/)    \\n    *   [NQ=F Nasdaq 100 Jun 25 21,803.50+83.25(+0.38%)](https://finance.yahoo.com/quote/NQ%3DF/)    \\n    *   [CRCL Circle Internet Group 199.59+50.44(+33.82%)](https://finance.yahoo.com/quote/CRCL/) [...] *   [Earnings events](https://finance.yahoo.com/calendar/earnings?day=2025-06-20)     Upcoming     JUN 23 [CCL](https://finance.yahoo.com/quote/CCL/) Carnival Corp      JUN 25 [MU](https://finance.yahoo.com/quote/MU/) Micron Technology Inc      JUN 26 [NKE](https://finance.yahoo.com/quote/NKE/) Nike Inc          \\n*   \\n[Trending tickers](https://finance.yahoo.com/trending-tickers) \\n    *   [TSLA Tesla, Inc.322.05+5.77(+1.82%)](https://finance.yahoo.com/quote/TSLA/) [...] | Jun 13, 2025 | 199.73 | 200.37 | 195.70 | 196.45 | 196.45 | 51,447,300 |\\n| Jun 12, 2025 | 199.08 | 199.68 | 197.36 | 199.20 | 199.20 | 43,904,600 |\\n| Jun 11, 2025 | 203.50 | 204.50 | 198.41 | 198.78 | 198.78 | 60,989,900 |\\n| Jun 10, 2025 | 200.60 | 204.35 | 200.57 | 202.67 | 202.67 | 54,672,600 |\\n| Jun 9, 2025 | 204.39 | 206.00 | 200.02 | 201.45 | 201.45 | 72,862,600 |\\n| Jun 6, 2025 | 203.00 | 205.70 | 202.05 | 203.92 | 203.92 | 46,607,700 |',\n",
       "  'score': 0.7752821},\n",
       " {'title': 'Stock Price - Apple Investor Relations',\n",
       "  'url': 'https://investor.apple.com/stock-price/default.aspx',\n",
       "  'content': 'XNAS:AAPL,NASDAQ:AAPL historical stock data| Stock Date | Stock Price |\\n| --- | --- |\\n| June 18, 2025 | $196.58 |\\n| June 17, 2025 | $195.64 |\\n| June 16, 2025 | $198.42 |\\n| June 13, 2025 | $196.45 |\\n| June 12, 2025 | $199.2 |\\n| June 11, 2025 | $198.78 |\\n| June 10, 2025 | $202.67 |\\n| June 09, 2025 | $201.45 |\\n| June 06, 2025 | $203.92 |\\n| June 05, 2025 | $200.63 |\\n| June 04, 2025 | $202.82 |\\n| June 03, 2025 | $203.27 |\\n| June 02, 2025 | $201.7 |\\n| May 30, 2025 | $200.85 | [...] Historical Stock Price Lookup\\n-----------------------------\\n\\nLookup Date:  Look Up\\n\\nStock Price data updated.\\n\\n#### Stock Quote: NASDAQ: AAPL\\n\\n*   Day’s Open 195.94\\n*   Closing Price 196.58\\n*   Volume 45.4 M\\n*   Intraday High 197.57\\n*   Intraday Low 195.07\\n\\n1.   [Apple](http://www.apple.com/)\\n2.   [Investor Relations](https://investor.apple.com/investor-relations/default.aspx)\\n3.   >\\n4.   [Stock Price](javascript:)\\n\\nApple Footer\\n------------\\n\\n### Shop and Learn [...] [United States](https://www.apple.com/choose-country-region/)\\n\\n Copyright © 2025 Apple Inc. All rights reserved \\n\\n*   [Privacy Policy](http://www.apple.com/privacy/privacy-policy/)\\n*   [Terms of Use](http://www.apple.com/legal/internet-services/terms/site.html)\\n*   [Sales and Refunds](http://www.apple.com/us/shop/goto/help/sales_refunds)\\n*   [Legal](https://www.apple.com/legal/)\\n*   [Site Map](https://investor.apple.com/site-map/default.aspx)',\n",
       "  'score': 0.7339103}]"
      ]
     },
     "execution_count": 18,
     "metadata": {},
     "output_type": "execute_result"
    }
   ],
   "source": [
    "tavily_search_tool.invoke(\n",
    "    {\"query\": \"Apple June 19, 2025 closing stock price\"}\n",
    ")"
   ]
  },
  {
   "cell_type": "markdown",
   "id": "be6ebb48",
   "metadata": {},
   "source": [
    "#### **Custom Tools**"
   ]
  },
  {
   "cell_type": "code",
   "execution_count": 19,
   "id": "7db21b4e",
   "metadata": {},
   "outputs": [],
   "source": [
    "from langchain.agents import tool"
   ]
  },
  {
   "cell_type": "code",
   "execution_count": 22,
   "id": "baac5a7a",
   "metadata": {},
   "outputs": [],
   "source": [
    "@tool\n",
    "def multiply(a: int, b: int) -> int:\n",
    "    \"\"\"This tool is for multiplication of two integers\"\"\"\n",
    "    return a * b"
   ]
  },
  {
   "cell_type": "code",
   "execution_count": 28,
   "id": "7eab3fda",
   "metadata": {},
   "outputs": [],
   "source": [
    "# help(multiply)"
   ]
  },
  {
   "cell_type": "code",
   "execution_count": 29,
   "id": "13e44ab9",
   "metadata": {},
   "outputs": [
    {
     "data": {
      "text/plain": [
       "{'a': {'title': 'A', 'type': 'integer'},\n",
       " 'b': {'title': 'B', 'type': 'integer'}}"
      ]
     },
     "execution_count": 29,
     "metadata": {},
     "output_type": "execute_result"
    }
   ],
   "source": [
    "multiply.args"
   ]
  },
  {
   "cell_type": "code",
   "execution_count": 25,
   "id": "3d2bab4f",
   "metadata": {},
   "outputs": [
    {
     "data": {
      "text/plain": [
       "'This tool is for multiplication of two integers'"
      ]
     },
     "execution_count": 25,
     "metadata": {},
     "output_type": "execute_result"
    }
   ],
   "source": [
    "multiply.description"
   ]
  },
  {
   "cell_type": "code",
   "execution_count": 26,
   "id": "3b46da24",
   "metadata": {},
   "outputs": [
    {
     "data": {
      "text/plain": [
       "6"
      ]
     },
     "execution_count": 26,
     "metadata": {},
     "output_type": "execute_result"
    }
   ],
   "source": [
    "multiply.invoke({'a':2, 'b':3})"
   ]
  },
  {
   "cell_type": "code",
   "execution_count": 33,
   "id": "710088c0",
   "metadata": {},
   "outputs": [],
   "source": [
    "@tool\n",
    "def get_length(word: str) -> int:\n",
    "    \"\"\"This is a tool to get the length of a string\"\"\"\n",
    "    return len(word)"
   ]
  },
  {
   "cell_type": "code",
   "execution_count": 34,
   "id": "a732187f",
   "metadata": {},
   "outputs": [
    {
     "data": {
      "text/plain": [
       "'This is a tool to get the length of a string'"
      ]
     },
     "execution_count": 34,
     "metadata": {},
     "output_type": "execute_result"
    }
   ],
   "source": [
    "get_length.description"
   ]
  },
  {
   "cell_type": "code",
   "execution_count": 35,
   "id": "4fb379bb",
   "metadata": {},
   "outputs": [
    {
     "data": {
      "text/plain": [
       "{'word': {'title': 'Word', 'type': 'string'}}"
      ]
     },
     "execution_count": 35,
     "metadata": {},
     "output_type": "execute_result"
    }
   ],
   "source": [
    "get_length.args"
   ]
  },
  {
   "cell_type": "code",
   "execution_count": 36,
   "id": "0f30ad89",
   "metadata": {},
   "outputs": [
    {
     "data": {
      "text/plain": [
       "14"
      ]
     },
     "execution_count": 36,
     "metadata": {},
     "output_type": "execute_result"
    }
   ],
   "source": [
    "get_length.invoke(\n",
    "    {'word': \"Bapan Bairagya\"}\n",
    ")"
   ]
  },
  {
   "cell_type": "code",
   "execution_count": 37,
   "id": "252469ec",
   "metadata": {},
   "outputs": [],
   "source": [
    "@tool\n",
    "def call_gmail_api(args):\n",
    "    \"\"\"This is a tool to call gmail api\"\"\"\n",
    "    pass"
   ]
  },
  {
   "cell_type": "code",
   "execution_count": 38,
   "id": "a2037666",
   "metadata": {},
   "outputs": [
    {
     "data": {
      "text/plain": [
       "'This is a tool to call gmail api'"
      ]
     },
     "execution_count": 38,
     "metadata": {},
     "output_type": "execute_result"
    }
   ],
   "source": [
    "call_gmail_api.description"
   ]
  },
  {
   "cell_type": "code",
   "execution_count": null,
   "id": "91fde303",
   "metadata": {},
   "outputs": [],
   "source": []
  }
 ],
 "metadata": {
  "kernelspec": {
   "display_name": "agentic_ai",
   "language": "python",
   "name": "python3"
  },
  "language_info": {
   "codemirror_mode": {
    "name": "ipython",
    "version": 3
   },
   "file_extension": ".py",
   "mimetype": "text/x-python",
   "name": "python",
   "nbconvert_exporter": "python",
   "pygments_lexer": "ipython3",
   "version": "3.12.0"
  }
 },
 "nbformat": 4,
 "nbformat_minor": 5
}
