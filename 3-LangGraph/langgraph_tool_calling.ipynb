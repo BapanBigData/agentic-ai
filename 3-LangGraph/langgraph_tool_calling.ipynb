{
 "cells": [
  {
   "cell_type": "code",
   "execution_count": 50,
   "id": "24cbb36c",
   "metadata": {},
   "outputs": [],
   "source": [
    "import os\n",
    "from dotenv import load_dotenv\n",
    "\n",
    "load_dotenv()\n",
    "\n",
    "os.environ[\"GOOGLE_API_KEY\"] = os.getenv(\"GOOGLE_API_KEY\")\n",
    "os.environ[\"OPENAI_API_KEY\"] = os.getenv(\"OPENAI_API_KEY\")\n",
    "\n",
    "os.environ[\"LANGCHAIN_API_KEY\"] = os.getenv(\"LANGCHAIN_API_KEY\")\n",
    "os.environ[\"LANGCHAIN_PROJECT\"] = os.getenv(\"LANGCHAIN_PROJECT\")\n",
    "os.environ[\"LANGCHAIN_TRACING_V2\"] = \"true\""
   ]
  },
  {
   "cell_type": "code",
   "execution_count": 2,
   "id": "47679948",
   "metadata": {},
   "outputs": [
    {
     "data": {
      "text/plain": [
       "ChatGroq(client=<groq.resources.chat.completions.Completions object at 0x000001BCDAFC67B0>, async_client=<groq.resources.chat.completions.AsyncCompletions object at 0x000001BCDB112000>, model_name='deepseek-r1-distill-llama-70b', model_kwargs={}, groq_api_key=SecretStr('**********'))"
      ]
     },
     "execution_count": 2,
     "metadata": {},
     "output_type": "execute_result"
    }
   ],
   "source": [
    "from langchain_groq import ChatGroq\n",
    "\n",
    "llm = ChatGroq(\n",
    "    model = 'deepseek-r1-distill-llama-70b'\n",
    ")\n",
    "\n",
    "llm"
   ]
  },
  {
   "cell_type": "code",
   "execution_count": 4,
   "id": "2a43979a",
   "metadata": {},
   "outputs": [
    {
     "name": "stdout",
     "output_type": "stream",
     "text": [
      "<think>\n",
      "\n",
      "</think>\n",
      "\n",
      "Hi! I'm just a virtual assistant, so I don't have feelings, but I'm here and ready to help you with whatever you need. How are you doing? 😊\n"
     ]
    }
   ],
   "source": [
    "print(llm.invoke(\"hi, how are you?\").content)"
   ]
  },
  {
   "cell_type": "code",
   "execution_count": 5,
   "id": "e200586f",
   "metadata": {},
   "outputs": [
    {
     "name": "stdout",
     "output_type": "stream",
     "text": [
      "<think>\n",
      "\n",
      "</think>\n",
      "\n",
      "As of my last update in July 2024, I don't have real-time information. Please enable the Internet to get the current weather information.\n"
     ]
    }
   ],
   "source": [
    "print(llm.invoke(\"How is the today's weather in Kolkata, India?\").content)"
   ]
  },
  {
   "cell_type": "code",
   "execution_count": 10,
   "id": "b71a0cfd",
   "metadata": {},
   "outputs": [],
   "source": [
    "import operator\n",
    "from typing import List\n",
    "from langgraph.graph.message import add_messages\n",
    "from pydantic import BaseModel , Field\n",
    "from typing import TypedDict, Annotated, Sequence\n",
    "from langchain_core.messages import BaseMessage\n",
    "from langchain_core.output_parsers import StrOutputParser\n",
    "from langchain_core.prompts import ChatPromptTemplate, PromptTemplate\n",
    "\n",
    "from langchain_core.tools import tool\n",
    "from langchain_core.messages import HumanMessage, AIMessage\n",
    "from langgraph.graph import StateGraph, MessagesState, START, END\n",
    "from langgraph.prebuilt import ToolNode"
   ]
  },
  {
   "cell_type": "code",
   "execution_count": 43,
   "id": "80a19edc",
   "metadata": {},
   "outputs": [
    {
     "name": "stdout",
     "output_type": "stream",
     "text": [
      "<class 'dict'>\n"
     ]
    }
   ],
   "source": [
    "msg = MessagesState()\n",
    "print(type(msg))"
   ]
  },
  {
   "cell_type": "code",
   "execution_count": null,
   "id": "45adc640",
   "metadata": {},
   "outputs": [],
   "source": [
    "def call_llm(state: MessagesState) -> dict:\n",
    "    messages = state['messages']\n",
    "    response = llm.invoke(messages)\n",
    "    return {\"messages\": [response]}"
   ]
  },
  {
   "cell_type": "code",
   "execution_count": 27,
   "id": "c5b336a4",
   "metadata": {},
   "outputs": [
    {
     "name": "stdout",
     "output_type": "stream",
     "text": [
      "<class 'dict'>\n"
     ]
    }
   ],
   "source": [
    "messages = [HumanMessage(content=\"\"\"\n",
    "                        What is NATO, and when was it formed? Does NATO still hold strategic significance even after the collapse of the USSR and \n",
    "                        considering Russia's relatively weaker economy compared to the U.S. and Europe? Some argue that NATO now serves more as a \n",
    "                        display of Western power and may even pose a threat to global peace. What are your thoughts on this perspective — especially given \n",
    "                        the unpredictability of nations that feel cornered or powerless? You probably know who I'm referring to.\n",
    "                        \"\"\")]\n",
    "\n",
    "state: MessagesState = {\"messages\": messages}\n",
    "print(type(state))\n",
    "\n",
    "response = call_llm(state)"
   ]
  },
  {
   "cell_type": "code",
   "execution_count": 36,
   "id": "20f573f9",
   "metadata": {},
   "outputs": [
    {
     "name": "stdout",
     "output_type": "stream",
     "text": [
      "<think>\n",
      "Okay, so I'm trying to understand what NATO is and why it's still important today. I know NATO stands for North Atlantic Treaty Organization, but I'm not entirely sure when it was formed or what its original purpose was. I think it was created after World War II, maybe in the late 1940s or early 1950s. The main idea was to form a military alliance between Western countries to counter the Soviet Union during the Cold War. But now that the Soviet Union has collapsed, I'm wondering why NATO still exists.\n",
      "\n",
      "I remember hearing that NATO expanded after the USSR fell, including more Eastern European countries. That must have made some people, especially in Russia, feel threatened or surrounded. So, does NATO still serve a strategic purpose, or is it just a show of Western power? Some argue that it's more about displaying strength now, which could actually make things more tense, especially with Russia.\n",
      "\n",
      "The user also mentioned that NATO might pose a threat to global peace, especially if nations feel cornered or powerless. I'm thinking about how countries like Russia or China might feel when NATO expands or gets involved in conflicts near their borders. It's like if someone is backed into a corner, they might act more aggressively because they feel they have nothing to lose.\n",
      "\n",
      "I'm also considering the economic aspect. The user pointed out that Russia's economy is weaker compared to the U.S. and Europe. Maybe NATO's economic strength is part of its strategy, but does that really make it more secure, or does it just create more imbalance? I'm not sure how much of a factor economics plays in military alliances.\n",
      "\n",
      "Another thought is about the unpredictability of nations. If a country feels threatened or marginalized, they might take unexpected actions, which could lead to conflicts. So, does NATO's presence help prevent such actions by providing a stable alliance, or does it provoke them by showing off military might?\n",
      "\n",
      "I'm also curious about specific examples. How has NATO's involvement in places like the Balkans, Afghanistan, or Ukraine affected global security? Have these interventions helped maintain peace, or have they contributed to ongoing tensions?\n",
      "\n",
      "I think I need to look into NATO's official roles and missions post-Cold War. They probably have changed, but the core idea of collective defense remains. Maybe they focus more on cooperative security now, dealing with issues like terrorism or cyber threats. But when they expand or engage in military exercises near Russia, it's understandable that Russia would feel uneasy.\n",
      "\n",
      "In terms of global peace, it's a balance. On one hand, a strong alliance can deter aggression. On the other hand, it can also provoke a response from those who feel targeted. It's like a game of deterrence, but if both sides keep escalating, it could lead to a bigger conflict.\n",
      "\n",
      "So, putting it all together, NATO's strategic significance probably comes from its ability to adapt to new threats and provide a united front. However, its actions, especially expansion and military presence near adversarial states, can be seen as provocative. The key is whether NATO can maintain a balance between deterrence and not making other nations feel so threatened that they become more aggressive.\n",
      "\n",
      "I'm still not entirely sure how effective NATO is in maintaining peace without causing other issues. Maybe it's a complex interplay of power dynamics, economic factors, and geopolitical strategies. The perspective that NATO is a display of Western power has some merit, but it's also a multifaceted organization with various roles beyond just military strength.\n",
      "</think>\n",
      "\n",
      "NATO, the North Atlantic Treaty Organization, was established in 1949 as a military alliance to counter the Soviet Union during the Cold War. Its primary purpose was collective defense against potential threats. Even after the USSR's collapse, NATO has maintained strategic significance by adapting to new global challenges such as terrorism and cyber threats. \n",
      "\n",
      "NATO's expansion into Eastern Europe has been viewed with suspicion by Russia, contributing to tensions. While some argue NATO's presence deters aggression, others see it as a provocation, potentially destabilizing global peace. The organization's role in conflicts like those in the Balkans and Afghanistan has had mixed outcomes, sometimes maintaining stability but also fueling tensions.\n",
      "\n",
      "In conclusion, NATO's significance lies in its adaptability and role in collective security, but its actions can provoke adversarial states, highlighting the delicate balance between deterrence and geopolitical stability.\n"
     ]
    }
   ],
   "source": [
    "print(response['messages'][0].content)"
   ]
  },
  {
   "cell_type": "code",
   "execution_count": 37,
   "id": "bc8258c7",
   "metadata": {},
   "outputs": [],
   "source": [
    "state = {\"messages\":[\"hi hello how are you?\"]}\n",
    "response = call_llm(state)"
   ]
  },
  {
   "cell_type": "code",
   "execution_count": 41,
   "id": "91ee6f11",
   "metadata": {},
   "outputs": [
    {
     "name": "stdout",
     "output_type": "stream",
     "text": [
      "<think>\n",
      "\n",
      "</think>\n",
      "\n",
      "Hello! I'm just a virtual assistant, so I don't have feelings, but I'm here and ready to help you with whatever you need. How are *you* doing? 😊\n"
     ]
    }
   ],
   "source": [
    "print(response['messages'][0].content)"
   ]
  },
  {
   "cell_type": "code",
   "execution_count": null,
   "id": "7491fe30",
   "metadata": {},
   "outputs": [],
   "source": [
    "from langchain_core.tools import tool\n",
    "import requests\n",
    "\n",
    "@tool\n",
    "def get_weather(city: str) -> str:\n",
    "    \"\"\"Get current weather for a city.\"\"\"\n",
    "    \n",
    "    api_key = os.getenv(\"OPENWEATHER_API_KEY\")\n",
    "    url = f\"https://api.openweathermap.org/data/2.5/weather?q={city}&appid={api_key}&units=metric\"\n",
    "    response = requests.get(url)\n",
    "    \n",
    "    if response.status_code != 200:\n",
    "        return f\"Failed to get weather: {response.text}\"\n",
    "    \n",
    "    data = response.json()\n",
    "    print(data)\n",
    "    \n",
    "    temp = data[\"main\"][\"temp\"]\n",
    "    desc = data[\"weather\"][0][\"description\"]\n",
    "    \n",
    "    return f\"The weather in {city} is {desc} with a temperature of {temp}°C.\"\n"
   ]
  },
  {
   "cell_type": "code",
   "execution_count": 45,
   "id": "b998e9e3",
   "metadata": {},
   "outputs": [
    {
     "data": {
      "text/plain": [
       "'Get current weather for a city.'"
      ]
     },
     "execution_count": 45,
     "metadata": {},
     "output_type": "execute_result"
    }
   ],
   "source": [
    "get_weather.description"
   ]
  },
  {
   "cell_type": "code",
   "execution_count": 49,
   "id": "a3634484",
   "metadata": {},
   "outputs": [
    {
     "data": {
      "text/plain": [
       "{'city': {'title': 'City', 'type': 'string'}}"
      ]
     },
     "execution_count": 49,
     "metadata": {},
     "output_type": "execute_result"
    }
   ],
   "source": [
    "get_weather.args"
   ]
  },
  {
   "cell_type": "code",
   "execution_count": 59,
   "id": "5ddb996c",
   "metadata": {},
   "outputs": [
    {
     "name": "stdout",
     "output_type": "stream",
     "text": [
      "{'coord': {'lon': 77.6033, 'lat': 12.9762}, 'weather': [{'id': 804, 'main': 'Clouds', 'description': 'overcast clouds', 'icon': '04n'}], 'base': 'stations', 'main': {'temp': 26.56, 'feels_like': 26.56, 'temp_min': 26.56, 'temp_max': 26.56, 'pressure': 1010, 'humidity': 73, 'sea_level': 1010, 'grnd_level': 912}, 'visibility': 10000, 'wind': {'speed': 6.55, 'deg': 266, 'gust': 12.7}, 'clouds': {'all': 100}, 'dt': 1750874389, 'sys': {'country': 'IN', 'sunrise': 1750811130, 'sunset': 1750857524}, 'timezone': 19800, 'id': 1277333, 'name': 'Bengaluru', 'cod': 200}\n"
     ]
    },
    {
     "data": {
      "text/plain": [
       "'The weather in bangalore is overcast clouds with a temperature of 26.56°C.'"
      ]
     },
     "execution_count": 59,
     "metadata": {},
     "output_type": "execute_result"
    }
   ],
   "source": [
    "get_weather.invoke(\"bangalore\")"
   ]
  },
  {
   "cell_type": "markdown",
   "id": "98617f70",
   "metadata": {},
   "source": [
    "{'coord': {'lon': 77.6033, 'lat': 12.9762}, 'weather': [{'id': 804, 'main': 'Clouds', 'description': 'overcast clouds', 'icon': '04n'}], 'base': 'stations', 'main': {'temp': 26.56, 'feels_like': 26.56, 'temp_min': 26.56, 'temp_max': 26.56, 'pressure': 1010, 'humidity': 73, 'sea_level': 1010, 'grnd_level': 912}, 'visibility': 10000, 'wind': {'speed': 6.55, 'deg': 266, 'gust': 12.7}, 'clouds': {'all': 100}, 'dt': 1750874389, 'sys': {'country': 'IN', 'sunrise': 1750811130, 'sunset': 1750857524}, 'timezone': 19800, 'id': 1277333, 'name': 'Bengaluru', 'cod': 200}\n"
   ]
  },
  {
   "cell_type": "code",
   "execution_count": 60,
   "id": "7f213a7f",
   "metadata": {},
   "outputs": [
    {
     "name": "stdout",
     "output_type": "stream",
     "text": [
      "{'coord': {'lon': 88.3697, 'lat': 22.5697}, 'weather': [{'id': 804, 'main': 'Clouds', 'description': 'overcast clouds', 'icon': '04n'}], 'base': 'stations', 'main': {'temp': 28.71, 'feels_like': 34.76, 'temp_min': 28.71, 'temp_max': 28.71, 'pressure': 1001, 'humidity': 84, 'sea_level': 1001, 'grnd_level': 1000}, 'visibility': 10000, 'wind': {'speed': 4.61, 'deg': 128, 'gust': 8.55}, 'clouds': {'all': 100}, 'dt': 1750874302, 'sys': {'country': 'IN', 'sunrise': 1750807418, 'sunset': 1750856068}, 'timezone': 19800, 'id': 1275004, 'name': 'Kolkata', 'cod': 200}\n"
     ]
    },
    {
     "data": {
      "text/plain": [
       "'The weather in kolkata is overcast clouds with a temperature of 28.71°C.'"
      ]
     },
     "execution_count": 60,
     "metadata": {},
     "output_type": "execute_result"
    }
   ],
   "source": [
    "get_weather.invoke(\"kolkata\")"
   ]
  },
  {
   "cell_type": "markdown",
   "id": "d61767ec",
   "metadata": {},
   "source": [
    "{'coord': {'lon': 88.3697, 'lat': 22.5697}, 'weather': [{'id': 804, 'main': 'Clouds', 'description': 'overcast clouds', 'icon': '04n'}], 'base': 'stations', 'main': {'temp': 28.71, 'feels_like': 34.76, 'temp_min': 28.71, 'temp_max': 28.71, 'pressure': 1001, 'humidity': 84, 'sea_level': 1001, 'grnd_level': 1000}, 'visibility': 10000, 'wind': {'speed': 4.61, 'deg': 128, 'gust': 8.55}, 'clouds': {'all': 100}, 'dt': 1750874302, 'sys': {'country': 'IN', 'sunrise': 1750807418, 'sunset': 1750856068}, 'timezone': 19800, 'id': 1275004, 'name': 'Kolkata', 'cod': 200}\n"
   ]
  },
  {
   "cell_type": "code",
   "execution_count": 61,
   "id": "4df68102",
   "metadata": {},
   "outputs": [
    {
     "name": "stdout",
     "output_type": "stream",
     "text": [
      "{'coord': {'lon': 37.6156, 'lat': 55.7522}, 'weather': [{'id': 802, 'main': 'Clouds', 'description': 'scattered clouds', 'icon': '03n'}], 'base': 'stations', 'main': {'temp': 15.87, 'feels_like': 15.55, 'temp_min': 15.87, 'temp_max': 15.87, 'pressure': 997, 'humidity': 78, 'sea_level': 997, 'grnd_level': 979}, 'visibility': 10000, 'wind': {'speed': 4.41, 'deg': 225, 'gust': 10.35}, 'clouds': {'all': 26}, 'dt': 1750880254, 'sys': {'country': 'RU', 'sunrise': 1750812353, 'sunset': 1750875498}, 'timezone': 10800, 'id': 524901, 'name': 'Moscow', 'cod': 200}\n"
     ]
    },
    {
     "data": {
      "text/plain": [
       "'The weather in moscow is scattered clouds with a temperature of 15.87°C.'"
      ]
     },
     "execution_count": 61,
     "metadata": {},
     "output_type": "execute_result"
    }
   ],
   "source": [
    "get_weather.invoke(\"moscow\")"
   ]
  },
  {
   "cell_type": "markdown",
   "id": "c802e4b3",
   "metadata": {},
   "source": [
    "{'coord': {'lon': 37.6156, 'lat': 55.7522}, 'weather': [{'id': 802, 'main': 'Clouds', 'description': 'scattered clouds', 'icon': '03n'}], 'base': 'stations', 'main': {'temp': 15.87, 'feels_like': 15.55, 'temp_min': 15.87, 'temp_max': 15.87, 'pressure': 997, 'humidity': 78, 'sea_level': 997, 'grnd_level': 979}, 'visibility': 10000, 'wind': {'speed': 4.41, 'deg': 225, 'gust': 10.35}, 'clouds': {'all': 26}, 'dt': 1750880254, 'sys': {'country': 'RU', 'sunrise': 1750812353, 'sunset': 1750875498}, 'timezone': 10800, 'id': 524901, 'name': 'Moscow', 'cod': 200}\n"
   ]
  },
  {
   "cell_type": "code",
   "execution_count": null,
   "id": "4723a493",
   "metadata": {},
   "outputs": [],
   "source": []
  }
 ],
 "metadata": {
  "kernelspec": {
   "display_name": "agentic_ai",
   "language": "python",
   "name": "python3"
  },
  "language_info": {
   "codemirror_mode": {
    "name": "ipython",
    "version": 3
   },
   "file_extension": ".py",
   "mimetype": "text/x-python",
   "name": "python",
   "nbconvert_exporter": "python",
   "pygments_lexer": "ipython3",
   "version": "3.12.0"
  }
 },
 "nbformat": 4,
 "nbformat_minor": 5
}
