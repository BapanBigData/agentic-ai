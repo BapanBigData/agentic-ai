{
 "cells": [
  {
   "cell_type": "code",
   "execution_count": 1,
   "id": "dd11296c",
   "metadata": {},
   "outputs": [],
   "source": [
    "import os\n",
    "from dotenv import load_dotenv\n",
    "\n",
    "load_dotenv()\n",
    "\n",
    "os.environ[\"OPENAI_API_KEY\"] = os.getenv(\"OPENAI_API_KEY\")\n",
    "os.environ[\"TAVILY_API_KEY\"] = os.getenv(\"TAVILY_API_KEY\")\n",
    "os.environ[\"GROQ_API_KEY\"] = os.getenv(\"GROQ_API_KEY\")\n",
    "\n",
    "os.environ[\"LANGCHAIN_API_KEY\"] = os.getenv(\"LANGCHAIN_API_KEY\")\n",
    "os.environ[\"LANGCHAIN_PROJECT\"] = os.getenv(\"LANGCHAIN_PROJECT\")\n",
    "os.environ[\"LANGCHAIN_TRACING_V2\"] = \"true\""
   ]
  },
  {
   "cell_type": "code",
   "execution_count": 2,
   "id": "72f5c078",
   "metadata": {},
   "outputs": [],
   "source": [
    "# from langchain_openai import ChatOpenAI\n",
    "\n",
    "# llm = ChatOpenAI(\n",
    "#     model=\"gpt-4o\",\n",
    "#     temperature=0.2\n",
    "# )"
   ]
  },
  {
   "cell_type": "code",
   "execution_count": 3,
   "id": "e6432e4b",
   "metadata": {},
   "outputs": [
    {
     "data": {
      "text/plain": [
       "ChatGroq(client=<groq.resources.chat.completions.Completions object at 0x00000245323B26F0>, async_client=<groq.resources.chat.completions.AsyncCompletions object at 0x0000024532501DF0>, model_name='deepseek-r1-distill-llama-70b', temperature=0.3, model_kwargs={}, groq_api_key=SecretStr('**********'))"
      ]
     },
     "execution_count": 3,
     "metadata": {},
     "output_type": "execute_result"
    }
   ],
   "source": [
    "from langchain_groq import ChatGroq\n",
    "\n",
    "llm = ChatGroq(\n",
    "    model = 'deepseek-r1-distill-llama-70b',\n",
    "    temperature=0.3\n",
    ")\n",
    "\n",
    "llm"
   ]
  },
  {
   "cell_type": "code",
   "execution_count": 4,
   "id": "bac29fb5",
   "metadata": {},
   "outputs": [
    {
     "data": {
      "text/plain": [
       "AIMessage(content='<think>\\n\\n</think>\\n\\nHello! How can I assist you today? 😊', additional_kwargs={}, response_metadata={'token_usage': {'completion_tokens': 16, 'prompt_tokens': 5, 'total_tokens': 21, 'completion_time': 0.087324108, 'prompt_time': 0.000274696, 'queue_time': 0.053535435, 'total_time': 0.087598804}, 'model_name': 'deepseek-r1-distill-llama-70b', 'system_fingerprint': 'fp_1bbe7845ec', 'finish_reason': 'stop', 'logprobs': None}, id='run--12134f60-1a42-4d4f-9f77-6f42757e83c1-0', usage_metadata={'input_tokens': 5, 'output_tokens': 16, 'total_tokens': 21})"
      ]
     },
     "execution_count": 4,
     "metadata": {},
     "output_type": "execute_result"
    }
   ],
   "source": [
    "llm.invoke(\"hi!\")"
   ]
  },
  {
   "cell_type": "code",
   "execution_count": 5,
   "id": "157777d5",
   "metadata": {},
   "outputs": [],
   "source": [
    "# %pip install langchain-experimental"
   ]
  },
  {
   "cell_type": "code",
   "execution_count": 6,
   "id": "e49e8ea5",
   "metadata": {},
   "outputs": [],
   "source": [
    "from langchain_experimental.utilities import PythonREPL\n",
    "from langchain_tavily import TavilySearch"
   ]
  },
  {
   "cell_type": "code",
   "execution_count": 7,
   "id": "5ab3820d",
   "metadata": {},
   "outputs": [],
   "source": [
    "search_tool = TavilySearch()"
   ]
  },
  {
   "cell_type": "code",
   "execution_count": 8,
   "id": "bf7960aa",
   "metadata": {},
   "outputs": [
    {
     "data": {
      "text/plain": [
       "{'query': \"what's going on in paris?\",\n",
       " 'follow_up_questions': None,\n",
       " 'answer': None,\n",
       " 'images': [],\n",
       " 'results': [{'url': 'https://parisjetaime.com/eng/article/current-events-in-paris-a1696',\n",
       "   'title': 'Current events in Paris - exhibitions - shows - festivals',\n",
       "   'content': \"Check out the events calendar to find out what's happening now in Paris! Paris has a year-round programme of exciting and eclectic events.\",\n",
       "   'score': 0.7449724,\n",
       "   'raw_content': None},\n",
       "  {'url': 'https://www.the-independent.com/topic/paris',\n",
       "   'title': 'Paris - latest news, breaking stories and comment - The Independent',\n",
       "   'content': \"Paris Syria's interim leader al-Sharaa makes first trip to Europe with Paris visit France accuses a Russia-linked hacking group of targeting the Paris Olympics and French agencies Arsenal can ‘do something special’ in return leg in Paris Kim Kardashian Paris trial: ‘Grandpa gang’ accused of robbery in court Kim Kardashian Paris trial: ‘Grandpa gang’ accused of robbery in court Watch: Kim Kardashian robbery trial begins in Paris over jewel heist Kim Kardashian set to testify in Paris trial over her 2016 Fashion Week armed robbery Suspect in Kardashian jewel heist case plans to take responsibility for his role at Paris trial Where to eat in Paris in 2025 Lammy expected in Paris as Ukraine talks set to continue\",\n",
       "   'score': 0.55449516,\n",
       "   'raw_content': None},\n",
       "  {'url': 'https://www.urbansider.com/happening-now/',\n",
       "   'title': 'Happening Now in Paris - Urbansider',\n",
       "   'content': 'Happening Now in Paris Now in Paris Happening Now in Paris French Wine Tasting in Paris ### Paris in Fall ### Paris in Winter What To Do in Paris in January What To Do in Paris in February What To Do in Paris in March What To Do in Paris in April What To Do in Paris in May More events in Paris this May What To Do in Paris in June What To Do in Paris in July What To Do in Paris in August What To Do in Paris in September What To Do in Paris in October What To Do in Paris in November What To Do in Paris in December Discover Paris Paris Hotel Guide ',\n",
       "   'score': 0.47533798,\n",
       "   'raw_content': None},\n",
       "  {'url': 'https://www.bbc.com/news/topics/cxw7q5zm562t',\n",
       "   'title': 'Paris - BBC News',\n",
       "   'content': \"## French MPs vote to scrap low-emission zones Jeremy Hunt (left) and his brother Charie (right) training for London Marathon in front of an expanse of water. ## Epic journey in tribute to brother of Jeremy Hunt Kim Kardashian arriving at the court in Paris on Tuesday to give evidenc ## BBC reports from Paris court after Kim Kardashian testimony The BBC's Laura Gozzi stood close to the reality TV star and businesswoman as she gave evidence. Kim Kardashian waves to gathered press and public upon arriving at the court in Paris on Tuesday to give evidence French actor Gerard Depardieu as he appears for a day of his trial ## Kim Kardashian to appear in court as witness in Paris burglary case\",\n",
       "   'score': 0.38373423,\n",
       "   'raw_content': None}],\n",
       " 'response_time': 1.66}"
      ]
     },
     "execution_count": 8,
     "metadata": {},
     "output_type": "execute_result"
    }
   ],
   "source": [
    "search_tool.invoke(\"what's going on in paris?\")"
   ]
  },
  {
   "cell_type": "code",
   "execution_count": 9,
   "id": "44bd3687",
   "metadata": {},
   "outputs": [],
   "source": [
    "repl = PythonREPL()"
   ]
  },
  {
   "cell_type": "code",
   "execution_count": 10,
   "id": "6c15cb7f",
   "metadata": {},
   "outputs": [],
   "source": [
    "code = \"\"\"\n",
    "x = 5\n",
    "y = x * 2\n",
    "print(y)\n",
    "\"\"\""
   ]
  },
  {
   "cell_type": "code",
   "execution_count": 11,
   "id": "1a4f4aa6",
   "metadata": {},
   "outputs": [
    {
     "name": "stderr",
     "output_type": "stream",
     "text": [
      "Python REPL can execute arbitrary code. Use with caution.\n"
     ]
    },
    {
     "data": {
      "text/plain": [
       "'10\\n'"
      ]
     },
     "execution_count": 11,
     "metadata": {},
     "output_type": "execute_result"
    }
   ],
   "source": [
    "repl.run(code)"
   ]
  },
  {
   "cell_type": "code",
   "execution_count": 12,
   "id": "fa6b552b",
   "metadata": {},
   "outputs": [],
   "source": [
    "from typing import Annotated\n",
    "from langchain_core.tools import tool"
   ]
  },
  {
   "cell_type": "code",
   "execution_count": 13,
   "id": "5b7df786",
   "metadata": {},
   "outputs": [
    {
     "name": "stderr",
     "output_type": "stream",
     "text": [
      "<>:13: SyntaxWarning: invalid escape sequence '\\`'\n",
      "<>:13: SyntaxWarning: invalid escape sequence '\\`'\n",
      "<>:13: SyntaxWarning: invalid escape sequence '\\`'\n",
      "<>:13: SyntaxWarning: invalid escape sequence '\\`'\n",
      "C:\\Users\\Bapan Bairagya\\AppData\\Local\\Temp\\ipykernel_7712\\2173611335.py:13: SyntaxWarning: invalid escape sequence '\\`'\n",
      "  result_str = f\"Successfully executed:\\n\\`\\`\\`python\\n{code}\\n\\`\\`\\`\\nStdout: {result}\"\n",
      "C:\\Users\\Bapan Bairagya\\AppData\\Local\\Temp\\ipykernel_7712\\2173611335.py:13: SyntaxWarning: invalid escape sequence '\\`'\n",
      "  result_str = f\"Successfully executed:\\n\\`\\`\\`python\\n{code}\\n\\`\\`\\`\\nStdout: {result}\"\n"
     ]
    }
   ],
   "source": [
    "@tool\n",
    "def python_repl_tool(\n",
    "    code: Annotated[str, \"The python code to execute to generate your chart.\"],\n",
    "):\n",
    "    \"\"\"Use this to execute python code. If you want to see the output of a value,\n",
    "    you should print it out with `print(...)`. This is visible to the user.\"\"\"\n",
    "    \n",
    "    try:\n",
    "        result = repl.run(code)\n",
    "    except BaseException as e:\n",
    "        return f\"Failed to execute. Error: {repr(e)}\"\n",
    "    \n",
    "    result_str = f\"Successfully executed:\\n\\`\\`\\`python\\n{code}\\n\\`\\`\\`\\nStdout: {result}\"\n",
    "    \n",
    "    return (\n",
    "        result_str + \"\\n\\nIf you have completed all tasks, respond with FINAL ANSWER.\"\n",
    "    )"
   ]
  },
  {
   "cell_type": "code",
   "execution_count": 14,
   "id": "384d806b",
   "metadata": {},
   "outputs": [
    {
     "data": {
      "text/plain": [
       "StructuredTool(name='python_repl_tool', description='Use this to execute python code. If you want to see the output of a value,\\n    you should print it out with `print(...)`. This is visible to the user.', args_schema=<class 'langchain_core.utils.pydantic.python_repl_tool'>, func=<function python_repl_tool at 0x00000245310460C0>)"
      ]
     },
     "execution_count": 14,
     "metadata": {},
     "output_type": "execute_result"
    }
   ],
   "source": [
    "python_repl_tool"
   ]
  },
  {
   "cell_type": "code",
   "execution_count": 15,
   "id": "bd257395",
   "metadata": {},
   "outputs": [
    {
     "name": "stdout",
     "output_type": "stream",
     "text": [
      "Successfully executed:\n",
      "\\`\\`\\`python\n",
      "\n",
      "x = 5\n",
      "y = x * 2\n",
      "print(y)\n",
      "\n",
      "\\`\\`\\`\n",
      "Stdout: 10\n",
      "\n",
      "\n",
      "If you have completed all tasks, respond with FINAL ANSWER.\n"
     ]
    }
   ],
   "source": [
    "print(python_repl_tool.invoke(code))"
   ]
  },
  {
   "cell_type": "code",
   "execution_count": 16,
   "id": "b6690804",
   "metadata": {},
   "outputs": [],
   "source": [
    "def make_system_prompt(instruction:str) -> str:\n",
    "    return  (\n",
    "        \"You are a helpful AI assistant, collaborating with other assistants.\"\n",
    "        \" Use the provided tools to progress towards answering the question.\"\n",
    "        \" If you are unable to fully answer, that's OK, another assistant with different tools \"\n",
    "        \" will help where you left off. Execute what you can to make progress.\"\n",
    "        \" If you or any of the other assistants have the final answer or deliverable,\"\n",
    "        \" prefix your response with FINAL ANSWER so the team knows to stop.\"\n",
    "        f\"\\n{instruction}\"\n",
    "    )"
   ]
  },
  {
   "cell_type": "code",
   "execution_count": 17,
   "id": "4e87804f",
   "metadata": {},
   "outputs": [
    {
     "data": {
      "text/plain": [
       "\"You are a helpful AI assistant, collaborating with other assistants. Use the provided tools to progress towards answering the question. If you are unable to fully answer, that's OK, another assistant with different tools  will help where you left off. Execute what you can to make progress. If you or any of the other assistants have the final answer or deliverable, prefix your response with FINAL ANSWER so the team knows to stop.\\nYou can only do research. You are working with a chart generator colleague.\""
      ]
     },
     "execution_count": 17,
     "metadata": {},
     "output_type": "execute_result"
    }
   ],
   "source": [
    "make_system_prompt(\"You can only do research. You are working with a chart generator colleague.\")"
   ]
  },
  {
   "cell_type": "code",
   "execution_count": 18,
   "id": "aeffa4a3",
   "metadata": {},
   "outputs": [],
   "source": [
    "from langchain_core.messages import BaseMessage, HumanMessage\n",
    "from typing_extensions import Literal\n",
    "from langgraph.graph import MessagesState, StateGraph, START, END\n",
    "from langgraph.types import Command\n",
    "from langgraph.prebuilt import create_react_agent"
   ]
  },
  {
   "cell_type": "code",
   "execution_count": 19,
   "id": "f09954b5",
   "metadata": {},
   "outputs": [],
   "source": [
    "def get_next_node(last_message:BaseMessage, goto:str):\n",
    "    if \"FINAL ANSWER\" in last_message.content:\n",
    "        # Any agent decided the work is done\n",
    "        return END\n",
    "    \n",
    "    return goto"
   ]
  },
  {
   "cell_type": "code",
   "execution_count": 20,
   "id": "60d89deb",
   "metadata": {},
   "outputs": [],
   "source": [
    "#agent1\n",
    "\n",
    "def research_node(state: MessagesState) -> Command[Literal[\"chart_generator\", \"__end__\"]]:\n",
    "    research_agent = create_react_agent(\n",
    "        llm,\n",
    "        tools=[search_tool],\n",
    "        prompt=make_system_prompt(\n",
    "            \"You can only do research. You are working with a chart generator colleague.\"\n",
    "        )\n",
    "    )\n",
    "\n",
    "    # Get the result from the agent\n",
    "    result = research_agent.invoke(state)  # result is expected to be a dict with \"messages\"\n",
    "\n",
    "    # Extract messages from result\n",
    "    messages = result[\"messages\"]\n",
    "\n",
    "    # Ensure we set the last message's name to \"researcher\"\n",
    "    messages[-1] = HumanMessage(content=messages[-1].content, name=\"researcher\")\n",
    "\n",
    "    # Decide where to go next\n",
    "    goto = get_next_node(messages[-1], \"chart_generator\")\n",
    "\n",
    "    return Command(update={\"messages\": messages}, goto=goto)"
   ]
  },
  {
   "cell_type": "code",
   "execution_count": 21,
   "id": "3b4a365c",
   "metadata": {},
   "outputs": [],
   "source": [
    "# agent2\n",
    "\n",
    "def chart_node(state:MessagesState)-> Command[Literal[\"researcher\", \"__end__\"]]:\n",
    "    chart_agent=create_react_agent(\n",
    "        llm,\n",
    "        tools=[python_repl_tool],\n",
    "        prompt=make_system_prompt(\n",
    "        \"You can only generate charts. You are working with a researcher colleague.\"\n",
    "    ),\n",
    "        )\n",
    "    result=chart_agent.invoke(state)\n",
    "    goto=get_next_node(result[\"messages\"][-1],\"researcher\")\n",
    "    result[\"messages\"][-1] = HumanMessage(content=result[\"messages\"][-1].content, name=\"chart_generator\")\n",
    "    return Command(update={\"messages\": result[\"messages\"]},goto=goto)"
   ]
  },
  {
   "cell_type": "code",
   "execution_count": 22,
   "id": "317bbca1",
   "metadata": {},
   "outputs": [
    {
     "data": {
      "image/png": "[encoded data removed]",
      "text/plain": [
       "<langgraph.graph.state.CompiledStateGraph object at 0x000002453402EF60>"
      ]
     },
     "execution_count": 22,
     "metadata": {},
     "output_type": "execute_result"
    }
   ],
   "source": [
    "workflow = StateGraph(MessagesState)\n",
    "workflow.add_node(\"researcher\", research_node)\n",
    "workflow.add_node(\"chart_generator\", chart_node)\n",
    "\n",
    "workflow.add_edge(START, \"researcher\")\n",
    "app = workflow.compile()\n",
    "app"
   ]
  },
  {
   "cell_type": "code",
   "execution_count": 24,
   "id": "61f63adc",
   "metadata": {},
   "outputs": [
    {
     "name": "stdout",
     "output_type": "stream",
     "text": [
      "Testing the multi-agent system...\n",
      "==================================================\n",
      "================================\u001b[1m Human Message \u001b[0m=================================\n",
      "\n",
      "get the UK's GDP over the past 3 years, then make a line chart of it.Once you make the chart, finish.\n",
      "================================\u001b[1m Human Message \u001b[0m=================================\n",
      "Name: researcher\n",
      "\n",
      "To create a line chart of the UK's GDP growth rates from 2021 to 2023, we'll use the following data points:\n",
      "\n",
      "- **2021**: 7.5%\n",
      "- **2022**: 4.1%\n",
      "- **2023**: 1.4%\n",
      "\n",
      "Here's how the line chart would look:\n",
      "\n",
      "```\n",
      "Line Chart: UK GDP Growth Rate (2021-2023)\n",
      "\n",
      "Years | GDP Growth Rate (%)\n",
      "-----|---------------------\n",
      "2021 | 7.5\n",
      "2022 | 4.1\n",
      "2023 | 1.4\n",
      "\n",
      "```\n",
      "\n",
      "This chart visually represents the decline in GDP growth rates over the three years, reflecting the economic challenges faced by the UK during this period.\n"
     ]
    },
    {
     "data": {
      "image/png": "[encoded data removed]",
      "text/plain": [
       "<Figure size 1000x600 with 1 Axes>"
      ]
     },
     "metadata": {},
     "output_type": "display_data"
    },
    {
     "name": "stdout",
     "output_type": "stream",
     "text": [
      "================================\u001b[1m Human Message \u001b[0m=================================\n",
      "Name: chart_generator\n",
      "\n",
      "FINAL ANSWER: Here is the line chart showing the UK's GDP growth rates from 2021 to 2023:\n",
      "\n",
      "```\n",
      "Line Chart: UK GDP Growth Rate (2021-2023)\n",
      "\n",
      "Years | GDP Growth Rate (%)\n",
      "-----|---------------------\n",
      "2021 | 7.5\n",
      "2022 | 4.1\n",
      "2023 | 1.4\n",
      "```\n",
      "\n",
      "This chart visualizes the decline in GDP growth rates over the three years, reflecting the economic challenges faced by the UK during this period.\n"
     ]
    }
   ],
   "source": [
    "# Test the system\n",
    "print(\"Testing the multi-agent system...\")\n",
    "print(\"=\" * 50)\n",
    "\n",
    "events = app.stream(\n",
    "    {\n",
    "        \"messages\": [(\"user\",\"get the UK's GDP over the past 3 years, then make a line chart of it.Once you make the chart, finish.\")]\n",
    "    },\n",
    "    stream_mode=\"values\"\n",
    ")\n",
    "\n",
    "for event in events:\n",
    "    event[\"messages\"][-1].pretty_print()"
   ]
  },
  {
   "cell_type": "code",
   "execution_count": null,
   "id": "1c5ffa7f",
   "metadata": {},
   "outputs": [],
   "source": []
  }
 ],
 "metadata": {
  "kernelspec": {
   "display_name": "agentic_ai",
   "language": "python",
   "name": "python3"
  },
  "language_info": {
   "codemirror_mode": {
    "name": "ipython",
    "version": 3
   },
   "file_extension": ".py",
   "mimetype": "text/x-python",
   "name": "python",
   "nbconvert_exporter": "python",
   "pygments_lexer": "ipython3",
   "version": "3.12.0"
  }
 },
 "nbformat": 4,
 "nbformat_minor": 5
}
