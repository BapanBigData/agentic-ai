{
 "cells": [
  {
   "cell_type": "code",
   "execution_count": 1,
   "id": "c9d5324d",
   "metadata": {},
   "outputs": [],
   "source": [
    "import os\n",
    "from dotenv import load_dotenv"
   ]
  },
  {
   "cell_type": "code",
   "execution_count": 16,
   "id": "d616c350",
   "metadata": {},
   "outputs": [],
   "source": [
    "\n",
    "load_dotenv()\n",
    "\n",
    "os.environ[\"ANTHROPIC_API_KEY\"] = os.getenv(\"ANTHROPIC_API_KEY\")\n",
    "os.environ[\"LANGCHAIN_API_KEY\"] = os.getenv(\"LANGCHAIN_API_KEY\")\n",
    "os.environ[\"LANGCHAIN_PROJECT\"] = os.getenv(\"LANGCHAIN_PROJECT\")\n",
    "os.environ[\"LANGCHAIN_TRACING_V2\"] = \"true\""
   ]
  },
  {
   "cell_type": "code",
   "execution_count": null,
   "id": "033168b5",
   "metadata": {},
   "outputs": [],
   "source": [
    "from pydantic import BaseModel, Field\n",
    "\n",
    "class Product(BaseModel):\n",
    "    product_name: str = Field(description=\"Could be any product\")\n",
    "    product_details: str = Field(description=\"Description about the product\")\n",
    "    tentative_price: float = Field(gt=0.0, description=\"The tentative price must be in USD\")"
   ]
  },
  {
   "cell_type": "code",
   "execution_count": 6,
   "id": "8fd3538a",
   "metadata": {},
   "outputs": [
    {
     "data": {
      "text/plain": [
       "'The output should be formatted as a JSON instance that conforms to the JSON schema below.\\n\\nAs an example, for the schema {\"properties\": {\"foo\": {\"title\": \"Foo\", \"description\": \"a list of strings\", \"type\": \"array\", \"items\": {\"type\": \"string\"}}}, \"required\": [\"foo\"]}\\nthe object {\"foo\": [\"bar\", \"baz\"]} is a well-formatted instance of the schema. The object {\"properties\": {\"foo\": [\"bar\", \"baz\"]}} is not well-formatted.\\n\\nHere is the output schema:\\n```\\n{\"properties\": {\"product_name\": {\"description\": \"Could be any product\", \"title\": \"Product Name\", \"type\": \"string\"}, \"product_details\": {\"description\": \"Description about the product\", \"title\": \"Product Details\", \"type\": \"string\"}, \"tentative_price\": {\"description\": \"The tentative price must be in USD\", \"exclusiveMinimum\": 0, \"title\": \"Tentative Price\", \"type\": \"number\"}}, \"required\": [\"product_name\", \"product_details\", \"tentative_price\"]}\\n```'"
      ]
     },
     "execution_count": 6,
     "metadata": {},
     "output_type": "execute_result"
    }
   ],
   "source": [
    "from langchain_core.output_parsers import JsonOutputParser\n",
    "\n",
    "output_parser = JsonOutputParser(pydantic_object=Product)\n",
    "output_parser.get_format_instructions()"
   ]
  },
  {
   "cell_type": "code",
   "execution_count": 12,
   "id": "ba2a2c54",
   "metadata": {},
   "outputs": [
    {
     "data": {
      "text/plain": [
       "ChatPromptTemplate(input_variables=['query'], input_types={}, partial_variables={}, messages=[SystemMessagePromptTemplate(prompt=PromptTemplate(input_variables=[], input_types={}, partial_variables={}, template='You are a helpful product assistant. The output should be formatted as a JSON instance that conforms to the JSON schema below.\\n\\nAs an example, for the schema {{\"properties\": {{\"foo\": {{\"title\": \"Foo\", \"description\": \"a list of strings\", \"type\": \"array\", \"items\": {{\"type\": \"string\"}}}}}}, \"required\": [\"foo\"]}}\\nthe object {{\"foo\": [\"bar\", \"baz\"]}} is a well-formatted instance of the schema. The object {{\"properties\": {{\"foo\": [\"bar\", \"baz\"]}}}} is not well-formatted.\\n\\nHere is the output schema:\\n```\\n{{\"properties\": {{\"product_name\": {{\"description\": \"Could be any product\", \"title\": \"Product Name\", \"type\": \"string\"}}, \"product_details\": {{\"description\": \"Description about the product\", \"title\": \"Product Details\", \"type\": \"string\"}}, \"tentative_price\": {{\"description\": \"The tentative price must be in USD\", \"exclusiveMinimum\": 0, \"title\": \"Tentative Price\", \"type\": \"number\"}}}}, \"required\": [\"product_name\", \"product_details\", \"tentative_price\"]}}\\n```'), additional_kwargs={}), HumanMessagePromptTemplate(prompt=PromptTemplate(input_variables=['query'], input_types={}, partial_variables={}, template='{query}'), additional_kwargs={})])"
      ]
     },
     "execution_count": 12,
     "metadata": {},
     "output_type": "execute_result"
    }
   ],
   "source": [
    "from langchain_core.prompts import ChatPromptTemplate\n",
    "\n",
    "# Escape curly braces by doubling them\n",
    "format_instructions = output_parser.get_format_instructions().replace(\"{\", \"{{\").replace(\"}\", \"}}\")\n",
    "\n",
    "prompt = ChatPromptTemplate.from_messages(\n",
    "    [\n",
    "        (\"system\", f\"You are a helpful product assistant. {format_instructions}\"),\n",
    "        (\"user\", \"{query}\")\n",
    "    ]\n",
    ")\n",
    "\n",
    "prompt"
   ]
  },
  {
   "cell_type": "code",
   "execution_count": 9,
   "id": "c4eb86cc",
   "metadata": {},
   "outputs": [
    {
     "data": {
      "text/plain": [
       "ChatAnthropic(model='claude-3-5-sonnet-latest', anthropic_api_url='https://api.anthropic.com', anthropic_api_key=SecretStr('**********'), model_kwargs={})"
      ]
     },
     "execution_count": 9,
     "metadata": {},
     "output_type": "execute_result"
    }
   ],
   "source": [
    "from langchain_anthropic.chat_models import ChatAnthropic\n",
    "\n",
    "model = ChatAnthropic(model=\"claude-3-5-sonnet-latest\")\n",
    "model"
   ]
  },
  {
   "cell_type": "code",
   "execution_count": 13,
   "id": "6f529b8e",
   "metadata": {},
   "outputs": [
    {
     "data": {
      "text/plain": [
       "ChatPromptTemplate(input_variables=['query'], input_types={}, partial_variables={}, messages=[SystemMessagePromptTemplate(prompt=PromptTemplate(input_variables=[], input_types={}, partial_variables={}, template='You are a helpful product assistant. The output should be formatted as a JSON instance that conforms to the JSON schema below.\\n\\nAs an example, for the schema {{\"properties\": {{\"foo\": {{\"title\": \"Foo\", \"description\": \"a list of strings\", \"type\": \"array\", \"items\": {{\"type\": \"string\"}}}}}}, \"required\": [\"foo\"]}}\\nthe object {{\"foo\": [\"bar\", \"baz\"]}} is a well-formatted instance of the schema. The object {{\"properties\": {{\"foo\": [\"bar\", \"baz\"]}}}} is not well-formatted.\\n\\nHere is the output schema:\\n```\\n{{\"properties\": {{\"product_name\": {{\"description\": \"Could be any product\", \"title\": \"Product Name\", \"type\": \"string\"}}, \"product_details\": {{\"description\": \"Description about the product\", \"title\": \"Product Details\", \"type\": \"string\"}}, \"tentative_price\": {{\"description\": \"The tentative price must be in USD\", \"exclusiveMinimum\": 0, \"title\": \"Tentative Price\", \"type\": \"number\"}}}}, \"required\": [\"product_name\", \"product_details\", \"tentative_price\"]}}\\n```'), additional_kwargs={}), HumanMessagePromptTemplate(prompt=PromptTemplate(input_variables=['query'], input_types={}, partial_variables={}, template='{query}'), additional_kwargs={})])\n",
       "| ChatAnthropic(model='claude-3-5-sonnet-latest', anthropic_api_url='https://api.anthropic.com', anthropic_api_key=SecretStr('**********'), model_kwargs={})\n",
       "| JsonOutputParser(pydantic_object=<class '__main__.Product'>)"
      ]
     },
     "execution_count": 13,
     "metadata": {},
     "output_type": "execute_result"
    }
   ],
   "source": [
    "chain = prompt | model | output_parser\n",
    "chain"
   ]
  },
  {
   "cell_type": "code",
   "execution_count": 14,
   "id": "96ebd42d",
   "metadata": {},
   "outputs": [
    {
     "name": "stdout",
     "output_type": "stream",
     "text": [
      "{'product_name': 'Sony WH-1000XM5', 'product_details': 'The Sony WH-1000XM5 is a premium wireless noise-canceling headphone featuring industry-leading noise cancellation technology with eight microphones and two processors. It offers up to 30 hours of battery life, multipoint Bluetooth connectivity, and superior sound quality with 30mm drivers. The headphones come with touch controls, speak-to-chat functionality, and adaptive sound control. They feature a new minimalist design with a stepless slider and soft-fit leather for enhanced comfort during long listening sessions.', 'tentative_price': 399.99}\n"
     ]
    }
   ],
   "source": [
    "response = chain.invoke(\n",
    "    {\"query\": \"Can you tell me about the Sony WH-1000XM5 headphones?\"}\n",
    ")\n",
    "\n",
    "print(response)"
   ]
  },
  {
   "cell_type": "code",
   "execution_count": 15,
   "id": "2f4a918c",
   "metadata": {},
   "outputs": [
    {
     "data": {
      "text/plain": [
       "{'product_name': 'Sony WH-1000XM5',\n",
       " 'product_details': 'The Sony WH-1000XM5 is a premium wireless noise-canceling headphone featuring industry-leading noise cancellation technology with eight microphones and two processors. It offers up to 30 hours of battery life, multipoint Bluetooth connectivity, and superior sound quality with 30mm drivers. The headphones come with touch controls, speak-to-chat functionality, and adaptive sound control. They feature a new minimalist design with a stepless slider and soft-fit leather for enhanced comfort during long listening sessions.',\n",
       " 'tentative_price': 399.99}"
      ]
     },
     "execution_count": 15,
     "metadata": {},
     "output_type": "execute_result"
    }
   ],
   "source": [
    "response"
   ]
  },
  {
   "cell_type": "markdown",
   "id": "6f877d98",
   "metadata": {},
   "source": []
  },
  {
   "cell_type": "markdown",
   "id": "50b4138e",
   "metadata": {},
   "source": [
    "In this assignment, we successfully built a simple product assistant using a Language Learning Model (LLM) integrated with Pydantic for structured output. The assistant takes a user query about any product and responds with:\n",
    "\n",
    "* **Product Name**\n",
    "\n",
    "* **Product Details**\n",
    "\n",
    "* **Tentative Price in USD (as an float)**\n",
    "\n",
    "We utilized LangChain's `ChatPromptTemplate` to guide the model output and `JsonOutputParser` with a `Pydantic` model to ensure the response adhered strictly to the expected structure. This approach guarantees reliable and machine-readable output, making the assistant robust and production-ready.\n",
    "\n",
    "This solution effectively combines prompt engineering, structured parsing, and modern LLM capabilities to fulfill the task requirements"
   ]
  },
  {
   "cell_type": "code",
   "execution_count": null,
   "id": "80bf481f",
   "metadata": {},
   "outputs": [],
   "source": []
  }
 ],
 "metadata": {
  "kernelspec": {
   "display_name": "agentic_ai",
   "language": "python",
   "name": "python3"
  },
  "language_info": {
   "codemirror_mode": {
    "name": "ipython",
    "version": 3
   },
   "file_extension": ".py",
   "mimetype": "text/x-python",
   "name": "python",
   "nbconvert_exporter": "python",
   "pygments_lexer": "ipython3",
   "version": "3.12.0"
  }
 },
 "nbformat": 4,
 "nbformat_minor": 5
}
