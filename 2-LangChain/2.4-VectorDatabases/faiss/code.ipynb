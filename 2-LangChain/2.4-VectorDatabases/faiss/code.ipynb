{
 "cells": [
  {
   "cell_type": "code",
   "execution_count": 1,
   "id": "bd2f59ec",
   "metadata": {},
   "outputs": [],
   "source": [
    "import os\n",
    "from dotenv import load_dotenv"
   ]
  },
  {
   "cell_type": "code",
   "execution_count": 2,
   "id": "8969c935",
   "metadata": {},
   "outputs": [],
   "source": [
    "load_dotenv()\n",
    "\n",
    "os.environ['HF_TOKEN']=os.getenv(\"HF_TOKEN\")"
   ]
  },
  {
   "cell_type": "code",
   "execution_count": 3,
   "id": "424545c8",
   "metadata": {},
   "outputs": [],
   "source": [
    "from langchain_huggingface import HuggingFaceEmbeddings\n",
    "embeddings=HuggingFaceEmbeddings(model_name=\"all-MiniLM-L6-v2\")"
   ]
  },
  {
   "cell_type": "code",
   "execution_count": 5,
   "id": "6052d406",
   "metadata": {},
   "outputs": [
    {
     "data": {
      "text/plain": [
       "384"
      ]
     },
     "execution_count": 5,
     "metadata": {},
     "output_type": "execute_result"
    }
   ],
   "source": [
    "vec = embeddings.embed_query(\"hello AI\")\n",
    "len(vec)"
   ]
  },
  {
   "cell_type": "code",
   "execution_count": 12,
   "id": "a15ab125",
   "metadata": {},
   "outputs": [],
   "source": [
    "from sklearn.metrics.pairwise import cosine_similarity, euclidean_distances"
   ]
  },
  {
   "cell_type": "code",
   "execution_count": 7,
   "id": "86d5fee1",
   "metadata": {},
   "outputs": [],
   "source": [
    "documents = [\n",
    "    \"what is the capital of USA?\",\n",
    "    \"Who is the president of USA?\",\n",
    "    \"Who is the prime minister of India?\"\n",
    "]"
   ]
  },
  {
   "cell_type": "code",
   "execution_count": 8,
   "id": "78268bb2",
   "metadata": {},
   "outputs": [],
   "source": [
    "my_query = \"Narendra modi is the prime minister of india.\""
   ]
  },
  {
   "cell_type": "code",
   "execution_count": 9,
   "id": "045645cf",
   "metadata": {},
   "outputs": [],
   "source": [
    "document_embeddings = embeddings.embed_documents(documents)"
   ]
  },
  {
   "cell_type": "code",
   "execution_count": 10,
   "id": "25c9ca89",
   "metadata": {},
   "outputs": [],
   "source": [
    "query_embedding = embeddings.embed_query(my_query)"
   ]
  },
  {
   "cell_type": "code",
   "execution_count": 11,
   "id": "b9acb75c",
   "metadata": {},
   "outputs": [
    {
     "data": {
      "text/plain": [
       "array([[0.07118418, 0.33584699, 0.76168934]])"
      ]
     },
     "execution_count": 11,
     "metadata": {},
     "output_type": "execute_result"
    }
   ],
   "source": [
    "cosine_similarity([query_embedding], document_embeddings)"
   ]
  },
  {
   "cell_type": "code",
   "execution_count": 13,
   "id": "9add6c2d",
   "metadata": {},
   "outputs": [
    {
     "data": {
      "text/plain": [
       "array([[1.36294968, 1.1525216 , 0.69037768]])"
      ]
     },
     "execution_count": 13,
     "metadata": {},
     "output_type": "execute_result"
    }
   ],
   "source": [
    "euclidean_distances([query_embedding], document_embeddings)"
   ]
  },
  {
   "cell_type": "markdown",
   "id": "02a37efe",
   "metadata": {},
   "source": [
    "| Metric            | Similarity Score Range | Behavior                              |\n",
    "| ----------------- | ---------------------- | ------------------------------------- |\n",
    "| Cosine Similarity | \\[-1, 1]               | Focuses on angle only |\n",
    "| L2 Distance       | \\[0, ∞)                | Focuses on **magnitude + direction**  |\n"
   ]
  },
  {
   "cell_type": "code",
   "execution_count": 14,
   "id": "3e411b8e",
   "metadata": {},
   "outputs": [],
   "source": [
    "import faiss\n",
    "from langchain_community.vectorstores import FAISS\n",
    "from langchain_community.docstore.in_memory import InMemoryDocstore"
   ]
  },
  {
   "cell_type": "code",
   "execution_count": 15,
   "id": "1fad7fa9",
   "metadata": {},
   "outputs": [
    {
     "data": {
      "text/plain": [
       "<faiss.swigfaiss_avx2.IndexFlatL2; proxy of <Swig Object of type 'faiss::IndexFlatL2 *' at 0x0000020CEC33B510> >"
      ]
     },
     "execution_count": 15,
     "metadata": {},
     "output_type": "execute_result"
    }
   ],
   "source": [
    "index = faiss.IndexFlatL2(384)\n",
    "index"
   ]
  },
  {
   "cell_type": "code",
   "execution_count": 16,
   "id": "955877b0",
   "metadata": {},
   "outputs": [
    {
     "data": {
      "text/plain": [
       "<langchain_community.vectorstores.faiss.FAISS at 0x20cefc2aa80>"
      ]
     },
     "execution_count": 16,
     "metadata": {},
     "output_type": "execute_result"
    }
   ],
   "source": [
    "vector_store = FAISS(\n",
    "    embedding_function=embeddings,\n",
    "    index=index,\n",
    "    docstore=InMemoryDocstore(),\n",
    "    index_to_docstore_id={},\n",
    ")\n",
    "vector_store"
   ]
  },
  {
   "cell_type": "code",
   "execution_count": 17,
   "id": "ac697be4",
   "metadata": {},
   "outputs": [
    {
     "data": {
      "text/plain": [
       "['c311b7b3-de2d-4535-b965-62efb6f83c19',\n",
       " 'a9224e28-ae56-4f03-8458-83c6780b9c7c',\n",
       " 'c0ef2ec4-db69-4ade-b57b-dd0f674bd514']"
      ]
     },
     "execution_count": 17,
     "metadata": {},
     "output_type": "execute_result"
    }
   ],
   "source": [
    "vector_store.add_texts([\"AI is future\",\"AI is powerful\",\"Dogs are cute\"])"
   ]
  },
  {
   "cell_type": "code",
   "execution_count": 18,
   "id": "d6a1eb5f",
   "metadata": {},
   "outputs": [
    {
     "data": {
      "text/plain": [
       "{0: 'c311b7b3-de2d-4535-b965-62efb6f83c19',\n",
       " 1: 'a9224e28-ae56-4f03-8458-83c6780b9c7c',\n",
       " 2: 'c0ef2ec4-db69-4ade-b57b-dd0f674bd514'}"
      ]
     },
     "execution_count": 18,
     "metadata": {},
     "output_type": "execute_result"
    }
   ],
   "source": [
    "vector_store.index_to_docstore_id"
   ]
  },
  {
   "cell_type": "code",
   "execution_count": 19,
   "id": "c395755f",
   "metadata": {},
   "outputs": [],
   "source": [
    "results = vector_store.similarity_search(\"Tell me about AI\", k=1)"
   ]
  },
  {
   "cell_type": "code",
   "execution_count": 20,
   "id": "f1289e34",
   "metadata": {},
   "outputs": [
    {
     "data": {
      "text/plain": [
       "[Document(id='a9224e28-ae56-4f03-8458-83c6780b9c7c', metadata={}, page_content='AI is powerful')]"
      ]
     },
     "execution_count": 20,
     "metadata": {},
     "output_type": "execute_result"
    }
   ],
   "source": [
    "results"
   ]
  },
  {
   "cell_type": "markdown",
   "id": "b33995a3",
   "metadata": {},
   "source": [
    "| Feature               | `Flat`                | `IVF` (Inverted File Index)        | `HNSW` (Graph-based Index)          |\n",
    "| --------------------- | --------------------- | ---------------------------------- | ----------------------------------- |\n",
    "| Type of Search     | Exact                 | Approximate (cluster-based)        | Approximate (graph-based traversal) |\n",
    "| Speed               | Slow (linear scan)    | Fast (search only in top clusters) | Very Fast (graph walk)              |\n"
   ]
  },
  {
   "cell_type": "markdown",
   "id": "1083d8ad",
   "metadata": {},
   "source": [
    "| Dataset Size              | Recommended Index                 |\n",
    "| ------------------------- | --------------------------------- |\n",
    "| UPTO 1L                     | `IndexFlatL2` or `IndexFlatIP`    |\n",
    "| UPTO 1M                  | `IndexIVFFlat` or `IndexHNSWFlat` |\n",
    "| > 1M                      | `IndexIVFPQ` or `IndexHNSWFlat`   |\n"
   ]
  },
  {
   "cell_type": "code",
   "execution_count": 21,
   "id": "0e5f4837",
   "metadata": {},
   "outputs": [],
   "source": [
    "# from uuid import uuid4\n",
    "from langchain_core.documents import Document\n",
    "\n",
    "document_1 = Document(\n",
    "    page_content=\"I had chocolate chip pancakes and scrambled eggs for breakfast this morning.\",\n",
    "    metadata={\"source\": \"tweet\"},\n",
    ")\n",
    "\n",
    "document_2 = Document(\n",
    "    page_content=\"The weather forecast for tomorrow is cloudy and overcast, with a high of 62 degrees.\",\n",
    "    metadata={\"source\": \"news\"},\n",
    ")\n",
    "\n",
    "document_3 = Document(\n",
    "    page_content=\"Building an exciting new project with LangChain - come check it out!\",\n",
    "    metadata={\"source\": \"tweet\"},\n",
    ")\n",
    "\n",
    "document_4 = Document(\n",
    "    page_content=\"Robbers broke into the city bank and stole $1 million in cash.\",\n",
    "    metadata={\"source\": \"news\"},\n",
    ")\n",
    "\n",
    "document_5 = Document(\n",
    "    page_content=\"Wow! That was an amazing movie. I can't wait to see it again.\",\n",
    "    metadata={\"source\": \"tweet\"},\n",
    ")\n",
    "\n",
    "document_6 = Document(\n",
    "    page_content=\"Is the new iPhone worth the price? Read this review to find out.\",\n",
    "    metadata={\"source\": \"website\"},\n",
    ")\n",
    "\n",
    "document_7 = Document(\n",
    "    page_content=\"The top 10 soccer players in the world right now.\",\n",
    "    metadata={\"source\": \"website\"},\n",
    ")\n",
    "\n",
    "document_8 = Document(\n",
    "    page_content=\"LangGraph is the best framework for building stateful, agentic applications!\",\n",
    "    metadata={\"source\": \"tweet\"},\n",
    ")\n",
    "\n",
    "document_9 = Document(\n",
    "    page_content=\"The stock market is down 500 points today due to fears of a recession.\",\n",
    "    metadata={\"source\": \"news\"},\n",
    ")\n",
    "\n",
    "document_10 = Document(\n",
    "    page_content=\"I have a bad feeling I am going to get deleted :(\",\n",
    "    metadata={\"source\": \"tweet\"},\n",
    ")\n",
    "\n",
    "documents = [\n",
    "    document_1,\n",
    "    document_2,\n",
    "    document_3,\n",
    "    document_4,\n",
    "    document_5,\n",
    "    document_6,\n",
    "    document_7,\n",
    "    document_8,\n",
    "    document_9,\n",
    "    document_10,\n",
    "]"
   ]
  },
  {
   "cell_type": "code",
   "execution_count": 22,
   "id": "361ebd4b",
   "metadata": {},
   "outputs": [
    {
     "data": {
      "text/plain": [
       "[Document(metadata={'source': 'tweet'}, page_content='I had chocolate chip pancakes and scrambled eggs for breakfast this morning.'),\n",
       " Document(metadata={'source': 'news'}, page_content='The weather forecast for tomorrow is cloudy and overcast, with a high of 62 degrees.'),\n",
       " Document(metadata={'source': 'tweet'}, page_content='Building an exciting new project with LangChain - come check it out!'),\n",
       " Document(metadata={'source': 'news'}, page_content='Robbers broke into the city bank and stole $1 million in cash.'),\n",
       " Document(metadata={'source': 'tweet'}, page_content=\"Wow! That was an amazing movie. I can't wait to see it again.\"),\n",
       " Document(metadata={'source': 'website'}, page_content='Is the new iPhone worth the price? Read this review to find out.'),\n",
       " Document(metadata={'source': 'website'}, page_content='The top 10 soccer players in the world right now.'),\n",
       " Document(metadata={'source': 'tweet'}, page_content='LangGraph is the best framework for building stateful, agentic applications!'),\n",
       " Document(metadata={'source': 'news'}, page_content='The stock market is down 500 points today due to fears of a recession.'),\n",
       " Document(metadata={'source': 'tweet'}, page_content='I have a bad feeling I am going to get deleted :(')]"
      ]
     },
     "execution_count": 22,
     "metadata": {},
     "output_type": "execute_result"
    }
   ],
   "source": [
    "documents"
   ]
  },
  {
   "cell_type": "code",
   "execution_count": 23,
   "id": "7f0ef8ab",
   "metadata": {},
   "outputs": [],
   "source": [
    "index = faiss.IndexFlatIP(384)\n",
    "\n",
    "vector_store = FAISS(\n",
    "    embedding_function=embeddings,\n",
    "    index=index,\n",
    "    docstore=InMemoryDocstore(),\n",
    "    index_to_docstore_id={},\n",
    ")"
   ]
  },
  {
   "cell_type": "code",
   "execution_count": 24,
   "id": "c021b982",
   "metadata": {},
   "outputs": [
    {
     "data": {
      "text/plain": [
       "['6d57db54-d4e3-45d7-bdc9-cf09db0bac13',\n",
       " '5621e37a-50c0-469a-a549-2509bab9d2dd',\n",
       " '5ef888fb-8247-4d1e-a8c1-fcd5b1822c5c',\n",
       " 'f66dbac7-b986-4e23-b30d-2449588aa0f8',\n",
       " '02132a46-b446-4ede-b2b2-36b1cdf9e054',\n",
       " '864a62cb-6bd3-4ac5-a2cc-4f58833d53ff',\n",
       " '29138511-a9ee-45ce-964c-96ef97976eda',\n",
       " 'b81212ef-838f-48dd-8b53-7c99fd9d08a7',\n",
       " 'c8b70a9c-bceb-4e67-8079-12ec7aafe609',\n",
       " 'ed50cd7d-a22e-42a0-88b1-6d2aa34e7d29']"
      ]
     },
     "execution_count": 24,
     "metadata": {},
     "output_type": "execute_result"
    }
   ],
   "source": [
    "vector_store.add_documents(documents=documents)"
   ]
  },
  {
   "cell_type": "code",
   "execution_count": 25,
   "id": "cfc97daf",
   "metadata": {},
   "outputs": [
    {
     "data": {
      "text/plain": [
       "[Document(id='5ef888fb-8247-4d1e-a8c1-fcd5b1822c5c', metadata={'source': 'tweet'}, page_content='Building an exciting new project with LangChain - come check it out!'),\n",
       " Document(id='b81212ef-838f-48dd-8b53-7c99fd9d08a7', metadata={'source': 'tweet'}, page_content='LangGraph is the best framework for building stateful, agentic applications!')]"
      ]
     },
     "execution_count": 25,
     "metadata": {},
     "output_type": "execute_result"
    }
   ],
   "source": [
    "vector_store.similarity_search(\n",
    "    \"LangChain provides abstractions to make working with LLMs easy\",\n",
    "    k = 2 \n",
    "    \n",
    ")"
   ]
  },
  {
   "cell_type": "code",
   "execution_count": 26,
   "id": "478ff9f2",
   "metadata": {},
   "outputs": [
    {
     "data": {
      "text/plain": [
       "[Document(id='5ef888fb-8247-4d1e-a8c1-fcd5b1822c5c', metadata={'source': 'tweet'}, page_content='Building an exciting new project with LangChain - come check it out!'),\n",
       " Document(id='b81212ef-838f-48dd-8b53-7c99fd9d08a7', metadata={'source': 'tweet'}, page_content='LangGraph is the best framework for building stateful, agentic applications!'),\n",
       " Document(id='ed50cd7d-a22e-42a0-88b1-6d2aa34e7d29', metadata={'source': 'tweet'}, page_content='I have a bad feeling I am going to get deleted :('),\n",
       " Document(id='6d57db54-d4e3-45d7-bdc9-cf09db0bac13', metadata={'source': 'tweet'}, page_content='I had chocolate chip pancakes and scrambled eggs for breakfast this morning.')]"
      ]
     },
     "execution_count": 26,
     "metadata": {},
     "output_type": "execute_result"
    }
   ],
   "source": [
    "vector_store.similarity_search(\n",
    "    \"LangChain provides abstractions to make working with LLMs easy\",\n",
    "    filter = {\"source\":{\"$eq\": \"tweet\"}}\n",
    "    \n",
    ")"
   ]
  },
  {
   "cell_type": "code",
   "execution_count": 28,
   "id": "5209b412",
   "metadata": {},
   "outputs": [],
   "source": [
    "result = vector_store.similarity_search(\n",
    "    \"LangChain provides abstractions to make working with LLMs easy\",\n",
    "    filter = {\"source\":\"news\"}\n",
    "    \n",
    ")"
   ]
  },
  {
   "cell_type": "code",
   "execution_count": 29,
   "id": "be644e3e",
   "metadata": {},
   "outputs": [
    {
     "data": {
      "text/plain": [
       "[Document(id='f66dbac7-b986-4e23-b30d-2449588aa0f8', metadata={'source': 'news'}, page_content='Robbers broke into the city bank and stole $1 million in cash.'),\n",
       " Document(id='5621e37a-50c0-469a-a549-2509bab9d2dd', metadata={'source': 'news'}, page_content='The weather forecast for tomorrow is cloudy and overcast, with a high of 62 degrees.'),\n",
       " Document(id='c8b70a9c-bceb-4e67-8079-12ec7aafe609', metadata={'source': 'news'}, page_content='The stock market is down 500 points today due to fears of a recession.')]"
      ]
     },
     "execution_count": 29,
     "metadata": {},
     "output_type": "execute_result"
    }
   ],
   "source": [
    "result"
   ]
  },
  {
   "cell_type": "code",
   "execution_count": 30,
   "id": "2337217a",
   "metadata": {},
   "outputs": [
    {
     "data": {
      "text/plain": [
       "{'source': 'news'}"
      ]
     },
     "execution_count": 30,
     "metadata": {},
     "output_type": "execute_result"
    }
   ],
   "source": [
    "result[0].metadata"
   ]
  },
  {
   "cell_type": "code",
   "execution_count": 31,
   "id": "e2646d4a",
   "metadata": {},
   "outputs": [
    {
     "data": {
      "text/plain": [
       "'Robbers broke into the city bank and stole $1 million in cash.'"
      ]
     },
     "execution_count": 31,
     "metadata": {},
     "output_type": "execute_result"
    }
   ],
   "source": [
    "result[0].page_content"
   ]
  },
  {
   "cell_type": "code",
   "execution_count": 32,
   "id": "ac835e48",
   "metadata": {},
   "outputs": [],
   "source": [
    "retriever = vector_store.as_retriever(search_kwargs={\"k\": 3})"
   ]
  },
  {
   "cell_type": "code",
   "execution_count": 33,
   "id": "d51aff3f",
   "metadata": {},
   "outputs": [
    {
     "data": {
      "text/plain": [
       "[Document(id='5ef888fb-8247-4d1e-a8c1-fcd5b1822c5c', metadata={'source': 'tweet'}, page_content='Building an exciting new project with LangChain - come check it out!'),\n",
       " Document(id='b81212ef-838f-48dd-8b53-7c99fd9d08a7', metadata={'source': 'tweet'}, page_content='LangGraph is the best framework for building stateful, agentic applications!'),\n",
       " Document(id='ed50cd7d-a22e-42a0-88b1-6d2aa34e7d29', metadata={'source': 'tweet'}, page_content='I have a bad feeling I am going to get deleted :(')]"
      ]
     },
     "execution_count": 33,
     "metadata": {},
     "output_type": "execute_result"
    }
   ],
   "source": [
    "retriever.invoke(\"LangChain provides abstractions to make working with LLMs easy\")"
   ]
  },
  {
   "cell_type": "code",
   "execution_count": 35,
   "id": "56d3fe3f",
   "metadata": {},
   "outputs": [],
   "source": [
    "# inmemory(local server)\n",
    "# ondisk(local server)\n",
    "# cloud(yet to discuss)"
   ]
  },
  {
   "cell_type": "code",
   "execution_count": 37,
   "id": "f6f2cf11",
   "metadata": {},
   "outputs": [],
   "source": [
    "vector_store.save_local(\"../faiss_index\")"
   ]
  },
  {
   "cell_type": "code",
   "execution_count": 38,
   "id": "ec8dba45",
   "metadata": {},
   "outputs": [],
   "source": [
    "new_vector_store = FAISS.load_local(\n",
    "        \"../faiss_index\",\n",
    "        embeddings,\n",
    "        allow_dangerous_deserialization=True\n",
    ")"
   ]
  },
  {
   "cell_type": "code",
   "execution_count": 39,
   "id": "bc875c28",
   "metadata": {},
   "outputs": [
    {
     "data": {
      "text/plain": [
       "[Document(id='5ef888fb-8247-4d1e-a8c1-fcd5b1822c5c', metadata={'source': 'tweet'}, page_content='Building an exciting new project with LangChain - come check it out!'),\n",
       " Document(id='b81212ef-838f-48dd-8b53-7c99fd9d08a7', metadata={'source': 'tweet'}, page_content='LangGraph is the best framework for building stateful, agentic applications!'),\n",
       " Document(id='02132a46-b446-4ede-b2b2-36b1cdf9e054', metadata={'source': 'tweet'}, page_content=\"Wow! That was an amazing movie. I can't wait to see it again.\"),\n",
       " Document(id='29138511-a9ee-45ce-964c-96ef97976eda', metadata={'source': 'website'}, page_content='The top 10 soccer players in the world right now.')]"
      ]
     },
     "execution_count": 39,
     "metadata": {},
     "output_type": "execute_result"
    }
   ],
   "source": [
    "new_vector_store.similarity_search(\"langchain\")"
   ]
  },
  {
   "cell_type": "code",
   "execution_count": null,
   "id": "916e903d",
   "metadata": {},
   "outputs": [],
   "source": []
  }
 ],
 "metadata": {
  "kernelspec": {
   "display_name": "agentic_ai",
   "language": "python",
   "name": "python3"
  },
  "language_info": {
   "codemirror_mode": {
    "name": "ipython",
    "version": 3
   },
   "file_extension": ".py",
   "mimetype": "text/x-python",
   "name": "python",
   "nbconvert_exporter": "python",
   "pygments_lexer": "ipython3",
   "version": "3.12.0"
  }
 },
 "nbformat": 4,
 "nbformat_minor": 5
}
