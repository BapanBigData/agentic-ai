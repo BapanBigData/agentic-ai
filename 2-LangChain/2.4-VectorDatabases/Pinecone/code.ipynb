{
 "cells": [
  {
   "cell_type": "code",
   "execution_count": 1,
   "id": "6a0a80e0",
   "metadata": {},
   "outputs": [],
   "source": [
    "import os\n",
    "from dotenv import load_dotenv"
   ]
  },
  {
   "cell_type": "code",
   "execution_count": 2,
   "id": "c3836984",
   "metadata": {},
   "outputs": [],
   "source": [
    "load_dotenv()\n",
    "\n",
    "os.environ[\"GROQ_API_KEY\"] = os.getenv(\"GROQ_API_KEY\")\n",
    "os.environ[\"OPENAI_API_KEY\"] = os.getenv(\"OPENAI_API_KEY\")\n",
    "os.environ[\"ANTHROPIC_API_KEY\"] = os.getenv(\"ANTHROPIC_API_KEY\")\n",
    "os.environ[\"GOOGLE_API_KEY\"] = os.getenv(\"GOOGLE_API_KEY\")\n",
    "os.environ[\"PINECONE_API_KEY\"] = os.getenv(\"PINECONE_API_KEY\")\n",
    "\n",
    "os.environ[\"LANGCHAIN_API_KEY\"] = os.getenv(\"LANGCHAIN_API_KEY\")\n",
    "os.environ[\"LANGCHAIN_PROJECT\"] = os.getenv(\"LANGCHAIN_PROJECT\")\n",
    "os.environ[\"LANGCHAIN_TRACING_V2\"] = \"true\""
   ]
  },
  {
   "cell_type": "code",
   "execution_count": 3,
   "id": "05d1fdc6",
   "metadata": {},
   "outputs": [],
   "source": [
    "from langchain_google_genai import GoogleGenerativeAIEmbeddings\n",
    "\n",
    "embeddings = GoogleGenerativeAIEmbeddings(\n",
    "    model='models/embedding-001'\n",
    ")"
   ]
  },
  {
   "cell_type": "code",
   "execution_count": 4,
   "id": "93c2668f",
   "metadata": {},
   "outputs": [
    {
     "data": {
      "text/plain": [
       "768"
      ]
     },
     "execution_count": 4,
     "metadata": {},
     "output_type": "execute_result"
    }
   ],
   "source": [
    "vec = embeddings.embed_query(\"Hello, world!\")\n",
    "len(vec)"
   ]
  },
  {
   "cell_type": "code",
   "execution_count": 5,
   "id": "4cf864e8",
   "metadata": {},
   "outputs": [
    {
     "data": {
      "text/plain": [
       "<pinecone.pinecone.Pinecone at 0x1f1210d4800>"
      ]
     },
     "execution_count": 5,
     "metadata": {},
     "output_type": "execute_result"
    }
   ],
   "source": [
    "from pinecone import Pinecone\n",
    "\n",
    "pc = Pinecone()\n",
    "pc"
   ]
  },
  {
   "cell_type": "code",
   "execution_count": 6,
   "id": "5903975d",
   "metadata": {},
   "outputs": [],
   "source": [
    "from pinecone import ServerlessSpec\n",
    "# Serverless: Server will be Managed by the cloud provider"
   ]
  },
  {
   "cell_type": "code",
   "execution_count": 10,
   "id": "bacc55a6",
   "metadata": {},
   "outputs": [],
   "source": [
    "index_name = \"rag-llama\""
   ]
  },
  {
   "cell_type": "code",
   "execution_count": 11,
   "id": "32bcbd6a",
   "metadata": {},
   "outputs": [
    {
     "data": {
      "text/plain": [
       "False"
      ]
     },
     "execution_count": 11,
     "metadata": {},
     "output_type": "execute_result"
    }
   ],
   "source": [
    "pc.has_index(index_name)"
   ]
  },
  {
   "cell_type": "code",
   "execution_count": 12,
   "id": "93f1a78e",
   "metadata": {},
   "outputs": [],
   "source": [
    "# creating an index\n",
    "\n",
    "if not pc.has_index(index_name):\n",
    "    pc.create_index(\n",
    "    name=index_name,\n",
    "    dimension=768,\n",
    "    metric=\"cosine\",\n",
    "    spec=ServerlessSpec(cloud=\"aws\",region=\"us-east-1\")    \n",
    ")"
   ]
  },
  {
   "cell_type": "code",
   "execution_count": 13,
   "id": "909dce2a",
   "metadata": {},
   "outputs": [
    {
     "data": {
      "text/plain": [
       "<pinecone.db_data.index.Index at 0x1f121655e20>"
      ]
     },
     "execution_count": 13,
     "metadata": {},
     "output_type": "execute_result"
    }
   ],
   "source": [
    "# loading the index\n",
    "index = pc.Index(index_name)\n",
    "index"
   ]
  },
  {
   "cell_type": "code",
   "execution_count": 14,
   "id": "f1cb0ea1",
   "metadata": {},
   "outputs": [],
   "source": [
    "from langchain_pinecone import PineconeVectorStore"
   ]
  },
  {
   "cell_type": "code",
   "execution_count": 16,
   "id": "a21602a7",
   "metadata": {},
   "outputs": [
    {
     "data": {
      "text/plain": [
       "<langchain_pinecone.vectorstores.PineconeVectorStore at 0x1f1216556a0>"
      ]
     },
     "execution_count": 16,
     "metadata": {},
     "output_type": "execute_result"
    }
   ],
   "source": [
    "vector_store = PineconeVectorStore(\n",
    "    index = index,\n",
    "    embedding = embeddings\n",
    ")\n",
    "\n",
    "vector_store"
   ]
  },
  {
   "cell_type": "code",
   "execution_count": 17,
   "id": "3eaf40eb",
   "metadata": {},
   "outputs": [
    {
     "data": {
      "text/plain": [
       "[]"
      ]
     },
     "execution_count": 17,
     "metadata": {},
     "output_type": "execute_result"
    }
   ],
   "source": [
    "vector_store.similarity_search('what is a langchain?')"
   ]
  },
  {
   "cell_type": "code",
   "execution_count": 18,
   "id": "07ffd97f",
   "metadata": {},
   "outputs": [],
   "source": [
    "from langchain_community.document_loaders import PyPDFLoader\n",
    "\n",
    "loader = PyPDFLoader('../llama2.pdf')\n",
    "\n",
    "pages = []\n",
    "async for page in loader.alazy_load():\n",
    "    pages.append(page)"
   ]
  },
  {
   "cell_type": "code",
   "execution_count": 19,
   "id": "d139b774",
   "metadata": {},
   "outputs": [
    {
     "data": {
      "text/plain": [
       "615"
      ]
     },
     "execution_count": 19,
     "metadata": {},
     "output_type": "execute_result"
    }
   ],
   "source": [
    "from langchain_text_splitters import RecursiveCharacterTextSplitter\n",
    "\n",
    "splitter = RecursiveCharacterTextSplitter(\n",
    "    chunk_size = 500,\n",
    "    chunk_overlap = 50\n",
    ")\n",
    "\n",
    "chunks = splitter.split_documents(pages)\n",
    "len(chunks)"
   ]
  },
  {
   "cell_type": "code",
   "execution_count": 20,
   "id": "9e98657d",
   "metadata": {},
   "outputs": [
    {
     "data": {
      "text/plain": [
       "[Document(metadata={'producer': 'pdfTeX-1.40.25', 'creator': 'LaTeX with hyperref', 'creationdate': '2023-07-20T00:30:36+00:00', 'author': '', 'keywords': '', 'moddate': '2023-07-20T00:30:36+00:00', 'ptex.fullbanner': 'This is pdfTeX, Version 3.141592653-2.6-1.40.25 (TeX Live 2023) kpathsea version 6.3.5', 'subject': '', 'title': '', 'trapped': '/False', 'source': '../llama2.pdf', 'total_pages': 77, 'page': 0, 'page_label': '1'}, page_content='Llama 2: Open Foundation and Fine-Tuned Chat Models\\nHugo Touvron∗ Louis Martin† Kevin Stone†\\nPeter Albert Amjad Almahairi Yasmine Babaei Nikolay Bashlykov Soumya Batra\\nPrajjwal Bhargava Shruti Bhosale Dan Bikel Lukas Blecher Cristian Canton Ferrer Moya Chen\\nGuillem Cucurull David Esiobu Jude Fernandes Jeremy Fu Wenyin Fu Brian Fuller\\nCynthia Gao Vedanuj Goswami Naman Goyal Anthony Hartshorn Saghar Hosseini Rui Hou\\nHakan Inan Marcin Kardas Viktor Kerkez Madian Khabsa Isabel Kloumann Artem Korenev'),\n",
       " Document(metadata={'producer': 'pdfTeX-1.40.25', 'creator': 'LaTeX with hyperref', 'creationdate': '2023-07-20T00:30:36+00:00', 'author': '', 'keywords': '', 'moddate': '2023-07-20T00:30:36+00:00', 'ptex.fullbanner': 'This is pdfTeX, Version 3.141592653-2.6-1.40.25 (TeX Live 2023) kpathsea version 6.3.5', 'subject': '', 'title': '', 'trapped': '/False', 'source': '../llama2.pdf', 'total_pages': 77, 'page': 0, 'page_label': '1'}, page_content='Punit Singh Koura Marie-Anne Lachaux Thibaut Lavril Jenya Lee Diana Liskovich\\nYinghai Lu Yuning Mao Xavier Martinet Todor Mihaylov Pushkar Mishra\\nIgor Molybog Yixin Nie Andrew Poulton Jeremy Reizenstein Rashi Rungta Kalyan Saladi\\nAlan Schelten Ruan Silva Eric Michael Smith Ranjan Subramanian Xiaoqing Ellen Tan Binh Tang\\nRoss Taylor Adina Williams Jian Xiang Kuan Puxin Xu Zheng Yan Iliyan Zarov Yuchen Zhang\\nAngela Fan Melanie Kambadur Sharan Narang Aurelien Rodriguez Robert Stojnic'),\n",
       " Document(metadata={'producer': 'pdfTeX-1.40.25', 'creator': 'LaTeX with hyperref', 'creationdate': '2023-07-20T00:30:36+00:00', 'author': '', 'keywords': '', 'moddate': '2023-07-20T00:30:36+00:00', 'ptex.fullbanner': 'This is pdfTeX, Version 3.141592653-2.6-1.40.25 (TeX Live 2023) kpathsea version 6.3.5', 'subject': '', 'title': '', 'trapped': '/False', 'source': '../llama2.pdf', 'total_pages': 77, 'page': 0, 'page_label': '1'}, page_content='Sergey Edunov Thomas Scialom∗\\nGenAI, Meta\\nAbstract\\nIn this work, we develop and release Llama 2, a collection of pretrained and fine-tuned\\nlarge language models (LLMs) ranging in scale from 7 billion to 70 billion parameters.\\nOur fine-tuned LLMs, calledLlama 2-Chat, are optimized for dialogue use cases. Our\\nmodels outperform open-source chat models on most benchmarks we tested, and based on\\nour human evaluations for helpfulness and safety, may be a suitable substitute for closed-')]"
      ]
     },
     "execution_count": 20,
     "metadata": {},
     "output_type": "execute_result"
    }
   ],
   "source": [
    "chunks[:3]"
   ]
  },
  {
   "cell_type": "code",
   "execution_count": 21,
   "id": "47a1774e",
   "metadata": {},
   "outputs": [
    {
     "data": {
      "text/plain": [
       "['fd877dd5-5482-45c9-afea-569cc355a201',\n",
       " '8e376529-7c3c-4e05-87b8-c9ab3ac56d1f',\n",
       " '477bb699-d69b-41f4-ad70-430fa9b23667',\n",
       " '9c40fcff-4df3-4a72-9b29-0f95c2d4b3c3',\n",
       " '1081a383-aa76-4c60-ab4c-d7fc5313b283',\n",
       " '158bea07-bb0f-4451-b340-9943b0b45f24',\n",
       " 'dfebe400-edae-4512-91a3-e17119449b38',\n",
       " '38850707-1242-4905-b676-29d4416b0240',\n",
       " 'c36be177-1df1-4f04-b866-e6d6f3db166d',\n",
       " '5d691b65-e1e5-4db7-b8a0-10f4401ee105',\n",
       " '125e24d3-298c-4d42-ad80-9044f3d47b69',\n",
       " 'fa6750f0-e2d8-479b-9b1c-06ea391f9bd4',\n",
       " 'bbba1136-5261-42bf-b48f-2424857d16d0',\n",
       " '245b8d20-b202-4f46-9b76-f6e88f273b1f',\n",
       " '2c70392a-ad16-4879-abdf-ba1561fd0013',\n",
       " '779270e7-39d2-4324-9fcf-cfe7fc54f20e',\n",
       " '22fa4ba5-c8ca-4869-b4fc-b5387ee94eba',\n",
       " 'b628c5a3-e8f3-43e4-9354-ef539a5738fc',\n",
       " 'a12e7330-d31a-4b90-ba88-3c6ed345f686',\n",
       " 'ac688f30-9a70-48a9-9afe-92493bd2c5a8',\n",
       " 'e1a5275d-1d73-4586-adc4-4164d58f10f1',\n",
       " 'edfc8aad-6270-44f6-b007-012ef9c33ba7',\n",
       " '65755aee-1251-4343-a45a-53c81648dfbc',\n",
       " '03bf4b59-f370-44b0-a14a-59eacc860ee3',\n",
       " '79867908-d759-4d90-93ed-d3ae432e9252',\n",
       " '93914cfb-b0b5-4761-b5d3-139cfaedfd1f',\n",
       " '54e1d2a8-2c06-4bbc-82f5-b6a6eb3bd238',\n",
       " '00d6486c-5f00-4b90-a207-62ad954c7e01',\n",
       " '369ed11a-c6b3-43ee-b61c-c242eba1e09c',\n",
       " '28866c8c-9367-41bd-aff6-80a51921add1',\n",
       " '00bd4c87-2319-4466-8830-3c3f177eb467',\n",
       " '38af0a64-8e6e-4f38-8d9c-bd57fbc9b7e7',\n",
       " 'f3092262-56fe-4e66-951e-01a9fb239ba3',\n",
       " '8faa1656-c58b-43ab-99bd-d80cc9e61d7b',\n",
       " '2d7df1fc-42d1-4aa5-86b7-4df5663ca6e0',\n",
       " 'b2e2091a-ebe9-4647-ab08-07d9a1a37cc5',\n",
       " 'cd6f7a42-3a6c-4b77-b2ca-9bbfed952615',\n",
       " '91ad7b30-88d3-4867-a624-90cf010e9561',\n",
       " '89550dcc-96f1-4dd8-bad9-6c052260c863',\n",
       " 'b62ea595-8b7e-46ea-a3c0-d74ee379e224',\n",
       " 'f62f58f4-217e-4547-85c0-b32915632456',\n",
       " '3b023121-b3c7-44e2-a96c-cc6aae55954c',\n",
       " 'cf6e7f18-5d0a-4c44-b9be-bd387e120302',\n",
       " '2fa6583a-0dc0-4d73-a030-730f61dacbbb',\n",
       " '685d9ad6-8c2f-459b-8e56-82ec438b0aa1',\n",
       " '8e8ae0c0-251b-4ece-9a34-1f937eb46d6f',\n",
       " 'f1597ea8-748f-4043-9c2d-38c31582a4e7',\n",
       " 'a286cba2-bebc-40a4-8687-5b3edbd64743',\n",
       " '1e9b58e8-587e-4b03-96b1-a6f8b5e7ad9f',\n",
       " 'f6bc22ea-b21d-44ad-85e6-d35b62ac57cd',\n",
       " 'd02ea87b-f031-4f68-bfbb-2c9a9b99561b',\n",
       " '0ad837ac-0c87-4a33-9d94-317501402b7c',\n",
       " 'c1af0ec0-3de0-4e80-b0aa-ea6f5f650751',\n",
       " '33be2169-13c3-4fe3-aff4-e0e3cee2a783',\n",
       " 'dec126a5-bc39-4d15-873e-cf16208f2c0e',\n",
       " 'edf16617-747e-4a6e-8837-6ee22ce795f0',\n",
       " '10acc747-9672-4511-8a6f-bfdfb43d7a6e',\n",
       " '80611aae-0d19-4db5-beb7-b42ff49f5e10',\n",
       " '4ed82080-c73a-4e16-a36f-48e59cc71685',\n",
       " 'd458812d-409b-42d7-95a6-7622be163d01',\n",
       " '14f39fc5-4658-4bdd-9a6e-110dd2b2922f',\n",
       " '78d755d4-0f3e-4135-bfed-4a4630c729b1',\n",
       " '99f92e7c-ebef-427c-84d7-a6b503b9e2a4',\n",
       " '72d0ad95-3ea6-4e8d-8673-7d8e25be1284',\n",
       " 'd9da4272-0b2b-4b24-a3f6-a45e025bb97a',\n",
       " '2110dab8-0eec-4fb5-80d7-06c1085a5b5b',\n",
       " 'fafc7417-115a-4501-8594-55efffa30443',\n",
       " '15382a1f-7829-4f7c-a522-8fe1d1c6d3d9',\n",
       " '468e8c56-880e-47ee-8b0a-1fa6b39190fc',\n",
       " '24c765fc-dbc4-489d-a3be-f815b9b6c6a7',\n",
       " 'a6c3d831-8ebe-41c6-a8a8-f6f3d6b0fc38',\n",
       " '623005cf-4f2c-451c-ac4c-43b9bc35da20',\n",
       " '4db5a1a3-d698-4858-a002-0b75bc8fbe33',\n",
       " '5629d0e4-7b81-4c74-9089-b163c0747dce',\n",
       " '8ed3f78d-53bd-4b46-9215-e586ea6d15f8',\n",
       " 'f060745d-f560-4e06-ad97-76129942946a',\n",
       " 'a50cc3d5-0c29-4f58-ad50-e49417d75bba',\n",
       " 'f3e4a8a0-5de1-44e4-ac6c-b3cd3d470ef4',\n",
       " '52c4acea-a149-4099-854d-ea639cac5e9c',\n",
       " 'c2e06e7c-2465-45fc-8647-a1a10e285ae7',\n",
       " 'c2c0577c-a9d8-46ef-a58c-f255995b9dcd',\n",
       " 'a5e4084c-b12a-4e95-84b9-c1ec30770fe5',\n",
       " 'be6f082d-d92f-4032-9cac-30636964326e',\n",
       " '7a6798dd-c1b6-4f1c-a7c1-496e58a05e4c',\n",
       " '83aaf845-728f-4229-bd02-27b2de2604dc',\n",
       " '054ffbfc-f00b-4ec7-99bd-82462a67ab7a',\n",
       " 'ba00a740-5149-4193-8c8e-f2f6837798c7',\n",
       " '7816ca0c-9ff0-4250-b650-67ddb392d8fa',\n",
       " '8235ae25-645f-41ac-9977-a9485f9a28fe',\n",
       " 'ae49280a-b057-4b22-867e-39717681957b',\n",
       " '34390e4c-34b3-4fba-acf8-03b8a895e0cd',\n",
       " 'bba8263b-2afd-426d-b7d9-d27bc91a7c37',\n",
       " '33b5d8b8-37f4-41d9-a669-1a8b4178a872',\n",
       " 'e9297803-44d2-4b85-84d1-8f3ba45c4e75',\n",
       " 'fd71046f-adb9-44e2-ae58-3d74310595aa',\n",
       " 'c11140ad-d504-4d68-af62-742ab06f1016',\n",
       " 'f97179f9-67fc-45ce-9ad3-485c914c569f',\n",
       " '13887d53-a778-4e92-8e1d-2beff2c88552',\n",
       " '5380ed86-e379-4313-82bc-ddbfa7e60772',\n",
       " '660aa298-8d44-4336-bb4d-8494d00969a2',\n",
       " 'b7c9e7eb-ecae-47c7-b1a1-2fb302e956cc',\n",
       " 'c14f0a20-3a5a-4440-8cb3-104764db1e8c',\n",
       " '177d8bbd-9fc5-47b0-a1b0-c680ebb7b8bc',\n",
       " 'c4deb03f-2d0e-40a1-a327-bb0f9662d32a',\n",
       " '88deb34f-bcbd-4e94-84c7-d360a85bec92',\n",
       " '048dd64d-eed7-462f-a067-cd8efc529b8c',\n",
       " '5241f3a1-348d-480d-a32d-ccb77a20ed28',\n",
       " '9c843983-fae3-4220-a2aa-00128640e94d',\n",
       " '2fb49a48-8d21-4390-b91f-a8616f56f1e6',\n",
       " '47cc3a04-c0ed-41a8-a644-3d5d715c0d4e',\n",
       " '15256733-2a8e-49b3-b942-d579b03918b7',\n",
       " 'cf441263-ac0a-4558-a4fb-0fa58cd93df2',\n",
       " '34c72f4d-6460-4f66-9d2e-90e28ab5daa1',\n",
       " 'ec189be5-c427-4d33-87ca-f42cd1942d43',\n",
       " 'f19f4e02-2dee-4dd9-87d7-2e082148bb1c',\n",
       " '90bf1ad8-793b-47b2-becc-42481c522af3',\n",
       " '6043a925-7539-4abf-8f81-73130a8ed97f',\n",
       " 'a47a0fa9-caf6-4b94-a3fa-2da4143a0ac6',\n",
       " '262c449a-15e6-4aa3-8de1-184f4751a820',\n",
       " 'ee46a203-8439-4a25-b4f1-2b8844a0f453',\n",
       " '6010fefb-ede9-4952-8988-f271b11ed597',\n",
       " '668917e8-c7e4-4758-9c00-844c5b21019c',\n",
       " 'd36e1c46-5947-4f7b-82c1-82b8cd7ea37f',\n",
       " '7f5470b6-1da3-407d-90f2-c789f9661616',\n",
       " '3ed0497e-4ce5-4729-a80f-2fe13c21894c',\n",
       " '3b2c3a89-387c-43ea-85b0-c9375f18a115',\n",
       " 'e671a42d-05e7-4f61-8d46-324b0ea3f7bb',\n",
       " '98df7b40-c6f2-44c4-871d-442677b5cc88',\n",
       " '2a6a1b18-88ff-4b1d-9607-7e1084b23585',\n",
       " '093a2dad-2172-4318-9867-4fb927bbcf33',\n",
       " '63d0c6dc-d9d1-488e-a005-3873a8782995',\n",
       " '82881163-8cb6-4444-a6c9-a9b78d444d96',\n",
       " '399e82c6-0864-4f95-b3e5-5e305b907649',\n",
       " '7912f8c4-110b-446b-b7fa-dc64631578ac',\n",
       " '1df801b3-db65-428f-8d7c-e51e27905a9b',\n",
       " '5f3fe1dd-14db-4340-9440-a0ec6f191c6a',\n",
       " 'a7420101-d9b6-4fa9-a00e-8bd3d636e1a7',\n",
       " '180a8c93-0786-4c4a-80ce-1f535328b26b',\n",
       " 'fe5ee680-293a-4ff8-9220-7c071f5aa867',\n",
       " 'dfee08a7-e9da-48e1-818d-270c3c18a259',\n",
       " 'c1a3d7d8-0e35-4dc8-9158-361200e3e522',\n",
       " 'a1fe67ad-4584-4891-8fdb-699e7a1607d5',\n",
       " '81701a88-574c-412f-84a9-f0ddec3376b1',\n",
       " '950fb8b3-0dbf-4c10-8e49-ed5296959633',\n",
       " '3e0705a4-dedf-42b1-ad1c-f0832342a3a7',\n",
       " 'fe88ff52-c8d6-4737-9241-b1243e2db616',\n",
       " 'a0498baf-c79e-4241-b834-82619c83675f',\n",
       " '95ebe851-93d3-43b8-8d81-9efb1adc4826',\n",
       " 'fec02252-5d59-4c0c-8d99-de58be55509f',\n",
       " '73758a0c-8f5a-4689-8c38-a909e6dbc3f3',\n",
       " 'f36fb030-4843-43ae-926a-02696bdff574',\n",
       " '6d9d4bce-4b4f-4db2-88bd-4064acb260a7',\n",
       " '5face1a2-4a0f-4b12-9aaa-195f0acec0ca',\n",
       " 'e72cdde8-20be-4f83-b008-49a03b508f1e',\n",
       " 'f66aa34c-3c5f-45d9-a8db-4406e496d8a7',\n",
       " 'ec3f11c9-af6c-414b-9d70-b2c985886044',\n",
       " 'b404e33b-22e6-4f46-8099-a63fc85db3db',\n",
       " '64c184b9-9fbb-41d1-b7f4-c3bf73521d9c',\n",
       " '29ef05dc-d2c6-4d0c-ad3c-ac6494ccf796',\n",
       " '406de6cc-65d6-4998-9a5a-263396e29802',\n",
       " '04ae1d09-d641-4550-948a-be173501b93c',\n",
       " 'a5589814-1356-4ba4-9bd1-60ecaaa694be',\n",
       " '0de9ebe3-edab-42b6-81ef-a09ad27da54a',\n",
       " 'c1408511-5b75-476c-a812-e4b634fa47ef',\n",
       " '601be28b-a3b5-44ea-b533-e055c94d4e81',\n",
       " '1cbc23b0-844f-43cf-87f1-ee7afd4fa6b3',\n",
       " '2be4a8f7-ea7b-4504-81e0-600a0009040b',\n",
       " '0eec3acb-1685-48b7-bed6-eb635e816760',\n",
       " 'c02a3df1-cf9b-44c9-b81c-98a966c0086c',\n",
       " '7a349a2e-98fa-457a-9c13-6cbaffb60828',\n",
       " 'f6c16554-8053-4c07-9947-ba33da67729a',\n",
       " '59200420-e950-4521-aa65-c7413ef73a7c',\n",
       " '94332c5f-6f32-4a67-8483-375251d8181d',\n",
       " 'b2ab1445-50ad-43ea-8edc-fde85a7bbb08',\n",
       " '2fec4d5d-7fd1-4b2b-957d-7a87283a5276',\n",
       " '21dd3a33-ce5e-4dff-8f2c-1f58cc8ed1bb',\n",
       " '19315400-dcd6-472d-b2d3-deb659e10284',\n",
       " 'acc9db35-93a6-4df4-b7e3-0eea4392d8a3',\n",
       " '9701b2cd-3cd9-4acb-a4c1-343398360f96',\n",
       " 'aa6e25da-dd33-42c0-bb56-d89937f57158',\n",
       " 'a1801998-2b10-4b68-a89c-63e497bacf65',\n",
       " '9bfe8ea5-2a12-451f-9079-019498043ffa',\n",
       " '71177796-b17d-4487-9379-e1e2bfee89ae',\n",
       " '7239711e-8f9b-4777-92a0-999c6209277c',\n",
       " '7b702ba6-e133-4f11-acc7-94a169df37eb',\n",
       " '9da2b3f2-1618-4168-a0a4-8508e3f677fa',\n",
       " '7321995b-9d36-4569-b8fb-88df7a1e6db5',\n",
       " 'd337a21b-ad8c-4061-9930-feb8918e5d64',\n",
       " '5edf97bb-59bf-41b3-8272-34942cc4e4ba',\n",
       " 'a84ccb96-2488-4b04-b2c7-614b50bc989b',\n",
       " 'c3aff96a-b098-41e0-8285-52aec2764c33',\n",
       " 'df753e36-2839-4070-996d-7429cb024d0f',\n",
       " 'e092eb74-286c-4f92-894f-2fad390aeca3',\n",
       " '85eae5ac-4e82-423f-ad80-c4569bd17108',\n",
       " '52717f44-7ac0-480b-8c57-f2e8dff44110',\n",
       " 'ea75cc2c-d989-4ca8-99ac-51d8d9d3a6e2',\n",
       " 'd9f165f0-95bc-430d-bf0a-a870048df8b5',\n",
       " '562de722-46ab-45bd-a3bd-b3c346be3bf3',\n",
       " 'a446e1e7-1a05-4b2d-bf1a-0af93e0b3637',\n",
       " 'f5204edd-da06-4c0b-a352-bab49344fc4d',\n",
       " '04429e7b-845c-4c20-b088-13d46b0b9ccb',\n",
       " 'dd61168c-a882-4006-ab28-f85fd6d30e3a',\n",
       " 'e527a11e-b3fd-43cd-b1e6-4d319a9ce633',\n",
       " '8b896700-9878-45f0-b4f7-aa4519cf2757',\n",
       " 'a13c1ff0-e70c-43ae-adbe-4f71b10d4651',\n",
       " 'e44102df-8b85-4751-a217-0a6c1935e75a',\n",
       " '0da92a5d-1fb1-4904-9659-fec0bf05f3f0',\n",
       " '64582b55-5039-45c3-a394-091e929e7d30',\n",
       " '4ac0754d-0ba0-47a7-bf6e-d964d2580740',\n",
       " '5d62b553-71df-45d6-9980-74556b08fa08',\n",
       " 'd73c0702-b955-45d2-84ed-590e9247c796',\n",
       " '9fe26550-4340-4e48-82e0-3869766b314d',\n",
       " 'd42256be-d561-4dc1-8af4-6525ed5e7ca1',\n",
       " '96b2631d-4325-4280-a58c-f74fd04bc894',\n",
       " '745f9f9f-cbb5-43fb-b9c8-7ad0f3490584',\n",
       " '26ec2dd2-9d97-4d81-b2e0-752f2c8259e0',\n",
       " '8bf551ac-8237-42d8-9690-9fbfa14e23a4',\n",
       " '53b63ac9-2544-4f97-9cb8-b765f492c249',\n",
       " 'e543d9ca-a239-4763-b975-b1f7f51caff4',\n",
       " 'c6c508e9-5013-4c2f-b13a-e655748fa587',\n",
       " '0bae409c-a0e8-4ad7-b3e3-a1fa0a66baf1',\n",
       " '53cb468d-2981-4fda-9b3f-869c2b270ad8',\n",
       " 'f5fd4c66-8b82-4be7-bfa4-83d0099535ed',\n",
       " 'a825a973-1051-4e44-81cc-f1d03ec63187',\n",
       " '2052115d-9344-4b94-9fb4-91a17add9e75',\n",
       " 'e0d60d62-9fa9-4bab-9ea6-287c08db4be3',\n",
       " 'd24efbbb-2ec2-4602-823c-0db76f2c2ee8',\n",
       " '6d0ef045-80d3-4a74-a55a-28ef477d5105',\n",
       " 'bcaf691d-9b53-4b71-b980-ecf4f70d6cd7',\n",
       " '1a694edb-3cf3-4daf-b289-4dca9ff2dc00',\n",
       " '5965abef-b75a-4cdf-9148-4d68d78e8cb9',\n",
       " '1c9bfe4a-b605-45ac-819f-a101abd258a7',\n",
       " 'd6e2388d-999f-4714-8bd0-5126d42c3e2f',\n",
       " '9052dc75-179d-447e-95bd-5125f98f8176',\n",
       " '27f0b7b4-036c-4112-8463-ba4ccfe60b94',\n",
       " 'ef6e6af8-8f3b-4ccb-a84f-58872249f891',\n",
       " '14a8848e-420d-4f30-9289-9a8d1ea1d20e',\n",
       " '116532d7-0da3-475c-8ee1-48ea6fd506ed',\n",
       " '7fee85c6-576d-4398-b506-cb5d609f83c7',\n",
       " 'ad24101c-c417-4b83-bf09-7e613b171c77',\n",
       " '0e18b880-34f9-477f-987b-6109e3537555',\n",
       " 'c8155b47-d900-4106-8c86-b1d4577acab1',\n",
       " 'ef314ca7-738d-4d14-b89c-b6994d243fb0',\n",
       " 'b883f0b5-d493-4d7a-85ad-485b09eb0ac5',\n",
       " 'c70dd3f5-31c6-450f-abac-a8af628881bd',\n",
       " 'afa96d4e-5cc4-4b57-955b-0e28db3304db',\n",
       " '155bff48-5b2c-494f-b74b-27335a7b14e4',\n",
       " 'c2fc0bc1-3b5d-40c1-a57e-0bc91c14b0dd',\n",
       " 'c12f13d5-267f-4e2f-a1c2-1063acaff461',\n",
       " '3778e859-301d-4d80-b174-f9440b49a449',\n",
       " 'c498c16f-764a-4a52-a6a5-55563199518a',\n",
       " 'ea032e16-27f6-4f2c-a673-979450e4a839',\n",
       " '46f4d4e5-d14f-4bb1-83d1-9ac8cb074e53',\n",
       " '59239f51-240d-40c9-8901-adc91c39377e',\n",
       " '3ab948c0-2359-4c44-b24c-89bec58df0a7',\n",
       " '0d9e5dab-a73f-4291-aa0f-3390e85fe054',\n",
       " '3c50b8f9-864e-40d7-a3f4-7006eec04d93',\n",
       " '1c1204c1-860b-4c14-9b9f-b7d09b166b78',\n",
       " 'b2ae8aaf-f6f9-4743-9efa-1027fd5fb5d7',\n",
       " 'e940f68f-ef47-4ee7-8ea3-def1d94d623b',\n",
       " '292e2d46-98c7-485d-bd66-a6e2a5dd7974',\n",
       " '9d456f5e-76ba-4924-8e97-d50724e81cef',\n",
       " 'c307758f-1891-4ea5-ac1e-a5c2bde495a5',\n",
       " '54e1f8c3-5c4c-4354-b353-2516342195f9',\n",
       " '55fe39be-3b6c-4fb7-90f8-b68ce3198936',\n",
       " '647735d0-702d-4c38-8f44-1ffed6b44c8d',\n",
       " '8191b308-2d1e-4b50-8a5b-965f74705870',\n",
       " '092c487c-18e0-4053-8419-d79d8e6a30f9',\n",
       " '5baa3d2b-1d88-4e63-a03b-466114b66759',\n",
       " 'd042a5f8-0d69-42cc-afd5-7beafb6746a7',\n",
       " 'b083bf2c-74cb-4ed9-a52a-53284346a4bf',\n",
       " 'e1fefc8b-2936-4029-ae92-d78931bf1a7e',\n",
       " '247b888b-76b6-48ee-9e08-b27fcd6fd3fb',\n",
       " '680bee7d-113e-4ed7-96fb-b4e24c419941',\n",
       " '11a9016d-6576-4499-8dca-4d05adc28044',\n",
       " '82f396fa-0132-4e21-a0fd-9c067793fcbb',\n",
       " '1fb8bd14-f1cf-4d4d-8e75-9125fa39bf14',\n",
       " 'c1d636f9-9615-45df-b387-878e157e4bcc',\n",
       " 'd9cd81df-ed35-43e2-94b4-5db9cbfa08ea',\n",
       " 'bdc17916-0613-40e7-ab94-c8cbd3073b27',\n",
       " 'dff5094a-c623-4c4e-ad21-84b7a3cd4a80',\n",
       " '4f89ad3d-37d5-4833-8e91-d4e7f561af83',\n",
       " '066b9d5f-9e97-4251-8378-ba464daa1faa',\n",
       " '0a13e2f4-1d9b-40f1-8a26-01aed2e3e853',\n",
       " 'e324192d-d2ef-4d3d-ba73-813f9b59b2b9',\n",
       " 'fc52548a-146d-4dff-abf7-c934228f0ce7',\n",
       " '323a2752-a5ec-43fc-bb8b-969048f4a5b3',\n",
       " '3ba81d13-8c12-442f-b0ad-1a59762866d2',\n",
       " '18f9167f-b310-4a49-a01f-0199d78c6e9d',\n",
       " 'fb33917b-34c9-4e68-9f49-f321d3450210',\n",
       " 'effd7e7e-423f-4774-9675-ad9eee4c3d04',\n",
       " 'e9cd85e8-f234-4eb4-b173-5f7e2b1423dd',\n",
       " 'f48fa48d-7cf6-4f33-92d8-0f759ee4fd1a',\n",
       " 'f775d2bb-9fe4-4461-a5a3-add148c7da7e',\n",
       " '7741769f-6d95-4650-9269-b963f80cb446',\n",
       " '8dbad873-d50a-4311-aa54-2ff24b7db94f',\n",
       " 'ccefef4a-f0c2-44a4-8105-64c5283521f8',\n",
       " 'ac4f48fc-f40d-4c0e-a061-86d2d0ad65b4',\n",
       " '7947fe1a-9e71-4038-8882-dd756a4e3662',\n",
       " 'e88838db-731f-40da-bb43-a621d9b26c0b',\n",
       " 'eb927783-fd60-4079-b97d-6d098ef44d40',\n",
       " '2b9d09f6-f0b0-4254-8454-78d563b9e460',\n",
       " 'b409b054-ac37-4a9d-afde-753d25ea2dbb',\n",
       " 'a3acb4c5-9931-449f-904f-065ad537b06a',\n",
       " 'ca132dd4-c9f1-45af-8ca5-17230a818bab',\n",
       " '9ec9b13b-bbde-4529-9942-8949d523b3a2',\n",
       " '660c791c-dc21-49cf-af67-17d1b5107676',\n",
       " '073c5d30-e485-43b5-93cd-71f70b9261f0',\n",
       " '8f2b8126-f7d9-489d-8c1d-294a5547b80d',\n",
       " '6517cc48-74f1-46ca-a87e-08f7449ccb9e',\n",
       " '40c2f7f9-337b-435a-890b-86ca062627d1',\n",
       " 'a40df868-bb2a-4b4a-94e9-4de80708924f',\n",
       " 'b705c74c-7c88-40f5-8426-fae75137bbc8',\n",
       " 'af2e9aeb-6504-4adf-9232-ce7607720ae8',\n",
       " '52fa5e45-416e-4843-97d4-3c265405562f',\n",
       " 'd82049d1-88ca-46b7-811f-093ebf89658f',\n",
       " '72cf0410-ee95-48f3-88fe-fbd9399a0558',\n",
       " '86653ad4-4aea-4a05-9daf-40556bddffca',\n",
       " '28ec6135-6658-4c39-924e-b39983c85349',\n",
       " '17417c34-9586-4d6d-92db-5b9d6ab99edb',\n",
       " 'e529bc58-3fb8-4a3c-a706-9ead414ea4cf',\n",
       " '9e85e0bf-76d5-4e08-ac22-18ee39cb81c3',\n",
       " '60bc11f3-e68d-4412-bd29-2f4a4a9fd4a7',\n",
       " '86754ac3-c03c-4ba2-9447-97aeca1e57a3',\n",
       " '379af1be-d88f-4b7b-9d7d-f6ace72afffe',\n",
       " 'ff0bf267-dad9-4944-a59d-6d91f8893333',\n",
       " '9eea7aca-067c-4398-8556-25cf899c53a1',\n",
       " 'e5a245aa-2d57-49b5-a8f6-ebc02bda2d06',\n",
       " 'fcb61fdd-03dd-49fc-87ad-2f28b385ef45',\n",
       " 'a59d8d49-4289-41cb-bb70-e140dcd10b3e',\n",
       " 'c65c65d4-6837-41b7-9967-d94be75b2b3a',\n",
       " 'af2dcc36-8567-4129-812d-1f8f96f41e58',\n",
       " '33aedffb-cc94-4b86-9fdd-bd8815ba8ede',\n",
       " 'd2e98851-2cd9-405f-a28d-7dca6157ca8f',\n",
       " '316345a4-e509-49a2-a37d-ed4e32816dbe',\n",
       " '83e6fff4-0fb1-4571-81d4-f045b760434d',\n",
       " '380cb21c-e198-4dc5-a8d5-4f86b5ae6d6a',\n",
       " 'de0a9b43-b6fd-4781-96f8-731725c232c0',\n",
       " '2f3bf0bc-445a-4f05-90d1-9c3f67871a04',\n",
       " '602f99d3-3a5a-41e2-9007-027c96af1005',\n",
       " '5f330c88-e20c-477f-b90a-69d1df0b1e0b',\n",
       " 'a439741a-1094-4677-82cf-7fed1ff00d83',\n",
       " '3d88d114-23e8-4b05-a244-c01b52a9f601',\n",
       " 'd5d3475b-6eb7-4aa9-8577-805a85994667',\n",
       " 'c4c6b946-4d98-4478-b499-be9b3ca51472',\n",
       " '83ee052e-b263-4357-9370-ca09791e596e',\n",
       " '6670437e-f87d-4fb4-9537-24f76ac03a33',\n",
       " '9608344a-47ca-46fa-b243-69e94df81b02',\n",
       " 'd9727564-5b9f-4262-9d4e-1ae5b7707db1',\n",
       " 'dfe5f93b-cd42-49f7-af15-830d60932988',\n",
       " '72a22c62-7ba6-4033-9f53-86c74e7120ae',\n",
       " 'af936c54-35c9-4132-b9d0-a46d2647943b',\n",
       " '4560b8e5-6612-4ab4-8e9e-056a94ea22dc',\n",
       " 'a7538846-8e86-4960-acec-745a749a339f',\n",
       " 'c3705961-969a-456a-99e6-84e85a0630b6',\n",
       " '82e89b56-1718-499d-8a9a-265f2ad971bf',\n",
       " '2a753c8c-2134-42de-8c4a-adf488b5687e',\n",
       " '5df597fe-d8db-448f-90d6-82afbc9604a0',\n",
       " '0b991000-a6d0-4a81-be94-e7caaa083790',\n",
       " '44d6a56a-badb-4af0-b17a-c47d869881e8',\n",
       " '06051ed6-ab05-4276-9137-732121836e7b',\n",
       " 'ce5f72b9-f07b-4708-a956-1c0d2e2d7c2d',\n",
       " '41adf0bf-b41e-4f56-912a-48cb6505d9dd',\n",
       " '9301d025-d765-45f6-8244-58cd00af3891',\n",
       " '50b49f98-c315-4026-b9f0-ea0efa4a28b5',\n",
       " '414f1dec-41f7-4108-b367-d7d2745b5cc3',\n",
       " '65055b44-1802-42c0-ab81-7ca8f0fdd69c',\n",
       " 'a3725b6a-e2b4-4f8f-b7d1-8e0b858d4856',\n",
       " 'e296cdc7-3591-4f04-889d-2ca0261c5fd8',\n",
       " 'c649fed9-9f69-44dd-92f6-13c439e32f22',\n",
       " 'fff65692-171d-4810-94b3-730289a16a2a',\n",
       " 'c9e650aa-b9bf-420c-a268-40e02c183211',\n",
       " '468ecd63-bbec-42ca-808a-e11bef388344',\n",
       " '7daa1e24-5db8-4295-bf74-2581c99024e6',\n",
       " 'e233ddc5-0c3b-40d9-a1bc-039e711bfc34',\n",
       " 'f4d18e4f-35ae-4220-bac7-4c52de228bb9',\n",
       " 'a913730b-77ff-437b-8685-2ee43f4640e5',\n",
       " 'f17b6078-48f7-43a1-acf2-648ba32803f2',\n",
       " '1004b614-c477-41d4-b7f0-5d4fc4571386',\n",
       " '299d5761-8270-4fa0-b555-8e381821771a',\n",
       " '76e82270-f01e-4705-bf15-6359af25c3ca',\n",
       " '1c747b9e-e905-4eb7-86e5-11cceeeb36ba',\n",
       " '963b5c72-06bb-402c-89cd-7e8dd25083f3',\n",
       " '582b8e46-0c57-40d9-afaa-a00749b7e92d',\n",
       " '05960af6-9392-4a87-8060-252b990d8d21',\n",
       " '6166dce2-d83c-4735-b093-abc0c6d8c59f',\n",
       " '0e9fd275-9d15-4dd5-aede-006394aba442',\n",
       " 'ed409969-9e1d-4aec-83b1-ee924433e2a5',\n",
       " '9b03f651-8aa7-4285-8abf-afd5cd97a49e',\n",
       " '4616216c-28f0-4f64-9df8-cb1fa44593f4',\n",
       " '8948f854-076a-43c2-a230-ddeace61046e',\n",
       " '54be1ab0-a78f-40f1-9f18-2e0dcf30f642',\n",
       " '436832cd-82dd-4dd9-9e50-d4b069188721',\n",
       " '2b6fe026-e952-4ebe-8654-be493505ccef',\n",
       " '717f8f96-60d9-450d-9467-bcce88f619c8',\n",
       " 'f8feaa5d-c09c-4c9d-b8be-8f24c9648a1a',\n",
       " 'cbb5b74c-115b-4234-8d7f-47dc2b4f545b',\n",
       " '52e2f30a-7329-4963-9a08-60907957e235',\n",
       " '4eca19aa-2e09-45b7-b2aa-30407ea0eee9',\n",
       " '35cf1c44-9538-4ad0-a0d3-427f4e9952ce',\n",
       " 'ec921d90-183d-4798-a5f2-7a9ea8986d68',\n",
       " 'ecbe6a04-f977-4e9f-86e7-75374273c66d',\n",
       " '22546e66-2668-4537-a429-e2eec82caffa',\n",
       " '4fba702a-c2d8-4f4a-9037-ad3e99f295e3',\n",
       " '2a8cb8e7-fee7-4fb9-a3c8-9dc0ed66490c',\n",
       " '1ae20d69-ad7d-4a22-834d-d4b55b9620e2',\n",
       " '3ac00672-dc2b-4985-88dc-07544feb54d3',\n",
       " '76e36e4c-f315-4706-ace4-9d1747f196ae',\n",
       " '808ef1f3-e300-40b1-8deb-d0fcf5e9e55b',\n",
       " '74b068bb-8cbf-4274-bb51-6b013b5f6c65',\n",
       " '5d6fd66e-9e62-47a9-9777-271f6562ae72',\n",
       " 'e30a912a-d356-4911-8606-454660623719',\n",
       " '37958ecc-7e0e-4208-b0e0-36d4207f5ccb',\n",
       " '4131f966-201a-4829-9cbb-17d721ce3818',\n",
       " '67567732-c1fe-4ab5-9d0b-3255194832c9',\n",
       " 'feda538c-d024-49f2-b2d6-3190e42663f6',\n",
       " 'cac0b9cc-ce65-47f0-b2ab-2ea9d5b3f656',\n",
       " '14ede4d3-514a-49aa-b88d-8029bfc04b37',\n",
       " '33153001-5212-4fb2-9ab7-bfe3ae0e5a01',\n",
       " '46fe33c0-f7b9-4022-b2c1-026c89eae4ce',\n",
       " 'db67a8bf-a295-461f-8b52-669cd49909c6',\n",
       " '9f1a9acd-da11-453d-85a4-120863dbb105',\n",
       " '3c6c64d0-0a7f-4d59-915a-5ede9a9cfd67',\n",
       " 'b1f75dc4-458c-4bf8-b134-7db25b72a936',\n",
       " '002eed54-0ee8-4b96-867b-7ff4aa3d949f',\n",
       " '626b6452-fdfc-4528-bdf7-91e871799fb0',\n",
       " '656ba5b5-5ccd-4081-8f57-1b9da69f6bd6',\n",
       " '04f5c347-b612-4800-8bb1-a88ca9d9eaef',\n",
       " '01f0d86b-024b-407d-a4b2-c8a1a07d8bd4',\n",
       " '7e5baa1c-78a0-456e-9dda-cdb6af9172cc',\n",
       " '4688134d-e1f1-445f-a9f1-ff43a7f17ddd',\n",
       " '5724a475-cf57-411f-8818-6512a21b603c',\n",
       " 'a318341a-36a5-43c4-abcb-3bfaca02c960',\n",
       " '4a87e490-5d01-4112-8c90-8cd32371067b',\n",
       " '3dc63ab6-7814-4ecc-afde-9ae43f24f662',\n",
       " 'b5e578d9-08be-4616-aff5-d23c68db43be',\n",
       " 'dd607419-ce44-42e9-baba-faa2615011d7',\n",
       " '0b71013e-f822-41af-81d2-22c8d089d461',\n",
       " 'a23e5b68-db27-4bdb-bd66-23710d89886a',\n",
       " '7457606d-d402-470f-a078-87be02a3a5bd',\n",
       " '6741e524-655d-48f1-9dfd-1faf40612587',\n",
       " '04cde4ad-df00-4a9e-bd9a-03b5e597abb4',\n",
       " '4b7015ca-85e1-4ee4-b4c4-1e51186be67f',\n",
       " 'ae3b6aae-ce98-40b1-83ba-31d3d5815a25',\n",
       " '4edba0c1-6cfa-482d-b702-3e4ee45fd38a',\n",
       " '8597aff0-d2cd-4fc3-8442-74f3e67704c1',\n",
       " '06e881ce-fbae-410b-bf55-f6241fd3aabe',\n",
       " '049c4ec9-3538-4f6d-82f7-59ab258139ab',\n",
       " '14cdf989-87b1-433a-8170-d793007f0144',\n",
       " '4aa7233a-1bc7-4a16-8d53-035d40a510e4',\n",
       " '240057bf-cd8d-43af-899a-8b847b8604e1',\n",
       " '445c9d9b-7c30-47cc-bacf-94d7d8a249e4',\n",
       " '48807a04-8ee9-4434-b319-2efd91b00c92',\n",
       " '9895f7b6-7f1d-485c-bd69-726eb190967e',\n",
       " 'd3721e9c-38ad-4704-bf0a-aee0a8222452',\n",
       " '318ae754-ebdb-4884-b022-33e98f2f22ce',\n",
       " '3ed0ba8b-335b-498e-b836-2b79d09628d4',\n",
       " 'd2790786-bf83-4fd3-a35b-3263207289ad',\n",
       " '1e1ebfbc-4b62-4f54-a5f6-07ddbfb74fd5',\n",
       " '719833af-64cc-4022-bf1a-fcdd62caac1e',\n",
       " 'baadf6b8-327d-4f1a-9eaf-786027c3d06d',\n",
       " '9e1f414e-6570-45cd-b19c-32969c2e06fe',\n",
       " 'ac80d326-eb24-4274-b045-ee3eea170fdb',\n",
       " 'e87bd956-e0d1-4465-894a-eacd40690b9c',\n",
       " 'a1f12501-bebd-4b18-9381-b5214e5c3f8e',\n",
       " '356f51fc-7dd7-425f-8a88-8453d44126f3',\n",
       " '1ab83141-7a35-475d-a483-8d397a63c402',\n",
       " '6caa38b0-0364-405b-a4cc-86dbabfbbccb',\n",
       " '74058cce-841a-4ac7-a350-5c0607fe42fa',\n",
       " '9997a1c6-efbb-488e-91b8-0dffe12554ba',\n",
       " '2f5e6c2d-d40f-46ba-8e69-fc79a16fe577',\n",
       " '9edf9e53-1de5-421d-8893-eb0ba7b304b4',\n",
       " '389280a6-01a5-4fe3-8c3f-89b94e826875',\n",
       " 'e1c9f425-1d39-4067-8e00-bee30df24bc5',\n",
       " '833c5e44-e1a0-43b7-a21e-44e030c6b121',\n",
       " 'ebbcfb3f-acdb-457c-9da5-1715ac8fdc6a',\n",
       " '2f1e6fba-c09b-407e-8b61-a99a2089fffa',\n",
       " '93909b1a-83e3-4f4b-9079-2d721992047b',\n",
       " 'ee6aff7c-a147-4258-8740-53c4eed05dac',\n",
       " '2b347fee-6ebe-44bf-b0eb-05eea82e15d3',\n",
       " '4284f832-6b9b-4046-b41e-5a08ac80f43f',\n",
       " '0857abe0-796f-49f1-b815-d594a2932800',\n",
       " '832081cd-b5e1-43af-85cd-a367162a5bca',\n",
       " '7a9513c7-ce8a-40e4-85a0-88199572989e',\n",
       " '9e733934-42a7-4411-93c4-b669b1ed7ffc',\n",
       " '6d0486be-2361-4e58-b7b4-55d6df545261',\n",
       " '42dd0ebd-7210-4c51-b235-623f2d66d934',\n",
       " '0737f587-f898-483f-b595-9e75c721e8bd',\n",
       " '9d1f1896-d769-4e51-ab9e-bed29cc300ca',\n",
       " '06bac6d1-a93a-4c52-9964-e2696a4d2f02',\n",
       " 'a141f15b-63d2-40be-9aa7-e806808c730f',\n",
       " 'b576e6db-4306-4e17-80ab-abf43f976e9c',\n",
       " '658c90a6-4951-4220-b6aa-4ced4fc28379',\n",
       " 'dcad8959-6ce7-450d-8f19-d0f7cbfbc2f0',\n",
       " 'cf4388ba-8031-4b62-a9d1-c10501a01ad0',\n",
       " '0724a752-17b3-45a2-bd93-3002440f31c2',\n",
       " '1c9291b6-4e15-4870-8841-544ace4fd0bd',\n",
       " '72fbcc58-1fb1-4d7a-a471-94669bc1c614',\n",
       " '74fa31b2-3636-4454-92f5-b62dcb5cbbd2',\n",
       " 'adf11e5b-b6ef-4706-af47-404048379c8e',\n",
       " 'cf4eb9eb-6c64-4eb9-9907-98a0dcf8a9b8',\n",
       " 'dabce1dd-b0c4-4779-96ad-ee3129004bd3',\n",
       " '8e34864e-7b9a-4685-bda2-90df21125335',\n",
       " '3861d82d-3c7c-43ae-ac0c-4c7ceba44693',\n",
       " '24b1b4d3-b21d-4eb4-a828-69d3635f8900',\n",
       " '584b7d93-d8fa-496a-87ec-714ce239655c',\n",
       " '2a7afe4f-1f8d-4b81-9ab9-2a9c6cd3514e',\n",
       " '990910b6-6923-4fec-9f42-ffe59e55eefb',\n",
       " '1b3257f5-5520-45fa-8a80-8db95c456aff',\n",
       " '17363d29-79d1-4014-a8d2-45859e017550',\n",
       " '6755746a-efab-403a-badd-0349adca6d15',\n",
       " '7fa0c4a0-685e-4e9b-b4b1-ee7bddc039fe',\n",
       " '452e1b48-46af-46a6-a878-0eceaf958c41',\n",
       " '291216e7-3af4-42b2-8648-bf82e310a6cb',\n",
       " '32e684ba-10f0-406a-b4b3-0091351f1b47',\n",
       " '38b44334-db3d-45ec-817f-fe240deec5c1',\n",
       " '51788124-ce9e-4f92-942f-a99d9c7dc47c',\n",
       " '697f1125-c64e-452c-bdbe-8e7779f1ba02',\n",
       " '6fa6693e-9755-40c8-9b6a-37d8fa09fcc5',\n",
       " '53300eec-64d9-4c0e-8126-51639ec0614f',\n",
       " '0e9e2e57-0e10-4c8c-b242-7c34627132a3',\n",
       " 'a79510e0-dc3c-4fb4-a3e0-0a0b3e5f2dfe',\n",
       " '9851fdc6-5dff-4a27-98e1-96c40e804914',\n",
       " '702472f7-428a-472c-a814-909531116e9d',\n",
       " 'df1069bf-6743-455c-98ab-638c8785f6fe',\n",
       " '5eee8118-8067-4cbe-b5c2-f5918b3e658c',\n",
       " 'd0abb251-ae7d-4f92-bb36-bd175dc4ea18',\n",
       " 'd4815dfc-7d62-4ef8-9443-75f9a33e435c',\n",
       " '1eb24661-febc-4669-9b4b-78c8d1a9eb30',\n",
       " 'c6860b23-6d55-40d9-8b7c-b56c89be624c',\n",
       " 'a8850858-85c4-4717-9c19-6c1bd1f0fbef',\n",
       " '2461ffc4-fd36-40c0-916c-d0e341395e3d',\n",
       " '71517c5b-ec9c-4ec3-8d5f-5eef987d6a14',\n",
       " '07848169-8a83-4594-b173-799d44cd2add',\n",
       " '95fb5d38-6a0c-45d3-8289-25387a91d790',\n",
       " '2aaf87b7-4efe-4492-8052-64cbb4467bb1',\n",
       " 'bf458fd2-a1f1-45fb-bea7-dc501ca100ce',\n",
       " '384ee311-658e-4a06-9cb3-f9807b20d3a4',\n",
       " '9aa9b8f2-b7da-4cdb-b509-166b8da49c55',\n",
       " '93afe811-e98a-408d-b08b-a83dd0088f10',\n",
       " 'c8ff3550-d6fb-475e-87ce-2b73ef72bdf8',\n",
       " '700e2260-ada5-480c-a5da-247e858a94fc',\n",
       " '0b56b28f-b407-4716-a2dc-957cf01cefc1',\n",
       " '3964ef1e-a5b2-4e89-9e83-9ec1e4e4aab8',\n",
       " '0afabf09-46c5-47b2-bfdc-f96a2a233c9e',\n",
       " 'fd28cffe-3bc7-45e6-9d52-5abbdb362f87',\n",
       " 'e405ba62-785e-488e-977a-3763c58926e3',\n",
       " 'b15cd6af-a3ce-4167-a0c6-32fa5547a947',\n",
       " '0587ed67-ec6c-4bc2-a739-5f34c3739681',\n",
       " 'df19d70d-5ec3-4f3a-8f4e-5a11e6e98cb0',\n",
       " 'e94fb024-f1b0-4034-ad4b-fd76a863fcda',\n",
       " '3ee24a42-07d6-47cc-96d9-3039d79116cd',\n",
       " '3fe86d11-eb53-4ec1-8993-e03c400c0abc',\n",
       " '4970d3d1-4dc6-464b-bc10-728c71bc16a2',\n",
       " '175b6612-6284-4371-8ae9-cd2adb50d1d2',\n",
       " 'a238cca8-4458-4628-9c22-c57884607de2',\n",
       " '6e9dedc9-cca9-4d1f-aa59-72a7aec191ac',\n",
       " '810454aa-b0ac-49d5-a011-f8e92908d0e4',\n",
       " 'a7eca3a5-2ada-4b9b-8e65-4b683c388ed5',\n",
       " '113d572e-d78f-484e-bd95-6e6012386a4f',\n",
       " 'cead7b6a-2c0b-4914-9461-12e6adfb1761',\n",
       " '1d3e5f4f-f4d4-4789-8d54-d92eba57e51a',\n",
       " 'c86040a4-5751-4cc5-8136-124dc8062320',\n",
       " '854aac20-0fd3-4468-9c2f-4ef8f8e5282a',\n",
       " 'de25be5b-0fec-431d-b727-20cd73aabe3f',\n",
       " 'abaabe3a-814b-4eb2-9eb5-f4d3ee0bed30',\n",
       " 'fae09360-aab9-4495-8c8b-2e0d29f672e4',\n",
       " 'f5cbdcd0-abba-4826-9b8a-ccc5bc4e66b1',\n",
       " '14bb2290-5553-414c-90f1-2562bd8f5515',\n",
       " 'b3f7faa2-658e-4bab-90b6-804111374c2c',\n",
       " '7c2886ef-fec4-4a34-8abe-7d8a04a525da',\n",
       " '095cea1b-b2b7-4e5a-bf37-b2445e21c4ea',\n",
       " '52a11906-cf73-4aeb-b63e-bf2684ac6194',\n",
       " '2ac1835e-39f4-4668-8881-e2712615165b',\n",
       " '9d57f1d8-98d7-4ae5-a42a-fbda2b44cff8',\n",
       " 'bfa11482-ee23-41cc-ae84-6c8bc039c19a',\n",
       " 'c31d8050-1458-448c-89f0-7a47ff266dec',\n",
       " 'a5bf0403-80a6-4420-8aca-904d8dba7ee3',\n",
       " '87aeb03c-1e7a-40bd-8c32-6f31de4ff016',\n",
       " 'a6107ed9-d607-4315-ae4f-4c962355c5c7',\n",
       " '85623aa9-90f8-4296-828a-d04526432fb3',\n",
       " '228c28b1-9e59-4745-a14d-4addd6581e9b',\n",
       " '63ba5d43-0b14-4301-800a-09b72e1590a3',\n",
       " '16a56204-db39-412f-a098-3b7796edfd41',\n",
       " 'e8608659-aa12-443c-a8c3-001ef7945c57',\n",
       " '681e399d-4f6f-4f2d-a1a4-0d2f6c9eb088',\n",
       " 'a5d88268-2429-4504-b8c6-10d74cd580e5',\n",
       " '990e6532-c124-4c82-bac5-b18c3db69cd4',\n",
       " '82fd6ac8-b704-4414-9c91-920460ed948c',\n",
       " '59fafce4-9383-43d2-8d0a-7fbd968469bc',\n",
       " '271001bb-6ec4-45bc-9825-960da63daf20',\n",
       " 'a5e002ba-87eb-4eb2-9357-7c4935aee52f',\n",
       " 'dd567655-d701-4f01-94a3-1eeb75f90030',\n",
       " '56c9e505-30c4-441c-bd42-d5b2ac60fa16',\n",
       " '83c3dec3-ec7c-4414-9354-1b7e8c2d7a69',\n",
       " '2337a4ba-5c4b-4de9-b24c-d0aa8281e5db',\n",
       " '56213c09-06ee-45b2-aaa4-305dfbbfb61b',\n",
       " '6033308b-29be-43fa-a674-9ec77b4b831c',\n",
       " 'd71e70c8-daef-467e-b982-1733bd60150d',\n",
       " '18061b62-f963-441a-9dc9-9357ac3749c9',\n",
       " '850a2a4f-2d4a-418d-8e55-2143dcc04766',\n",
       " '208fbb47-36bb-4daa-ab74-449fbf708ef8',\n",
       " 'bd4fa62b-077d-4d0c-b0ba-292081b3b2aa',\n",
       " 'a6026914-5338-4fb1-8b8a-019cfb316c11',\n",
       " '5e1d5ae0-f231-4cb4-9b21-f68ea925728a',\n",
       " '176a8eb6-29f7-4fdd-b278-8e0df3c85761',\n",
       " '5268fc6c-2ca7-4cde-98ed-136f1d61b5f5',\n",
       " 'e4c5143f-dfe8-4b61-a53a-4722090419b0',\n",
       " 'ce6945d9-224f-4774-a317-f43826e236b0',\n",
       " '02e5f4a3-61c8-4ad4-a84f-d1c5d7954ff5',\n",
       " '83972889-f5ac-4b9a-852b-9fd51d8529c5',\n",
       " '8abafcd9-3808-4311-9b86-2f52c149de7f',\n",
       " '24b49920-433f-4a0e-b6bd-dfc2d9c64974',\n",
       " 'd62da29b-99c6-4b01-b3bd-6dc3cd81f49d',\n",
       " 'fe9f26ba-62b9-498e-ae31-88ed22cea0d8']"
      ]
     },
     "execution_count": 21,
     "metadata": {},
     "output_type": "execute_result"
    }
   ],
   "source": [
    "vector_store.add_documents(documents=chunks)"
   ]
  },
  {
   "cell_type": "code",
   "execution_count": 22,
   "id": "e2eb35ef",
   "metadata": {},
   "outputs": [
    {
     "data": {
      "text/plain": [
       "[Document(id='c3aff96a-b098-41e0-8285-52aec2764c33', metadata={'author': '', 'creationdate': '2023-07-20T00:30:36+00:00', 'creator': 'LaTeX with hyperref', 'keywords': '', 'moddate': '2023-07-20T00:30:36+00:00', 'page': 23.0, 'page_label': '24', 'producer': 'pdfTeX-1.40.25', 'ptex.fullbanner': 'This is pdfTeX, Version 3.141592653-2.6-1.40.25 (TeX Live 2023) kpathsea version 6.3.5', 'source': '../llama2.pdf', 'subject': '', 'title': '', 'total_pages': 77.0, 'trapped': '/False'}, page_content='preference data to train a safety reward model (see Section 3.2.2), and also reuse the adversarial prompts to\\nsample from the model during the RLHF stage.\\nBetter Long-Tail Safety Robustness without Hurting HelpfulnessSafety is inherently a long-tail problem,\\nwhere the challenge comes from a small number of very specific cases. We investigate the impact of Safety\\nRLHFbytakingtwointermediate Llama 2-Chatcheckpoints—onewithoutadversarialpromptsintheRLHF'),\n",
       " Document(id='82f396fa-0132-4e21-a0fd-9c067793fcbb', metadata={'author': '', 'creationdate': '2023-07-20T00:30:36+00:00', 'creator': 'LaTeX with hyperref', 'keywords': '', 'moddate': '2023-07-20T00:30:36+00:00', 'page': 34.0, 'page_label': '35', 'producer': 'pdfTeX-1.40.25', 'ptex.fullbanner': 'This is pdfTeX, Version 3.141592653-2.6-1.40.25 (TeX Live 2023) kpathsea version 6.3.5', 'source': '../llama2.pdf', 'subject': '', 'title': '', 'total_pages': 77.0, 'trapped': '/False'}, page_content='in the industry. Lastly, openly releasing these models consolidates costs and eliminates barriers to entry,\\nallowing small businesses to leverage innovations in LLMs to explore and build text-generation use cases.\\nUltimately, we believe this will create a more level playing field for organizations of all sizes across the globe\\nto benefit from the economic growth promised by the advancement of AI.\\nWe know that not everyone who uses AI models has good intentions, and we acknowledge that there'),\n",
       " Document(id='a825a973-1051-4e44-81cc-f1d03ec63187', metadata={'author': '', 'creationdate': '2023-07-20T00:30:36+00:00', 'creator': 'LaTeX with hyperref', 'keywords': '', 'moddate': '2023-07-20T00:30:36+00:00', 'page': 27.0, 'page_label': '28', 'producer': 'pdfTeX-1.40.25', 'ptex.fullbanner': 'This is pdfTeX, Version 3.141592653-2.6-1.40.25 (TeX Live 2023) kpathsea version 6.3.5', 'source': '../llama2.pdf', 'subject': '', 'title': '', 'total_pages': 77.0, 'trapped': '/False'}, page_content='risks solely viaex post factousage and analysis. Rather, as has been done for other LLMs, we performed\\nvarious kinds ofproactiverisk identification, colloquially called “red teaming,“ based on the term commonly\\nused within computer security. This kind of granular analysis is very important because safety is a long-tail\\nissue, in which even very infrequent edge cases can cause noticeable problems. Even if quantitative scores'),\n",
       " Document(id='245b8d20-b202-4f46-9b76-f6e88f273b1f', metadata={'author': '', 'creationdate': '2023-07-20T00:30:36+00:00', 'creator': 'LaTeX with hyperref', 'keywords': '', 'moddate': '2023-07-20T00:30:36+00:00', 'page': 2.0, 'page_label': '3', 'producer': 'pdfTeX-1.40.25', 'ptex.fullbanner': 'This is pdfTeX, Version 3.141592653-2.6-1.40.25 (TeX Live 2023) kpathsea version 6.3.5', 'source': '../llama2.pdf', 'subject': '', 'title': '', 'total_pages': 77.0, 'trapped': '/False'}, page_content='The capabilities of LLMs are remarkable considering the seemingly straightforward nature of the training\\nmethodology. Auto-regressive transformers are pretrained on an extensive corpus of self-supervised data,\\nfollowed by alignment with human preferences via techniques such as Reinforcement Learning with Human\\nFeedback (RLHF). Although the training methodology is simple, high computational requirements have')]"
      ]
     },
     "execution_count": 22,
     "metadata": {},
     "output_type": "execute_result"
    }
   ],
   "source": [
    "vector_store.similarity_search(\n",
    "    \"what langchain provides to us?\",\n",
    "    k=4\n",
    ")"
   ]
  },
  {
   "cell_type": "code",
   "execution_count": 23,
   "id": "a9154b57",
   "metadata": {},
   "outputs": [
    {
     "data": {
      "text/plain": [
       "[]"
      ]
     },
     "execution_count": 23,
     "metadata": {},
     "output_type": "execute_result"
    }
   ],
   "source": [
    "vector_store.similarity_search(\n",
    "    \"what langchain provides to us?\",\n",
    "    filter={\"source\": \"tweet\"}\n",
    ")"
   ]
  },
  {
   "cell_type": "code",
   "execution_count": 24,
   "id": "09b95dad",
   "metadata": {},
   "outputs": [],
   "source": [
    "retriever = vector_store.as_retriever(\n",
    "    search_type=\"similarity_score_threshold\",\n",
    "    search_kwargs={\"score_threshold\": 0.8} \n",
    ")"
   ]
  },
  {
   "cell_type": "code",
   "execution_count": 25,
   "id": "fb2dea01",
   "metadata": {},
   "outputs": [
    {
     "data": {
      "text/plain": [
       "[Document(id='c3aff96a-b098-41e0-8285-52aec2764c33', metadata={'author': '', 'creationdate': '2023-07-20T00:30:36+00:00', 'creator': 'LaTeX with hyperref', 'keywords': '', 'moddate': '2023-07-20T00:30:36+00:00', 'page': 23.0, 'page_label': '24', 'producer': 'pdfTeX-1.40.25', 'ptex.fullbanner': 'This is pdfTeX, Version 3.141592653-2.6-1.40.25 (TeX Live 2023) kpathsea version 6.3.5', 'source': '../llama2.pdf', 'subject': '', 'title': '', 'total_pages': 77.0, 'trapped': '/False'}, page_content='preference data to train a safety reward model (see Section 3.2.2), and also reuse the adversarial prompts to\\nsample from the model during the RLHF stage.\\nBetter Long-Tail Safety Robustness without Hurting HelpfulnessSafety is inherently a long-tail problem,\\nwhere the challenge comes from a small number of very specific cases. We investigate the impact of Safety\\nRLHFbytakingtwointermediate Llama 2-Chatcheckpoints—onewithoutadversarialpromptsintheRLHF'),\n",
       " Document(id='a825a973-1051-4e44-81cc-f1d03ec63187', metadata={'author': '', 'creationdate': '2023-07-20T00:30:36+00:00', 'creator': 'LaTeX with hyperref', 'keywords': '', 'moddate': '2023-07-20T00:30:36+00:00', 'page': 27.0, 'page_label': '28', 'producer': 'pdfTeX-1.40.25', 'ptex.fullbanner': 'This is pdfTeX, Version 3.141592653-2.6-1.40.25 (TeX Live 2023) kpathsea version 6.3.5', 'source': '../llama2.pdf', 'subject': '', 'title': '', 'total_pages': 77.0, 'trapped': '/False'}, page_content='risks solely viaex post factousage and analysis. Rather, as has been done for other LLMs, we performed\\nvarious kinds ofproactiverisk identification, colloquially called “red teaming,“ based on the term commonly\\nused within computer security. This kind of granular analysis is very important because safety is a long-tail\\nissue, in which even very infrequent edge cases can cause noticeable problems. Even if quantitative scores'),\n",
       " Document(id='9301d025-d765-45f6-8244-58cd00af3891', metadata={'author': '', 'creationdate': '2023-07-20T00:30:36+00:00', 'creator': 'LaTeX with hyperref', 'keywords': '', 'moddate': '2023-07-20T00:30:36+00:00', 'page': 42.0, 'page_label': '43', 'producer': 'pdfTeX-1.40.25', 'ptex.fullbanner': 'This is pdfTeX, Version 3.141592653-2.6-1.40.25 (TeX Live 2023) kpathsea version 6.3.5', 'source': '../llama2.pdf', 'subject': '', 'title': '', 'total_pages': 77.0, 'trapped': '/False'}, page_content='transformer with rotary position embedding, 2022.\\nMiracSuzgun,NathanScales,NathanaelSchärli,SebastianGehrmann,YiTay,HyungWonChung,Aakanksha\\nChowdhery, Quoc V Le, Ed H Chi, Denny Zhou, et al. Challenging big-bench tasks and whether chain-of-\\nthought can solve them.arXiv preprint arXiv:2210.09261, 2022.\\nGabriel Synnaeve, Jonas Gehring, Zeming Lin, Daniel Haziza, Nicolas Usunier, Danielle Rothermel, Vegard')]"
      ]
     },
     "execution_count": 25,
     "metadata": {},
     "output_type": "execute_result"
    }
   ],
   "source": [
    "retriever.invoke(\"langchain\")"
   ]
  },
  {
   "cell_type": "code",
   "execution_count": 26,
   "id": "59ed0280",
   "metadata": {},
   "outputs": [
    {
     "data": {
      "text/plain": [
       "ChatGoogleGenerativeAI(model='models/gemini-1.5-flash', google_api_key=SecretStr('**********'), client=<google.ai.generativelanguage_v1beta.services.generative_service.client.GenerativeServiceClient object at 0x000001F1393F3E30>, default_metadata=())"
      ]
     },
     "execution_count": 26,
     "metadata": {},
     "output_type": "execute_result"
    }
   ],
   "source": [
    "from langchain_google_genai import ChatGoogleGenerativeAI\n",
    "\n",
    "llm = ChatGoogleGenerativeAI(model='gemini-1.5-flash')\n",
    "llm"
   ]
  },
  {
   "cell_type": "code",
   "execution_count": 27,
   "id": "722971d5",
   "metadata": {},
   "outputs": [],
   "source": [
    "from langchain import hub\n",
    "prompt = hub.pull(\"rlm/rag-prompt\")"
   ]
  },
  {
   "cell_type": "code",
   "execution_count": 28,
   "id": "899535d8",
   "metadata": {},
   "outputs": [
    {
     "name": "stdout",
     "output_type": "stream",
     "text": [
      "[HumanMessagePromptTemplate(prompt=PromptTemplate(input_variables=['context', 'question'], input_types={}, partial_variables={}, template=\"You are an assistant for question-answering tasks. Use the following pieces of retrieved context to answer the question. If you don't know the answer, just say that you don't know. Use three sentences maximum and keep the answer concise.\\nQuestion: {question} \\nContext: {context} \\nAnswer:\"), additional_kwargs={})]\n"
     ]
    }
   ],
   "source": [
    "import pprint\n",
    "pprint.pprint(prompt.messages)"
   ]
  },
  {
   "cell_type": "markdown",
   "id": "9fabca0f",
   "metadata": {},
   "source": [
    "[HumanMessagePromptTemplate(prompt=PromptTemplate(input_variables=['context', 'question'], input_types={}, partial_variables={}, template=\"You are an assistant for question-answering tasks. Use the following pieces of retrieved context to answer the question. If you don't know the answer, just say that you don't know. Use three sentences maximum and keep the answer concise.\\nQuestion: {question} \\nContext: {context} \\nAnswer:\"), additional_kwargs={})]"
   ]
  },
  {
   "cell_type": "code",
   "execution_count": 29,
   "id": "1bb5ab67",
   "metadata": {},
   "outputs": [
    {
     "data": {
      "text/plain": [
       "PromptTemplate(input_variables=['context', 'question'], input_types={}, partial_variables={}, template=\"You are an assistant for question-answering tasks. Use the following pieces of retrieved context to answer the question. If you don't know the answer, just say that you don't know. Use three sentences maximum and keep the answer concise.\\nQuestion: {question} \\nContext: {context} \\nAnswer:\")"
      ]
     },
     "execution_count": 29,
     "metadata": {},
     "output_type": "execute_result"
    }
   ],
   "source": [
    "from langchain_core.prompts import PromptTemplate\n",
    "\n",
    "prompt = PromptTemplate(\n",
    "    template=\"\"\"You are an assistant for question-answering tasks. Use the following pieces of retrieved context to answer the question. If you don't know the answer, just say that you don't know. Use three sentences maximum and keep the answer concise.\\nQuestion: {question} \\nContext: {context} \\nAnswer:\"\"\",\n",
    "    input_variables=['context', 'question']\n",
    ")\n",
    "\n",
    "prompt"
   ]
  },
  {
   "cell_type": "code",
   "execution_count": 30,
   "id": "68697d54",
   "metadata": {},
   "outputs": [
    {
     "data": {
      "text/plain": [
       "StringPromptValue(text=\"You are an assistant for question-answering tasks. Use the following pieces of retrieved context to answer the question. If you don't know the answer, just say that you don't know. Use three sentences maximum and keep the answer concise.\\nQuestion: what is a langchain? \\nContext: langchain is very super framework for LLM. \\nAnswer:\")"
      ]
     },
     "execution_count": 30,
     "metadata": {},
     "output_type": "execute_result"
    }
   ],
   "source": [
    "prompt.invoke({\"question\":\"what is a langchain?\",\"context\":\"langchain is very super framework for LLM.\"})"
   ]
  },
  {
   "cell_type": "markdown",
   "id": "6f8afeb2",
   "metadata": {},
   "source": [
    "StringPromptValue(text=\"You are an assistant for question-answering tasks. Use the following pieces of retrieved context to answer the question. If you don't know the answer, just say that you don't know. Use three sentences maximum and keep the answer concise.\\nQuestion: what is a langchain? \\nContext: langchain is very super framework for LLM. \\nAnswer:\")"
   ]
  },
  {
   "cell_type": "code",
   "execution_count": 31,
   "id": "f445a6ba",
   "metadata": {},
   "outputs": [],
   "source": [
    "from langchain_core.output_parsers import StrOutputParser\n",
    "from langchain_core.runnables import RunnablePassthrough"
   ]
  },
  {
   "cell_type": "code",
   "execution_count": 32,
   "id": "86ae15ce",
   "metadata": {},
   "outputs": [],
   "source": [
    "def format_docs(docs):\n",
    "    return \"\\n\\n\".join(doc.page_content for doc in docs)"
   ]
  },
  {
   "cell_type": "code",
   "execution_count": 33,
   "id": "ed4b6788",
   "metadata": {},
   "outputs": [
    {
     "data": {
      "text/plain": [
       "{\n",
       "  context: VectorStoreRetriever(tags=['PineconeVectorStore', 'GoogleGenerativeAIEmbeddings'], vectorstore=<langchain_pinecone.vectorstores.PineconeVectorStore object at 0x000001F1216556A0>, search_type='similarity_score_threshold', search_kwargs={'score_threshold': 0.8})\n",
       "           | RunnableLambda(format_docs),\n",
       "  question: RunnablePassthrough()\n",
       "}\n",
       "| PromptTemplate(input_variables=['context', 'question'], input_types={}, partial_variables={}, template=\"You are an assistant for question-answering tasks. Use the following pieces of retrieved context to answer the question. If you don't know the answer, just say that you don't know. Use three sentences maximum and keep the answer concise.\\nQuestion: {question} \\nContext: {context} \\nAnswer:\")\n",
       "| ChatGoogleGenerativeAI(model='models/gemini-1.5-flash', google_api_key=SecretStr('**********'), client=<google.ai.generativelanguage_v1beta.services.generative_service.client.GenerativeServiceClient object at 0x000001F1393F3E30>, default_metadata=())\n",
       "| StrOutputParser()"
      ]
     },
     "execution_count": 33,
     "metadata": {},
     "output_type": "execute_result"
    }
   ],
   "source": [
    "rag_chain = (\n",
    "    {\"context\": retriever | format_docs, \"question\": RunnablePassthrough()}\n",
    "    | prompt\n",
    "    | llm\n",
    "    | StrOutputParser()\n",
    ")\n",
    "\n",
    "rag_chain"
   ]
  },
  {
   "cell_type": "markdown",
   "id": "fc244059",
   "metadata": {},
   "source": [
    "{\n",
    "  context: VectorStoreRetriever(tags=['PineconeVectorStore', 'GoogleGenerativeAIEmbeddings'], vectorstore=<langchain_pinecone.vectorstores.PineconeVectorStore object at 0x000001F1216556A0>, search_type='similarity_score_threshold', search_kwargs={'score_threshold': 0.8})\n",
    "           | RunnableLambda(format_docs),\n",
    "  question: RunnablePassthrough()\n",
    "}\n",
    "| PromptTemplate(input_variables=['context', 'question'], input_types={}, partial_variables={}, template=\"You are an assistant for question-answering tasks. Use the following pieces of retrieved context to answer the question. If you don't know the answer, just say that you don't know. Use three sentences maximum and keep the answer concise.\\nQuestion: {question} \\nContext: {context} \\nAnswer:\")\n",
    "| ChatGoogleGenerativeAI(model='models/gemini-1.5-flash', google_api_key=SecretStr('**********'), client=<google.ai.generativelanguage_v1beta.services.generative_service.client.GenerativeServiceClient object at 0x000001F1393F3E30>, default_metadata=())\n",
    "| StrOutputParser()"
   ]
  },
  {
   "cell_type": "code",
   "execution_count": 34,
   "id": "b48f7254",
   "metadata": {},
   "outputs": [
    {
     "data": {
      "text/plain": [
       "\"Llama 2 is a large language model developed by Meta AI.  It comes in various sizes (7B, 13B, and 70B parameters) and is available in both pretrained and fine-tuned versions.  It's an autoregressive language model using an optimized transformer architecture.\""
      ]
     },
     "execution_count": 34,
     "metadata": {},
     "output_type": "execute_result"
    }
   ],
   "source": [
    "rag_chain.invoke(\"what is llama model?\")"
   ]
  },
  {
   "cell_type": "markdown",
   "id": "9a0be58c",
   "metadata": {},
   "source": [
    "\"Llama 2 is a large language model developed by Meta AI.  It comes in various sizes (7B, 13B, and 70B parameters) and is available in both pretrained and fine-tuned versions.  It's an autoregressive language model using an optimized transformer architecture.\""
   ]
  },
  {
   "cell_type": "code",
   "execution_count": 35,
   "id": "544a1202",
   "metadata": {},
   "outputs": [
    {
     "data": {
      "text/plain": [
       "'The provided text does not describe how sequence truncation artifacts affect token-level loss distribution during LLM pretraining or mitigation strategies for a \"final token loss spike\".  Therefore, I cannot answer your question.'"
      ]
     },
     "execution_count": 35,
     "metadata": {},
     "output_type": "execute_result"
    }
   ],
   "source": [
    "rag_chain.invoke(\n",
    "    \"\"\"\n",
    "        How do sequence truncation artifacts at the end of fixed-length contexts affect token-level loss distribution during LLM pretraining, \n",
    "        and what mitigation strategies can be employed to reduce the 'final token loss spike' bias?\n",
    "    \"\"\"\n",
    "    )"
   ]
  },
  {
   "cell_type": "markdown",
   "id": "39cca910",
   "metadata": {},
   "source": [
    "'The provided text does not describe how sequence truncation artifacts affect token-level loss distribution during LLM pretraining or mitigation strategies for a \"final token loss spike\".  Therefore, I cannot answer your question.'"
   ]
  },
  {
   "cell_type": "code",
   "execution_count": null,
   "id": "c3e2c6bf",
   "metadata": {},
   "outputs": [],
   "source": []
  },
  {
   "cell_type": "markdown",
   "id": "bc382a72",
   "metadata": {},
   "source": [
    "# Assignment:\n",
    "\n",
    "# first complete the remaining part of this notebook(create a proper rag)\n",
    "\n",
    "\n",
    "\n",
    "# second assisgnment is: take a multiple pdf with text,image,table\n",
    "1. fetch the data from pdf\n",
    "2. at lesat there should be 200 pages\n",
    "3. if chunking(use the sementic chunking technique) required do chunking and then embedding\n",
    "4. store it inside the vector database(use any of them 1. mongodb 2. astradb 3. opensearch 4.milvus) ## i have not discuss then you need to explore\n",
    "5. create a index with all three index machnism(Flat, HNSW, IVF) ## i have not discuss then you need to explore\n",
    "6. create a retriever pipeline\n",
    "7. check the retriever time(which one is fastet)\n",
    "8. print the accuray score of every similarity search\n",
    "9. perform the reranking either using BM25 or MMR ## i have not discuss then you need to explore\n",
    "10. then write a prompt template\n",
    "11. generte a oputput through llm\n",
    "12. render that output over the DOCx ## i have not discuss then you need to explore\n",
    "as a additional tip: you can follow rag playlist from my youtube\n",
    "\n",
    "after completing it keep it on your github and share that link on my  mail id:\n",
    "snshrivas3365@gmail.com\n",
    "\n",
    "and share the assignment in your community chat as well by tagging krish and sunny\n",
    "\n",
    "deadline is: till friday 9PM\n",
    "   "
   ]
  }
 ],
 "metadata": {
  "kernelspec": {
   "display_name": "agentic_ai",
   "language": "python",
   "name": "python3"
  },
  "language_info": {
   "codemirror_mode": {
    "name": "ipython",
    "version": 3
   },
   "file_extension": ".py",
   "mimetype": "text/x-python",
   "name": "python",
   "nbconvert_exporter": "python",
   "pygments_lexer": "ipython3",
   "version": "3.12.0"
  }
 },
 "nbformat": 4,
 "nbformat_minor": 5
}
