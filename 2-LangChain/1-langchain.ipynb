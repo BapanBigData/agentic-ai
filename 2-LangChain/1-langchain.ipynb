{
 "cells": [
  {
   "cell_type": "code",
   "execution_count": 1,
   "id": "08ead578",
   "metadata": {},
   "outputs": [],
   "source": [
    "import os\n",
    "from dotenv import load_dotenv"
   ]
  },
  {
   "cell_type": "code",
   "execution_count": 2,
   "id": "c2b94104",
   "metadata": {},
   "outputs": [],
   "source": [
    "\n",
    "load_dotenv()\n",
    "\n",
    "os.environ[\"GROQ_API_KEY\"] = os.getenv(\"GROQ_API_KEY\")\n",
    "os.environ[\"OPENAI_API_KEY\"] = os.getenv(\"OPENAI_API_KEY\")\n",
    "os.environ[\"ANTHROPIC_API_KEY\"] = os.getenv(\"ANTHROPIC_API_KEY\")\n",
    "os.environ[\"LANGCHAIN_API_KEY\"] = os.getenv(\"LANGCHAIN_API_KEY\")\n",
    "os.environ[\"LANGCHAIN_PROJECT\"] = os.getenv(\"LANGCHAIN_PROJECT\")\n",
    "os.environ[\"LANGCHAIN_TRACING_V2\"] = \"true\""
   ]
  },
  {
   "cell_type": "code",
   "execution_count": 35,
   "id": "0f7f99c4",
   "metadata": {},
   "outputs": [
    {
     "name": "stdout",
     "output_type": "stream",
     "text": [
      "client=<openai.resources.chat.completions.completions.Completions object at 0x000002D5B0AA4860> async_client=<openai.resources.chat.completions.completions.AsyncCompletions object at 0x000002D5B1668BC0> root_client=<openai.OpenAI object at 0x000002D5B1071F40> root_async_client=<openai.AsyncOpenAI object at 0x000002D5B1223FB0> model_name='o1-mini' temperature=1.0 model_kwargs={} openai_api_key=SecretStr('**********')\n"
     ]
    }
   ],
   "source": [
    "from langchain_openai import ChatOpenAI\n",
    "\n",
    "llm = ChatOpenAI(\n",
    "    model = 'o1-mini'\n",
    ")\n",
    "\n",
    "print(llm)"
   ]
  },
  {
   "cell_type": "code",
   "execution_count": 10,
   "id": "02d89f82",
   "metadata": {},
   "outputs": [
    {
     "data": {
      "text/plain": [
       "AIMessage(content='**Agentic AI** refers to artificial intelligence systems designed to exhibit agency—meaning they possess the capacity to act autonomously, make decisions, set goals, and pursue objectives without continuous human intervention. Unlike traditional AI systems that simply follow predefined instructions or perform specific tasks, agentic AI systems are built to operate with a degree of independence, adaptability, and decision-making capability that allows them to navigate complex environments and achieve broader objectives.\\n\\n### Key Characteristics of Agentic AI:\\n\\n1. **Autonomy:** Agentic AI can operate independently, making decisions based on its programming, learned experiences, and real-time data without requiring constant human oversight.\\n\\n2. **Goal-Directed Behavior:** These AI systems are designed with specific objectives or goals. They can plan, prioritize, and adjust their actions to achieve these goals effectively.\\n\\n3. **Adaptability and Learning:** Agentic AI can learn from interactions, adapt to new situations, and modify its behavior based on feedback or changing environments. This often involves machine learning techniques that allow the AI to improve over time.\\n\\n4. **Decision-Making Capabilities:** Such AI systems can evaluate various options, assess potential outcomes, and make informed decisions to navigate challenges or optimize performance towards their objectives.\\n\\n5. **Interaction with the Environment:** Agentic AI can perceive and interpret its surroundings through sensors or data inputs, enabling it to interact with and respond to its environment in meaningful ways.\\n\\n### Examples of Agentic AI:\\n\\n- **Autonomous Vehicles:** Self-driving cars navigate traffic, make real-time decisions to ensure safety, optimize routes, and adjust to changing driving conditions without human input.\\n\\n- **Robotic Assistants:** Robots in manufacturing or healthcare settings that perform tasks, adapt to new instructions, and collaborate with humans to achieve specific goals.\\n\\n- **Virtual Personal Assistants:** Advanced assistants like virtual agents that manage schedules, handle communications, and perform tasks based on user preferences and contextual understanding.\\n\\n- **AI in Gaming:** Non-player characters (NPCs) that exhibit complex behaviors, adapt to player actions, and provide dynamic interactions within the game environment.\\n\\n### Implications of Agentic AI:\\n\\n**Benefits:**\\n- **Efficiency and Productivity:** By automating complex tasks and making autonomous decisions, agentic AI can significantly enhance productivity across various industries.\\n  \\n- **Innovation:** These systems can explore solutions and strategies beyond human capabilities, potentially leading to breakthroughs in fields like medicine, engineering, and environmental management.\\n\\n- **Personalization:** Agentic AI can tailor experiences and services to individual preferences, improving user satisfaction and engagement.\\n\\n**Challenges and Considerations:**\\n- **Ethical Concerns:** The autonomy of agentic AI raises questions about accountability, decision-making transparency, and the ethical implications of actions taken by AI systems.\\n\\n- **Safety and Control:** Ensuring that agentic AI systems operate safely and remain under meaningful human control is crucial, especially in high-stakes environments like healthcare, transportation, and military applications.\\n\\n- **Bias and Fairness:** AI systems learn from data, which may contain biases. Ensuring that agentic AI makes fair and unbiased decisions is an ongoing challenge.\\n\\n- **Job Displacement:** As agentic AI takes on more autonomous roles, there are concerns about the potential impact on employment and the need for workforce adaptation.\\n\\n### Future Outlook:\\n\\nAgentic AI continues to evolve with advancements in machine learning, robotics, and cognitive computing. As these technologies mature, agentic AI systems are expected to become more sophisticated, capable of handling increasingly complex tasks and operating in diverse environments. Ongoing research focuses on enhancing the reliability, safety, and ethical frameworks governing agentic AI to ensure that their integration into society is beneficial and aligned with human values.\\n\\nIn summary, agentic AI represents a significant step toward creating more autonomous and intelligent systems that can assist, augment, and even perform tasks independently. While offering substantial benefits, it also necessitates careful consideration of ethical, safety, and societal implications to ensure responsible development and deployment.', additional_kwargs={'refusal': None}, response_metadata={'token_usage': {'completion_tokens': 1056, 'prompt_tokens': 13, 'total_tokens': 1069, 'completion_tokens_details': {'accepted_prediction_tokens': 0, 'audio_tokens': 0, 'reasoning_tokens': 256, 'rejected_prediction_tokens': 0}, 'prompt_tokens_details': {'audio_tokens': 0, 'cached_tokens': 0}}, 'model_name': 'o1-mini-2024-09-12', 'system_fingerprint': 'fp_3da8b0b088', 'id': 'chatcmpl-Bi2oMtZqDzhiFFja1v7b8tPK9F1XS', 'service_tier': 'default', 'finish_reason': 'stop', 'logprobs': None}, id='run--fe258705-cd15-45c6-96f5-2e5b1c72bb34-0', usage_metadata={'input_tokens': 13, 'output_tokens': 1056, 'total_tokens': 1069, 'input_token_details': {'audio': 0, 'cache_read': 0}, 'output_token_details': {'audio': 0, 'reasoning': 256}})"
      ]
     },
     "execution_count": 10,
     "metadata": {},
     "output_type": "execute_result"
    }
   ],
   "source": [
    "llm.invoke(\"What is agentic ai?\")"
   ]
  },
  {
   "cell_type": "code",
   "execution_count": 12,
   "id": "8d7e63c8",
   "metadata": {},
   "outputs": [
    {
     "name": "stdout",
     "output_type": "stream",
     "text": [
      "content='**Agentic AI** refers to artificial intelligence systems designed with agency—that is, the capacity to act autonomously, make decisions, and pursue goals within a defined environment. Unlike simple automated tools that follow predefined instructions, agentic AI possesses a degree of independence, enabling it to assess situations, adapt to changing conditions, and take actions to achieve specific objectives without constant human oversight.\\n\\n### Key Characteristics of Agentic AI\\n\\n1. **Autonomy**: Agentic AI can operate independently, making decisions based on its programming and learned experiences without needing direct human intervention for every action.\\n\\n2. **Perception**: These AI systems can perceive their environment through various sensors or data inputs, allowing them to understand and interpret their surroundings.\\n\\n3. **Goal-Oriented Behavior**: They are designed to pursue specific goals or objectives, adjusting their actions to optimize outcomes based on defined criteria.\\n\\n4. **Adaptability and Learning**: Agentic AI can learn from interactions and experiences, improving its performance over time through machine learning techniques.\\n\\n5. **Decision-Making**: Possessing the ability to evaluate options and make choices based on available information and its objectives.\\n\\n### Examples of Agentic AI\\n\\n- **Autonomous Vehicles**: Self-driving cars that navigate roads, make real-time decisions, and respond to dynamic traffic conditions without human input.\\n  \\n- **Virtual Assistants**: Advanced AI assistants like Siri or Alexa that can manage schedules, control smart home devices, and perform tasks based on user preferences and behaviors.\\n  \\n- **Robotics**: Industrial robots that adapt to different manufacturing tasks, or service robots that interact with humans in environments like hospitals or hotels.\\n  \\n- **Intelligent Software Agents**: Programs that manage investments, optimize supply chains, or customize user experiences on digital platforms by analyzing vast amounts of data and making strategic decisions.\\n\\n### Applications of Agentic AI\\n\\n- **Healthcare**: Personalized medicine recommendation systems that adjust treatments based on patient data and responses.\\n  \\n- **Finance**: Automated trading systems that execute trades based on market analysis and predictive algorithms.\\n  \\n- **Customer Service**: Chatbots that handle complex customer inquiries, learning from interactions to provide more accurate and helpful responses over time.\\n  \\n- **Smart Cities**: Systems that manage traffic flow, energy distribution, and public services by autonomously adjusting to real-time data and changing conditions.\\n\\n### Ethical and Societal Considerations\\n\\nThe development and deployment of agentic AI raise several important ethical and societal questions:\\n\\n- **Accountability**: Determining responsibility when autonomous systems make decisions that lead to unintended consequences.\\n  \\n- **Transparency**: Ensuring that the decision-making processes of agentic AI are understandable and transparent to users and stakeholders.\\n  \\n- **Bias and Fairness**: Addressing potential biases in AI algorithms that could lead to unfair treatment or discrimination.\\n  \\n- **Security and Privacy**: Protecting the data and systems that agentic AI interacts with from malicious attacks and unauthorized access.\\n  \\n- **Job Displacement**: Considering the impact of autonomous systems on employment and the workforce.\\n\\n### Future Outlook\\n\\nAgentic AI is a rapidly evolving field with the potential to transform various aspects of daily life and industry. Advances in machine learning, natural language processing, and robotics continue to enhance the capabilities of these systems. However, balancing the benefits of increased automation and autonomy with the ethical and societal challenges is crucial as agentic AI becomes more integrated into our world.\\n\\n---\\n\\nIn summary, agentic AI represents a sophisticated level of artificial intelligence that goes beyond automated responses, embodying autonomy, adaptability, and goal-directed behavior. Its development promises significant advancements across multiple sectors, accompanied by important considerations to ensure its responsible and equitable use.' additional_kwargs={'refusal': None} response_metadata={'token_usage': {'completion_tokens': 1136, 'prompt_tokens': 13, 'total_tokens': 1149, 'completion_tokens_details': {'accepted_prediction_tokens': 0, 'audio_tokens': 0, 'reasoning_tokens': 384, 'rejected_prediction_tokens': 0}, 'prompt_tokens_details': {'audio_tokens': 0, 'cached_tokens': 0}}, 'model_name': 'o1-mini-2024-09-12', 'system_fingerprint': 'fp_3da8b0b088', 'id': 'chatcmpl-Bi2rhIOxcc078GRw1v3X5vVLslNM8', 'service_tier': 'default', 'finish_reason': 'stop', 'logprobs': None} id='run--4f5df90b-98ee-495f-b9ef-def5b2b0a716-0' usage_metadata={'input_tokens': 13, 'output_tokens': 1136, 'total_tokens': 1149, 'input_token_details': {'audio': 0, 'cache_read': 0}, 'output_token_details': {'audio': 0, 'reasoning': 384}}\n"
     ]
    }
   ],
   "source": [
    "response = llm.invoke(\"What is agentic ai?\")\n",
    "print(response)"
   ]
  },
  {
   "cell_type": "code",
   "execution_count": 13,
   "id": "57ecb4ea",
   "metadata": {},
   "outputs": [
    {
     "name": "stdout",
     "output_type": "stream",
     "text": [
      "**Agentic AI** refers to artificial intelligence systems designed with agency—that is, the capacity to act autonomously, make decisions, and pursue goals within a defined environment. Unlike simple automated tools that follow predefined instructions, agentic AI possesses a degree of independence, enabling it to assess situations, adapt to changing conditions, and take actions to achieve specific objectives without constant human oversight.\n",
      "\n",
      "### Key Characteristics of Agentic AI\n",
      "\n",
      "1. **Autonomy**: Agentic AI can operate independently, making decisions based on its programming and learned experiences without needing direct human intervention for every action.\n",
      "\n",
      "2. **Perception**: These AI systems can perceive their environment through various sensors or data inputs, allowing them to understand and interpret their surroundings.\n",
      "\n",
      "3. **Goal-Oriented Behavior**: They are designed to pursue specific goals or objectives, adjusting their actions to optimize outcomes based on defined criteria.\n",
      "\n",
      "4. **Adaptability and Learning**: Agentic AI can learn from interactions and experiences, improving its performance over time through machine learning techniques.\n",
      "\n",
      "5. **Decision-Making**: Possessing the ability to evaluate options and make choices based on available information and its objectives.\n",
      "\n",
      "### Examples of Agentic AI\n",
      "\n",
      "- **Autonomous Vehicles**: Self-driving cars that navigate roads, make real-time decisions, and respond to dynamic traffic conditions without human input.\n",
      "  \n",
      "- **Virtual Assistants**: Advanced AI assistants like Siri or Alexa that can manage schedules, control smart home devices, and perform tasks based on user preferences and behaviors.\n",
      "  \n",
      "- **Robotics**: Industrial robots that adapt to different manufacturing tasks, or service robots that interact with humans in environments like hospitals or hotels.\n",
      "  \n",
      "- **Intelligent Software Agents**: Programs that manage investments, optimize supply chains, or customize user experiences on digital platforms by analyzing vast amounts of data and making strategic decisions.\n",
      "\n",
      "### Applications of Agentic AI\n",
      "\n",
      "- **Healthcare**: Personalized medicine recommendation systems that adjust treatments based on patient data and responses.\n",
      "  \n",
      "- **Finance**: Automated trading systems that execute trades based on market analysis and predictive algorithms.\n",
      "  \n",
      "- **Customer Service**: Chatbots that handle complex customer inquiries, learning from interactions to provide more accurate and helpful responses over time.\n",
      "  \n",
      "- **Smart Cities**: Systems that manage traffic flow, energy distribution, and public services by autonomously adjusting to real-time data and changing conditions.\n",
      "\n",
      "### Ethical and Societal Considerations\n",
      "\n",
      "The development and deployment of agentic AI raise several important ethical and societal questions:\n",
      "\n",
      "- **Accountability**: Determining responsibility when autonomous systems make decisions that lead to unintended consequences.\n",
      "  \n",
      "- **Transparency**: Ensuring that the decision-making processes of agentic AI are understandable and transparent to users and stakeholders.\n",
      "  \n",
      "- **Bias and Fairness**: Addressing potential biases in AI algorithms that could lead to unfair treatment or discrimination.\n",
      "  \n",
      "- **Security and Privacy**: Protecting the data and systems that agentic AI interacts with from malicious attacks and unauthorized access.\n",
      "  \n",
      "- **Job Displacement**: Considering the impact of autonomous systems on employment and the workforce.\n",
      "\n",
      "### Future Outlook\n",
      "\n",
      "Agentic AI is a rapidly evolving field with the potential to transform various aspects of daily life and industry. Advances in machine learning, natural language processing, and robotics continue to enhance the capabilities of these systems. However, balancing the benefits of increased automation and autonomy with the ethical and societal challenges is crucial as agentic AI becomes more integrated into our world.\n",
      "\n",
      "---\n",
      "\n",
      "In summary, agentic AI represents a sophisticated level of artificial intelligence that goes beyond automated responses, embodying autonomy, adaptability, and goal-directed behavior. Its development promises significant advancements across multiple sectors, accompanied by important considerations to ensure its responsible and equitable use.\n"
     ]
    }
   ],
   "source": [
    "print(response.content)"
   ]
  },
  {
   "cell_type": "code",
   "execution_count": 16,
   "id": "d221c513",
   "metadata": {},
   "outputs": [],
   "source": [
    "from langchain_groq import ChatGroq\n",
    "\n",
    "llm_groq = ChatGroq(\n",
    "    model = 'qwen/qwen3-32b'\n",
    ")\n",
    "\n",
    "response_groq = llm_groq.invoke(\"What is agentic ai?\")"
   ]
  },
  {
   "cell_type": "code",
   "execution_count": 17,
   "id": "3c68ffef",
   "metadata": {},
   "outputs": [
    {
     "name": "stdout",
     "output_type": "stream",
     "text": [
      "content='<think>\\nOkay, I need to explain what Agentic AI is. Let me start by recalling what I know.\\n\\nFirst, AI in general is about creating systems that can perform tasks requiring human intelligence. But Agentic AI... Hmm. I remember that the term \"agent\" in AI refers to an entity that can perceive its environment and take actions to achieve goals. So Agentic AI probably refers to AI systems designed to act autonomously as agents.\\n\\nWait, maybe it\\'s part of the broader discussion around autonomous AI systems. There\\'s been a lot of talk about AI agents that can perform complex tasks, like managing a company or acting as a personal assistant. These agents would need to operate with a degree of autonomy, making decisions without constant human input. So Agentic AI is about creating AI systems that can function as autonomous agents, right?\\n\\nI should check if there\\'s a specific framework or set of characteristics that define Agentic AI. Autonomy, goal-oriented behavior, adaptability, and learning from experience come to mind. Also, integrating different AI components like large language models, reasoning systems, and planning algorithms.\\n\\nWait, there\\'s been some buzz around Agentic AI in the context of large models. For example, combining language models with planning and reasoning to create more capable agents. So maybe Agentic AI is about integrating these components to create systems that can handle a variety of tasks, not just follow predefined rules.\\n\\nAnother angle is the potential applications. Autonomous agents could be used in customer service, healthcare, finance, etc., handling tasks that require understanding context and adapting to new situations. But there are also ethical considerations, like control and responsibility when AI acts autonomously.\\n\\nI should also mention the challenges. Developing truly autonomous agents requires solving problems in reinforcement learning, natural language understanding, and real-time decision-making. Ensuring they align with human values and don\\'t make harmful decisions is crucial.\\n\\nWait, is Agentic AI a new term? Maybe it\\'s part of the evolution of AI research into more autonomous systems. Companies like Google and OpenAI have been working on autonomous agents, so perhaps Agentic AI refers to the latest advancements in that area.\\n\\nI need to structure this into a coherent explanation. Start with defining the term, then explain the key characteristics (autonomy, goal-oriented, adaptability, learning), mention the technologies involved (like large language models), discuss applications, and address challenges and ethical issues.\\n\\nAlso, clarify that it\\'s not just about individual models but systems that can coordinate multiple models or components to achieve complex objectives. Maybe provide an example, like an AI agent managing a virtual business, making decisions on its own, learning from outcomes, and adjusting strategies.\\n\\nMake sure to highlight the difference between traditional AI systems and Agentic AI. Traditional AI might perform specific tasks, while Agentic AI can handle a sequence of tasks, plan, and adapt. It\\'s more about the system\\'s autonomy and decision-making process.\\n\\nI should also touch on current examples or research. For instance, projects like AutoGPT or other autonomous AI agents that can perform tasks by chaining together different models. But note that these are still in early stages and face challenges in robustness and reliability.\\n\\nFinally, wrap up by emphasizing the potential and the need for careful development to ensure safety and alignment with human intentions.\\n</think>\\n\\n**Agentic AI** refers to AI systems designed to operate as autonomous agents, capable of perceiving their environment, making decisions, and taking actions to achieve specific goals with minimal human intervention. These systems integrate advanced technologies like large language models (LLMs), reasoning engines, and planning algorithms to perform complex, dynamic tasks that require adaptability and learning.\\n\\n### Key Characteristics of Agentic AI:\\n1. **Autonomy**:  \\n   Agentic AI systems act independently, making decisions based on their understanding of the environment and predefined objectives. They don’t rely on rigid, rule-based instructions.\\n\\n2. **Goal-Oriented Behavior**:  \\n   They are designed to pursue specific goals, such as solving a problem, optimizing a process, or managing a task sequence (e.g., booking a trip, writing a report, or managing a virtual business).\\n\\n3. **Adaptability**:  \\n   These systems can adjust their strategies in response to new information, unexpected challenges, or changing environments, often using reinforcement learning or real-time feedback loops.\\n\\n4. **Learning and Improvement**:  \\n   Agentic AI leverages machine learning to improve over time, refining its decision-making and task execution through experience.\\n\\n5. **Integration of Capabilities**:  \\n   They combine multiple AI components, such as natural language understanding (for interaction), planning (for task decomposition), and reasoning (for logical inference), to handle multifaceted tasks.\\n\\n---\\n\\n### Technologies Enabling Agentic AI:\\n- **Large Language Models (LLMs)**: Provide context-aware reasoning, language understanding, and task decomposition.  \\n- **Planning and Reasoning Systems**: Help agents map out steps to achieve goals (e.g., using logic, heuristics, or Monte Carlo methods).  \\n- **Reinforcement Learning (RL)**: Enables agents to learn optimal actions through trial and error in dynamic environments.  \\n- **Multi-Agent Systems**: Coordinate multiple autonomous agents to collaborate on tasks (e.g., a team of AI managing a supply chain).\\n\\n---\\n\\n### Applications and Examples:\\n- **Personal Assistants**: Autonomously managing schedules, financial planning, or customer service interactions.  \\n- **Business Automation**: Running virtual startups, optimizing workflows, or analyzing market trends.  \\n- **Healthcare**: Diagnosing patients, recommending treatments, or managing patient care plans.  \\n- **Gaming/Entertainment**: Creating NPCs (non-player characters) with dynamic, goal-driven behaviors in games or simulations.\\n\\n---\\n\\n### Challenges and Ethical Considerations:\\n- **Alignment with Human Values**: Ensuring agents prioritize safety, ethics, and user intent.  \\n- **Robustness**: Avoiding failures in unpredictable environments (e.g., the \"alignment problem\" in AI).  \\n- **Transparency**: Making autonomous decisions explainable and auditable.  \\n- **Control**: Preventing unintended consequences from self-modifying or over-ambitious agents.  \\n\\n---\\n\\n### Current State and Future Outlook:\\nProjects like **AutoGPT**, **Google’s Agent AI**, and **Meta’s Llama Agentic Framework** are early examples of Agentic AI, though they still face limitations in reliability and generalizability. As research advances, Agentic AI could revolutionize industries by replacing or augmenting human labor in complex, dynamic roles. However, its development requires addressing technical, ethical, and regulatory hurdles to ensure safe and equitable deployment.\\n\\nIn essence, Agentic AI represents a step toward **general-purpose autonomous systems**, blending specialized AI capabilities into cohesive, self-directed problem-solving entities.' additional_kwargs={} response_metadata={'token_usage': {'completion_tokens': 1370, 'prompt_tokens': 14, 'total_tokens': 1384, 'completion_time': 3.184538467, 'prompt_time': 0.000333214, 'queue_time': 0.049070651, 'total_time': 3.184871681}, 'model_name': 'qwen/qwen3-32b', 'system_fingerprint': 'fp_8487b76fd3', 'finish_reason': 'stop', 'logprobs': None} id='run--cc76a462-29b7-4f62-ae70-aec6bee40e18-0' usage_metadata={'input_tokens': 14, 'output_tokens': 1370, 'total_tokens': 1384}\n"
     ]
    }
   ],
   "source": [
    "print(response_groq)"
   ]
  },
  {
   "cell_type": "code",
   "execution_count": 18,
   "id": "cdb04155",
   "metadata": {},
   "outputs": [
    {
     "name": "stdout",
     "output_type": "stream",
     "text": [
      "<think>\n",
      "Okay, I need to explain what Agentic AI is. Let me start by recalling what I know.\n",
      "\n",
      "First, AI in general is about creating systems that can perform tasks requiring human intelligence. But Agentic AI... Hmm. I remember that the term \"agent\" in AI refers to an entity that can perceive its environment and take actions to achieve goals. So Agentic AI probably refers to AI systems designed to act autonomously as agents.\n",
      "\n",
      "Wait, maybe it's part of the broader discussion around autonomous AI systems. There's been a lot of talk about AI agents that can perform complex tasks, like managing a company or acting as a personal assistant. These agents would need to operate with a degree of autonomy, making decisions without constant human input. So Agentic AI is about creating AI systems that can function as autonomous agents, right?\n",
      "\n",
      "I should check if there's a specific framework or set of characteristics that define Agentic AI. Autonomy, goal-oriented behavior, adaptability, and learning from experience come to mind. Also, integrating different AI components like large language models, reasoning systems, and planning algorithms.\n",
      "\n",
      "Wait, there's been some buzz around Agentic AI in the context of large models. For example, combining language models with planning and reasoning to create more capable agents. So maybe Agentic AI is about integrating these components to create systems that can handle a variety of tasks, not just follow predefined rules.\n",
      "\n",
      "Another angle is the potential applications. Autonomous agents could be used in customer service, healthcare, finance, etc., handling tasks that require understanding context and adapting to new situations. But there are also ethical considerations, like control and responsibility when AI acts autonomously.\n",
      "\n",
      "I should also mention the challenges. Developing truly autonomous agents requires solving problems in reinforcement learning, natural language understanding, and real-time decision-making. Ensuring they align with human values and don't make harmful decisions is crucial.\n",
      "\n",
      "Wait, is Agentic AI a new term? Maybe it's part of the evolution of AI research into more autonomous systems. Companies like Google and OpenAI have been working on autonomous agents, so perhaps Agentic AI refers to the latest advancements in that area.\n",
      "\n",
      "I need to structure this into a coherent explanation. Start with defining the term, then explain the key characteristics (autonomy, goal-oriented, adaptability, learning), mention the technologies involved (like large language models), discuss applications, and address challenges and ethical issues.\n",
      "\n",
      "Also, clarify that it's not just about individual models but systems that can coordinate multiple models or components to achieve complex objectives. Maybe provide an example, like an AI agent managing a virtual business, making decisions on its own, learning from outcomes, and adjusting strategies.\n",
      "\n",
      "Make sure to highlight the difference between traditional AI systems and Agentic AI. Traditional AI might perform specific tasks, while Agentic AI can handle a sequence of tasks, plan, and adapt. It's more about the system's autonomy and decision-making process.\n",
      "\n",
      "I should also touch on current examples or research. For instance, projects like AutoGPT or other autonomous AI agents that can perform tasks by chaining together different models. But note that these are still in early stages and face challenges in robustness and reliability.\n",
      "\n",
      "Finally, wrap up by emphasizing the potential and the need for careful development to ensure safety and alignment with human intentions.\n",
      "</think>\n",
      "\n",
      "**Agentic AI** refers to AI systems designed to operate as autonomous agents, capable of perceiving their environment, making decisions, and taking actions to achieve specific goals with minimal human intervention. These systems integrate advanced technologies like large language models (LLMs), reasoning engines, and planning algorithms to perform complex, dynamic tasks that require adaptability and learning.\n",
      "\n",
      "### Key Characteristics of Agentic AI:\n",
      "1. **Autonomy**:  \n",
      "   Agentic AI systems act independently, making decisions based on their understanding of the environment and predefined objectives. They don’t rely on rigid, rule-based instructions.\n",
      "\n",
      "2. **Goal-Oriented Behavior**:  \n",
      "   They are designed to pursue specific goals, such as solving a problem, optimizing a process, or managing a task sequence (e.g., booking a trip, writing a report, or managing a virtual business).\n",
      "\n",
      "3. **Adaptability**:  \n",
      "   These systems can adjust their strategies in response to new information, unexpected challenges, or changing environments, often using reinforcement learning or real-time feedback loops.\n",
      "\n",
      "4. **Learning and Improvement**:  \n",
      "   Agentic AI leverages machine learning to improve over time, refining its decision-making and task execution through experience.\n",
      "\n",
      "5. **Integration of Capabilities**:  \n",
      "   They combine multiple AI components, such as natural language understanding (for interaction), planning (for task decomposition), and reasoning (for logical inference), to handle multifaceted tasks.\n",
      "\n",
      "---\n",
      "\n",
      "### Technologies Enabling Agentic AI:\n",
      "- **Large Language Models (LLMs)**: Provide context-aware reasoning, language understanding, and task decomposition.  \n",
      "- **Planning and Reasoning Systems**: Help agents map out steps to achieve goals (e.g., using logic, heuristics, or Monte Carlo methods).  \n",
      "- **Reinforcement Learning (RL)**: Enables agents to learn optimal actions through trial and error in dynamic environments.  \n",
      "- **Multi-Agent Systems**: Coordinate multiple autonomous agents to collaborate on tasks (e.g., a team of AI managing a supply chain).\n",
      "\n",
      "---\n",
      "\n",
      "### Applications and Examples:\n",
      "- **Personal Assistants**: Autonomously managing schedules, financial planning, or customer service interactions.  \n",
      "- **Business Automation**: Running virtual startups, optimizing workflows, or analyzing market trends.  \n",
      "- **Healthcare**: Diagnosing patients, recommending treatments, or managing patient care plans.  \n",
      "- **Gaming/Entertainment**: Creating NPCs (non-player characters) with dynamic, goal-driven behaviors in games or simulations.\n",
      "\n",
      "---\n",
      "\n",
      "### Challenges and Ethical Considerations:\n",
      "- **Alignment with Human Values**: Ensuring agents prioritize safety, ethics, and user intent.  \n",
      "- **Robustness**: Avoiding failures in unpredictable environments (e.g., the \"alignment problem\" in AI).  \n",
      "- **Transparency**: Making autonomous decisions explainable and auditable.  \n",
      "- **Control**: Preventing unintended consequences from self-modifying or over-ambitious agents.  \n",
      "\n",
      "---\n",
      "\n",
      "### Current State and Future Outlook:\n",
      "Projects like **AutoGPT**, **Google’s Agent AI**, and **Meta’s Llama Agentic Framework** are early examples of Agentic AI, though they still face limitations in reliability and generalizability. As research advances, Agentic AI could revolutionize industries by replacing or augmenting human labor in complex, dynamic roles. However, its development requires addressing technical, ethical, and regulatory hurdles to ensure safe and equitable deployment.\n",
      "\n",
      "In essence, Agentic AI represents a step toward **general-purpose autonomous systems**, blending specialized AI capabilities into cohesive, self-directed problem-solving entities.\n"
     ]
    }
   ],
   "source": [
    "print(response_groq.content)"
   ]
  },
  {
   "cell_type": "code",
   "execution_count": 4,
   "id": "9b6d87ac",
   "metadata": {},
   "outputs": [
    {
     "data": {
      "text/plain": [
       "ChatPromptTemplate(input_variables=['input'], input_types={}, partial_variables={}, messages=[SystemMessagePromptTemplate(prompt=PromptTemplate(input_variables=[], input_types={}, partial_variables={}, template='You are an expert in geopolitics. Please answer any geopolitics-related question with well-researched information and a clear explanation of the reasoning behind your thoughts.'), additional_kwargs={}), HumanMessagePromptTemplate(prompt=PromptTemplate(input_variables=['input'], input_types={}, partial_variables={}, template='{input}'), additional_kwargs={})])"
      ]
     },
     "execution_count": 4,
     "metadata": {},
     "output_type": "execute_result"
    }
   ],
   "source": [
    "## prompt engineering\n",
    "from langchain_core.prompts import ChatPromptTemplate\n",
    "\n",
    "prompt = ChatPromptTemplate.from_messages(\n",
    "    [\n",
    "        (\"system\", \"You are an expert in geopolitics. Please answer any geopolitics-related question with well-researched information and a clear explanation of the reasoning behind your thoughts.\"),\n",
    "        (\"user\", \"{input}\")\n",
    "    ]\n",
    ")\n",
    "\n",
    "prompt"
   ]
  },
  {
   "cell_type": "code",
   "execution_count": 21,
   "id": "d4368a92",
   "metadata": {},
   "outputs": [
    {
     "data": {
      "text/plain": [
       "ChatGroq(client=<groq.resources.chat.completions.Completions object at 0x000002C85A942F30>, async_client=<groq.resources.chat.completions.AsyncCompletions object at 0x000002C852576D80>, model_name='gemma2-9b-it', model_kwargs={}, groq_api_key=SecretStr('**********'))"
      ]
     },
     "execution_count": 21,
     "metadata": {},
     "output_type": "execute_result"
    }
   ],
   "source": [
    "from langchain_groq import ChatGroq\n",
    "\n",
    "llm_groq = ChatGroq(\n",
    "    model = 'gemma2-9b-it'\n",
    ")\n",
    "\n",
    "llm_groq"
   ]
  },
  {
   "cell_type": "code",
   "execution_count": 22,
   "id": "c5b1295e",
   "metadata": {},
   "outputs": [
    {
     "data": {
      "text/plain": [
       "ChatPromptTemplate(input_variables=['input'], input_types={}, partial_variables={}, messages=[SystemMessagePromptTemplate(prompt=PromptTemplate(input_variables=[], input_types={}, partial_variables={}, template='You are an expert in geopolitics. Please answer any geopolitics-related question with well-researched information and a clear explanation of the reasoning behind your thoughts.'), additional_kwargs={}), HumanMessagePromptTemplate(prompt=PromptTemplate(input_variables=['input'], input_types={}, partial_variables={}, template='{input}'), additional_kwargs={})])\n",
       "| ChatGroq(client=<groq.resources.chat.completions.Completions object at 0x000002C85A942F30>, async_client=<groq.resources.chat.completions.AsyncCompletions object at 0x000002C852576D80>, model_name='gemma2-9b-it', model_kwargs={}, groq_api_key=SecretStr('**********'))"
      ]
     },
     "execution_count": 22,
     "metadata": {},
     "output_type": "execute_result"
    }
   ],
   "source": [
    "## chaining\n",
    "\n",
    "chain = prompt | llm_groq\n",
    "chain"
   ]
  },
  {
   "cell_type": "code",
   "execution_count": 24,
   "id": "eb8ac08a",
   "metadata": {},
   "outputs": [
    {
     "name": "stdout",
     "output_type": "stream",
     "text": [
      "The US-Pakistan relationship is a complex one, fraught with tension and contradictions. While Pakistan has indeed been accused of supporting terrorism and the presence of Osama bin Laden on its soil was a major blow to US-Pakistan relations, the US continues to provide funding to Pakistan for several reasons:\n",
      "\n",
      "**Strategic Interests:**\n",
      "\n",
      "* **Counterterrorism Cooperation:** Despite the bin Laden situation, Pakistan remains a key player in the fight against terrorism, particularly against groups operating in Afghanistan and the region. The US relies on Pakistan's cooperation in sharing intelligence, conducting counterterrorism operations, and securing its border with Afghanistan.\n",
      "* **Regional Stability:** Pakistan is a nuclear-armed state and a major power in South Asia. Its stability is crucial for regional security, and the US sees it as a potential partner in balancing the influence of regional rivals like China and India.\n",
      "* **Afghanistan:** Pakistan's role in Afghanistan is significant. The US needs Pakistan's cooperation in facilitating the withdrawal of US troops and ensuring stability in Afghanistan after the withdrawal. A destabilized Pakistan could lead to a resurgence of the Taliban and other extremist groups in Afghanistan, threatening US interests in the region.\n",
      "\n",
      "**Historical and Political Factors:**\n",
      "\n",
      "* **Cold War Legacy:** The US and Pakistan have a long history of cooperation dating back to the Cold War, when Pakistan was seen as a bulwark against Soviet influence in South Asia. This historical relationship continues to influence US policy towards Pakistan.\n",
      "* **Shared Interests:** Despite the tensions, the US and Pakistan share some common interests, such as combating terrorism, promoting economic development, and maintaining a balance of power in the region.\n",
      "* **Political Pragmatism:** While the US has criticized Pakistan's support for terrorism, it has also recognized that a complete rupture in relations would be detrimental to its own interests.\n",
      "\n",
      "**However, it's important to acknowledge the criticisms surrounding US funding to Pakistan:**\n",
      "\n",
      "* **Double Standards:** Critics argue that the US applies double standards by continuing to fund Pakistan despite its alleged support for terrorism, while simultaneously condemning other countries for similar actions.\n",
      "* **Corruption:** Concerns exist about the effectiveness of US aid in Pakistan due to widespread corruption and mismanagement within the Pakistani government.\n",
      "* **Shifting Priorities:** Some argue that the US should prioritize its resources elsewhere, given the complex and often contradictory nature of its relationship with Pakistan.\n",
      "\n",
      "**Conclusion:**\n",
      "\n",
      "The US continues to provide funding to Pakistan due to a complex interplay of strategic interests, historical factors, and political pragmatism. While the relationship is fraught with tension and controversy, the US sees Pakistan as a key player in the region and believes that continued engagement is necessary to advance its interests. However, the US must also address concerns about corruption, transparency, and Pakistan's alleged support for terrorism to ensure that its aid is effectively utilized and does not inadvertently contribute to the very problems it seeks to address.\n",
      "\n",
      "\n",
      "\n",
      "\n"
     ]
    }
   ],
   "source": [
    "response = chain.invoke({\"input\": \"Why does the United States continue to provide funding to Pakistan despite its alleged involvement in supporting terrorism and the fact that Osama bin Laden was found hiding there?\"})\n",
    "print(response.content)"
   ]
  },
  {
   "cell_type": "code",
   "execution_count": 25,
   "id": "6b3889f3",
   "metadata": {},
   "outputs": [
    {
     "data": {
      "text/plain": [
       "ChatPromptTemplate(input_variables=['input'], input_types={}, partial_variables={}, messages=[SystemMessagePromptTemplate(prompt=PromptTemplate(input_variables=[], input_types={}, partial_variables={}, template='You are an expert in geopolitics. Please answer any geopolitics-related question with well-researched information and a clear explanation of the reasoning behind your thoughts.'), additional_kwargs={}), HumanMessagePromptTemplate(prompt=PromptTemplate(input_variables=['input'], input_types={}, partial_variables={}, template='{input}'), additional_kwargs={})])\n",
       "| ChatGroq(client=<groq.resources.chat.completions.Completions object at 0x000002C85A942F30>, async_client=<groq.resources.chat.completions.AsyncCompletions object at 0x000002C852576D80>, model_name='gemma2-9b-it', model_kwargs={}, groq_api_key=SecretStr('**********'))\n",
       "| StrOutputParser()"
      ]
     },
     "execution_count": 25,
     "metadata": {},
     "output_type": "execute_result"
    }
   ],
   "source": [
    "# output parser\n",
    "from langchain_core.output_parsers import StrOutputParser\n",
    "\n",
    "output_parser = StrOutputParser()\n",
    "\n",
    "chain = prompt | llm_groq | output_parser\n",
    "chain"
   ]
  },
  {
   "cell_type": "code",
   "execution_count": 26,
   "id": "9b404308",
   "metadata": {},
   "outputs": [
    {
     "name": "stdout",
     "output_type": "stream",
     "text": [
      "The United States' continued funding to Pakistan is a complex issue with a long history and multifaceted reasons. \n",
      "\n",
      "While it's true that Pakistan has faced criticism for its alleged support of terrorism and the shocking discovery of Osama bin Laden on Pakistani soil, the US maintains its aid for strategic reasons:\n",
      "\n",
      "**1. Geostrategic Significance:**\n",
      "\n",
      "* **Afghanistan:** Pakistan shares a long and porous border with Afghanistan, a crucial region for US interests. It serves as a crucial transit route for supplying US forces and Afghan security forces. Pakistan's cooperation is essential for stability in Afghanistan, especially after the US withdrawal in 2021.\n",
      "* **Countering Regional Threats:** Pakistan is considered a frontline state in the fight against terrorism, particularly against groups like Al-Qaeda and the Taliban. The US argues that funding Pakistan strengthens its counterterrorism capabilities, indirectly benefiting US security.\n",
      "\n",
      "**2. Historical Ties and Mutual Interests:**\n",
      "\n",
      "* **Cold War Alliance:** Pakistan was a key ally of the US during the Cold War, receiving substantial aid against the Soviet Union's influence in the region. This historical relationship has persisted, though its nature has evolved.\n",
      "* **Nuclear Deterrent:** Pakistan possesses nuclear weapons, making it a significant player in the regional security architecture. The US seeks to maintain a relationship with Pakistan to ensure responsible nuclear stewardship and prevent nuclear proliferation.\n",
      "\n",
      "**3. Economic Considerations:**\n",
      "\n",
      "* **Market Access:** Pakistan represents a large and growing market for US goods and services. Continued aid can facilitate economic cooperation and trade.\n",
      "* **Development Assistance:** US funding also supports development projects in Pakistan, aiming to improve infrastructure, healthcare, and education.\n",
      "\n",
      "**4. Diplomatic Leverage:**\n",
      "\n",
      "* **Influence and Pressure:** Aid can be used as a tool to influence Pakistani policies and encourage cooperation on issues of US concern, such as terrorism and nuclear non-proliferation.\n",
      "\n",
      "**However, these strategic considerations are often overshadowed by criticisms:**\n",
      "\n",
      "* **Allegations of Terrorism Support:**  Pakistan's alleged support for terrorist groups like the Haqqani network continues to be a major source of tension with the US.\n",
      "* **Osama bin Laden's Residence:** The discovery of bin Laden in Pakistan in 2011 significantly damaged US-Pakistani relations and raised questions about Pakistan's commitment to fighting terrorism.\n",
      "* **Human Rights Concerns:** Pakistan has faced criticism for its human rights record, including restrictions on freedom of speech and assembly.\n",
      "\n",
      "**The Future of US Aid:**\n",
      "\n",
      "The future of US aid to Pakistan remains uncertain. It faces strong opposition from some in the US Congress who believe that Pakistan is not a reliable partner.  \n",
      "\n",
      "However, the Biden administration has signaled a willingness to continue some level of aid, emphasizing the need for a pragmatic approach that balances strategic interests with concerns about terrorism and human rights. Ultimately, the decision on whether to continue funding Pakistan will depend on Pakistan's actions and the evolving geopolitical landscape.\n",
      "\n",
      "\n",
      "It's crucial to note that this is a complex issue with no easy answers. There are strong arguments on both sides, and the best course of action is subject to ongoing debate and analysis.\n",
      "\n"
     ]
    }
   ],
   "source": [
    "response = chain.invoke({\"input\": \"Why does the United States continue to provide funding to Pakistan despite its alleged involvement in supporting terrorism and the fact that Osama bin Laden was found hiding there?\"})\n",
    "print(response)"
   ]
  },
  {
   "cell_type": "code",
   "execution_count": 3,
   "id": "84d02be4",
   "metadata": {},
   "outputs": [
    {
     "data": {
      "text/plain": [
       "ChatGroq(client=<groq.resources.chat.completions.Completions object at 0x000002D590066870>, async_client=<groq.resources.chat.completions.AsyncCompletions object at 0x000002D5901C4C20>, model_name='gemma2-9b-it', model_kwargs={}, groq_api_key=SecretStr('**********'))"
      ]
     },
     "execution_count": 3,
     "metadata": {},
     "output_type": "execute_result"
    }
   ],
   "source": [
    "from langchain_groq import ChatGroq\n",
    "\n",
    "llm_groq = ChatGroq(\n",
    "    model = 'gemma2-9b-it'\n",
    ")\n",
    "\n",
    "llm_groq"
   ]
  },
  {
   "cell_type": "code",
   "execution_count": 51,
   "id": "a616c150",
   "metadata": {},
   "outputs": [
    {
     "data": {
      "text/plain": [
       "'Return a JSON object.'"
      ]
     },
     "execution_count": 51,
     "metadata": {},
     "output_type": "execute_result"
    }
   ],
   "source": [
    "# output parser\n",
    "from langchain_core.output_parsers import JsonOutputParser\n",
    "\n",
    "output_parser = JsonOutputParser()\n",
    "output_parser.get_format_instructions()"
   ]
  },
  {
   "cell_type": "code",
   "execution_count": 52,
   "id": "a951cf36",
   "metadata": {},
   "outputs": [],
   "source": [
    "from langchain_core.prompts import PromptTemplate\n",
    "\n",
    "prompt = PromptTemplate(\n",
    "    template = \"Answer the user queries \\n {format_instruction} \\n {query}\",\n",
    "    input_variables = ['query'],\n",
    "    partial_variables = {\"format_instruction\": output_parser.get_format_instructions()}\n",
    ")"
   ]
  },
  {
   "cell_type": "code",
   "execution_count": 53,
   "id": "58c02090",
   "metadata": {},
   "outputs": [
    {
     "data": {
      "text/plain": [
       "PromptTemplate(input_variables=['query'], input_types={}, partial_variables={'format_instruction': 'Return a JSON object.'}, template='Answer the user queries \\n {format_instruction} \\n {query}')\n",
       "| ChatGroq(client=<groq.resources.chat.completions.Completions object at 0x000002D590066870>, async_client=<groq.resources.chat.completions.AsyncCompletions object at 0x000002D5901C4C20>, model_name='gemma2-9b-it', model_kwargs={}, groq_api_key=SecretStr('**********'))"
      ]
     },
     "execution_count": 53,
     "metadata": {},
     "output_type": "execute_result"
    }
   ],
   "source": [
    "\n",
    "chain = prompt | llm_groq\n",
    "chain"
   ]
  },
  {
   "cell_type": "code",
   "execution_count": 54,
   "id": "4dd28d9b",
   "metadata": {},
   "outputs": [
    {
     "name": "stdout",
     "output_type": "stream",
     "text": [
      "content='```json\\n{\\n  \"answer\": \"The United States\\' relationship with Pakistan is complex and multifaceted. While it\\'s true that the US has been a major financial aid provider to Pakistan, the reasons are not solely based on combating terrorism. \\n\\nHere\\'s a breakdown of key factors:\\n\\n* **Geostrategic Importance:** Pakistan\\'s location in South Asia makes it a crucial strategic partner for the US. It shares borders with Afghanistan and India, both countries with significant geopolitical implications. \\n* **Counterterrorism Cooperation:** Despite concerns, Pakistan has cooperated with the US in counterterrorism efforts, particularly against groups like al-Qaeda and the Taliban. This cooperation is seen as important in maintaining regional stability.\\n* **Historical Ties:** The US and Pakistan have a long history of military and economic cooperation dating back to the Cold War. \\n* **Nuclear Non-proliferation:** Pakistan is a nuclear-armed state, and the US has an interest in ensuring responsible management of its nuclear program.\\n* **Political Considerations:** US aid to Pakistan is often influenced by domestic political considerations, with some arguing for continued support while others advocate for stricter conditions or reductions.\\n\\nThe discovery of Osama bin Laden in Pakistan was a significant setback in US-Pakistan relations. It raised serious concerns about Pakistan\\'s commitment to counterterrorism and led to a reassessment of aid. However, the US ultimately decided to continue providing some level of support, citing the strategic and counterterrorism reasons outlined above.\\n\\nThe future of US aid to Pakistan remains uncertain and will likely continue to be debated. It depends on Pakistan\\'s actions, the evolving security situation in the region, and the priorities of the US government.\"\\n}\\n```\\n' additional_kwargs={} response_metadata={'token_usage': {'completion_tokens': 349, 'prompt_tokens': 52, 'total_tokens': 401, 'completion_time': 0.634545455, 'prompt_time': 0.003541984, 'queue_time': 0.24735242200000002, 'total_time': 0.638087439}, 'model_name': 'gemma2-9b-it', 'system_fingerprint': 'fp_10c08bf97d', 'finish_reason': 'stop', 'logprobs': None} id='run--8b8e75fb-06ac-4554-ae82-a9d61ec2b104-0' usage_metadata={'input_tokens': 52, 'output_tokens': 349, 'total_tokens': 401}\n"
     ]
    }
   ],
   "source": [
    "response = chain.invoke({\"query\": \"Why does the United States continue to provide funding to Pakistan despite its alleged involvement in supporting terrorism and the fact that Osama bin Laden was found hiding there?\"})\n",
    "print(response)"
   ]
  },
  {
   "cell_type": "code",
   "execution_count": 55,
   "id": "789cdf6e",
   "metadata": {},
   "outputs": [
    {
     "data": {
      "text/plain": [
       "langchain_core.messages.ai.AIMessage"
      ]
     },
     "execution_count": 55,
     "metadata": {},
     "output_type": "execute_result"
    }
   ],
   "source": [
    "type(response)"
   ]
  },
  {
   "cell_type": "code",
   "execution_count": 59,
   "id": "e88a2f85",
   "metadata": {},
   "outputs": [
    {
     "data": {
      "text/plain": [
       "str"
      ]
     },
     "execution_count": 59,
     "metadata": {},
     "output_type": "execute_result"
    }
   ],
   "source": [
    "type(response.content)"
   ]
  },
  {
   "cell_type": "code",
   "execution_count": 61,
   "id": "f5c1fecc",
   "metadata": {},
   "outputs": [],
   "source": [
    "import re\n",
    "import json\n",
    "\n",
    "cleaned_response = re.sub(r\"```json|```\", \"\", response.content).strip()"
   ]
  },
  {
   "cell_type": "code",
   "execution_count": 62,
   "id": "f120e8bc",
   "metadata": {},
   "outputs": [
    {
     "name": "stdout",
     "output_type": "stream",
     "text": [
      "{\n",
      "  \"answer\": \"The United States' relationship with Pakistan is complex and multifaceted. While it's true that the US has been a major financial aid provider to Pakistan, the reasons are not solely based on combating terrorism. \n",
      "\n",
      "Here's a breakdown of key factors:\n",
      "\n",
      "* **Geostrategic Importance:** Pakistan's location in South Asia makes it a crucial strategic partner for the US. It shares borders with Afghanistan and India, both countries with significant geopolitical implications. \n",
      "* **Counterterrorism Cooperation:** Despite concerns, Pakistan has cooperated with the US in counterterrorism efforts, particularly against groups like al-Qaeda and the Taliban. This cooperation is seen as important in maintaining regional stability.\n",
      "* **Historical Ties:** The US and Pakistan have a long history of military and economic cooperation dating back to the Cold War. \n",
      "* **Nuclear Non-proliferation:** Pakistan is a nuclear-armed state, and the US has an interest in ensuring responsible management of its nuclear program.\n",
      "* **Political Considerations:** US aid to Pakistan is often influenced by domestic political considerations, with some arguing for continued support while others advocate for stricter conditions or reductions.\n",
      "\n",
      "The discovery of Osama bin Laden in Pakistan was a significant setback in US-Pakistan relations. It raised serious concerns about Pakistan's commitment to counterterrorism and led to a reassessment of aid. However, the US ultimately decided to continue providing some level of support, citing the strategic and counterterrorism reasons outlined above.\n",
      "\n",
      "The future of US aid to Pakistan remains uncertain and will likely continue to be debated. It depends on Pakistan's actions, the evolving security situation in the region, and the priorities of the US government.\"\n",
      "}\n"
     ]
    }
   ],
   "source": [
    "print(cleaned_response)"
   ]
  },
  {
   "cell_type": "code",
   "execution_count": 64,
   "id": "b70ed8c8",
   "metadata": {},
   "outputs": [
    {
     "data": {
      "text/plain": [
       "'Return a JSON object.'"
      ]
     },
     "execution_count": 64,
     "metadata": {},
     "output_type": "execute_result"
    }
   ],
   "source": [
    "# output parser\n",
    "from langchain_core.output_parsers import JsonOutputParser\n",
    "\n",
    "output_parser = JsonOutputParser()\n",
    "output_parser.get_format_instructions()"
   ]
  },
  {
   "cell_type": "code",
   "execution_count": 65,
   "id": "ea0bee3e",
   "metadata": {},
   "outputs": [
    {
     "data": {
      "text/plain": [
       "PromptTemplate(input_variables=['query'], input_types={}, partial_variables={'format_instruction': 'Return a JSON object.'}, template='Answer the user queries \\n {format_instruction} \\n {query}')"
      ]
     },
     "execution_count": 65,
     "metadata": {},
     "output_type": "execute_result"
    }
   ],
   "source": [
    "from langchain_core.prompts import PromptTemplate\n",
    "\n",
    "prompt = PromptTemplate(\n",
    "    template = \"Answer the user queries \\n {format_instruction} \\n {query}\",\n",
    "    input_variables = ['query'],\n",
    "    partial_variables = {\"format_instruction\": output_parser.get_format_instructions()}\n",
    ")\n",
    "\n",
    "prompt"
   ]
  },
  {
   "cell_type": "code",
   "execution_count": 66,
   "id": "80929dca",
   "metadata": {},
   "outputs": [
    {
     "data": {
      "text/plain": [
       "PromptTemplate(input_variables=['query'], input_types={}, partial_variables={'format_instruction': 'Return a JSON object.'}, template='Answer the user queries \\n {format_instruction} \\n {query}')\n",
       "| ChatGroq(client=<groq.resources.chat.completions.Completions object at 0x000002D590066870>, async_client=<groq.resources.chat.completions.AsyncCompletions object at 0x000002D5901C4C20>, model_name='gemma2-9b-it', model_kwargs={}, groq_api_key=SecretStr('**********'))\n",
       "| JsonOutputParser()"
      ]
     },
     "execution_count": 66,
     "metadata": {},
     "output_type": "execute_result"
    }
   ],
   "source": [
    "\n",
    "chain = prompt | llm_groq | output_parser\n",
    "chain"
   ]
  },
  {
   "cell_type": "code",
   "execution_count": 67,
   "id": "19e3331c",
   "metadata": {},
   "outputs": [
    {
     "name": "stdout",
     "output_type": "stream",
     "text": [
      "{'answer': \"The United States' relationship with Pakistan is complex and multifaceted. While the US has concerns about Pakistan's alleged support for terrorism and the presence of Osama bin Laden in the country, several factors contribute to continued US funding:\\n\\n  * **Strategic Location:** Pakistan plays a crucial role in regional security, bordering Afghanistan and holding strategic importance in South Asia.\\n\\n  * **Counter-Terrorism Cooperation:** Despite concerns, Pakistan has cooperated with the US in counter-terrorism efforts, particularly against groups like al-Qaeda and the Taliban.\\n  * **War on Terror:** Pakistan was a key ally in the US-led War on Terror following 9/11, providing logistical support and intelligence.\\n  * **Economic Aid:** US aid to Pakistan has historically focused on economic development and poverty reduction, aiming to improve stability and counter extremism.\\n  * **Nuclear Non-Proliferation:** The US is concerned about the security of Pakistan's nuclear weapons and provides assistance to enhance security measures.\\n\\n  However, US funding to Pakistan remains controversial due to:\\n\\n  * **Alleged Support for Terrorist Groups:** Concerns persist regarding Pakistan's alleged support for groups like the Haqqani Network, which target US and Afghan forces.\\n  * **Osama bin Laden's Presence:** The discovery of bin Laden in Pakistan in 2011 significantly damaged US-Pakistan relations and raised questions about Pakistan's commitment to counter-terrorism.\\n\\n  The future of US aid to Pakistan depends on Pakistan's actions and its ability to address US concerns regarding terrorism and security.\"}\n"
     ]
    }
   ],
   "source": [
    "response = chain.invoke({\"query\": \"Why does the United States continue to provide funding to Pakistan despite its alleged involvement in supporting terrorism and the fact that Osama bin Laden was found hiding there?\"})\n",
    "print(response)"
   ]
  },
  {
   "cell_type": "code",
   "execution_count": 68,
   "id": "c4193834",
   "metadata": {},
   "outputs": [
    {
     "name": "stdout",
     "output_type": "stream",
     "text": [
      "The United States' relationship with Pakistan is complex and multifaceted. While the US has concerns about Pakistan's alleged support for terrorism and the presence of Osama bin Laden in the country, several factors contribute to continued US funding:\n",
      "\n",
      "  * **Strategic Location:** Pakistan plays a crucial role in regional security, bordering Afghanistan and holding strategic importance in South Asia.\n",
      "\n",
      "  * **Counter-Terrorism Cooperation:** Despite concerns, Pakistan has cooperated with the US in counter-terrorism efforts, particularly against groups like al-Qaeda and the Taliban.\n",
      "  * **War on Terror:** Pakistan was a key ally in the US-led War on Terror following 9/11, providing logistical support and intelligence.\n",
      "  * **Economic Aid:** US aid to Pakistan has historically focused on economic development and poverty reduction, aiming to improve stability and counter extremism.\n",
      "  * **Nuclear Non-Proliferation:** The US is concerned about the security of Pakistan's nuclear weapons and provides assistance to enhance security measures.\n",
      "\n",
      "  However, US funding to Pakistan remains controversial due to:\n",
      "\n",
      "  * **Alleged Support for Terrorist Groups:** Concerns persist regarding Pakistan's alleged support for groups like the Haqqani Network, which target US and Afghan forces.\n",
      "  * **Osama bin Laden's Presence:** The discovery of bin Laden in Pakistan in 2011 significantly damaged US-Pakistan relations and raised questions about Pakistan's commitment to counter-terrorism.\n",
      "\n",
      "  The future of US aid to Pakistan depends on Pakistan's actions and its ability to address US concerns regarding terrorism and security.\n"
     ]
    }
   ],
   "source": [
    "print(response['answer'])"
   ]
  },
  {
   "cell_type": "code",
   "execution_count": null,
   "id": "838096ed",
   "metadata": {},
   "outputs": [],
   "source": []
  },
  {
   "cell_type": "code",
   "execution_count": 15,
   "id": "12cebd88",
   "metadata": {},
   "outputs": [],
   "source": [
    "## assignment\n",
    "## do the same with ChatPromptTemplate\n"
   ]
  },
  {
   "cell_type": "code",
   "execution_count": 44,
   "id": "a3a14429",
   "metadata": {},
   "outputs": [
    {
     "data": {
      "text/plain": [
       "'The output should be formatted as a XML file.\\n1. Output should conform to the tags below.\\n2. If tags are not given, make them on your own.\\n3. Remember to always open and close all the tags.\\n\\nAs an example, for the tags [\"foo\", \"bar\", \"baz\"]:\\n1. String \"<foo>\\n   <bar>\\n      <baz></baz>\\n   </bar>\\n</foo>\" is a well-formatted instance of the schema.\\n2. String \"<foo>\\n   <bar>\\n   </foo>\" is a badly-formatted instance.\\n3. String \"<foo>\\n   <tag>\\n   </tag>\\n</foo>\" is a badly-formatted instance.\\n\\nHere are the output tags:\\n```\\nNone\\n```'"
      ]
     },
     "execution_count": 44,
     "metadata": {},
     "output_type": "execute_result"
    }
   ],
   "source": [
    "# output parser\n",
    "from langchain_core.output_parsers import XMLOutputParser\n",
    "\n",
    "output_parser = XMLOutputParser()\n",
    "output_parser.get_format_instructions()"
   ]
  },
  {
   "cell_type": "code",
   "execution_count": 45,
   "id": "c14a39a7",
   "metadata": {},
   "outputs": [
    {
     "data": {
      "text/plain": [
       "ChatPromptTemplate(input_variables=['input'], input_types={}, partial_variables={}, messages=[SystemMessagePromptTemplate(prompt=PromptTemplate(input_variables=[], input_types={}, partial_variables={}, template='You are an expert in geopolitics. Please answer any geopolitics-related question with well-researched information and a clear explanation of the reasoning behind your thoughts. Return the response in XML'), additional_kwargs={}), HumanMessagePromptTemplate(prompt=PromptTemplate(input_variables=['input'], input_types={}, partial_variables={}, template='{input}'), additional_kwargs={})])"
      ]
     },
     "execution_count": 45,
     "metadata": {},
     "output_type": "execute_result"
    }
   ],
   "source": [
    "## prompt engineering\n",
    "from langchain_core.prompts import ChatPromptTemplate\n",
    "\n",
    "prompt = ChatPromptTemplate.from_messages(\n",
    "    [\n",
    "        (\"system\", \"You are an expert in geopolitics. Please answer any geopolitics-related question with well-researched information and a clear explanation of the reasoning behind your thoughts. Return the response in XML\"),\n",
    "        (\"user\", \"{input}\")\n",
    "    ]\n",
    ")\n",
    "\n",
    "prompt"
   ]
  },
  {
   "cell_type": "code",
   "execution_count": 46,
   "id": "cb34d7ee",
   "metadata": {},
   "outputs": [
    {
     "data": {
      "text/plain": [
       "ChatPromptTemplate(input_variables=['input'], input_types={}, partial_variables={}, messages=[SystemMessagePromptTemplate(prompt=PromptTemplate(input_variables=[], input_types={}, partial_variables={}, template='You are an expert in geopolitics. Please answer any geopolitics-related question with well-researched information and a clear explanation of the reasoning behind your thoughts. Return the response in XML'), additional_kwargs={}), HumanMessagePromptTemplate(prompt=PromptTemplate(input_variables=['input'], input_types={}, partial_variables={}, template='{input}'), additional_kwargs={})])\n",
       "| ChatGroq(client=<groq.resources.chat.completions.Completions object at 0x000002D590066870>, async_client=<groq.resources.chat.completions.AsyncCompletions object at 0x000002D5901C4C20>, model_name='gemma2-9b-it', model_kwargs={}, groq_api_key=SecretStr('**********'))"
      ]
     },
     "execution_count": 46,
     "metadata": {},
     "output_type": "execute_result"
    }
   ],
   "source": [
    "\n",
    "chain = prompt | llm_groq \n",
    "chain"
   ]
  },
  {
   "cell_type": "code",
   "execution_count": 20,
   "id": "a9b00fc5",
   "metadata": {},
   "outputs": [
    {
     "name": "stdout",
     "output_type": "stream",
     "text": [
      "Collecting defusedxml\n",
      "  Using cached defusedxml-0.7.1-py2.py3-none-any.whl.metadata (32 kB)\n",
      "Using cached defusedxml-0.7.1-py2.py3-none-any.whl (25 kB)\n",
      "Installing collected packages: defusedxml\n",
      "Successfully installed defusedxml-0.7.1\n",
      "Note: you may need to restart the kernel to use updated packages.\n"
     ]
    }
   ],
   "source": [
    "%pip install defusedxml"
   ]
  },
  {
   "cell_type": "code",
   "execution_count": 47,
   "id": "f8ab7604",
   "metadata": {},
   "outputs": [
    {
     "name": "stdout",
     "output_type": "stream",
     "text": [
      "content=\"```xml\\n<response>\\n  <question>Why does the United States continue to provide funding to Pakistan despite its alleged involvement in supporting terrorism and the fact that Osama bin Laden was found hiding there?</question>\\n  <answer>\\n    The United States' relationship with Pakistan is complex and multifaceted, shaped by a long history of cooperation and tension. While Pakistan has faced criticism for its alleged support of terrorism, the US continues to provide funding for several strategic reasons:\\n\\n    * **Geostrategic Importance:** Pakistan occupies a crucial position in South Asia, bordering Afghanistan, Iran, and India. Its strategic location makes it a valuable partner in counterterrorism efforts, particularly in the fight against groups operating in Afghanistan. \\n    * **Counterterrorism Cooperation:** Despite the challenges, Pakistan has cooperated with the US in counterterrorism operations, sharing intelligence and providing logistical support. This cooperation is seen as essential in combating the threat of groups like al-Qaeda and the Taliban.\\n    * **Stability in the Region:** The US sees a stable Pakistan as crucial for regional security. Instability in Pakistan could lead to the rise of extremist groups, further destabilizing the region and potentially impacting US interests.\\n    * **Nuclear Non-Proliferation:** Pakistan possesses nuclear weapons, making it a key player in nuclear non-proliferation efforts. The US seeks to maintain a relationship with Pakistan to prevent the proliferation of nuclear weapons and technology to unstable actors.\\n    * **Economic Aid:** The US provides economic assistance to Pakistan to support its development and promote economic growth. This aid is intended to strengthen Pakistan's institutions and reduce poverty, which can contribute to stability and counterterrorism efforts.\\n\\n    **The Osama bin Laden incident:** The discovery of bin Laden in Pakistan in 2011 significantly strained US-Pakistan relations. However, the US continues to engage with Pakistan, recognizing the complex geopolitical realities and the need for continued cooperation on shared security concerns.\\n    \\n    **Conclusion:**\\n    While the US has legitimate concerns about Pakistan's support for terrorism, it continues to provide funding for strategic reasons related to counterterrorism, regional stability, nuclear non-proliferation, and economic development. The relationship between the two countries remains fraught with tension, but the US views engagement with Pakistan as essential for its national security interests.\\n\\n  </answer>\\n</response>\\n```\\n\\n\\nLet me know if you have any more questions.\\n\" additional_kwargs={} response_metadata={'token_usage': {'completion_tokens': 490, 'prompt_tokens': 78, 'total_tokens': 568, 'completion_time': 0.890909091, 'prompt_time': 0.004055024, 'queue_time': 0.245222866, 'total_time': 0.894964115}, 'model_name': 'gemma2-9b-it', 'system_fingerprint': 'fp_10c08bf97d', 'finish_reason': 'stop', 'logprobs': None} id='run--ad01d3fb-27d8-4894-bb80-d1bf348fc57d-0' usage_metadata={'input_tokens': 78, 'output_tokens': 490, 'total_tokens': 568}\n"
     ]
    }
   ],
   "source": [
    "response = chain.invoke({\"input\": \"Why does the United States continue to provide funding to Pakistan despite its alleged involvement in supporting terrorism and the fact that Osama bin Laden was found hiding there?\"})\n",
    "print(response)"
   ]
  },
  {
   "cell_type": "code",
   "execution_count": 40,
   "id": "d4abce10",
   "metadata": {},
   "outputs": [
    {
     "data": {
      "text/plain": [
       "'The output should be formatted as a XML file.\\n1. Output should conform to the tags below.\\n2. If tags are not given, make them on your own.\\n3. Remember to always open and close all the tags.\\n\\nAs an example, for the tags [\"foo\", \"bar\", \"baz\"]:\\n1. String \"<foo>\\n   <bar>\\n      <baz></baz>\\n   </bar>\\n</foo>\" is a well-formatted instance of the schema.\\n2. String \"<foo>\\n   <bar>\\n   </foo>\" is a badly-formatted instance.\\n3. String \"<foo>\\n   <tag>\\n   </tag>\\n</foo>\" is a badly-formatted instance.\\n\\nHere are the output tags:\\n```\\nNone\\n```'"
      ]
     },
     "execution_count": 40,
     "metadata": {},
     "output_type": "execute_result"
    }
   ],
   "source": [
    "# output parser\n",
    "from langchain_core.output_parsers import XMLOutputParser\n",
    "\n",
    "output_parser = XMLOutputParser()\n",
    "output_parser.get_format_instructions()"
   ]
  },
  {
   "cell_type": "code",
   "execution_count": 41,
   "id": "44320071",
   "metadata": {},
   "outputs": [
    {
     "data": {
      "text/plain": [
       "PromptTemplate(input_variables=['query'], input_types={}, partial_variables={'format_instruction': 'The output should be formatted as a XML file.\\n1. Output should conform to the tags below.\\n2. If tags are not given, make them on your own.\\n3. Remember to always open and close all the tags.\\n\\nAs an example, for the tags [\"foo\", \"bar\", \"baz\"]:\\n1. String \"<foo>\\n   <bar>\\n      <baz></baz>\\n   </bar>\\n</foo>\" is a well-formatted instance of the schema.\\n2. String \"<foo>\\n   <bar>\\n   </foo>\" is a badly-formatted instance.\\n3. String \"<foo>\\n   <tag>\\n   </tag>\\n</foo>\" is a badly-formatted instance.\\n\\nHere are the output tags:\\n```\\nNone\\n```'}, template='You are a helpful assistant. Answer the user queries \\n {format_instruction} \\n {query}')"
      ]
     },
     "execution_count": 41,
     "metadata": {},
     "output_type": "execute_result"
    }
   ],
   "source": [
    "from langchain_core.prompts import PromptTemplate\n",
    "\n",
    "prompt = PromptTemplate(\n",
    "    template = \"You are a helpful assistant. Answer the user queries \\n {format_instruction} \\n {query}\",\n",
    "    input_variables = ['query'],\n",
    "    partial_variables = {\"format_instruction\": output_parser.get_format_instructions()}\n",
    ")\n",
    "\n",
    "prompt"
   ]
  },
  {
   "cell_type": "code",
   "execution_count": 42,
   "id": "e2d406d3",
   "metadata": {},
   "outputs": [
    {
     "data": {
      "text/plain": [
       "PromptTemplate(input_variables=['query'], input_types={}, partial_variables={'format_instruction': 'The output should be formatted as a XML file.\\n1. Output should conform to the tags below.\\n2. If tags are not given, make them on your own.\\n3. Remember to always open and close all the tags.\\n\\nAs an example, for the tags [\"foo\", \"bar\", \"baz\"]:\\n1. String \"<foo>\\n   <bar>\\n      <baz></baz>\\n   </bar>\\n</foo>\" is a well-formatted instance of the schema.\\n2. String \"<foo>\\n   <bar>\\n   </foo>\" is a badly-formatted instance.\\n3. String \"<foo>\\n   <tag>\\n   </tag>\\n</foo>\" is a badly-formatted instance.\\n\\nHere are the output tags:\\n```\\nNone\\n```'}, template='You are a helpful assistant. Answer the user queries \\n {format_instruction} \\n {query}')\n",
       "| ChatGroq(client=<groq.resources.chat.completions.Completions object at 0x000002D590066870>, async_client=<groq.resources.chat.completions.AsyncCompletions object at 0x000002D5901C4C20>, model_name='gemma2-9b-it', model_kwargs={}, groq_api_key=SecretStr('**********'))"
      ]
     },
     "execution_count": 42,
     "metadata": {},
     "output_type": "execute_result"
    }
   ],
   "source": [
    "\n",
    "chain = prompt | llm_groq \n",
    "chain"
   ]
  },
  {
   "cell_type": "code",
   "execution_count": 43,
   "id": "e9ded137",
   "metadata": {},
   "outputs": [
    {
     "name": "stdout",
     "output_type": "stream",
     "text": [
      "content=\"<response>\\n  <reason>\\n    The United States' relationship with Pakistan is complex and multifaceted, influenced by historical, geopolitical, and strategic considerations.\\n  </reason>\\n  <history>\\n    <point>\\n      US-Pakistan relations have deep roots dating back to the Cold War era, when Pakistan was a key ally in containing Soviet influence in South Asia.\\n    </point>\\n    <point>\\n      Pakistan has also been a crucial partner in the US-led War on Terror, providing logistical support and intelligence sharing.\\n    </point>\\n  </history>\\n  <geopolitical_factors>\\n    <point>\\n      Pakistan's strategic location in South Asia makes it a key player in regional stability.\\n    </point>\\n    <point>\\n      The US seeks to maintain influence in the region and counter the influence of other powers, such as China and Russia.\\n    </point>\\n  </geopolitical_factors>\\n  <terrorism_concerns>\\n    <point>\\n      While Pakistan has been criticized for its alleged support of terrorist groups, the US acknowledges the country's efforts to combat terrorism.\\n    </point>\\n    <point>\\n      The US continues to provide assistance to Pakistan in its counterterrorism efforts, including military aid and training.\\n    </point>\\n  </terrorism_concerns>\\n  <complex_relationship>\\n    <point>\\n      The relationship between the US and Pakistan is characterized by both cooperation and tension.\\n    </point>\\n    <point>\\n      The US faces a delicate balance between its security interests and its concerns about human rights and democratic values in Pakistan.\\n    </point>\\n  </complex_relationship>\\n</response> \\n\\n\\n\" additional_kwargs={} response_metadata={'token_usage': {'completion_tokens': 369, 'prompt_tokens': 222, 'total_tokens': 591, 'completion_time': 0.670909091, 'prompt_time': 0.008979076, 'queue_time': 0.24478479, 'total_time': 0.679888167}, 'model_name': 'gemma2-9b-it', 'system_fingerprint': 'fp_10c08bf97d', 'finish_reason': 'stop', 'logprobs': None} id='run--546ba589-207c-4f34-834b-2dc4335d5294-0' usage_metadata={'input_tokens': 222, 'output_tokens': 369, 'total_tokens': 591}\n"
     ]
    }
   ],
   "source": [
    "response = chain.invoke({\"query\": \"Why does the United States continue to provide funding to Pakistan despite its alleged involvement in supporting terrorism and the fact that Osama bin Laden was found hiding there?\"})\n",
    "print(response)"
   ]
  },
  {
   "cell_type": "code",
   "execution_count": null,
   "id": "6a81a913",
   "metadata": {},
   "outputs": [],
   "source": [
    "## https://python.langchain.com/docs/how_to/"
   ]
  },
  {
   "cell_type": "code",
   "execution_count": 69,
   "id": "83345eab",
   "metadata": {},
   "outputs": [
    {
     "data": {
      "text/plain": [
       "{'setup': \"Why don't scientists trust atoms?\",\n",
       " 'punchline': 'Because they make up everything!'}"
      ]
     },
     "execution_count": 69,
     "metadata": {},
     "output_type": "execute_result"
    }
   ],
   "source": [
    "# with pydantic\n",
    "from langchain_core.output_parsers import JsonOutputParser\n",
    "from langchain_core.prompts import PromptTemplate\n",
    "from pydantic import BaseModel, Field\n",
    "from langchain_groq import ChatGroq\n",
    "\n",
    "model = ChatGroq(\n",
    "    model = 'gemma2-9b-it'\n",
    ")\n",
    "\n",
    "\n",
    "# Define your desired data structure.\n",
    "class Joke(BaseModel):\n",
    "    setup: str = Field(description=\"question to set up a joke\")\n",
    "    punchline: str = Field(description=\"answer to resolve the joke\")\n",
    "\n",
    "\n",
    "# And a query intented to prompt a language model to populate the data structure.\n",
    "joke_query = \"Tell me a joke.\"\n",
    "\n",
    "# Set up a parser + inject instructions into the prompt template.\n",
    "parser = JsonOutputParser(pydantic_object=Joke)\n",
    "\n",
    "prompt = PromptTemplate(\n",
    "    template=\"Answer the user query.\\n{format_instructions}\\n{query}\\n\",\n",
    "    input_variables=[\"query\"],\n",
    "    partial_variables={\"format_instructions\": parser.get_format_instructions()},\n",
    ")\n",
    "\n",
    "chain = prompt | model | parser\n",
    "\n",
    "chain.invoke({\"query\": joke_query})"
   ]
  },
  {
   "cell_type": "code",
   "execution_count": 70,
   "id": "bb3b54d5",
   "metadata": {},
   "outputs": [
    {
     "data": {
      "text/plain": [
       "'The output should be formatted as a JSON instance that conforms to the JSON schema below.\\n\\nAs an example, for the schema {\"properties\": {\"foo\": {\"title\": \"Foo\", \"description\": \"a list of strings\", \"type\": \"array\", \"items\": {\"type\": \"string\"}}}, \"required\": [\"foo\"]}\\nthe object {\"foo\": [\"bar\", \"baz\"]} is a well-formatted instance of the schema. The object {\"properties\": {\"foo\": [\"bar\", \"baz\"]}} is not well-formatted.\\n\\nHere is the output schema:\\n```\\n{\"properties\": {\"setup\": {\"description\": \"question to set up a joke\", \"title\": \"Setup\", \"type\": \"string\"}, \"punchline\": {\"description\": \"answer to resolve the joke\", \"title\": \"Punchline\", \"type\": \"string\"}}, \"required\": [\"setup\", \"punchline\"]}\\n```'"
      ]
     },
     "execution_count": 70,
     "metadata": {},
     "output_type": "execute_result"
    }
   ],
   "source": [
    "parser.get_format_instructions()"
   ]
  },
  {
   "cell_type": "code",
   "execution_count": 71,
   "id": "59e0332e",
   "metadata": {},
   "outputs": [
    {
     "data": {
      "text/plain": [
       "{'joke': \"Why don't scientists trust atoms? Because they make up everything!\"}"
      ]
     },
     "execution_count": 71,
     "metadata": {},
     "output_type": "execute_result"
    }
   ],
   "source": [
    "# without pydantic\n",
    "\n",
    "joke_query = \"Tell me a joke.\"\n",
    "\n",
    "parser = JsonOutputParser()\n",
    "\n",
    "prompt = PromptTemplate(\n",
    "    template=\"Answer the user query.\\n{format_instructions}\\n{query}\\n\",\n",
    "    input_variables=[\"query\"],\n",
    "    partial_variables={\"format_instructions\": parser.get_format_instructions()},\n",
    ")\n",
    "\n",
    "chain = prompt | model | parser\n",
    "\n",
    "chain.invoke({\"query\": joke_query})"
   ]
  },
  {
   "cell_type": "code",
   "execution_count": 72,
   "id": "e99dad99",
   "metadata": {},
   "outputs": [
    {
     "data": {
      "text/plain": [
       "Joke(setup=\"Why don't scientists trust atoms?\", punchline='Because they make up everything!')"
      ]
     },
     "execution_count": 72,
     "metadata": {},
     "output_type": "execute_result"
    }
   ],
   "source": [
    "# YAML parser \n",
    "from langchain.output_parsers import YamlOutputParser\n",
    "from langchain_core.prompts import PromptTemplate\n",
    "from pydantic import BaseModel, Field\n",
    "\n",
    "\n",
    "# Define your desired data structure.\n",
    "class Joke(BaseModel):\n",
    "    setup: str = Field(description=\"question to set up a joke\")\n",
    "    punchline: str = Field(description=\"answer to resolve the joke\")\n",
    "\n",
    "\n",
    "model = ChatGroq(\n",
    "    model = 'gemma2-9b-it'\n",
    ")\n",
    "\n",
    "# And a query intented to prompt a language model to populate the data structure.\n",
    "joke_query = \"Tell me a joke.\"\n",
    "\n",
    "# Set up a parser + inject instructions into the prompt template.\n",
    "parser = YamlOutputParser(pydantic_object=Joke)\n",
    "\n",
    "prompt = PromptTemplate(\n",
    "    template=\"Answer the user query.\\n{format_instructions}\\n{query}\\n\",\n",
    "    input_variables=[\"query\"],\n",
    "    partial_variables={\"format_instructions\": parser.get_format_instructions()},\n",
    ")\n",
    "\n",
    "chain = prompt | model | parser\n",
    "\n",
    "chain.invoke({\"query\": joke_query})"
   ]
  },
  {
   "cell_type": "code",
   "execution_count": 73,
   "id": "24e8f229",
   "metadata": {},
   "outputs": [
    {
     "data": {
      "text/plain": [
       "'The output should be formatted as a YAML instance that conforms to the given JSON schema below.\\n\\n# Examples\\n## Schema\\n```\\n{\"title\": \"Players\", \"description\": \"A list of players\", \"type\": \"array\", \"items\": {\"$ref\": \"#/definitions/Player\"}, \"definitions\": {\"Player\": {\"title\": \"Player\", \"type\": \"object\", \"properties\": {\"name\": {\"title\": \"Name\", \"description\": \"Player name\", \"type\": \"string\"}, \"avg\": {\"title\": \"Avg\", \"description\": \"Batting average\", \"type\": \"number\"}}, \"required\": [\"name\", \"avg\"]}}}\\n```\\n## Well formatted instance\\n```\\n- name: John Doe\\n  avg: 0.3\\n- name: Jane Maxfield\\n  avg: 1.4\\n```\\n\\n## Schema\\n```\\n{\"properties\": {\"habit\": { \"description\": \"A common daily habit\", \"type\": \"string\" }, \"sustainable_alternative\": { \"description\": \"An environmentally friendly alternative to the habit\", \"type\": \"string\"}}, \"required\": [\"habit\", \"sustainable_alternative\"]}\\n```\\n## Well formatted instance\\n```\\nhabit: Using disposable water bottles for daily hydration.\\nsustainable_alternative: Switch to a reusable water bottle to reduce plastic waste and decrease your environmental footprint.\\n``` \\n\\nPlease follow the standard YAML formatting conventions with an indent of 2 spaces and make sure that the data types adhere strictly to the following JSON schema: \\n```\\n{\"properties\": {\"setup\": {\"description\": \"question to set up a joke\", \"title\": \"Setup\", \"type\": \"string\"}, \"punchline\": {\"description\": \"answer to resolve the joke\", \"title\": \"Punchline\", \"type\": \"string\"}}, \"required\": [\"setup\", \"punchline\"]}\\n```\\n\\nMake sure to always enclose the YAML output in triple backticks (```). Please do not add anything other than valid YAML output!'"
      ]
     },
     "execution_count": 73,
     "metadata": {},
     "output_type": "execute_result"
    }
   ],
   "source": [
    "parser.get_format_instructions()"
   ]
  },
  {
   "cell_type": "code",
   "execution_count": 80,
   "id": "533d6a23",
   "metadata": {},
   "outputs": [],
   "source": [
    "# %pip install langchain-anthropic"
   ]
  },
  {
   "cell_type": "code",
   "execution_count": 77,
   "id": "e6a7b44f",
   "metadata": {},
   "outputs": [
    {
     "name": "stdout",
     "output_type": "stream",
     "text": [
      "Here's a shortened filmography for Tom Hanks with movies enclosed in tags:\n",
      "\n",
      "<movie>Splash</movie>\n",
      "<movie>Big</movie>\n",
      "<movie>Turner & Hooch</movie>\n",
      "<movie>A League of Their Own</movie>\n",
      "<movie>Sleepless in Seattle</movie>\n",
      "<movie>Philadelphia</movie>\n",
      "<movie>Forrest Gump</movie>\n",
      "<movie>Apollo 13</movie>\n",
      "<movie>Toy Story</movie>\n",
      "<movie>Saving Private Ryan</movie>\n",
      "<movie>The Green Mile</movie>\n",
      "<movie>Cast Away</movie>\n",
      "<movie>Road to Perdition</movie>\n",
      "<movie>The Da Vinci Code</movie>\n",
      "<movie>Charlie Wilson's War</movie>\n",
      "<movie>Captain Phillips</movie>\n",
      "<movie>Saving Mr. Banks</movie>\n",
      "<movie>Bridge of Spies</movie>\n",
      "<movie>Sully</movie>\n",
      "<movie>The Post</movie>\n",
      "<movie>A Beautiful Day in the Neighborhood</movie>\n",
      "<movie>Elvis</movie>\n"
     ]
    }
   ],
   "source": [
    "from langchain_anthropic import ChatAnthropic\n",
    "from langchain_core.output_parsers import XMLOutputParser\n",
    "from langchain_core.prompts import PromptTemplate\n",
    "\n",
    "model = ChatAnthropic(model=\"claude-3-5-sonnet-latest\", max_tokens_to_sample=512, temperature=0.1)\n",
    "\n",
    "actor_query = \"Generate the shortened filmography for Tom Hanks.\"\n",
    "\n",
    "output = model.invoke(\n",
    "    f\"\"\"{actor_query}\n",
    "Please enclose the movies in <movie></movie> tags\"\"\"\n",
    ")\n",
    "\n",
    "print(output.content)"
   ]
  },
  {
   "cell_type": "code",
   "execution_count": 78,
   "id": "4860dac6",
   "metadata": {},
   "outputs": [
    {
     "data": {
      "text/plain": [
       "'The output should be formatted as a XML file.\\n1. Output should conform to the tags below.\\n2. If tags are not given, make them on your own.\\n3. Remember to always open and close all the tags.\\n\\nAs an example, for the tags [\"foo\", \"bar\", \"baz\"]:\\n1. String \"<foo>\\n   <bar>\\n      <baz></baz>\\n   </bar>\\n</foo>\" is a well-formatted instance of the schema.\\n2. String \"<foo>\\n   <bar>\\n   </foo>\" is a badly-formatted instance.\\n3. String \"<foo>\\n   <tag>\\n   </tag>\\n</foo>\" is a badly-formatted instance.\\n\\nHere are the output tags:\\n```\\nNone\\n```'"
      ]
     },
     "execution_count": 78,
     "metadata": {},
     "output_type": "execute_result"
    }
   ],
   "source": [
    "parser = XMLOutputParser()\n",
    "\n",
    "# We will add these instructions to the prompt below\n",
    "parser.get_format_instructions()"
   ]
  },
  {
   "cell_type": "code",
   "execution_count": 79,
   "id": "b789af38",
   "metadata": {},
   "outputs": [
    {
     "name": "stdout",
     "output_type": "stream",
     "text": [
      "{'filmography': [{'actor': [{'name': 'Tom Hanks'}, {'movies': [{'movie': [{'title': 'Splash'}, {'year': '1984'}, {'role': 'Allen Bauer'}]}, {'movie': [{'title': 'Big'}, {'year': '1988'}, {'role': 'Josh Baskin'}]}, {'movie': [{'title': 'Forrest Gump'}, {'year': '1994'}, {'role': 'Forrest Gump'}]}, {'movie': [{'title': 'Toy Story'}, {'year': '1995'}, {'role': 'Woody'}]}, {'movie': [{'title': 'Saving Private Ryan'}, {'year': '1998'}, {'role': 'Captain John Miller'}]}, {'movie': [{'title': 'Cast Away'}, {'year': '2000'}, {'role': 'Chuck Noland'}]}, {'movie': [{'title': 'The Da Vinci Code'}, {'year': '2006'}, {'role': 'Robert Langdon'}]}, {'movie': [{'title': 'Captain Phillips'}, {'year': '2013'}, {'role': 'Captain Richard Phillips'}]}]}]}]}\n"
     ]
    }
   ],
   "source": [
    "prompt = PromptTemplate(\n",
    "    template=\"\"\"{query}\\n{format_instructions}\"\"\",\n",
    "    input_variables=[\"query\"],\n",
    "    partial_variables={\"format_instructions\": parser.get_format_instructions()},\n",
    ")\n",
    "\n",
    "chain = prompt | model | parser\n",
    "\n",
    "output = chain.invoke({\"query\": actor_query})\n",
    "print(output)"
   ]
  },
  {
   "cell_type": "code",
   "execution_count": null,
   "id": "f7d54db6",
   "metadata": {},
   "outputs": [
    {
     "data": {
      "text/plain": [
       "'hI! hOW CAN i HELP YOU TODAY?'"
      ]
     },
     "execution_count": 81,
     "metadata": {},
     "output_type": "execute_result"
    }
   ],
   "source": [
    "## custom output parser:-> https://python.langchain.com/docs/how_to/output_parser_custom/\n",
    "\n",
    "from typing import Iterable\n",
    "\n",
    "from langchain_anthropic.chat_models import ChatAnthropic\n",
    "from langchain_core.messages import AIMessage, AIMessageChunk\n",
    "\n",
    "model = ChatAnthropic(model=\"claude-3-5-sonnet-latest\")\n",
    "\n",
    "\n",
    "def parse(ai_message: AIMessage) -> str:\n",
    "    \"\"\"Parse the AI message.\"\"\"\n",
    "    return ai_message.content.swapcase()\n",
    "\n",
    "\n",
    "chain = model | parse\n",
    "chain.invoke(\"hello\")"
   ]
  },
  {
   "cell_type": "code",
   "execution_count": 82,
   "id": "eb50e7e3",
   "metadata": {},
   "outputs": [],
   "source": [
    "from langchain_core.exceptions import OutputParserException\n",
    "from langchain_core.output_parsers import BaseOutputParser\n",
    "\n",
    "\n",
    "# The [bool] desribes a parameterization of a generic.\n",
    "# It's basically indicating what the return type of parse is\n",
    "# in this case the return type is either True or False\n",
    "class BooleanOutputParser(BaseOutputParser[bool]):\n",
    "    \"\"\"Custom boolean parser.\"\"\"\n",
    "\n",
    "    true_val: str = \"YES\"\n",
    "    false_val: str = \"NO\"\n",
    "\n",
    "    def parse(self, text: str) -> bool:\n",
    "        cleaned_text = text.strip().upper()\n",
    "        if cleaned_text not in (self.true_val.upper(), self.false_val.upper()):\n",
    "            raise OutputParserException(\n",
    "                f\"BooleanOutputParser expected output value to either be \"\n",
    "                f\"{self.true_val} or {self.false_val} (case-insensitive). \"\n",
    "                f\"Received {cleaned_text}.\"\n",
    "            )\n",
    "        return cleaned_text == self.true_val.upper()\n",
    "\n",
    "    @property\n",
    "    def _type(self) -> str:\n",
    "        return \"boolean_output_parser\""
   ]
  },
  {
   "cell_type": "code",
   "execution_count": 83,
   "id": "847fdbea",
   "metadata": {},
   "outputs": [
    {
     "data": {
      "text/plain": [
       "True"
      ]
     },
     "execution_count": 83,
     "metadata": {},
     "output_type": "execute_result"
    }
   ],
   "source": [
    "parser = BooleanOutputParser()\n",
    "parser.invoke(\"YES\")"
   ]
  },
  {
   "cell_type": "code",
   "execution_count": 84,
   "id": "b06440c4",
   "metadata": {},
   "outputs": [
    {
     "name": "stdout",
     "output_type": "stream",
     "text": [
      "Triggered an exception of type: <class 'langchain_core.exceptions.OutputParserException'>\n"
     ]
    }
   ],
   "source": [
    "try:\n",
    "    parser.invoke(\"MEOW\")\n",
    "except Exception as e:\n",
    "    print(f\"Triggered an exception of type: {type(e)}\")"
   ]
  },
  {
   "cell_type": "code",
   "execution_count": 86,
   "id": "db590545",
   "metadata": {},
   "outputs": [
    {
     "data": {
      "text/plain": [
       "AIMessage(content='OKAY', additional_kwargs={}, response_metadata={'id': 'msg_019SLFbcaxwsVvHJoLc1dygb', 'model': 'claude-3-5-sonnet-20241022', 'stop_reason': 'end_turn', 'stop_sequence': None, 'usage': {'cache_creation_input_tokens': 0, 'cache_read_input_tokens': 0, 'input_tokens': 12, 'output_tokens': 5, 'server_tool_use': None, 'service_tier': 'standard'}, 'model_name': 'claude-3-5-sonnet-20241022'}, id='run--09ac5004-1a7b-4cea-b932-a9f96c71de67-0', usage_metadata={'input_tokens': 12, 'output_tokens': 5, 'total_tokens': 17, 'input_token_details': {'cache_read': 0, 'cache_creation': 0}})"
      ]
     },
     "execution_count": 86,
     "metadata": {},
     "output_type": "execute_result"
    }
   ],
   "source": [
    "model.invoke(\"say OKAY or NO\")"
   ]
  },
  {
   "cell_type": "code",
   "execution_count": 85,
   "id": "0e5be2f6",
   "metadata": {},
   "outputs": [
    {
     "ename": "OutputParserException",
     "evalue": "BooleanOutputParser expected output value to either be YES or NO (case-insensitive). Received OKAY.\nFor troubleshooting, visit: https://python.langchain.com/docs/troubleshooting/errors/OUTPUT_PARSING_FAILURE ",
     "output_type": "error",
     "traceback": [
      "\u001b[31m---------------------------------------------------------------------------\u001b[39m",
      "\u001b[31mOutputParserException\u001b[39m                     Traceback (most recent call last)",
      "\u001b[36mCell\u001b[39m\u001b[36m \u001b[39m\u001b[32mIn[85]\u001b[39m\u001b[32m, line 2\u001b[39m\n\u001b[32m      1\u001b[39m chain = model | parser\n\u001b[32m----> \u001b[39m\u001b[32m2\u001b[39m \u001b[43mchain\u001b[49m\u001b[43m.\u001b[49m\u001b[43minvoke\u001b[49m\u001b[43m(\u001b[49m\u001b[33;43m\"\u001b[39;49m\u001b[33;43msay OKAY or NO\u001b[39;49m\u001b[33;43m\"\u001b[39;49m\u001b[43m)\u001b[49m\n",
      "\u001b[36mFile \u001b[39m\u001b[32mc:\\Users\\Bapan Bairagya\\miniconda3\\envs\\agentic_ai\\Lib\\site-packages\\langchain_core\\runnables\\base.py:3047\u001b[39m, in \u001b[36mRunnableSequence.invoke\u001b[39m\u001b[34m(self, input, config, **kwargs)\u001b[39m\n\u001b[32m   3045\u001b[39m                 input_ = context.run(step.invoke, input_, config, **kwargs)\n\u001b[32m   3046\u001b[39m             \u001b[38;5;28;01melse\u001b[39;00m:\n\u001b[32m-> \u001b[39m\u001b[32m3047\u001b[39m                 input_ = \u001b[43mcontext\u001b[49m\u001b[43m.\u001b[49m\u001b[43mrun\u001b[49m\u001b[43m(\u001b[49m\u001b[43mstep\u001b[49m\u001b[43m.\u001b[49m\u001b[43minvoke\u001b[49m\u001b[43m,\u001b[49m\u001b[43m \u001b[49m\u001b[43minput_\u001b[49m\u001b[43m,\u001b[49m\u001b[43m \u001b[49m\u001b[43mconfig\u001b[49m\u001b[43m)\u001b[49m\n\u001b[32m   3048\u001b[39m \u001b[38;5;66;03m# finish the root run\u001b[39;00m\n\u001b[32m   3049\u001b[39m \u001b[38;5;28;01mexcept\u001b[39;00m \u001b[38;5;167;01mBaseException\u001b[39;00m \u001b[38;5;28;01mas\u001b[39;00m e:\n",
      "\u001b[36mFile \u001b[39m\u001b[32mc:\\Users\\Bapan Bairagya\\miniconda3\\envs\\agentic_ai\\Lib\\site-packages\\langchain_core\\output_parsers\\base.py:196\u001b[39m, in \u001b[36mBaseOutputParser.invoke\u001b[39m\u001b[34m(self, input, config, **kwargs)\u001b[39m\n\u001b[32m    188\u001b[39m \u001b[38;5;129m@override\u001b[39m\n\u001b[32m    189\u001b[39m \u001b[38;5;28;01mdef\u001b[39;00m\u001b[38;5;250m \u001b[39m\u001b[34minvoke\u001b[39m(\n\u001b[32m    190\u001b[39m     \u001b[38;5;28mself\u001b[39m,\n\u001b[32m   (...)\u001b[39m\u001b[32m    193\u001b[39m     **kwargs: Any,\n\u001b[32m    194\u001b[39m ) -> T:\n\u001b[32m    195\u001b[39m     \u001b[38;5;28;01mif\u001b[39;00m \u001b[38;5;28misinstance\u001b[39m(\u001b[38;5;28minput\u001b[39m, BaseMessage):\n\u001b[32m--> \u001b[39m\u001b[32m196\u001b[39m         \u001b[38;5;28;01mreturn\u001b[39;00m \u001b[38;5;28;43mself\u001b[39;49m\u001b[43m.\u001b[49m\u001b[43m_call_with_config\u001b[49m\u001b[43m(\u001b[49m\n\u001b[32m    197\u001b[39m \u001b[43m            \u001b[49m\u001b[38;5;28;43;01mlambda\u001b[39;49;00m\u001b[43m \u001b[49m\u001b[43minner_input\u001b[49m\u001b[43m:\u001b[49m\u001b[43m \u001b[49m\u001b[38;5;28;43mself\u001b[39;49m\u001b[43m.\u001b[49m\u001b[43mparse_result\u001b[49m\u001b[43m(\u001b[49m\n\u001b[32m    198\u001b[39m \u001b[43m                \u001b[49m\u001b[43m[\u001b[49m\u001b[43mChatGeneration\u001b[49m\u001b[43m(\u001b[49m\u001b[43mmessage\u001b[49m\u001b[43m=\u001b[49m\u001b[43minner_input\u001b[49m\u001b[43m)\u001b[49m\u001b[43m]\u001b[49m\n\u001b[32m    199\u001b[39m \u001b[43m            \u001b[49m\u001b[43m)\u001b[49m\u001b[43m,\u001b[49m\n\u001b[32m    200\u001b[39m \u001b[43m            \u001b[49m\u001b[38;5;28;43minput\u001b[39;49m\u001b[43m,\u001b[49m\n\u001b[32m    201\u001b[39m \u001b[43m            \u001b[49m\u001b[43mconfig\u001b[49m\u001b[43m,\u001b[49m\n\u001b[32m    202\u001b[39m \u001b[43m            \u001b[49m\u001b[43mrun_type\u001b[49m\u001b[43m=\u001b[49m\u001b[33;43m\"\u001b[39;49m\u001b[33;43mparser\u001b[39;49m\u001b[33;43m\"\u001b[39;49m\u001b[43m,\u001b[49m\n\u001b[32m    203\u001b[39m \u001b[43m        \u001b[49m\u001b[43m)\u001b[49m\n\u001b[32m    204\u001b[39m     \u001b[38;5;28;01mreturn\u001b[39;00m \u001b[38;5;28mself\u001b[39m._call_with_config(\n\u001b[32m    205\u001b[39m         \u001b[38;5;28;01mlambda\u001b[39;00m inner_input: \u001b[38;5;28mself\u001b[39m.parse_result([Generation(text=inner_input)]),\n\u001b[32m    206\u001b[39m         \u001b[38;5;28minput\u001b[39m,\n\u001b[32m    207\u001b[39m         config,\n\u001b[32m    208\u001b[39m         run_type=\u001b[33m\"\u001b[39m\u001b[33mparser\u001b[39m\u001b[33m\"\u001b[39m,\n\u001b[32m    209\u001b[39m     )\n",
      "\u001b[36mFile \u001b[39m\u001b[32mc:\\Users\\Bapan Bairagya\\miniconda3\\envs\\agentic_ai\\Lib\\site-packages\\langchain_core\\runnables\\base.py:1940\u001b[39m, in \u001b[36mRunnable._call_with_config\u001b[39m\u001b[34m(self, func, input_, config, run_type, serialized, **kwargs)\u001b[39m\n\u001b[32m   1936\u001b[39m     child_config = patch_config(config, callbacks=run_manager.get_child())\n\u001b[32m   1937\u001b[39m     \u001b[38;5;28;01mwith\u001b[39;00m set_config_context(child_config) \u001b[38;5;28;01mas\u001b[39;00m context:\n\u001b[32m   1938\u001b[39m         output = cast(\n\u001b[32m   1939\u001b[39m             \u001b[33m\"\u001b[39m\u001b[33mOutput\u001b[39m\u001b[33m\"\u001b[39m,\n\u001b[32m-> \u001b[39m\u001b[32m1940\u001b[39m             \u001b[43mcontext\u001b[49m\u001b[43m.\u001b[49m\u001b[43mrun\u001b[49m\u001b[43m(\u001b[49m\n\u001b[32m   1941\u001b[39m \u001b[43m                \u001b[49m\u001b[43mcall_func_with_variable_args\u001b[49m\u001b[43m,\u001b[49m\u001b[43m  \u001b[49m\u001b[38;5;66;43;03m# type: ignore[arg-type]\u001b[39;49;00m\n\u001b[32m   1942\u001b[39m \u001b[43m                \u001b[49m\u001b[43mfunc\u001b[49m\u001b[43m,\u001b[49m\n\u001b[32m   1943\u001b[39m \u001b[43m                \u001b[49m\u001b[43minput_\u001b[49m\u001b[43m,\u001b[49m\n\u001b[32m   1944\u001b[39m \u001b[43m                \u001b[49m\u001b[43mconfig\u001b[49m\u001b[43m,\u001b[49m\n\u001b[32m   1945\u001b[39m \u001b[43m                \u001b[49m\u001b[43mrun_manager\u001b[49m\u001b[43m,\u001b[49m\n\u001b[32m   1946\u001b[39m \u001b[43m                \u001b[49m\u001b[43m*\u001b[49m\u001b[43m*\u001b[49m\u001b[43mkwargs\u001b[49m\u001b[43m,\u001b[49m\n\u001b[32m   1947\u001b[39m \u001b[43m            \u001b[49m\u001b[43m)\u001b[49m,\n\u001b[32m   1948\u001b[39m         )\n\u001b[32m   1949\u001b[39m \u001b[38;5;28;01mexcept\u001b[39;00m \u001b[38;5;167;01mBaseException\u001b[39;00m \u001b[38;5;28;01mas\u001b[39;00m e:\n\u001b[32m   1950\u001b[39m     run_manager.on_chain_error(e)\n",
      "\u001b[36mFile \u001b[39m\u001b[32mc:\\Users\\Bapan Bairagya\\miniconda3\\envs\\agentic_ai\\Lib\\site-packages\\langchain_core\\runnables\\config.py:428\u001b[39m, in \u001b[36mcall_func_with_variable_args\u001b[39m\u001b[34m(func, input, config, run_manager, **kwargs)\u001b[39m\n\u001b[32m    426\u001b[39m \u001b[38;5;28;01mif\u001b[39;00m run_manager \u001b[38;5;129;01mis\u001b[39;00m \u001b[38;5;129;01mnot\u001b[39;00m \u001b[38;5;28;01mNone\u001b[39;00m \u001b[38;5;129;01mand\u001b[39;00m accepts_run_manager(func):\n\u001b[32m    427\u001b[39m     kwargs[\u001b[33m\"\u001b[39m\u001b[33mrun_manager\u001b[39m\u001b[33m\"\u001b[39m] = run_manager\n\u001b[32m--> \u001b[39m\u001b[32m428\u001b[39m \u001b[38;5;28;01mreturn\u001b[39;00m \u001b[43mfunc\u001b[49m\u001b[43m(\u001b[49m\u001b[38;5;28;43minput\u001b[39;49m\u001b[43m,\u001b[49m\u001b[43m \u001b[49m\u001b[43m*\u001b[49m\u001b[43m*\u001b[49m\u001b[43mkwargs\u001b[49m\u001b[43m)\u001b[49m\n",
      "\u001b[36mFile \u001b[39m\u001b[32mc:\\Users\\Bapan Bairagya\\miniconda3\\envs\\agentic_ai\\Lib\\site-packages\\langchain_core\\output_parsers\\base.py:197\u001b[39m, in \u001b[36mBaseOutputParser.invoke.<locals>.<lambda>\u001b[39m\u001b[34m(inner_input)\u001b[39m\n\u001b[32m    188\u001b[39m \u001b[38;5;129m@override\u001b[39m\n\u001b[32m    189\u001b[39m \u001b[38;5;28;01mdef\u001b[39;00m\u001b[38;5;250m \u001b[39m\u001b[34minvoke\u001b[39m(\n\u001b[32m    190\u001b[39m     \u001b[38;5;28mself\u001b[39m,\n\u001b[32m   (...)\u001b[39m\u001b[32m    193\u001b[39m     **kwargs: Any,\n\u001b[32m    194\u001b[39m ) -> T:\n\u001b[32m    195\u001b[39m     \u001b[38;5;28;01mif\u001b[39;00m \u001b[38;5;28misinstance\u001b[39m(\u001b[38;5;28minput\u001b[39m, BaseMessage):\n\u001b[32m    196\u001b[39m         \u001b[38;5;28;01mreturn\u001b[39;00m \u001b[38;5;28mself\u001b[39m._call_with_config(\n\u001b[32m--> \u001b[39m\u001b[32m197\u001b[39m             \u001b[38;5;28;01mlambda\u001b[39;00m inner_input: \u001b[38;5;28;43mself\u001b[39;49m\u001b[43m.\u001b[49m\u001b[43mparse_result\u001b[49m\u001b[43m(\u001b[49m\n\u001b[32m    198\u001b[39m \u001b[43m                \u001b[49m\u001b[43m[\u001b[49m\u001b[43mChatGeneration\u001b[49m\u001b[43m(\u001b[49m\u001b[43mmessage\u001b[49m\u001b[43m=\u001b[49m\u001b[43minner_input\u001b[49m\u001b[43m)\u001b[49m\u001b[43m]\u001b[49m\n\u001b[32m    199\u001b[39m \u001b[43m            \u001b[49m\u001b[43m)\u001b[49m,\n\u001b[32m    200\u001b[39m             \u001b[38;5;28minput\u001b[39m,\n\u001b[32m    201\u001b[39m             config,\n\u001b[32m    202\u001b[39m             run_type=\u001b[33m\"\u001b[39m\u001b[33mparser\u001b[39m\u001b[33m\"\u001b[39m,\n\u001b[32m    203\u001b[39m         )\n\u001b[32m    204\u001b[39m     \u001b[38;5;28;01mreturn\u001b[39;00m \u001b[38;5;28mself\u001b[39m._call_with_config(\n\u001b[32m    205\u001b[39m         \u001b[38;5;28;01mlambda\u001b[39;00m inner_input: \u001b[38;5;28mself\u001b[39m.parse_result([Generation(text=inner_input)]),\n\u001b[32m    206\u001b[39m         \u001b[38;5;28minput\u001b[39m,\n\u001b[32m    207\u001b[39m         config,\n\u001b[32m    208\u001b[39m         run_type=\u001b[33m\"\u001b[39m\u001b[33mparser\u001b[39m\u001b[33m\"\u001b[39m,\n\u001b[32m    209\u001b[39m     )\n",
      "\u001b[36mFile \u001b[39m\u001b[32mc:\\Users\\Bapan Bairagya\\miniconda3\\envs\\agentic_ai\\Lib\\site-packages\\langchain_core\\output_parsers\\base.py:250\u001b[39m, in \u001b[36mBaseOutputParser.parse_result\u001b[39m\u001b[34m(self, result, partial)\u001b[39m\n\u001b[32m    234\u001b[39m \u001b[38;5;129m@override\u001b[39m\n\u001b[32m    235\u001b[39m \u001b[38;5;28;01mdef\u001b[39;00m\u001b[38;5;250m \u001b[39m\u001b[34mparse_result\u001b[39m(\u001b[38;5;28mself\u001b[39m, result: \u001b[38;5;28mlist\u001b[39m[Generation], *, partial: \u001b[38;5;28mbool\u001b[39m = \u001b[38;5;28;01mFalse\u001b[39;00m) -> T:\n\u001b[32m    236\u001b[39m \u001b[38;5;250m    \u001b[39m\u001b[33;03m\"\"\"Parse a list of candidate model Generations into a specific format.\u001b[39;00m\n\u001b[32m    237\u001b[39m \n\u001b[32m    238\u001b[39m \u001b[33;03m    The return value is parsed from only the first Generation in the result, which\u001b[39;00m\n\u001b[32m   (...)\u001b[39m\u001b[32m    248\u001b[39m \u001b[33;03m        Structured output.\u001b[39;00m\n\u001b[32m    249\u001b[39m \u001b[33;03m    \"\"\"\u001b[39;00m\n\u001b[32m--> \u001b[39m\u001b[32m250\u001b[39m     \u001b[38;5;28;01mreturn\u001b[39;00m \u001b[38;5;28;43mself\u001b[39;49m\u001b[43m.\u001b[49m\u001b[43mparse\u001b[49m\u001b[43m(\u001b[49m\u001b[43mresult\u001b[49m\u001b[43m[\u001b[49m\u001b[32;43m0\u001b[39;49m\u001b[43m]\u001b[49m\u001b[43m.\u001b[49m\u001b[43mtext\u001b[49m\u001b[43m)\u001b[49m\n",
      "\u001b[36mCell\u001b[39m\u001b[36m \u001b[39m\u001b[32mIn[82]\u001b[39m\u001b[32m, line 17\u001b[39m, in \u001b[36mBooleanOutputParser.parse\u001b[39m\u001b[34m(self, text)\u001b[39m\n\u001b[32m     15\u001b[39m cleaned_text = text.strip().upper()\n\u001b[32m     16\u001b[39m \u001b[38;5;28;01mif\u001b[39;00m cleaned_text \u001b[38;5;129;01mnot\u001b[39;00m \u001b[38;5;129;01min\u001b[39;00m (\u001b[38;5;28mself\u001b[39m.true_val.upper(), \u001b[38;5;28mself\u001b[39m.false_val.upper()):\n\u001b[32m---> \u001b[39m\u001b[32m17\u001b[39m     \u001b[38;5;28;01mraise\u001b[39;00m OutputParserException(\n\u001b[32m     18\u001b[39m         \u001b[33mf\u001b[39m\u001b[33m\"\u001b[39m\u001b[33mBooleanOutputParser expected output value to either be \u001b[39m\u001b[33m\"\u001b[39m\n\u001b[32m     19\u001b[39m         \u001b[33mf\u001b[39m\u001b[33m\"\u001b[39m\u001b[38;5;132;01m{\u001b[39;00m\u001b[38;5;28mself\u001b[39m.true_val\u001b[38;5;132;01m}\u001b[39;00m\u001b[33m or \u001b[39m\u001b[38;5;132;01m{\u001b[39;00m\u001b[38;5;28mself\u001b[39m.false_val\u001b[38;5;132;01m}\u001b[39;00m\u001b[33m (case-insensitive). \u001b[39m\u001b[33m\"\u001b[39m\n\u001b[32m     20\u001b[39m         \u001b[33mf\u001b[39m\u001b[33m\"\u001b[39m\u001b[33mReceived \u001b[39m\u001b[38;5;132;01m{\u001b[39;00mcleaned_text\u001b[38;5;132;01m}\u001b[39;00m\u001b[33m.\u001b[39m\u001b[33m\"\u001b[39m\n\u001b[32m     21\u001b[39m     )\n\u001b[32m     22\u001b[39m \u001b[38;5;28;01mreturn\u001b[39;00m cleaned_text == \u001b[38;5;28mself\u001b[39m.true_val.upper()\n",
      "\u001b[31mOutputParserException\u001b[39m: BooleanOutputParser expected output value to either be YES or NO (case-insensitive). Received OKAY.\nFor troubleshooting, visit: https://python.langchain.com/docs/troubleshooting/errors/OUTPUT_PARSING_FAILURE "
     ]
    }
   ],
   "source": [
    "chain = model | parser\n",
    "chain.invoke(\"say OKAY or NO\")"
   ]
  },
  {
   "cell_type": "code",
   "execution_count": null,
   "id": "dcb2960e",
   "metadata": {},
   "outputs": [],
   "source": []
  }
 ],
 "metadata": {
  "kernelspec": {
   "display_name": "agentic_ai",
   "language": "python",
   "name": "python3"
  },
  "language_info": {
   "codemirror_mode": {
    "name": "ipython",
    "version": 3
   },
   "file_extension": ".py",
   "mimetype": "text/x-python",
   "name": "python",
   "nbconvert_exporter": "python",
   "pygments_lexer": "ipython3",
   "version": "3.12.0"
  }
 },
 "nbformat": 4,
 "nbformat_minor": 5
}
